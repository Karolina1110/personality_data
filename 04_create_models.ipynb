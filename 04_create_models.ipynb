{
 "cells": [
  {
   "cell_type": "code",
   "execution_count": 1,
   "id": "e611de2c",
   "metadata": {},
   "outputs": [],
   "source": [
    "import numpy as np\n",
    "import pandas as pd\n",
    "import utils\n",
    "import seaborn as sn\n",
    "import matplotlib.pyplot as plt\n",
    "from joblib import dump, load\n",
    "from sklearn.metrics import classification_report, confusion_matrix, ConfusionMatrixDisplay, f1_score, accuracy_score, roc_auc_score\n",
    "from sklearn.model_selection import train_test_split"
   ]
  },
  {
   "cell_type": "markdown",
   "id": "1065ce45",
   "metadata": {},
   "source": [
    "# Load data"
   ]
  },
  {
   "cell_type": "code",
   "execution_count": 2,
   "id": "4742b686",
   "metadata": {},
   "outputs": [
    {
     "data": {
      "text/html": [
       "<div>\n",
       "<style scoped>\n",
       "    .dataframe tbody tr th:only-of-type {\n",
       "        vertical-align: middle;\n",
       "    }\n",
       "\n",
       "    .dataframe tbody tr th {\n",
       "        vertical-align: top;\n",
       "    }\n",
       "\n",
       "    .dataframe thead th {\n",
       "        text-align: right;\n",
       "    }\n",
       "</style>\n",
       "<table border=\"1\" class=\"dataframe\">\n",
       "  <thead>\n",
       "    <tr style=\"text-align: right;\">\n",
       "      <th></th>\n",
       "      <th>EXT1</th>\n",
       "      <th>EXT2</th>\n",
       "      <th>EXT3</th>\n",
       "      <th>EXT4</th>\n",
       "      <th>EXT5</th>\n",
       "      <th>EXT6</th>\n",
       "      <th>EXT7</th>\n",
       "      <th>EXT8</th>\n",
       "      <th>EXT9</th>\n",
       "      <th>EXT10</th>\n",
       "      <th>...</th>\n",
       "      <th>_OPN9</th>\n",
       "      <th>_OPN10</th>\n",
       "      <th>EXT</th>\n",
       "      <th>EST</th>\n",
       "      <th>AGR</th>\n",
       "      <th>CSN</th>\n",
       "      <th>OPN</th>\n",
       "      <th>TYPE</th>\n",
       "      <th>CORR</th>\n",
       "      <th>B5_TYPE</th>\n",
       "    </tr>\n",
       "  </thead>\n",
       "  <tbody>\n",
       "    <tr>\n",
       "      <th>0</th>\n",
       "      <td>3.0</td>\n",
       "      <td>5.0</td>\n",
       "      <td>3.0</td>\n",
       "      <td>2.0</td>\n",
       "      <td>3.0</td>\n",
       "      <td>5.0</td>\n",
       "      <td>3.0</td>\n",
       "      <td>5.0</td>\n",
       "      <td>1.0</td>\n",
       "      <td>5.0</td>\n",
       "      <td>...</td>\n",
       "      <td>3.0</td>\n",
       "      <td>1.0</td>\n",
       "      <td>21.0</td>\n",
       "      <td>24.0</td>\n",
       "      <td>32.0</td>\n",
       "      <td>32.0</td>\n",
       "      <td>30.0</td>\n",
       "      <td>0</td>\n",
       "      <td>1.000000</td>\n",
       "      <td>INACO</td>\n",
       "    </tr>\n",
       "    <tr>\n",
       "      <th>1</th>\n",
       "      <td>5.0</td>\n",
       "      <td>2.0</td>\n",
       "      <td>5.0</td>\n",
       "      <td>5.0</td>\n",
       "      <td>5.0</td>\n",
       "      <td>2.0</td>\n",
       "      <td>5.0</td>\n",
       "      <td>5.0</td>\n",
       "      <td>5.0</td>\n",
       "      <td>1.0</td>\n",
       "      <td>...</td>\n",
       "      <td>4.0</td>\n",
       "      <td>5.0</td>\n",
       "      <td>40.0</td>\n",
       "      <td>33.0</td>\n",
       "      <td>20.0</td>\n",
       "      <td>45.0</td>\n",
       "      <td>46.0</td>\n",
       "      <td>1</td>\n",
       "      <td>1.000000</td>\n",
       "      <td>ESTCO</td>\n",
       "    </tr>\n",
       "    <tr>\n",
       "      <th>2</th>\n",
       "      <td>4.0</td>\n",
       "      <td>2.0</td>\n",
       "      <td>5.0</td>\n",
       "      <td>4.0</td>\n",
       "      <td>4.0</td>\n",
       "      <td>2.0</td>\n",
       "      <td>2.0</td>\n",
       "      <td>4.0</td>\n",
       "      <td>5.0</td>\n",
       "      <td>5.0</td>\n",
       "      <td>...</td>\n",
       "      <td>5.0</td>\n",
       "      <td>4.0</td>\n",
       "      <td>33.0</td>\n",
       "      <td>41.0</td>\n",
       "      <td>38.0</td>\n",
       "      <td>39.0</td>\n",
       "      <td>40.0</td>\n",
       "      <td>238</td>\n",
       "      <td>0.970845</td>\n",
       "      <td>ESACO</td>\n",
       "    </tr>\n",
       "    <tr>\n",
       "      <th>3</th>\n",
       "      <td>1.0</td>\n",
       "      <td>3.0</td>\n",
       "      <td>2.0</td>\n",
       "      <td>4.0</td>\n",
       "      <td>3.0</td>\n",
       "      <td>1.0</td>\n",
       "      <td>2.0</td>\n",
       "      <td>5.0</td>\n",
       "      <td>1.0</td>\n",
       "      <td>5.0</td>\n",
       "      <td>...</td>\n",
       "      <td>5.0</td>\n",
       "      <td>5.0</td>\n",
       "      <td>21.0</td>\n",
       "      <td>13.0</td>\n",
       "      <td>35.0</td>\n",
       "      <td>24.0</td>\n",
       "      <td>50.0</td>\n",
       "      <td>2</td>\n",
       "      <td>1.000000</td>\n",
       "      <td>INARO</td>\n",
       "    </tr>\n",
       "    <tr>\n",
       "      <th>4</th>\n",
       "      <td>4.0</td>\n",
       "      <td>2.0</td>\n",
       "      <td>4.0</td>\n",
       "      <td>3.0</td>\n",
       "      <td>4.0</td>\n",
       "      <td>2.0</td>\n",
       "      <td>4.0</td>\n",
       "      <td>1.0</td>\n",
       "      <td>5.0</td>\n",
       "      <td>3.0</td>\n",
       "      <td>...</td>\n",
       "      <td>4.0</td>\n",
       "      <td>5.0</td>\n",
       "      <td>40.0</td>\n",
       "      <td>33.0</td>\n",
       "      <td>43.0</td>\n",
       "      <td>29.0</td>\n",
       "      <td>46.0</td>\n",
       "      <td>3</td>\n",
       "      <td>1.000000</td>\n",
       "      <td>ESACO</td>\n",
       "    </tr>\n",
       "    <tr>\n",
       "      <th>...</th>\n",
       "      <td>...</td>\n",
       "      <td>...</td>\n",
       "      <td>...</td>\n",
       "      <td>...</td>\n",
       "      <td>...</td>\n",
       "      <td>...</td>\n",
       "      <td>...</td>\n",
       "      <td>...</td>\n",
       "      <td>...</td>\n",
       "      <td>...</td>\n",
       "      <td>...</td>\n",
       "      <td>...</td>\n",
       "      <td>...</td>\n",
       "      <td>...</td>\n",
       "      <td>...</td>\n",
       "      <td>...</td>\n",
       "      <td>...</td>\n",
       "      <td>...</td>\n",
       "      <td>...</td>\n",
       "      <td>...</td>\n",
       "      <td>...</td>\n",
       "    </tr>\n",
       "    <tr>\n",
       "      <th>424228</th>\n",
       "      <td>1.0</td>\n",
       "      <td>4.0</td>\n",
       "      <td>2.0</td>\n",
       "      <td>4.0</td>\n",
       "      <td>3.0</td>\n",
       "      <td>4.0</td>\n",
       "      <td>1.0</td>\n",
       "      <td>4.0</td>\n",
       "      <td>2.0</td>\n",
       "      <td>4.0</td>\n",
       "      <td>...</td>\n",
       "      <td>5.0</td>\n",
       "      <td>3.0</td>\n",
       "      <td>19.0</td>\n",
       "      <td>19.0</td>\n",
       "      <td>36.0</td>\n",
       "      <td>18.0</td>\n",
       "      <td>38.0</td>\n",
       "      <td>29</td>\n",
       "      <td>0.979314</td>\n",
       "      <td>INARO</td>\n",
       "    </tr>\n",
       "    <tr>\n",
       "      <th>424229</th>\n",
       "      <td>2.0</td>\n",
       "      <td>2.0</td>\n",
       "      <td>5.0</td>\n",
       "      <td>3.0</td>\n",
       "      <td>4.0</td>\n",
       "      <td>3.0</td>\n",
       "      <td>3.0</td>\n",
       "      <td>5.0</td>\n",
       "      <td>1.0</td>\n",
       "      <td>5.0</td>\n",
       "      <td>...</td>\n",
       "      <td>4.0</td>\n",
       "      <td>5.0</td>\n",
       "      <td>27.0</td>\n",
       "      <td>40.0</td>\n",
       "      <td>41.0</td>\n",
       "      <td>37.0</td>\n",
       "      <td>45.0</td>\n",
       "      <td>0</td>\n",
       "      <td>0.969519</td>\n",
       "      <td>ESACO</td>\n",
       "    </tr>\n",
       "    <tr>\n",
       "      <th>424230</th>\n",
       "      <td>4.0</td>\n",
       "      <td>3.0</td>\n",
       "      <td>5.0</td>\n",
       "      <td>2.0</td>\n",
       "      <td>5.0</td>\n",
       "      <td>2.0</td>\n",
       "      <td>5.0</td>\n",
       "      <td>3.0</td>\n",
       "      <td>4.0</td>\n",
       "      <td>2.0</td>\n",
       "      <td>...</td>\n",
       "      <td>5.0</td>\n",
       "      <td>4.0</td>\n",
       "      <td>41.0</td>\n",
       "      <td>38.0</td>\n",
       "      <td>48.0</td>\n",
       "      <td>38.0</td>\n",
       "      <td>43.0</td>\n",
       "      <td>3</td>\n",
       "      <td>0.988586</td>\n",
       "      <td>ESACO</td>\n",
       "    </tr>\n",
       "    <tr>\n",
       "      <th>424231</th>\n",
       "      <td>2.0</td>\n",
       "      <td>1.0</td>\n",
       "      <td>3.0</td>\n",
       "      <td>3.0</td>\n",
       "      <td>5.0</td>\n",
       "      <td>3.0</td>\n",
       "      <td>2.0</td>\n",
       "      <td>3.0</td>\n",
       "      <td>4.0</td>\n",
       "      <td>5.0</td>\n",
       "      <td>...</td>\n",
       "      <td>5.0</td>\n",
       "      <td>5.0</td>\n",
       "      <td>31.0</td>\n",
       "      <td>19.0</td>\n",
       "      <td>32.0</td>\n",
       "      <td>36.0</td>\n",
       "      <td>41.0</td>\n",
       "      <td>9</td>\n",
       "      <td>0.970936</td>\n",
       "      <td>ENACO</td>\n",
       "    </tr>\n",
       "    <tr>\n",
       "      <th>424232</th>\n",
       "      <td>3.0</td>\n",
       "      <td>2.0</td>\n",
       "      <td>4.0</td>\n",
       "      <td>3.0</td>\n",
       "      <td>4.0</td>\n",
       "      <td>2.0</td>\n",
       "      <td>5.0</td>\n",
       "      <td>3.0</td>\n",
       "      <td>1.0</td>\n",
       "      <td>5.0</td>\n",
       "      <td>...</td>\n",
       "      <td>3.0</td>\n",
       "      <td>3.0</td>\n",
       "      <td>32.0</td>\n",
       "      <td>30.0</td>\n",
       "      <td>34.0</td>\n",
       "      <td>33.0</td>\n",
       "      <td>24.0</td>\n",
       "      <td>238</td>\n",
       "      <td>0.973281</td>\n",
       "      <td>ESACC</td>\n",
       "    </tr>\n",
       "  </tbody>\n",
       "</table>\n",
       "<p>424233 rows × 108 columns</p>\n",
       "</div>"
      ],
      "text/plain": [
       "        EXT1  EXT2  EXT3  EXT4  EXT5  EXT6  EXT7  EXT8  EXT9  EXT10  ...  \\\n",
       "0        3.0   5.0   3.0   2.0   3.0   5.0   3.0   5.0   1.0    5.0  ...   \n",
       "1        5.0   2.0   5.0   5.0   5.0   2.0   5.0   5.0   5.0    1.0  ...   \n",
       "2        4.0   2.0   5.0   4.0   4.0   2.0   2.0   4.0   5.0    5.0  ...   \n",
       "3        1.0   3.0   2.0   4.0   3.0   1.0   2.0   5.0   1.0    5.0  ...   \n",
       "4        4.0   2.0   4.0   3.0   4.0   2.0   4.0   1.0   5.0    3.0  ...   \n",
       "...      ...   ...   ...   ...   ...   ...   ...   ...   ...    ...  ...   \n",
       "424228   1.0   4.0   2.0   4.0   3.0   4.0   1.0   4.0   2.0    4.0  ...   \n",
       "424229   2.0   2.0   5.0   3.0   4.0   3.0   3.0   5.0   1.0    5.0  ...   \n",
       "424230   4.0   3.0   5.0   2.0   5.0   2.0   5.0   3.0   4.0    2.0  ...   \n",
       "424231   2.0   1.0   3.0   3.0   5.0   3.0   2.0   3.0   4.0    5.0  ...   \n",
       "424232   3.0   2.0   4.0   3.0   4.0   2.0   5.0   3.0   1.0    5.0  ...   \n",
       "\n",
       "        _OPN9  _OPN10   EXT   EST   AGR   CSN   OPN  TYPE      CORR  B5_TYPE  \n",
       "0         3.0     1.0  21.0  24.0  32.0  32.0  30.0     0  1.000000    INACO  \n",
       "1         4.0     5.0  40.0  33.0  20.0  45.0  46.0     1  1.000000    ESTCO  \n",
       "2         5.0     4.0  33.0  41.0  38.0  39.0  40.0   238  0.970845    ESACO  \n",
       "3         5.0     5.0  21.0  13.0  35.0  24.0  50.0     2  1.000000    INARO  \n",
       "4         4.0     5.0  40.0  33.0  43.0  29.0  46.0     3  1.000000    ESACO  \n",
       "...       ...     ...   ...   ...   ...   ...   ...   ...       ...      ...  \n",
       "424228    5.0     3.0  19.0  19.0  36.0  18.0  38.0    29  0.979314    INARO  \n",
       "424229    4.0     5.0  27.0  40.0  41.0  37.0  45.0     0  0.969519    ESACO  \n",
       "424230    5.0     4.0  41.0  38.0  48.0  38.0  43.0     3  0.988586    ESACO  \n",
       "424231    5.0     5.0  31.0  19.0  32.0  36.0  41.0     9  0.970936    ENACO  \n",
       "424232    3.0     3.0  32.0  30.0  34.0  33.0  24.0   238  0.973281    ESACC  \n",
       "\n",
       "[424233 rows x 108 columns]"
      ]
     },
     "execution_count": 2,
     "metadata": {},
     "output_type": "execute_result"
    }
   ],
   "source": [
    "data_big_cleaned = pd.read_csv('data/big_cleaned_results.csv', index_col=0)\n",
    "data_big_cleaned"
   ]
  },
  {
   "cell_type": "markdown",
   "id": "be0a6071",
   "metadata": {},
   "source": [
    "# Choose X and Y data"
   ]
  },
  {
   "cell_type": "code",
   "execution_count": 3,
   "id": "7aad43a0",
   "metadata": {},
   "outputs": [
    {
     "name": "stdout",
     "output_type": "stream",
     "text": [
      "        EXT1  EXT2  EXT3  EXT4  EXT5  EXT6  EXT7  EXT8  EXT9  EXT10  ...  \\\n",
      "0        3.0   5.0   3.0   2.0   3.0   5.0   3.0   5.0   1.0    5.0  ...   \n",
      "1        5.0   2.0   5.0   5.0   5.0   2.0   5.0   5.0   5.0    1.0  ...   \n",
      "2        4.0   2.0   5.0   4.0   4.0   2.0   2.0   4.0   5.0    5.0  ...   \n",
      "3        1.0   3.0   2.0   4.0   3.0   1.0   2.0   5.0   1.0    5.0  ...   \n",
      "4        4.0   2.0   4.0   3.0   4.0   2.0   4.0   1.0   5.0    3.0  ...   \n",
      "...      ...   ...   ...   ...   ...   ...   ...   ...   ...    ...  ...   \n",
      "424228   1.0   4.0   2.0   4.0   3.0   4.0   1.0   4.0   2.0    4.0  ...   \n",
      "424229   2.0   2.0   5.0   3.0   4.0   3.0   3.0   5.0   1.0    5.0  ...   \n",
      "424230   4.0   3.0   5.0   2.0   5.0   2.0   5.0   3.0   4.0    2.0  ...   \n",
      "424231   2.0   1.0   3.0   3.0   5.0   3.0   2.0   3.0   4.0    5.0  ...   \n",
      "424232   3.0   2.0   4.0   3.0   4.0   2.0   5.0   3.0   1.0    5.0  ...   \n",
      "\n",
      "        OPN1  OPN2  OPN3  OPN4  OPN5  OPN6  OPN7  OPN8  OPN9  OPN10  \n",
      "0        4.0   3.0   1.0   3.0   5.0   2.0   3.0   3.0   3.0    1.0  \n",
      "1        3.0   1.0   5.0   1.0   5.0   1.0   5.0   4.0   4.0    5.0  \n",
      "2        4.0   3.0   5.0   2.0   5.0   2.0   4.0   2.0   5.0    4.0  \n",
      "3        5.0   1.0   5.0   1.0   5.0   1.0   5.0   5.0   5.0    5.0  \n",
      "4        5.0   1.0   5.0   1.0   3.0   1.0   5.0   4.0   4.0    5.0  \n",
      "...      ...   ...   ...   ...   ...   ...   ...   ...   ...    ...  \n",
      "424228   3.0   1.0   4.0   2.0   3.0   1.0   4.0   2.0   5.0    3.0  \n",
      "424229   5.0   1.0   3.0   1.0   5.0   3.0   5.0   5.0   4.0    5.0  \n",
      "424230   5.0   1.0   3.0   2.0   4.0   2.0   5.0   4.0   5.0    4.0  \n",
      "424231   4.0   1.0   5.0   2.0   2.0   1.0   3.0   3.0   5.0    5.0  \n",
      "424232   1.0   2.0   3.0   5.0   3.0   4.0   3.0   1.0   3.0    3.0  \n",
      "\n",
      "[424233 rows x 50 columns]\n",
      "0           0\n",
      "1           1\n",
      "2         238\n",
      "3           2\n",
      "4           3\n",
      "         ... \n",
      "424228     29\n",
      "424229      0\n",
      "424230      3\n",
      "424231      9\n",
      "424232    238\n",
      "Name: TYPE, Length: 424233, dtype: int64\n"
     ]
    }
   ],
   "source": [
    "X=data_big_cleaned.iloc[:,:50]\n",
    "print(X)\n",
    "Y=data_big_cleaned['TYPE']\n",
    "print(Y)"
   ]
  },
  {
   "cell_type": "markdown",
   "id": "2f7beccf",
   "metadata": {},
   "source": [
    "# Check if Y data is representative"
   ]
  },
  {
   "cell_type": "code",
   "execution_count": 4,
   "id": "9ded514f",
   "metadata": {},
   "outputs": [
    {
     "data": {
      "text/plain": [
       "3      146335\n",
       "0       63638\n",
       "238     35913\n",
       "9       29683\n",
       "4       25279\n",
       "11      21344\n",
       "222     14039\n",
       "29      13388\n",
       "50      12188\n",
       "5       11875\n",
       "7       11001\n",
       "20       9464\n",
       "2        9308\n",
       "1        8500\n",
       "37       6850\n",
       "66       5428\n",
       "Name: TYPE, dtype: int64"
      ]
     },
     "execution_count": 4,
     "metadata": {},
     "output_type": "execute_result"
    }
   ],
   "source": [
    "pd.Series(Y).value_counts()"
   ]
  },
  {
   "cell_type": "markdown",
   "id": "f6e3422b",
   "metadata": {},
   "source": [
    "# Split data to train and test"
   ]
  },
  {
   "cell_type": "code",
   "execution_count": 5,
   "id": "ac610082",
   "metadata": {},
   "outputs": [],
   "source": [
    "x_train, x_test, y_train, y_test = train_test_split(X, Y, test_size=0.2, random_state=42)"
   ]
  },
  {
   "cell_type": "markdown",
   "id": "157ea4e7",
   "metadata": {},
   "source": [
    "# Check if test data is representative"
   ]
  },
  {
   "cell_type": "code",
   "execution_count": 6,
   "id": "7724a6dc",
   "metadata": {},
   "outputs": [
    {
     "name": "stdout",
     "output_type": "stream",
     "text": [
      "3      116799\n",
      "0       50982\n",
      "238     28817\n",
      "9       23757\n",
      "4       20194\n",
      "11      17120\n",
      "222     11235\n",
      "29      10727\n",
      "50       9740\n",
      "5        9536\n",
      "7        8830\n",
      "20       7536\n",
      "2        7464\n",
      "1        6827\n",
      "37       5455\n",
      "66       4367\n",
      "Name: TYPE, dtype: int64\n"
     ]
    }
   ],
   "source": [
    "print(pd.Series(y_train).value_counts())"
   ]
  },
  {
   "cell_type": "code",
   "execution_count": 7,
   "id": "1a78a03c",
   "metadata": {},
   "outputs": [
    {
     "name": "stdout",
     "output_type": "stream",
     "text": [
      "3      29536\n",
      "0      12656\n",
      "238     7096\n",
      "9       5926\n",
      "4       5085\n",
      "11      4224\n",
      "222     2804\n",
      "29      2661\n",
      "50      2448\n",
      "5       2339\n",
      "7       2171\n",
      "20      1928\n",
      "2       1844\n",
      "1       1673\n",
      "37      1395\n",
      "66      1061\n",
      "Name: TYPE, dtype: int64\n"
     ]
    }
   ],
   "source": [
    "print(pd.Series(y_test).value_counts())"
   ]
  },
  {
   "cell_type": "markdown",
   "id": "3bb61c01",
   "metadata": {},
   "source": [
    "# Functions for mapping classes from SOM model to classes from Y data"
   ]
  },
  {
   "cell_type": "code",
   "execution_count": 8,
   "id": "bd78cdb0",
   "metadata": {},
   "outputs": [],
   "source": [
    "def find_class(predictions, i, mapping):\n",
    "    \n",
    "    # list of most common classes\n",
    "    keys=pd.Series(y_test.tolist())[list(pd.Series(predictions).loc[lambda x : x == i].index)].value_counts().keys().to_list()\n",
    "    # list of classes counts\n",
    "    cnts=pd.Series(y_test.tolist())[list(pd.Series(predictions).loc[lambda x : x == i].index)].value_counts().to_list()\n",
    "    # chosen class\n",
    "    lbl = None\n",
    "    # count of chosen class\n",
    "    cnt = None\n",
    "    \n",
    "    # iterate over every class from most common\n",
    "    for key_id in range(len(keys)):\n",
    "        # if key is not in mapped classes table\n",
    "        if keys[key_id] not in mapping.best_classes.values:\n",
    "            # save class as chosen\n",
    "            lbl = keys[key_id]\n",
    "            # save count of class\n",
    "            cnt = cnts[key_id]\n",
    "            # save mapping in table\n",
    "            mapping.at[mapping[mapping['som']==i].index[0], 'counts']=cnt\n",
    "            mapping.at[mapping[mapping['som']==i].index[0], 'best_classes']=lbl \n",
    "            # stop iteration\n",
    "            break\n",
    "        # if key is in mapped classes table and count of new class is bigger than previous one\n",
    "        elif cnts[key_id] > mapping[mapping['best_classes']==keys[key_id]].counts.values[0]:\n",
    "            # save class as chosen\n",
    "            lbl = keys[key_id]\n",
    "            # save count of class\n",
    "            cnt = cnts[key_id]\n",
    "            # get previous cluster\n",
    "            j=mapping[mapping['best_classes']==keys[key_id]].som.values[0]\n",
    "            index = mapping[mapping['best_classes']==keys[key_id]].index[0]\n",
    "            # set new values in mapping table\n",
    "            mapping.at[index, 'counts']=None\n",
    "            mapping.at[index, 'best_classes']=None\n",
    "            mapping.at[mapping[mapping['som']==i].index[0], 'counts']=cnt\n",
    "            mapping.at[mapping[mapping['som']==i].index[0], 'best_classes']=lbl \n",
    "            # get new values for previous cluster\n",
    "            lbl2, cnt2 = find_class(predictions, j, mapping)\n",
    "            mapping.at[index, 'counts']=cnt2\n",
    "            mapping.at[index, 'best_classes']=lbl2\n",
    "            # stop iteration\n",
    "            break\n",
    "\n",
    "    return lbl, cnt"
   ]
  },
  {
   "cell_type": "code",
   "execution_count": 9,
   "id": "ecfc1ec6",
   "metadata": {},
   "outputs": [],
   "source": [
    "def map_class(predictions):\n",
    "    \n",
    "    # create table with classes mapping\n",
    "    d = {'best_classes': pd.Series(pd.Series(predictions).unique()), 'som': pd.Series(pd.Series(predictions).unique())}\n",
    "    classes_mapping = pd.DataFrame(data=d)\n",
    "    classes_mapping['best_classes']=None\n",
    "    classes_mapping['counts']=None\n",
    "    \n",
    "    # iterate over clusters\n",
    "    for i in pd.Series(predictions).unique():\n",
    "        # fill mapping table\n",
    "        lbl, cnt = find_class(predictions, i, classes_mapping)\n",
    "    \n",
    "    # find classes without cluster\n",
    "    best_classes=pd.Series(y_test.unique())\n",
    "    null_classes=best_classes[~best_classes.isin(classes_mapping['best_classes'].values)].values\n",
    "\n",
    "    # fill clusters withour mapped class with classes without cluster\n",
    "    i=0\n",
    "    for index, row in classes_mapping[classes_mapping['best_classes'].isna()].iterrows():\n",
    "        classes_mapping.at[index, 'best_classes']=null_classes[i]\n",
    "        i+=1\n",
    "\n",
    "    return classes_mapping"
   ]
  },
  {
   "cell_type": "markdown",
   "id": "b4f1b4d0",
   "metadata": {},
   "source": [
    "# sklearn-som"
   ]
  },
  {
   "cell_type": "code",
   "execution_count": 10,
   "id": "d741924f",
   "metadata": {},
   "outputs": [],
   "source": [
    "from sklearn_som.som import SOM\n",
    "from sklearn.preprocessing import LabelEncoder\n",
    "from sklearn.model_selection import train_test_split\n",
    "from joblib import dump, load\n",
    "from sklearn.preprocessing import StandardScaler"
   ]
  },
  {
   "cell_type": "markdown",
   "id": "bcd98464",
   "metadata": {},
   "source": [
    "# Optimize hiperparameters"
   ]
  },
  {
   "cell_type": "code",
   "execution_count": 75,
   "id": "248abe28",
   "metadata": {},
   "outputs": [
    {
     "name": "stderr",
     "output_type": "stream",
     "text": [
      "[I 2023-09-05 17:55:09,879] A new study created in memory with name: no-name-c742d031-a25c-4a28-9ec7-c39e1a0f97db\n",
      "[I 2023-09-05 17:55:21,252] Trial 0 finished with value: 0.03256645970986869 and parameters: {'lr': 0.3488520557156076, 'sigma': 0.011256544558788804, 'max_iter': 3574, 'epochs': 56}. Best is trial 0 with value: 0.03256645970986869.\n",
      "[I 2023-09-05 17:55:34,771] Trial 1 finished with value: 0.03256645970986869 and parameters: {'lr': 0.0993148119483195, 'sigma': 0.03604529204778841, 'max_iter': 2398, 'epochs': 57}. Best is trial 0 with value: 0.03256645970986869.\n",
      "[I 2023-09-05 17:55:50,376] Trial 2 finished with value: 0.03256645970986869 and parameters: {'lr': 0.021788216053884014, 'sigma': 0.01655115978306184, 'max_iter': 3748, 'epochs': 90}. Best is trial 0 with value: 0.03256645970986869.\n",
      "[I 2023-09-05 17:56:05,730] Trial 3 finished with value: 0.03256645970986869 and parameters: {'lr': 0.010183487453386063, 'sigma': 0.18567880916039234, 'max_iter': 4211, 'epochs': 40}. Best is trial 0 with value: 0.03256645970986869.\n",
      "[I 2023-09-05 17:56:22,003] Trial 4 finished with value: 0.03256645970986869 and parameters: {'lr': 0.27765828373405743, 'sigma': 0.05284603550453566, 'max_iter': 4637, 'epochs': 51}. Best is trial 0 with value: 0.03256645970986869.\n",
      "[I 2023-09-05 17:56:36,930] Trial 5 finished with value: 0.03256645970986869 and parameters: {'lr': 0.1216434519885666, 'sigma': 0.02249947822462181, 'max_iter': 2815, 'epochs': 47}. Best is trial 0 with value: 0.03256645970986869.\n",
      "[I 2023-09-05 17:56:51,694] Trial 6 finished with value: 0.03256645970986869 and parameters: {'lr': 0.07650086554079967, 'sigma': 0.11887903956696148, 'max_iter': 3522, 'epochs': 32}. Best is trial 0 with value: 0.03256645970986869.\n",
      "[I 2023-09-05 17:57:06,455] Trial 7 finished with value: 0.03256645970986869 and parameters: {'lr': 0.19989151697755372, 'sigma': 0.30820974516764393, 'max_iter': 4183, 'epochs': 33}. Best is trial 0 with value: 0.03256645970986869.\n",
      "[I 2023-09-05 17:57:20,863] Trial 8 finished with value: 0.03256645970986869 and parameters: {'lr': 0.6565952878338237, 'sigma': 0.06177126586168229, 'max_iter': 2172, 'epochs': 19}. Best is trial 0 with value: 0.03256645970986869.\n",
      "[I 2023-09-05 17:57:36,363] Trial 9 finished with value: 0.17188094181786892 and parameters: {'lr': 0.016903191967597386, 'sigma': 1.1291304690347637, 'max_iter': 2087, 'epochs': 42}. Best is trial 9 with value: 0.17188094181786892.\n",
      "[I 2023-09-05 17:57:51,886] Trial 10 finished with value: 0.1799125560821343 and parameters: {'lr': 0.032985686833106376, 'sigma': 1.4550605442884297, 'max_iter': 2016, 'epochs': 11}. Best is trial 10 with value: 0.1799125560821343.\n",
      "[I 2023-09-05 17:58:06,430] Trial 11 finished with value: 0.1685466527296306 and parameters: {'lr': 0.031113289599456875, 'sigma': 1.6188509318980517, 'max_iter': 2038, 'epochs': 11}. Best is trial 10 with value: 0.1799125560821343.\n",
      "[I 2023-09-05 17:58:20,855] Trial 12 finished with value: 0.14300420763597188 and parameters: {'lr': 0.039478024553108594, 'sigma': 2.5298371185063946, 'max_iter': 2502, 'epochs': 20}. Best is trial 10 with value: 0.1799125560821343.\n",
      "[I 2023-09-05 17:58:34,885] Trial 13 finished with value: 0.12178821960621347 and parameters: {'lr': 0.01125467146103442, 'sigma': 1.0789829754606184, 'max_iter': 2037, 'epochs': 10}. Best is trial 10 with value: 0.1799125560821343.\n",
      "[I 2023-09-05 17:58:49,508] Trial 14 finished with value: 0.18465630824122303 and parameters: {'lr': 0.049462239257688466, 'sigma': 0.7401338523691505, 'max_iter': 2800, 'epochs': 23}. Best is trial 14 with value: 0.18465630824122303.\n",
      "[I 2023-09-05 17:59:03,888] Trial 15 finished with value: 0.11471736878688034 and parameters: {'lr': 0.04976823641763216, 'sigma': 0.5848188841773855, 'max_iter': 2968, 'epochs': 15}. Best is trial 14 with value: 0.18465630824122303.\n",
      "[I 2023-09-05 17:59:18,816] Trial 16 finished with value: 0.1378278313801331 and parameters: {'lr': 0.05854558279707239, 'sigma': 2.9407058327059072, 'max_iter': 2609, 'epochs': 23}. Best is trial 14 with value: 0.18465630824122303.\n",
      "[I 2023-09-05 17:59:34,171] Trial 17 finished with value: 0.07895793177285124 and parameters: {'lr': 0.02512611712519498, 'sigma': 0.5454607082013322, 'max_iter': 3109, 'epochs': 12}. Best is trial 14 with value: 0.18465630824122303.\n",
      "[I 2023-09-05 17:59:48,150] Trial 18 finished with value: 0.1684819511604239 and parameters: {'lr': 0.042464968728586246, 'sigma': 0.7578565508962887, 'max_iter': 2275, 'epochs': 14}. Best is trial 14 with value: 0.18465630824122303.\n",
      "[I 2023-09-05 18:00:01,785] Trial 19 finished with value: 0.03288734432356573 and parameters: {'lr': 0.06760678474057182, 'sigma': 0.4063109075901612, 'max_iter': 2721, 'epochs': 15}. Best is trial 14 with value: 0.18465630824122303.\n",
      "[I 2023-09-05 18:00:16,806] Trial 20 finished with value: 0.16159152000565147 and parameters: {'lr': 0.033073739190981055, 'sigma': 1.602014917289485, 'max_iter': 2354, 'epochs': 23}. Best is trial 14 with value: 0.18465630824122303.\n",
      "[I 2023-09-05 18:00:31,192] Trial 21 finished with value: 0.1463741239762768 and parameters: {'lr': 0.016782764415151242, 'sigma': 0.9855494691339487, 'max_iter': 2193, 'epochs': 27}. Best is trial 14 with value: 0.18465630824122303.\n",
      "[I 2023-09-05 18:00:45,382] Trial 22 finished with value: 0.19373482569199707 and parameters: {'lr': 0.01741945294078735, 'sigma': 1.3384189773384747, 'max_iter': 2007, 'epochs': 10}. Best is trial 22 with value: 0.19373482569199707.\n",
      "[I 2023-09-05 18:01:00,273] Trial 23 finished with value: 0.15936319592936354 and parameters: {'lr': 0.024143166483113432, 'sigma': 1.8984921205636802, 'max_iter': 2428, 'epochs': 10}. Best is trial 22 with value: 0.19373482569199707.\n",
      "[I 2023-09-05 18:01:15,107] Trial 24 finished with value: 0.1624087601721087 and parameters: {'lr': 0.04219764443614264, 'sigma': 0.7861809540421361, 'max_iter': 2009, 'epochs': 13}. Best is trial 22 with value: 0.19373482569199707.\n",
      "[I 2023-09-05 18:01:35,540] Trial 25 finished with value: 0.15843959738706814 and parameters: {'lr': 0.015211861875926477, 'sigma': 1.4317782854075465, 'max_iter': 2196, 'epochs': 16}. Best is trial 22 with value: 0.19373482569199707.\n",
      "[I 2023-09-05 18:01:58,029] Trial 26 finished with value: 0.14616731636878588 and parameters: {'lr': 0.026278146574864943, 'sigma': 2.4426508777145863, 'max_iter': 2571, 'epochs': 10}. Best is trial 22 with value: 0.19373482569199707.\n",
      "[I 2023-09-05 18:02:18,451] Trial 27 finished with value: 0.03256645970986869 and parameters: {'lr': 0.03213214984170706, 'sigma': 0.3442032441335989, 'max_iter': 2335, 'epochs': 12}. Best is trial 22 with value: 0.19373482569199707.\n",
      "[I 2023-09-05 18:02:34,043] Trial 28 finished with value: 0.2052552562139533 and parameters: {'lr': 0.05289688894249994, 'sigma': 1.1976289067437644, 'max_iter': 2753, 'epochs': 18}. Best is trial 28 with value: 0.2052552562139533.\n",
      "[I 2023-09-05 18:02:47,803] Trial 29 finished with value: 0.17210678768764748 and parameters: {'lr': 0.0550105314451033, 'sigma': 0.6377575343991646, 'max_iter': 2754, 'epochs': 17}. Best is trial 28 with value: 0.2052552562139533.\n",
      "[I 2023-09-05 18:03:02,376] Trial 30 finished with value: 0.2293625143200785 and parameters: {'lr': 0.07967186768362132, 'sigma': 0.9892116121253778, 'max_iter': 2999, 'epochs': 19}. Best is trial 30 with value: 0.2293625143200785.\n",
      "[I 2023-09-05 18:03:16,296] Trial 31 finished with value: 0.20990094179028757 and parameters: {'lr': 0.08306860946951311, 'sigma': 1.033071144619692, 'max_iter': 2956, 'epochs': 18}. Best is trial 30 with value: 0.2293625143200785.\n",
      "[I 2023-09-05 18:03:32,544] Trial 32 finished with value: 0.21895389912266144 and parameters: {'lr': 0.10984527049041673, 'sigma': 1.0735993555944896, 'max_iter': 3229, 'epochs': 18}. Best is trial 30 with value: 0.2293625143200785.\n",
      "[I 2023-09-05 18:03:47,666] Trial 33 finished with value: 0.21530152958058538 and parameters: {'lr': 0.1020152670645268, 'sigma': 0.9698567850991816, 'max_iter': 3285, 'epochs': 18}. Best is trial 30 with value: 0.2293625143200785.\n",
      "[I 2023-09-05 18:04:02,504] Trial 34 finished with value: 0.12827608155707726 and parameters: {'lr': 0.11994064592243382, 'sigma': 0.49776987661585, 'max_iter': 3305, 'epochs': 17}. Best is trial 30 with value: 0.2293625143200785.\n"
     ]
    },
    {
     "name": "stderr",
     "output_type": "stream",
     "text": [
      "[I 2023-09-05 18:04:18,248] Trial 35 finished with value: 0.22939524716688683 and parameters: {'lr': 0.08188819204491357, 'sigma': 0.905356844841618, 'max_iter': 3227, 'epochs': 20}. Best is trial 35 with value: 0.22939524716688683.\n",
      "[I 2023-09-05 18:04:31,538] Trial 36 finished with value: 0.03256645970986869 and parameters: {'lr': 0.09841037476277399, 'sigma': 0.2509517962115024, 'max_iter': 3323, 'epochs': 20}. Best is trial 35 with value: 0.22939524716688683.\n",
      "[I 2023-09-05 18:04:45,011] Trial 37 finished with value: 0.0770022070572633 and parameters: {'lr': 0.1322144462740847, 'sigma': 0.4104452625207347, 'max_iter': 3539, 'epochs': 14}. Best is trial 35 with value: 0.22939524716688683.\n",
      "[I 2023-09-05 18:04:59,395] Trial 38 finished with value: 0.15590380638212586 and parameters: {'lr': 0.15808074300829003, 'sigma': 2.0482454212765813, 'max_iter': 3734, 'epochs': 27}. Best is trial 35 with value: 0.22939524716688683.\n",
      "[I 2023-09-05 18:05:13,373] Trial 39 finished with value: 0.2709945254050582 and parameters: {'lr': 0.09002889944098122, 'sigma': 0.834742236310588, 'max_iter': 3199, 'epochs': 20}. Best is trial 39 with value: 0.2709945254050582.\n",
      "[I 2023-09-05 18:05:27,573] Trial 40 finished with value: 0.26722054178256094 and parameters: {'lr': 0.07786059086754471, 'sigma': 0.8074217619958858, 'max_iter': 3107, 'epochs': 22}. Best is trial 39 with value: 0.2709945254050582.\n",
      "[I 2023-09-05 18:05:41,544] Trial 41 finished with value: 0.12112504029024032 and parameters: {'lr': 0.07436172549399603, 'sigma': 0.5361222211400717, 'max_iter': 3045, 'epochs': 21}. Best is trial 39 with value: 0.2709945254050582.\n",
      "[I 2023-09-05 18:05:55,775] Trial 42 finished with value: 0.26798299803260633 and parameters: {'lr': 0.09034992065964705, 'sigma': 0.7867061063382794, 'max_iter': 3186, 'epochs': 21}. Best is trial 39 with value: 0.2709945254050582.\n",
      "[I 2023-09-05 18:06:10,355] Trial 43 finished with value: 0.2355243445265097 and parameters: {'lr': 0.07201204364190145, 'sigma': 0.7554763880589457, 'max_iter': 3423, 'epochs': 27}. Best is trial 39 with value: 0.2709945254050582.\n",
      "[I 2023-09-05 18:06:24,886] Trial 44 finished with value: 0.24196958124163032 and parameters: {'lr': 0.16360568001419087, 'sigma': 0.7617439729744111, 'max_iter': 3384, 'epochs': 26}. Best is trial 39 with value: 0.2709945254050582.\n",
      "[I 2023-09-05 18:06:39,797] Trial 45 finished with value: 0.03256645970986869 and parameters: {'lr': 0.16935611857478178, 'sigma': 0.22230249449877207, 'max_iter': 3438, 'epochs': 29}. Best is trial 39 with value: 0.2709945254050582.\n",
      "[I 2023-09-05 18:06:53,320] Trial 46 finished with value: 0.03256645970986869 and parameters: {'lr': 0.2055232852298223, 'sigma': 0.14864337918573267, 'max_iter': 3431, 'epochs': 32}. Best is trial 39 with value: 0.2709945254050582.\n",
      "[I 2023-09-05 18:07:08,147] Trial 47 finished with value: 0.30164158673566455 and parameters: {'lr': 0.1389558848949938, 'sigma': 0.697649120407503, 'max_iter': 3730, 'epochs': 26}. Best is trial 47 with value: 0.30164158673566455.\n",
      "[I 2023-09-05 18:07:22,252] Trial 48 finished with value: 0.11772640616248792 and parameters: {'lr': 0.2895562144250757, 'sigma': 0.4277082905727357, 'max_iter': 3661, 'epochs': 37}. Best is trial 47 with value: 0.30164158673566455.\n",
      "[I 2023-09-05 18:07:36,411] Trial 49 finished with value: 0.22110179155717763 and parameters: {'lr': 0.14478745507929522, 'sigma': 0.6201054999919527, 'max_iter': 3916, 'epochs': 25}. Best is trial 47 with value: 0.30164158673566455.\n",
      "[I 2023-09-05 18:07:50,606] Trial 50 finished with value: 0.03256645970986869 and parameters: {'lr': 0.20276987350212225, 'sigma': 0.293404860468948, 'max_iter': 3152, 'epochs': 22}. Best is trial 47 with value: 0.30164158673566455.\n",
      "[I 2023-09-05 18:08:06,217] Trial 51 finished with value: 0.2771485512019388 and parameters: {'lr': 0.09300289653052532, 'sigma': 0.7304236150933646, 'max_iter': 3433, 'epochs': 26}. Best is trial 47 with value: 0.30164158673566455.\n",
      "[I 2023-09-05 18:08:20,505] Trial 52 finished with value: 0.21379754791529235 and parameters: {'lr': 0.09533871091044234, 'sigma': 0.7360017864434313, 'max_iter': 3648, 'epochs': 25}. Best is trial 47 with value: 0.30164158673566455.\n",
      "[I 2023-09-05 18:08:34,807] Trial 53 finished with value: 0.2022236984298872 and parameters: {'lr': 0.12748595639221835, 'sigma': 1.3389329367602498, 'max_iter': 3817, 'epochs': 30}. Best is trial 47 with value: 0.30164158673566455.\n",
      "[I 2023-09-05 18:08:48,403] Trial 54 finished with value: 0.08017489818939402 and parameters: {'lr': 0.06603374244287931, 'sigma': 0.48101722031088273, 'max_iter': 3110, 'epochs': 24}. Best is trial 47 with value: 0.30164158673566455.\n",
      "[I 2023-09-05 18:09:02,479] Trial 55 finished with value: 0.21679394127259893 and parameters: {'lr': 0.09171849477861757, 'sigma': 0.6244075273449188, 'max_iter': 2895, 'epochs': 23}. Best is trial 47 with value: 0.30164158673566455.\n",
      "[I 2023-09-05 18:09:16,399] Trial 56 finished with value: 0.032676345215713554 and parameters: {'lr': 0.12237928099679618, 'sigma': 0.3730982736216828, 'max_iter': 3513, 'epochs': 35}. Best is trial 47 with value: 0.30164158673566455.\n",
      "[I 2023-09-05 18:09:30,875] Trial 57 finished with value: 0.15390866193176747 and parameters: {'lr': 0.11106057474279908, 'sigma': 1.7430569005455283, 'max_iter': 3102, 'epochs': 29}. Best is trial 47 with value: 0.30164158673566455.\n",
      "[I 2023-09-05 18:09:44,992] Trial 58 finished with value: 0.2550834224638431 and parameters: {'lr': 0.17443576765315344, 'sigma': 0.8513847485329262, 'max_iter': 3360, 'epochs': 21}. Best is trial 47 with value: 0.30164158673566455.\n",
      "[I 2023-09-05 18:09:59,071] Trial 59 finished with value: 0.19574837364772774 and parameters: {'lr': 0.06610007662837886, 'sigma': 1.2688432476067448, 'max_iter': 3209, 'epochs': 23}. Best is trial 47 with value: 0.30164158673566455.\n",
      "[I 2023-09-05 18:10:13,514] Trial 60 finished with value: 0.29119161798701676 and parameters: {'lr': 0.0910762659266191, 'sigma': 0.8760691074439712, 'max_iter': 3546, 'epochs': 22}. Best is trial 47 with value: 0.30164158673566455.\n",
      "[I 2023-09-05 18:10:27,914] Trial 61 finished with value: 0.22810056272719254 and parameters: {'lr': 0.08671273409967503, 'sigma': 0.8765224341025997, 'max_iter': 3496, 'epochs': 21}. Best is trial 47 with value: 0.30164158673566455.\n",
      "[I 2023-09-05 18:10:41,811] Trial 62 finished with value: 0.22421727474344277 and parameters: {'lr': 0.10638113191536851, 'sigma': 0.6331639097955275, 'max_iter': 3360, 'epochs': 21}. Best is trial 47 with value: 0.30164158673566455.\n",
      "[I 2023-09-05 18:10:56,143] Trial 63 finished with value: 0.20510502803280045 and parameters: {'lr': 0.14213564917181354, 'sigma': 1.172878528330841, 'max_iter': 3639, 'epochs': 25}. Best is trial 47 with value: 0.30164158673566455.\n",
      "[I 2023-09-05 18:11:10,711] Trial 64 finished with value: 0.1668566907743091 and parameters: {'lr': 0.0918489985496723, 'sigma': 1.542061198132315, 'max_iter': 3988, 'epochs': 28}. Best is trial 47 with value: 0.30164158673566455.\n",
      "[I 2023-09-05 18:11:26,287] Trial 65 finished with value: 0.07932529823736276 and parameters: {'lr': 0.0606428998930008, 'sigma': 0.4739072428404772, 'max_iter': 3209, 'epochs': 24}. Best is trial 47 with value: 0.30164158673566455.\n",
      "[I 2023-09-05 18:11:40,468] Trial 66 finished with value: 0.2210129407060971 and parameters: {'lr': 0.07457905184734208, 'sigma': 0.9206589220930224, 'max_iter': 3612, 'epochs': 22}. Best is trial 47 with value: 0.30164158673566455.\n",
      "[I 2023-09-05 18:11:54,409] Trial 67 finished with value: 0.14909146190814582 and parameters: {'lr': 0.11078761224566207, 'sigma': 0.5338698687597495, 'max_iter': 3066, 'epochs': 31}. Best is trial 47 with value: 0.30164158673566455.\n",
      "[I 2023-09-05 18:12:08,635] Trial 68 finished with value: 0.22383258408741624 and parameters: {'lr': 0.06086553441339545, 'sigma': 0.8383941675212098, 'max_iter': 3306, 'epochs': 20}. Best is trial 47 with value: 0.30164158673566455.\n",
      "[I 2023-09-05 18:12:26,095] Trial 69 finished with value: 0.19510640765750478 and parameters: {'lr': 0.050360365957095025, 'sigma': 1.1616267790591046, 'max_iter': 2885, 'epochs': 19}. Best is trial 47 with value: 0.30164158673566455.\n",
      "[I 2023-09-05 18:12:45,597] Trial 70 finished with value: 0.2755811199275121 and parameters: {'lr': 0.1864781428745525, 'sigma': 0.6470411344101785, 'max_iter': 3566, 'epochs': 16}. Best is trial 47 with value: 0.30164158673566455.\n"
     ]
    },
    {
     "name": "stderr",
     "output_type": "stream",
     "text": [
      "[I 2023-09-05 18:13:04,964] Trial 71 finished with value: 0.273394510016723 and parameters: {'lr': 0.1867486490537747, 'sigma': 0.6979094839197046, 'max_iter': 3515, 'epochs': 16}. Best is trial 47 with value: 0.30164158673566455.\n",
      "[I 2023-09-05 18:13:20,561] Trial 72 finished with value: 0.24246199413261343 and parameters: {'lr': 0.23078112657969435, 'sigma': 0.6769624698507302, 'max_iter': 3567, 'epochs': 16}. Best is trial 47 with value: 0.30164158673566455.\n",
      "[I 2023-09-05 18:13:34,695] Trial 73 finished with value: 0.22625058661990766 and parameters: {'lr': 0.133435809329563, 'sigma': 0.5798384682088399, 'max_iter': 3464, 'epochs': 15}. Best is trial 47 with value: 0.30164158673566455.\n",
      "[I 2023-09-05 18:13:49,125] Trial 74 finished with value: 0.26378911745802175 and parameters: {'lr': 0.14704270116111212, 'sigma': 0.6943704898856158, 'max_iter': 3725, 'epochs': 16}. Best is trial 47 with value: 0.30164158673566455.\n",
      "[I 2023-09-05 18:14:02,995] Trial 75 finished with value: 0.07753895462216143 and parameters: {'lr': 0.11759669913921113, 'sigma': 0.44042648031981013, 'max_iter': 3546, 'epochs': 19}. Best is trial 47 with value: 0.30164158673566455.\n",
      "[I 2023-09-05 18:14:17,270] Trial 76 finished with value: 0.2000230938882303 and parameters: {'lr': 0.09947096984016063, 'sigma': 1.0053453300679984, 'max_iter': 3270, 'epochs': 17}. Best is trial 47 with value: 0.30164158673566455.\n",
      "[I 2023-09-05 18:14:30,808] Trial 77 finished with value: 0.17011606062362847 and parameters: {'lr': 0.08223715588702206, 'sigma': 0.5476695097688226, 'max_iter': 3187, 'epochs': 26}. Best is trial 47 with value: 0.30164158673566455.\n",
      "[I 2023-09-05 18:14:44,311] Trial 78 finished with value: 0.03254132643652144 and parameters: {'lr': 0.12815664289921314, 'sigma': 0.3435628449256953, 'max_iter': 3824, 'epochs': 22}. Best is trial 47 with value: 0.30164158673566455.\n",
      "[I 2023-09-05 18:14:58,313] Trial 79 finished with value: 0.19408178873992293 and parameters: {'lr': 0.17671158438101697, 'sigma': 1.3621753089396629, 'max_iter': 3400, 'epochs': 19}. Best is trial 47 with value: 0.30164158673566455.\n",
      "[I 2023-09-05 18:15:12,540] Trial 80 finished with value: 0.22393870381045478 and parameters: {'lr': 0.08584149406228875, 'sigma': 1.1059771708278665, 'max_iter': 3022, 'epochs': 28}. Best is trial 47 with value: 0.30164158673566455.\n",
      "[I 2023-09-05 18:15:26,933] Trial 81 finished with value: 0.25619725853231323 and parameters: {'lr': 0.1413810770003999, 'sigma': 0.7516225503707474, 'max_iter': 3693, 'epochs': 16}. Best is trial 47 with value: 0.30164158673566455.\n",
      "[I 2023-09-05 18:15:41,656] Trial 82 finished with value: 0.26146861786501285 and parameters: {'lr': 0.1524517798817355, 'sigma': 0.6831513181783161, 'max_iter': 3544, 'epochs': 14}. Best is trial 47 with value: 0.30164158673566455.\n",
      "[I 2023-09-05 18:15:55,985] Trial 83 finished with value: 0.258316708129973 and parameters: {'lr': 0.10453686246108426, 'sigma': 0.6830259308666459, 'max_iter': 3758, 'epochs': 16}. Best is trial 47 with value: 0.30164158673566455.\n",
      "[I 2023-09-05 18:16:10,062] Trial 84 finished with value: 0.2426847315541059 and parameters: {'lr': 0.2238768263513515, 'sigma': 0.900716367292082, 'max_iter': 3607, 'epochs': 13}. Best is trial 47 with value: 0.30164158673566455.\n",
      "[I 2023-09-05 18:16:24,318] Trial 85 finished with value: 0.16170859831797663 and parameters: {'lr': 0.15502485848362246, 'sigma': 0.5024146764170153, 'max_iter': 3451, 'epochs': 18}. Best is trial 47 with value: 0.30164158673566455.\n",
      "[I 2023-09-05 18:16:38,568] Trial 86 finished with value: 0.23988531871712857 and parameters: {'lr': 0.07867107232249233, 'sigma': 0.8294766881840311, 'max_iter': 3267, 'epochs': 20}. Best is trial 47 with value: 0.30164158673566455.\n",
      "[I 2023-09-05 18:16:52,727] Trial 87 finished with value: 0.23674618850778845 and parameters: {'lr': 0.18467090879520734, 'sigma': 1.032444941582478, 'max_iter': 3356, 'epochs': 17}. Best is trial 47 with value: 0.30164158673566455.\n",
      "[I 2023-09-05 18:17:06,861] Trial 88 finished with value: 0.2250423244105601 and parameters: {'lr': 0.12032466190212138, 'sigma': 0.6127439624710952, 'max_iter': 3147, 'epochs': 24}. Best is trial 47 with value: 0.30164158673566455.\n",
      "[I 2023-09-05 18:17:21,228] Trial 89 finished with value: 0.2681587430136467 and parameters: {'lr': 0.09249926119268022, 'sigma': 0.7977984760540043, 'max_iter': 3744, 'epochs': 23}. Best is trial 47 with value: 0.30164158673566455.\n",
      "[I 2023-09-05 18:17:35,275] Trial 90 finished with value: 0.17811918157919165 and parameters: {'lr': 0.09429553093253053, 'sigma': 1.4918056862132176, 'max_iter': 3492, 'epochs': 26}. Best is trial 47 with value: 0.30164158673566455.\n",
      "[I 2023-09-05 18:17:49,810] Trial 91 finished with value: 0.21590581230891898 and parameters: {'lr': 0.07343924140155052, 'sigma': 0.7793336786066476, 'max_iter': 3737, 'epochs': 22}. Best is trial 47 with value: 0.30164158673566455.\n",
      "[I 2023-09-05 18:18:04,020] Trial 92 finished with value: 0.28937180622542924 and parameters: {'lr': 0.1364332310804735, 'sigma': 0.7020204327946679, 'max_iter': 3929, 'epochs': 24}. Best is trial 47 with value: 0.30164158673566455.\n",
      "[I 2023-09-05 18:18:18,449] Trial 93 finished with value: 0.1920313034996455 and parameters: {'lr': 0.11004707022880988, 'sigma': 0.5798733566412764, 'max_iter': 4013, 'epochs': 24}. Best is trial 47 with value: 0.30164158673566455.\n",
      "[I 2023-09-05 18:18:33,257] Trial 94 finished with value: 0.2383111598590013 and parameters: {'lr': 0.09087185923223864, 'sigma': 0.9401322726279165, 'max_iter': 3867, 'epochs': 23}. Best is trial 47 with value: 0.30164158673566455.\n",
      "[I 2023-09-05 18:18:47,672] Trial 95 finished with value: 0.20881214105598223 and parameters: {'lr': 0.06881465300232141, 'sigma': 1.2341972072974499, 'max_iter': 4165, 'epochs': 21}. Best is trial 47 with value: 0.30164158673566455.\n",
      "[I 2023-09-05 18:19:02,024] Trial 96 finished with value: 0.28043625007622935 and parameters: {'lr': 0.13065163306462088, 'sigma': 0.8199839801501073, 'max_iter': 3586, 'epochs': 26}. Best is trial 47 with value: 0.30164158673566455.\n",
      "[I 2023-09-05 18:19:15,924] Trial 97 finished with value: 0.09012208666734307 and parameters: {'lr': 0.133969852713837, 'sigma': 0.44430688582315275, 'max_iter': 3637, 'epochs': 30}. Best is trial 47 with value: 0.30164158673566455.\n",
      "[I 2023-09-05 18:19:29,987] Trial 98 finished with value: 0.16170279489330766 and parameters: {'lr': 0.1009697689728426, 'sigma': 0.5260126413926041, 'max_iter': 3599, 'epochs': 27}. Best is trial 47 with value: 0.30164158673566455.\n",
      "[I 2023-09-05 18:19:44,399] Trial 99 finished with value: 0.2616340189077362 and parameters: {'lr': 0.16604186161839668, 'sigma': 0.7281751520273935, 'max_iter': 3685, 'epochs': 25}. Best is trial 47 with value: 0.30164158673566455.\n"
     ]
    }
   ],
   "source": [
    "import optuna\n",
    "from optuna.samplers import TPESampler\n",
    "\n",
    "def objective(trial):\n",
    "    # Suggest values of the parameters using a trial object.\n",
    "    param = {\n",
    "        'm': 4,\n",
    "        'n': 4,\n",
    "        'dim': 50,\n",
    "        'lr': trial.suggest_float('lr', 1e-2, 1, log=True),\n",
    "        'sigma': trial.suggest_float('sigma', 1e-2, 3, log=True),\n",
    "        'max_iter': trial.suggest_int('max_iter', 2000, 5000, log=True),\n",
    "        'random_state': 42, #trial.suggest_int('random_state', 1, 42, log=True),\n",
    "    }\n",
    "    \n",
    "    param2 = {\n",
    "        'epochs': trial.suggest_int('epochs', 10, 100, log=True),\n",
    "    }\n",
    "\n",
    "    # create SOM model\n",
    "    som = SOM(**param)\n",
    "    som.fit(x_train.to_numpy(), **param2)\n",
    "    # get results\n",
    "    predictions = som.fit_predict(x_test.to_numpy(), **param2)\n",
    "    classes_mapping=map_class(predictions)\n",
    "    # change clusters to classes from mapping table\n",
    "    predictions_fix = predictions.copy()\n",
    "    for index, row in classes_mapping.iterrows():\n",
    "        predictions_fix[predictions==classes_mapping.at[index, 'som']]=classes_mapping.at[index, 'best_classes']\n",
    "    # calculate score\n",
    "    score = f1_score(y_test, predictions_fix, average='macro')\n",
    "    return score\n",
    "\n",
    "# Create a study object and optimize the objective function.\n",
    "sampler = TPESampler(seed=10)\n",
    "study = optuna.create_study(sampler=sampler, direction='maximize')\n",
    "study.optimize(objective, n_trials=100)"
   ]
  },
  {
   "cell_type": "code",
   "execution_count": 76,
   "id": "2601c18b",
   "metadata": {},
   "outputs": [
    {
     "data": {
      "application/vnd.plotly.v1+json": {
       "config": {
        "plotlyServerURL": "https://plot.ly"
       },
       "data": [
        {
         "mode": "markers",
         "name": "Objective Value",
         "type": "scatter",
         "x": [
          0,
          1,
          2,
          3,
          4,
          5,
          6,
          7,
          8,
          9,
          10,
          11,
          12,
          13,
          14,
          15,
          16,
          17,
          18,
          19,
          20,
          21,
          22,
          23,
          24,
          25,
          26,
          27,
          28,
          29,
          30,
          31,
          32,
          33,
          34,
          35,
          36,
          37,
          38,
          39,
          40,
          41,
          42,
          43,
          44,
          45,
          46,
          47,
          48,
          49,
          50,
          51,
          52,
          53,
          54,
          55,
          56,
          57,
          58,
          59,
          60,
          61,
          62,
          63,
          64,
          65,
          66,
          67,
          68,
          69,
          70,
          71,
          72,
          73,
          74,
          75,
          76,
          77,
          78,
          79,
          80,
          81,
          82,
          83,
          84,
          85,
          86,
          87,
          88,
          89,
          90,
          91,
          92,
          93,
          94,
          95,
          96,
          97,
          98,
          99
         ],
         "y": [
          0.03256645970986869,
          0.03256645970986869,
          0.03256645970986869,
          0.03256645970986869,
          0.03256645970986869,
          0.03256645970986869,
          0.03256645970986869,
          0.03256645970986869,
          0.03256645970986869,
          0.17188094181786892,
          0.1799125560821343,
          0.1685466527296306,
          0.14300420763597188,
          0.12178821960621347,
          0.18465630824122303,
          0.11471736878688034,
          0.1378278313801331,
          0.07895793177285124,
          0.1684819511604239,
          0.03288734432356573,
          0.16159152000565147,
          0.1463741239762768,
          0.19373482569199707,
          0.15936319592936354,
          0.1624087601721087,
          0.15843959738706814,
          0.14616731636878588,
          0.03256645970986869,
          0.2052552562139533,
          0.17210678768764748,
          0.2293625143200785,
          0.20990094179028757,
          0.21895389912266144,
          0.21530152958058538,
          0.12827608155707726,
          0.22939524716688683,
          0.03256645970986869,
          0.0770022070572633,
          0.15590380638212586,
          0.2709945254050582,
          0.26722054178256094,
          0.12112504029024032,
          0.26798299803260633,
          0.2355243445265097,
          0.24196958124163032,
          0.03256645970986869,
          0.03256645970986869,
          0.30164158673566455,
          0.11772640616248792,
          0.22110179155717763,
          0.03256645970986869,
          0.2771485512019388,
          0.21379754791529235,
          0.2022236984298872,
          0.08017489818939402,
          0.21679394127259893,
          0.032676345215713554,
          0.15390866193176747,
          0.2550834224638431,
          0.19574837364772774,
          0.29119161798701676,
          0.22810056272719254,
          0.22421727474344277,
          0.20510502803280045,
          0.1668566907743091,
          0.07932529823736276,
          0.2210129407060971,
          0.14909146190814582,
          0.22383258408741624,
          0.19510640765750478,
          0.2755811199275121,
          0.273394510016723,
          0.24246199413261343,
          0.22625058661990766,
          0.26378911745802175,
          0.07753895462216143,
          0.2000230938882303,
          0.17011606062362847,
          0.03254132643652144,
          0.19408178873992293,
          0.22393870381045478,
          0.25619725853231323,
          0.26146861786501285,
          0.258316708129973,
          0.2426847315541059,
          0.16170859831797663,
          0.23988531871712857,
          0.23674618850778845,
          0.2250423244105601,
          0.2681587430136467,
          0.17811918157919165,
          0.21590581230891898,
          0.28937180622542924,
          0.1920313034996455,
          0.2383111598590013,
          0.20881214105598223,
          0.28043625007622935,
          0.09012208666734307,
          0.16170279489330766,
          0.2616340189077362
         ]
        },
        {
         "name": "Best Value",
         "type": "scatter",
         "x": [
          0,
          1,
          2,
          3,
          4,
          5,
          6,
          7,
          8,
          9,
          10,
          11,
          12,
          13,
          14,
          15,
          16,
          17,
          18,
          19,
          20,
          21,
          22,
          23,
          24,
          25,
          26,
          27,
          28,
          29,
          30,
          31,
          32,
          33,
          34,
          35,
          36,
          37,
          38,
          39,
          40,
          41,
          42,
          43,
          44,
          45,
          46,
          47,
          48,
          49,
          50,
          51,
          52,
          53,
          54,
          55,
          56,
          57,
          58,
          59,
          60,
          61,
          62,
          63,
          64,
          65,
          66,
          67,
          68,
          69,
          70,
          71,
          72,
          73,
          74,
          75,
          76,
          77,
          78,
          79,
          80,
          81,
          82,
          83,
          84,
          85,
          86,
          87,
          88,
          89,
          90,
          91,
          92,
          93,
          94,
          95,
          96,
          97,
          98,
          99
         ],
         "y": [
          0.03256645970986869,
          0.03256645970986869,
          0.03256645970986869,
          0.03256645970986869,
          0.03256645970986869,
          0.03256645970986869,
          0.03256645970986869,
          0.03256645970986869,
          0.03256645970986869,
          0.17188094181786892,
          0.1799125560821343,
          0.1799125560821343,
          0.1799125560821343,
          0.1799125560821343,
          0.18465630824122303,
          0.18465630824122303,
          0.18465630824122303,
          0.18465630824122303,
          0.18465630824122303,
          0.18465630824122303,
          0.18465630824122303,
          0.18465630824122303,
          0.19373482569199707,
          0.19373482569199707,
          0.19373482569199707,
          0.19373482569199707,
          0.19373482569199707,
          0.19373482569199707,
          0.2052552562139533,
          0.2052552562139533,
          0.2293625143200785,
          0.2293625143200785,
          0.2293625143200785,
          0.2293625143200785,
          0.2293625143200785,
          0.22939524716688683,
          0.22939524716688683,
          0.22939524716688683,
          0.22939524716688683,
          0.2709945254050582,
          0.2709945254050582,
          0.2709945254050582,
          0.2709945254050582,
          0.2709945254050582,
          0.2709945254050582,
          0.2709945254050582,
          0.2709945254050582,
          0.30164158673566455,
          0.30164158673566455,
          0.30164158673566455,
          0.30164158673566455,
          0.30164158673566455,
          0.30164158673566455,
          0.30164158673566455,
          0.30164158673566455,
          0.30164158673566455,
          0.30164158673566455,
          0.30164158673566455,
          0.30164158673566455,
          0.30164158673566455,
          0.30164158673566455,
          0.30164158673566455,
          0.30164158673566455,
          0.30164158673566455,
          0.30164158673566455,
          0.30164158673566455,
          0.30164158673566455,
          0.30164158673566455,
          0.30164158673566455,
          0.30164158673566455,
          0.30164158673566455,
          0.30164158673566455,
          0.30164158673566455,
          0.30164158673566455,
          0.30164158673566455,
          0.30164158673566455,
          0.30164158673566455,
          0.30164158673566455,
          0.30164158673566455,
          0.30164158673566455,
          0.30164158673566455,
          0.30164158673566455,
          0.30164158673566455,
          0.30164158673566455,
          0.30164158673566455,
          0.30164158673566455,
          0.30164158673566455,
          0.30164158673566455,
          0.30164158673566455,
          0.30164158673566455,
          0.30164158673566455,
          0.30164158673566455,
          0.30164158673566455,
          0.30164158673566455,
          0.30164158673566455,
          0.30164158673566455,
          0.30164158673566455,
          0.30164158673566455,
          0.30164158673566455,
          0.30164158673566455
         ]
        }
       ],
       "layout": {
        "template": {
         "data": {
          "bar": [
           {
            "error_x": {
             "color": "#2a3f5f"
            },
            "error_y": {
             "color": "#2a3f5f"
            },
            "marker": {
             "line": {
              "color": "#E5ECF6",
              "width": 0.5
             },
             "pattern": {
              "fillmode": "overlay",
              "size": 10,
              "solidity": 0.2
             }
            },
            "type": "bar"
           }
          ],
          "barpolar": [
           {
            "marker": {
             "line": {
              "color": "#E5ECF6",
              "width": 0.5
             },
             "pattern": {
              "fillmode": "overlay",
              "size": 10,
              "solidity": 0.2
             }
            },
            "type": "barpolar"
           }
          ],
          "carpet": [
           {
            "aaxis": {
             "endlinecolor": "#2a3f5f",
             "gridcolor": "white",
             "linecolor": "white",
             "minorgridcolor": "white",
             "startlinecolor": "#2a3f5f"
            },
            "baxis": {
             "endlinecolor": "#2a3f5f",
             "gridcolor": "white",
             "linecolor": "white",
             "minorgridcolor": "white",
             "startlinecolor": "#2a3f5f"
            },
            "type": "carpet"
           }
          ],
          "choropleth": [
           {
            "colorbar": {
             "outlinewidth": 0,
             "ticks": ""
            },
            "type": "choropleth"
           }
          ],
          "contour": [
           {
            "colorbar": {
             "outlinewidth": 0,
             "ticks": ""
            },
            "colorscale": [
             [
              0,
              "#0d0887"
             ],
             [
              0.1111111111111111,
              "#46039f"
             ],
             [
              0.2222222222222222,
              "#7201a8"
             ],
             [
              0.3333333333333333,
              "#9c179e"
             ],
             [
              0.4444444444444444,
              "#bd3786"
             ],
             [
              0.5555555555555556,
              "#d8576b"
             ],
             [
              0.6666666666666666,
              "#ed7953"
             ],
             [
              0.7777777777777778,
              "#fb9f3a"
             ],
             [
              0.8888888888888888,
              "#fdca26"
             ],
             [
              1,
              "#f0f921"
             ]
            ],
            "type": "contour"
           }
          ],
          "contourcarpet": [
           {
            "colorbar": {
             "outlinewidth": 0,
             "ticks": ""
            },
            "type": "contourcarpet"
           }
          ],
          "heatmap": [
           {
            "colorbar": {
             "outlinewidth": 0,
             "ticks": ""
            },
            "colorscale": [
             [
              0,
              "#0d0887"
             ],
             [
              0.1111111111111111,
              "#46039f"
             ],
             [
              0.2222222222222222,
              "#7201a8"
             ],
             [
              0.3333333333333333,
              "#9c179e"
             ],
             [
              0.4444444444444444,
              "#bd3786"
             ],
             [
              0.5555555555555556,
              "#d8576b"
             ],
             [
              0.6666666666666666,
              "#ed7953"
             ],
             [
              0.7777777777777778,
              "#fb9f3a"
             ],
             [
              0.8888888888888888,
              "#fdca26"
             ],
             [
              1,
              "#f0f921"
             ]
            ],
            "type": "heatmap"
           }
          ],
          "heatmapgl": [
           {
            "colorbar": {
             "outlinewidth": 0,
             "ticks": ""
            },
            "colorscale": [
             [
              0,
              "#0d0887"
             ],
             [
              0.1111111111111111,
              "#46039f"
             ],
             [
              0.2222222222222222,
              "#7201a8"
             ],
             [
              0.3333333333333333,
              "#9c179e"
             ],
             [
              0.4444444444444444,
              "#bd3786"
             ],
             [
              0.5555555555555556,
              "#d8576b"
             ],
             [
              0.6666666666666666,
              "#ed7953"
             ],
             [
              0.7777777777777778,
              "#fb9f3a"
             ],
             [
              0.8888888888888888,
              "#fdca26"
             ],
             [
              1,
              "#f0f921"
             ]
            ],
            "type": "heatmapgl"
           }
          ],
          "histogram": [
           {
            "marker": {
             "pattern": {
              "fillmode": "overlay",
              "size": 10,
              "solidity": 0.2
             }
            },
            "type": "histogram"
           }
          ],
          "histogram2d": [
           {
            "colorbar": {
             "outlinewidth": 0,
             "ticks": ""
            },
            "colorscale": [
             [
              0,
              "#0d0887"
             ],
             [
              0.1111111111111111,
              "#46039f"
             ],
             [
              0.2222222222222222,
              "#7201a8"
             ],
             [
              0.3333333333333333,
              "#9c179e"
             ],
             [
              0.4444444444444444,
              "#bd3786"
             ],
             [
              0.5555555555555556,
              "#d8576b"
             ],
             [
              0.6666666666666666,
              "#ed7953"
             ],
             [
              0.7777777777777778,
              "#fb9f3a"
             ],
             [
              0.8888888888888888,
              "#fdca26"
             ],
             [
              1,
              "#f0f921"
             ]
            ],
            "type": "histogram2d"
           }
          ],
          "histogram2dcontour": [
           {
            "colorbar": {
             "outlinewidth": 0,
             "ticks": ""
            },
            "colorscale": [
             [
              0,
              "#0d0887"
             ],
             [
              0.1111111111111111,
              "#46039f"
             ],
             [
              0.2222222222222222,
              "#7201a8"
             ],
             [
              0.3333333333333333,
              "#9c179e"
             ],
             [
              0.4444444444444444,
              "#bd3786"
             ],
             [
              0.5555555555555556,
              "#d8576b"
             ],
             [
              0.6666666666666666,
              "#ed7953"
             ],
             [
              0.7777777777777778,
              "#fb9f3a"
             ],
             [
              0.8888888888888888,
              "#fdca26"
             ],
             [
              1,
              "#f0f921"
             ]
            ],
            "type": "histogram2dcontour"
           }
          ],
          "mesh3d": [
           {
            "colorbar": {
             "outlinewidth": 0,
             "ticks": ""
            },
            "type": "mesh3d"
           }
          ],
          "parcoords": [
           {
            "line": {
             "colorbar": {
              "outlinewidth": 0,
              "ticks": ""
             }
            },
            "type": "parcoords"
           }
          ],
          "pie": [
           {
            "automargin": true,
            "type": "pie"
           }
          ],
          "scatter": [
           {
            "fillpattern": {
             "fillmode": "overlay",
             "size": 10,
             "solidity": 0.2
            },
            "type": "scatter"
           }
          ],
          "scatter3d": [
           {
            "line": {
             "colorbar": {
              "outlinewidth": 0,
              "ticks": ""
             }
            },
            "marker": {
             "colorbar": {
              "outlinewidth": 0,
              "ticks": ""
             }
            },
            "type": "scatter3d"
           }
          ],
          "scattercarpet": [
           {
            "marker": {
             "colorbar": {
              "outlinewidth": 0,
              "ticks": ""
             }
            },
            "type": "scattercarpet"
           }
          ],
          "scattergeo": [
           {
            "marker": {
             "colorbar": {
              "outlinewidth": 0,
              "ticks": ""
             }
            },
            "type": "scattergeo"
           }
          ],
          "scattergl": [
           {
            "marker": {
             "colorbar": {
              "outlinewidth": 0,
              "ticks": ""
             }
            },
            "type": "scattergl"
           }
          ],
          "scattermapbox": [
           {
            "marker": {
             "colorbar": {
              "outlinewidth": 0,
              "ticks": ""
             }
            },
            "type": "scattermapbox"
           }
          ],
          "scatterpolar": [
           {
            "marker": {
             "colorbar": {
              "outlinewidth": 0,
              "ticks": ""
             }
            },
            "type": "scatterpolar"
           }
          ],
          "scatterpolargl": [
           {
            "marker": {
             "colorbar": {
              "outlinewidth": 0,
              "ticks": ""
             }
            },
            "type": "scatterpolargl"
           }
          ],
          "scatterternary": [
           {
            "marker": {
             "colorbar": {
              "outlinewidth": 0,
              "ticks": ""
             }
            },
            "type": "scatterternary"
           }
          ],
          "surface": [
           {
            "colorbar": {
             "outlinewidth": 0,
             "ticks": ""
            },
            "colorscale": [
             [
              0,
              "#0d0887"
             ],
             [
              0.1111111111111111,
              "#46039f"
             ],
             [
              0.2222222222222222,
              "#7201a8"
             ],
             [
              0.3333333333333333,
              "#9c179e"
             ],
             [
              0.4444444444444444,
              "#bd3786"
             ],
             [
              0.5555555555555556,
              "#d8576b"
             ],
             [
              0.6666666666666666,
              "#ed7953"
             ],
             [
              0.7777777777777778,
              "#fb9f3a"
             ],
             [
              0.8888888888888888,
              "#fdca26"
             ],
             [
              1,
              "#f0f921"
             ]
            ],
            "type": "surface"
           }
          ],
          "table": [
           {
            "cells": {
             "fill": {
              "color": "#EBF0F8"
             },
             "line": {
              "color": "white"
             }
            },
            "header": {
             "fill": {
              "color": "#C8D4E3"
             },
             "line": {
              "color": "white"
             }
            },
            "type": "table"
           }
          ]
         },
         "layout": {
          "annotationdefaults": {
           "arrowcolor": "#2a3f5f",
           "arrowhead": 0,
           "arrowwidth": 1
          },
          "autotypenumbers": "strict",
          "coloraxis": {
           "colorbar": {
            "outlinewidth": 0,
            "ticks": ""
           }
          },
          "colorscale": {
           "diverging": [
            [
             0,
             "#8e0152"
            ],
            [
             0.1,
             "#c51b7d"
            ],
            [
             0.2,
             "#de77ae"
            ],
            [
             0.3,
             "#f1b6da"
            ],
            [
             0.4,
             "#fde0ef"
            ],
            [
             0.5,
             "#f7f7f7"
            ],
            [
             0.6,
             "#e6f5d0"
            ],
            [
             0.7,
             "#b8e186"
            ],
            [
             0.8,
             "#7fbc41"
            ],
            [
             0.9,
             "#4d9221"
            ],
            [
             1,
             "#276419"
            ]
           ],
           "sequential": [
            [
             0,
             "#0d0887"
            ],
            [
             0.1111111111111111,
             "#46039f"
            ],
            [
             0.2222222222222222,
             "#7201a8"
            ],
            [
             0.3333333333333333,
             "#9c179e"
            ],
            [
             0.4444444444444444,
             "#bd3786"
            ],
            [
             0.5555555555555556,
             "#d8576b"
            ],
            [
             0.6666666666666666,
             "#ed7953"
            ],
            [
             0.7777777777777778,
             "#fb9f3a"
            ],
            [
             0.8888888888888888,
             "#fdca26"
            ],
            [
             1,
             "#f0f921"
            ]
           ],
           "sequentialminus": [
            [
             0,
             "#0d0887"
            ],
            [
             0.1111111111111111,
             "#46039f"
            ],
            [
             0.2222222222222222,
             "#7201a8"
            ],
            [
             0.3333333333333333,
             "#9c179e"
            ],
            [
             0.4444444444444444,
             "#bd3786"
            ],
            [
             0.5555555555555556,
             "#d8576b"
            ],
            [
             0.6666666666666666,
             "#ed7953"
            ],
            [
             0.7777777777777778,
             "#fb9f3a"
            ],
            [
             0.8888888888888888,
             "#fdca26"
            ],
            [
             1,
             "#f0f921"
            ]
           ]
          },
          "colorway": [
           "#636efa",
           "#EF553B",
           "#00cc96",
           "#ab63fa",
           "#FFA15A",
           "#19d3f3",
           "#FF6692",
           "#B6E880",
           "#FF97FF",
           "#FECB52"
          ],
          "font": {
           "color": "#2a3f5f"
          },
          "geo": {
           "bgcolor": "white",
           "lakecolor": "white",
           "landcolor": "#E5ECF6",
           "showlakes": true,
           "showland": true,
           "subunitcolor": "white"
          },
          "hoverlabel": {
           "align": "left"
          },
          "hovermode": "closest",
          "mapbox": {
           "style": "light"
          },
          "paper_bgcolor": "white",
          "plot_bgcolor": "#E5ECF6",
          "polar": {
           "angularaxis": {
            "gridcolor": "white",
            "linecolor": "white",
            "ticks": ""
           },
           "bgcolor": "#E5ECF6",
           "radialaxis": {
            "gridcolor": "white",
            "linecolor": "white",
            "ticks": ""
           }
          },
          "scene": {
           "xaxis": {
            "backgroundcolor": "#E5ECF6",
            "gridcolor": "white",
            "gridwidth": 2,
            "linecolor": "white",
            "showbackground": true,
            "ticks": "",
            "zerolinecolor": "white"
           },
           "yaxis": {
            "backgroundcolor": "#E5ECF6",
            "gridcolor": "white",
            "gridwidth": 2,
            "linecolor": "white",
            "showbackground": true,
            "ticks": "",
            "zerolinecolor": "white"
           },
           "zaxis": {
            "backgroundcolor": "#E5ECF6",
            "gridcolor": "white",
            "gridwidth": 2,
            "linecolor": "white",
            "showbackground": true,
            "ticks": "",
            "zerolinecolor": "white"
           }
          },
          "shapedefaults": {
           "line": {
            "color": "#2a3f5f"
           }
          },
          "ternary": {
           "aaxis": {
            "gridcolor": "white",
            "linecolor": "white",
            "ticks": ""
           },
           "baxis": {
            "gridcolor": "white",
            "linecolor": "white",
            "ticks": ""
           },
           "bgcolor": "#E5ECF6",
           "caxis": {
            "gridcolor": "white",
            "linecolor": "white",
            "ticks": ""
           }
          },
          "title": {
           "x": 0.05
          },
          "xaxis": {
           "automargin": true,
           "gridcolor": "white",
           "linecolor": "white",
           "ticks": "",
           "title": {
            "standoff": 15
           },
           "zerolinecolor": "white",
           "zerolinewidth": 2
          },
          "yaxis": {
           "automargin": true,
           "gridcolor": "white",
           "linecolor": "white",
           "ticks": "",
           "title": {
            "standoff": 15
           },
           "zerolinecolor": "white",
           "zerolinewidth": 2
          }
         }
        },
        "title": {
         "text": "Optimization History Plot"
        },
        "xaxis": {
         "title": {
          "text": "Trial"
         }
        },
        "yaxis": {
         "title": {
          "text": "Objective Value"
         }
        }
       }
      },
      "text/html": [
       "<div>                            <div id=\"54b467e7-5833-4c61-8d73-f854c13f37f3\" class=\"plotly-graph-div\" style=\"height:525px; width:100%;\"></div>            <script type=\"text/javascript\">                require([\"plotly\"], function(Plotly) {                    window.PLOTLYENV=window.PLOTLYENV || {};                                    if (document.getElementById(\"54b467e7-5833-4c61-8d73-f854c13f37f3\")) {                    Plotly.newPlot(                        \"54b467e7-5833-4c61-8d73-f854c13f37f3\",                        [{\"mode\":\"markers\",\"name\":\"Objective Value\",\"x\":[0,1,2,3,4,5,6,7,8,9,10,11,12,13,14,15,16,17,18,19,20,21,22,23,24,25,26,27,28,29,30,31,32,33,34,35,36,37,38,39,40,41,42,43,44,45,46,47,48,49,50,51,52,53,54,55,56,57,58,59,60,61,62,63,64,65,66,67,68,69,70,71,72,73,74,75,76,77,78,79,80,81,82,83,84,85,86,87,88,89,90,91,92,93,94,95,96,97,98,99],\"y\":[0.03256645970986869,0.03256645970986869,0.03256645970986869,0.03256645970986869,0.03256645970986869,0.03256645970986869,0.03256645970986869,0.03256645970986869,0.03256645970986869,0.17188094181786892,0.1799125560821343,0.1685466527296306,0.14300420763597188,0.12178821960621347,0.18465630824122303,0.11471736878688034,0.1378278313801331,0.07895793177285124,0.1684819511604239,0.03288734432356573,0.16159152000565147,0.1463741239762768,0.19373482569199707,0.15936319592936354,0.1624087601721087,0.15843959738706814,0.14616731636878588,0.03256645970986869,0.2052552562139533,0.17210678768764748,0.2293625143200785,0.20990094179028757,0.21895389912266144,0.21530152958058538,0.12827608155707726,0.22939524716688683,0.03256645970986869,0.0770022070572633,0.15590380638212586,0.2709945254050582,0.26722054178256094,0.12112504029024032,0.26798299803260633,0.2355243445265097,0.24196958124163032,0.03256645970986869,0.03256645970986869,0.30164158673566455,0.11772640616248792,0.22110179155717763,0.03256645970986869,0.2771485512019388,0.21379754791529235,0.2022236984298872,0.08017489818939402,0.21679394127259893,0.032676345215713554,0.15390866193176747,0.2550834224638431,0.19574837364772774,0.29119161798701676,0.22810056272719254,0.22421727474344277,0.20510502803280045,0.1668566907743091,0.07932529823736276,0.2210129407060971,0.14909146190814582,0.22383258408741624,0.19510640765750478,0.2755811199275121,0.273394510016723,0.24246199413261343,0.22625058661990766,0.26378911745802175,0.07753895462216143,0.2000230938882303,0.17011606062362847,0.03254132643652144,0.19408178873992293,0.22393870381045478,0.25619725853231323,0.26146861786501285,0.258316708129973,0.2426847315541059,0.16170859831797663,0.23988531871712857,0.23674618850778845,0.2250423244105601,0.2681587430136467,0.17811918157919165,0.21590581230891898,0.28937180622542924,0.1920313034996455,0.2383111598590013,0.20881214105598223,0.28043625007622935,0.09012208666734307,0.16170279489330766,0.2616340189077362],\"type\":\"scatter\"},{\"name\":\"Best Value\",\"x\":[0,1,2,3,4,5,6,7,8,9,10,11,12,13,14,15,16,17,18,19,20,21,22,23,24,25,26,27,28,29,30,31,32,33,34,35,36,37,38,39,40,41,42,43,44,45,46,47,48,49,50,51,52,53,54,55,56,57,58,59,60,61,62,63,64,65,66,67,68,69,70,71,72,73,74,75,76,77,78,79,80,81,82,83,84,85,86,87,88,89,90,91,92,93,94,95,96,97,98,99],\"y\":[0.03256645970986869,0.03256645970986869,0.03256645970986869,0.03256645970986869,0.03256645970986869,0.03256645970986869,0.03256645970986869,0.03256645970986869,0.03256645970986869,0.17188094181786892,0.1799125560821343,0.1799125560821343,0.1799125560821343,0.1799125560821343,0.18465630824122303,0.18465630824122303,0.18465630824122303,0.18465630824122303,0.18465630824122303,0.18465630824122303,0.18465630824122303,0.18465630824122303,0.19373482569199707,0.19373482569199707,0.19373482569199707,0.19373482569199707,0.19373482569199707,0.19373482569199707,0.2052552562139533,0.2052552562139533,0.2293625143200785,0.2293625143200785,0.2293625143200785,0.2293625143200785,0.2293625143200785,0.22939524716688683,0.22939524716688683,0.22939524716688683,0.22939524716688683,0.2709945254050582,0.2709945254050582,0.2709945254050582,0.2709945254050582,0.2709945254050582,0.2709945254050582,0.2709945254050582,0.2709945254050582,0.30164158673566455,0.30164158673566455,0.30164158673566455,0.30164158673566455,0.30164158673566455,0.30164158673566455,0.30164158673566455,0.30164158673566455,0.30164158673566455,0.30164158673566455,0.30164158673566455,0.30164158673566455,0.30164158673566455,0.30164158673566455,0.30164158673566455,0.30164158673566455,0.30164158673566455,0.30164158673566455,0.30164158673566455,0.30164158673566455,0.30164158673566455,0.30164158673566455,0.30164158673566455,0.30164158673566455,0.30164158673566455,0.30164158673566455,0.30164158673566455,0.30164158673566455,0.30164158673566455,0.30164158673566455,0.30164158673566455,0.30164158673566455,0.30164158673566455,0.30164158673566455,0.30164158673566455,0.30164158673566455,0.30164158673566455,0.30164158673566455,0.30164158673566455,0.30164158673566455,0.30164158673566455,0.30164158673566455,0.30164158673566455,0.30164158673566455,0.30164158673566455,0.30164158673566455,0.30164158673566455,0.30164158673566455,0.30164158673566455,0.30164158673566455,0.30164158673566455,0.30164158673566455,0.30164158673566455],\"type\":\"scatter\"}],                        {\"title\":{\"text\":\"Optimization History Plot\"},\"xaxis\":{\"title\":{\"text\":\"Trial\"}},\"yaxis\":{\"title\":{\"text\":\"Objective Value\"}},\"template\":{\"data\":{\"histogram2dcontour\":[{\"type\":\"histogram2dcontour\",\"colorbar\":{\"outlinewidth\":0,\"ticks\":\"\"},\"colorscale\":[[0.0,\"#0d0887\"],[0.1111111111111111,\"#46039f\"],[0.2222222222222222,\"#7201a8\"],[0.3333333333333333,\"#9c179e\"],[0.4444444444444444,\"#bd3786\"],[0.5555555555555556,\"#d8576b\"],[0.6666666666666666,\"#ed7953\"],[0.7777777777777778,\"#fb9f3a\"],[0.8888888888888888,\"#fdca26\"],[1.0,\"#f0f921\"]]}],\"choropleth\":[{\"type\":\"choropleth\",\"colorbar\":{\"outlinewidth\":0,\"ticks\":\"\"}}],\"histogram2d\":[{\"type\":\"histogram2d\",\"colorbar\":{\"outlinewidth\":0,\"ticks\":\"\"},\"colorscale\":[[0.0,\"#0d0887\"],[0.1111111111111111,\"#46039f\"],[0.2222222222222222,\"#7201a8\"],[0.3333333333333333,\"#9c179e\"],[0.4444444444444444,\"#bd3786\"],[0.5555555555555556,\"#d8576b\"],[0.6666666666666666,\"#ed7953\"],[0.7777777777777778,\"#fb9f3a\"],[0.8888888888888888,\"#fdca26\"],[1.0,\"#f0f921\"]]}],\"heatmap\":[{\"type\":\"heatmap\",\"colorbar\":{\"outlinewidth\":0,\"ticks\":\"\"},\"colorscale\":[[0.0,\"#0d0887\"],[0.1111111111111111,\"#46039f\"],[0.2222222222222222,\"#7201a8\"],[0.3333333333333333,\"#9c179e\"],[0.4444444444444444,\"#bd3786\"],[0.5555555555555556,\"#d8576b\"],[0.6666666666666666,\"#ed7953\"],[0.7777777777777778,\"#fb9f3a\"],[0.8888888888888888,\"#fdca26\"],[1.0,\"#f0f921\"]]}],\"heatmapgl\":[{\"type\":\"heatmapgl\",\"colorbar\":{\"outlinewidth\":0,\"ticks\":\"\"},\"colorscale\":[[0.0,\"#0d0887\"],[0.1111111111111111,\"#46039f\"],[0.2222222222222222,\"#7201a8\"],[0.3333333333333333,\"#9c179e\"],[0.4444444444444444,\"#bd3786\"],[0.5555555555555556,\"#d8576b\"],[0.6666666666666666,\"#ed7953\"],[0.7777777777777778,\"#fb9f3a\"],[0.8888888888888888,\"#fdca26\"],[1.0,\"#f0f921\"]]}],\"contourcarpet\":[{\"type\":\"contourcarpet\",\"colorbar\":{\"outlinewidth\":0,\"ticks\":\"\"}}],\"contour\":[{\"type\":\"contour\",\"colorbar\":{\"outlinewidth\":0,\"ticks\":\"\"},\"colorscale\":[[0.0,\"#0d0887\"],[0.1111111111111111,\"#46039f\"],[0.2222222222222222,\"#7201a8\"],[0.3333333333333333,\"#9c179e\"],[0.4444444444444444,\"#bd3786\"],[0.5555555555555556,\"#d8576b\"],[0.6666666666666666,\"#ed7953\"],[0.7777777777777778,\"#fb9f3a\"],[0.8888888888888888,\"#fdca26\"],[1.0,\"#f0f921\"]]}],\"surface\":[{\"type\":\"surface\",\"colorbar\":{\"outlinewidth\":0,\"ticks\":\"\"},\"colorscale\":[[0.0,\"#0d0887\"],[0.1111111111111111,\"#46039f\"],[0.2222222222222222,\"#7201a8\"],[0.3333333333333333,\"#9c179e\"],[0.4444444444444444,\"#bd3786\"],[0.5555555555555556,\"#d8576b\"],[0.6666666666666666,\"#ed7953\"],[0.7777777777777778,\"#fb9f3a\"],[0.8888888888888888,\"#fdca26\"],[1.0,\"#f0f921\"]]}],\"mesh3d\":[{\"type\":\"mesh3d\",\"colorbar\":{\"outlinewidth\":0,\"ticks\":\"\"}}],\"scatter\":[{\"fillpattern\":{\"fillmode\":\"overlay\",\"size\":10,\"solidity\":0.2},\"type\":\"scatter\"}],\"parcoords\":[{\"type\":\"parcoords\",\"line\":{\"colorbar\":{\"outlinewidth\":0,\"ticks\":\"\"}}}],\"scatterpolargl\":[{\"type\":\"scatterpolargl\",\"marker\":{\"colorbar\":{\"outlinewidth\":0,\"ticks\":\"\"}}}],\"bar\":[{\"error_x\":{\"color\":\"#2a3f5f\"},\"error_y\":{\"color\":\"#2a3f5f\"},\"marker\":{\"line\":{\"color\":\"#E5ECF6\",\"width\":0.5},\"pattern\":{\"fillmode\":\"overlay\",\"size\":10,\"solidity\":0.2}},\"type\":\"bar\"}],\"scattergeo\":[{\"type\":\"scattergeo\",\"marker\":{\"colorbar\":{\"outlinewidth\":0,\"ticks\":\"\"}}}],\"scatterpolar\":[{\"type\":\"scatterpolar\",\"marker\":{\"colorbar\":{\"outlinewidth\":0,\"ticks\":\"\"}}}],\"histogram\":[{\"marker\":{\"pattern\":{\"fillmode\":\"overlay\",\"size\":10,\"solidity\":0.2}},\"type\":\"histogram\"}],\"scattergl\":[{\"type\":\"scattergl\",\"marker\":{\"colorbar\":{\"outlinewidth\":0,\"ticks\":\"\"}}}],\"scatter3d\":[{\"type\":\"scatter3d\",\"line\":{\"colorbar\":{\"outlinewidth\":0,\"ticks\":\"\"}},\"marker\":{\"colorbar\":{\"outlinewidth\":0,\"ticks\":\"\"}}}],\"scattermapbox\":[{\"type\":\"scattermapbox\",\"marker\":{\"colorbar\":{\"outlinewidth\":0,\"ticks\":\"\"}}}],\"scatterternary\":[{\"type\":\"scatterternary\",\"marker\":{\"colorbar\":{\"outlinewidth\":0,\"ticks\":\"\"}}}],\"scattercarpet\":[{\"type\":\"scattercarpet\",\"marker\":{\"colorbar\":{\"outlinewidth\":0,\"ticks\":\"\"}}}],\"carpet\":[{\"aaxis\":{\"endlinecolor\":\"#2a3f5f\",\"gridcolor\":\"white\",\"linecolor\":\"white\",\"minorgridcolor\":\"white\",\"startlinecolor\":\"#2a3f5f\"},\"baxis\":{\"endlinecolor\":\"#2a3f5f\",\"gridcolor\":\"white\",\"linecolor\":\"white\",\"minorgridcolor\":\"white\",\"startlinecolor\":\"#2a3f5f\"},\"type\":\"carpet\"}],\"table\":[{\"cells\":{\"fill\":{\"color\":\"#EBF0F8\"},\"line\":{\"color\":\"white\"}},\"header\":{\"fill\":{\"color\":\"#C8D4E3\"},\"line\":{\"color\":\"white\"}},\"type\":\"table\"}],\"barpolar\":[{\"marker\":{\"line\":{\"color\":\"#E5ECF6\",\"width\":0.5},\"pattern\":{\"fillmode\":\"overlay\",\"size\":10,\"solidity\":0.2}},\"type\":\"barpolar\"}],\"pie\":[{\"automargin\":true,\"type\":\"pie\"}]},\"layout\":{\"autotypenumbers\":\"strict\",\"colorway\":[\"#636efa\",\"#EF553B\",\"#00cc96\",\"#ab63fa\",\"#FFA15A\",\"#19d3f3\",\"#FF6692\",\"#B6E880\",\"#FF97FF\",\"#FECB52\"],\"font\":{\"color\":\"#2a3f5f\"},\"hovermode\":\"closest\",\"hoverlabel\":{\"align\":\"left\"},\"paper_bgcolor\":\"white\",\"plot_bgcolor\":\"#E5ECF6\",\"polar\":{\"bgcolor\":\"#E5ECF6\",\"angularaxis\":{\"gridcolor\":\"white\",\"linecolor\":\"white\",\"ticks\":\"\"},\"radialaxis\":{\"gridcolor\":\"white\",\"linecolor\":\"white\",\"ticks\":\"\"}},\"ternary\":{\"bgcolor\":\"#E5ECF6\",\"aaxis\":{\"gridcolor\":\"white\",\"linecolor\":\"white\",\"ticks\":\"\"},\"baxis\":{\"gridcolor\":\"white\",\"linecolor\":\"white\",\"ticks\":\"\"},\"caxis\":{\"gridcolor\":\"white\",\"linecolor\":\"white\",\"ticks\":\"\"}},\"coloraxis\":{\"colorbar\":{\"outlinewidth\":0,\"ticks\":\"\"}},\"colorscale\":{\"sequential\":[[0.0,\"#0d0887\"],[0.1111111111111111,\"#46039f\"],[0.2222222222222222,\"#7201a8\"],[0.3333333333333333,\"#9c179e\"],[0.4444444444444444,\"#bd3786\"],[0.5555555555555556,\"#d8576b\"],[0.6666666666666666,\"#ed7953\"],[0.7777777777777778,\"#fb9f3a\"],[0.8888888888888888,\"#fdca26\"],[1.0,\"#f0f921\"]],\"sequentialminus\":[[0.0,\"#0d0887\"],[0.1111111111111111,\"#46039f\"],[0.2222222222222222,\"#7201a8\"],[0.3333333333333333,\"#9c179e\"],[0.4444444444444444,\"#bd3786\"],[0.5555555555555556,\"#d8576b\"],[0.6666666666666666,\"#ed7953\"],[0.7777777777777778,\"#fb9f3a\"],[0.8888888888888888,\"#fdca26\"],[1.0,\"#f0f921\"]],\"diverging\":[[0,\"#8e0152\"],[0.1,\"#c51b7d\"],[0.2,\"#de77ae\"],[0.3,\"#f1b6da\"],[0.4,\"#fde0ef\"],[0.5,\"#f7f7f7\"],[0.6,\"#e6f5d0\"],[0.7,\"#b8e186\"],[0.8,\"#7fbc41\"],[0.9,\"#4d9221\"],[1,\"#276419\"]]},\"xaxis\":{\"gridcolor\":\"white\",\"linecolor\":\"white\",\"ticks\":\"\",\"title\":{\"standoff\":15},\"zerolinecolor\":\"white\",\"automargin\":true,\"zerolinewidth\":2},\"yaxis\":{\"gridcolor\":\"white\",\"linecolor\":\"white\",\"ticks\":\"\",\"title\":{\"standoff\":15},\"zerolinecolor\":\"white\",\"automargin\":true,\"zerolinewidth\":2},\"scene\":{\"xaxis\":{\"backgroundcolor\":\"#E5ECF6\",\"gridcolor\":\"white\",\"linecolor\":\"white\",\"showbackground\":true,\"ticks\":\"\",\"zerolinecolor\":\"white\",\"gridwidth\":2},\"yaxis\":{\"backgroundcolor\":\"#E5ECF6\",\"gridcolor\":\"white\",\"linecolor\":\"white\",\"showbackground\":true,\"ticks\":\"\",\"zerolinecolor\":\"white\",\"gridwidth\":2},\"zaxis\":{\"backgroundcolor\":\"#E5ECF6\",\"gridcolor\":\"white\",\"linecolor\":\"white\",\"showbackground\":true,\"ticks\":\"\",\"zerolinecolor\":\"white\",\"gridwidth\":2}},\"shapedefaults\":{\"line\":{\"color\":\"#2a3f5f\"}},\"annotationdefaults\":{\"arrowcolor\":\"#2a3f5f\",\"arrowhead\":0,\"arrowwidth\":1},\"geo\":{\"bgcolor\":\"white\",\"landcolor\":\"#E5ECF6\",\"subunitcolor\":\"white\",\"showland\":true,\"showlakes\":true,\"lakecolor\":\"white\"},\"title\":{\"x\":0.05},\"mapbox\":{\"style\":\"light\"}}}},                        {\"responsive\": true}                    ).then(function(){\n",
       "                            \n",
       "var gd = document.getElementById('54b467e7-5833-4c61-8d73-f854c13f37f3');\n",
       "var x = new MutationObserver(function (mutations, observer) {{\n",
       "        var display = window.getComputedStyle(gd).display;\n",
       "        if (!display || display === 'none') {{\n",
       "            console.log([gd, 'removed!']);\n",
       "            Plotly.purge(gd);\n",
       "            observer.disconnect();\n",
       "        }}\n",
       "}});\n",
       "\n",
       "// Listen for the removal of the full notebook cells\n",
       "var notebookContainer = gd.closest('#notebook-container');\n",
       "if (notebookContainer) {{\n",
       "    x.observe(notebookContainer, {childList: true});\n",
       "}}\n",
       "\n",
       "// Listen for the clearing of the current output cell\n",
       "var outputEl = gd.closest('.output');\n",
       "if (outputEl) {{\n",
       "    x.observe(outputEl, {childList: true});\n",
       "}}\n",
       "\n",
       "                        })                };                });            </script>        </div>"
      ]
     },
     "metadata": {},
     "output_type": "display_data"
    }
   ],
   "source": [
    "fig = optuna.visualization.plot_optimization_history(study)\n",
    "fig.show()"
   ]
  },
  {
   "cell_type": "code",
   "execution_count": 77,
   "id": "073557a1",
   "metadata": {},
   "outputs": [
    {
     "name": "stdout",
     "output_type": "stream",
     "text": [
      "Study statistics: \n",
      "  Number of finished trials:  100\n",
      "  Number of pruned trials:  0\n",
      "  Number of complete trials:  100\n",
      "Best trial:\n",
      "  Value:  0.30164158673566455\n",
      "  Params: \n",
      "    lr: 0.1389558848949938\n",
      "    sigma: 0.697649120407503\n",
      "    max_iter: 3730\n",
      "    epochs: 26\n"
     ]
    }
   ],
   "source": [
    "from optuna.trial import TrialState\n",
    "\n",
    "pruned_trials = study.get_trials(deepcopy=False, states=[TrialState.PRUNED])\n",
    "complete_trials = study.get_trials(deepcopy=False, states=[TrialState.COMPLETE])\n",
    "\n",
    "print(\"Study statistics: \")\n",
    "print(\"  Number of finished trials: \", len(study.trials))\n",
    "print(\"  Number of pruned trials: \", len(pruned_trials))\n",
    "print(\"  Number of complete trials: \", len(complete_trials))\n",
    "\n",
    "print(\"Best trial:\")\n",
    "trial = study.best_trial\n",
    "\n",
    "print(\"  Value: \", trial.value)\n",
    "\n",
    "print(\"  Params: \")\n",
    "for key, value in trial.params.items():\n",
    "    print(\"    {}: {}\".format(key, value))"
   ]
  },
  {
   "cell_type": "markdown",
   "id": "d56d4cfc",
   "metadata": {},
   "source": [
    "# Train model"
   ]
  },
  {
   "cell_type": "code",
   "execution_count": 65,
   "id": "11bab879",
   "metadata": {},
   "outputs": [
    {
     "name": "stdout",
     "output_type": "stream",
     "text": [
      "CPU times: user 8.27 s, sys: 3.22 ms, total: 8.28 s\n",
      "Wall time: 8.27 s\n"
     ]
    }
   ],
   "source": [
    "# {'lr': 0.1389558848949938, 'sigma': 0.697649120407503, 'max_iter': 3730, 'epochs': 26}\n",
    "som = SOM(m=4, n=4, dim=50, lr=0.1389558848949938, sigma=0.697649120407503, max_iter=3730, random_state=42)\n",
    "%time som.fit(x_train.to_numpy(), epochs=26)\n",
    "predictions = som.fit_predict(x_test.to_numpy(), epochs=26)"
   ]
  },
  {
   "cell_type": "code",
   "execution_count": 66,
   "id": "c05c292f",
   "metadata": {},
   "outputs": [
    {
     "data": {
      "text/plain": [
       "3     7087\n",
       "2     6032\n",
       "7     5827\n",
       "5     5591\n",
       "10    5487\n",
       "14    5462\n",
       "9     5371\n",
       "8     5306\n",
       "6     5102\n",
       "12    4966\n",
       "0     4937\n",
       "1     4852\n",
       "15    4814\n",
       "11    4799\n",
       "4     4619\n",
       "13    4595\n",
       "dtype: int64"
      ]
     },
     "execution_count": 66,
     "metadata": {},
     "output_type": "execute_result"
    }
   ],
   "source": [
    "pd.Series(predictions).value_counts()"
   ]
  },
  {
   "cell_type": "markdown",
   "id": "b250cf4b",
   "metadata": {},
   "source": [
    "# Map classes from som to classes from Y data"
   ]
  },
  {
   "cell_type": "code",
   "execution_count": 67,
   "id": "201e2210",
   "metadata": {},
   "outputs": [],
   "source": [
    "# get classes mapping\n",
    "classes_mapping=map_class(predictions)\n",
    "# create copy of output\n",
    "predictions_fix = predictions.copy()\n",
    "# change clusters to classes from mapping table\n",
    "for index, row in classes_mapping.iterrows():\n",
    "    predictions_fix[predictions==classes_mapping.at[index, 'som']]=classes_mapping.at[index, 'best_classes']"
   ]
  },
  {
   "cell_type": "markdown",
   "id": "b8bad8b6",
   "metadata": {},
   "source": [
    "# Check the resuts"
   ]
  },
  {
   "cell_type": "code",
   "execution_count": 68,
   "id": "d9434a51",
   "metadata": {
    "scrolled": false
   },
   "outputs": [
    {
     "name": "stdout",
     "output_type": "stream",
     "text": [
      "              precision    recall  f1-score   support\n",
      "\n",
      "           0       0.59      0.25      0.35     12656\n",
      "           1       0.02      0.08      0.03      1673\n",
      "           2       0.12      0.31      0.17      1844\n",
      "           3       0.98      0.20      0.33     29536\n",
      "           4       0.47      0.42      0.44      5085\n",
      "           5       0.39      0.83      0.53      2339\n",
      "           7       0.12      0.28      0.16      2171\n",
      "           9       0.61      0.50      0.55      5926\n",
      "          11       0.54      0.58      0.56      4224\n",
      "          20       0.02      0.04      0.02      1928\n",
      "          29       0.27      0.55      0.36      2661\n",
      "          37       0.23      0.82      0.36      1395\n",
      "          50       0.35      0.71      0.47      2448\n",
      "          66       0.00      0.00      0.00      1061\n",
      "         222       0.04      0.08      0.06      2804\n",
      "         238       0.41      0.41      0.41      7096\n",
      "\n",
      "    accuracy                           0.32     84847\n",
      "   macro avg       0.32      0.38      0.30     84847\n",
      "weighted avg       0.60      0.32      0.35     84847\n",
      "\n"
     ]
    }
   ],
   "source": [
    "print(classification_report(y_test,predictions_fix))"
   ]
  },
  {
   "cell_type": "code",
   "execution_count": 69,
   "id": "8958a84f",
   "metadata": {},
   "outputs": [
    {
     "name": "stdout",
     "output_type": "stream",
     "text": [
      "0.3508071226493593\n",
      "[29536, 12656, 7096, 5926, 5085, 4224, 2804, 2661, 2448, 2339, 2171, 1928, 1844, 1673, 1395, 1061]\n",
      "[0.33248987854251016, 0.3508071226493593, 0.41429880843263067, 0.5471328671328671, 0.44394064303380054, 0.5597006463317835, 0.05741165118803521, 0.3584882432598793, 0.4693297224102911, 0.5327857631759069, 0.1637020195265481, 0.022343396728288334, 0.17392610393511565, 0.03493333333333334, 0.36497518809028334, 0.0]\n"
     ]
    },
    {
     "data": {
      "image/png": "[encoded data removed]",
      "text/plain": [
       "<Figure size 640x480 with 1 Axes>"
      ]
     },
     "metadata": {},
     "output_type": "display_data"
    }
   ],
   "source": [
    "rep=classification_report(y_test,predictions_fix, output_dict=True)\n",
    "print(rep['0']['f1-score'])\n",
    "x=[cnt for cnt in pd.Series(y_test).value_counts().to_list()]\n",
    "y=[rep[str(i)]['f1-score'] for i in pd.Series(y_test).value_counts().keys().to_list()]\n",
    "print(x)\n",
    "print(y)\n",
    "\n",
    "plt.title('Miara F1 w zależności od liczności klas')\n",
    "plt.plot(x,y)\n",
    "plt.show()\n",
    "    "
   ]
  },
  {
   "cell_type": "code",
   "execution_count": 70,
   "id": "c488939a",
   "metadata": {},
   "outputs": [
    {
     "data": {
      "text/plain": [
       "0.35193733073472705"
      ]
     },
     "execution_count": 70,
     "metadata": {},
     "output_type": "execute_result"
    }
   ],
   "source": [
    "score = f1_score(y_test, predictions_fix, average='weighted')\n",
    "score"
   ]
  },
  {
   "cell_type": "code",
   "execution_count": 71,
   "id": "d63d4faf",
   "metadata": {},
   "outputs": [
    {
     "data": {
      "text/plain": [
       "0.3239713837849305"
      ]
     },
     "execution_count": 71,
     "metadata": {},
     "output_type": "execute_result"
    }
   ],
   "source": [
    "accuracy_score(y_test, predictions_fix)"
   ]
  },
  {
   "cell_type": "code",
   "execution_count": 72,
   "id": "c747e073",
   "metadata": {},
   "outputs": [
    {
     "data": {
      "text/plain": [
       "0.30164158673566455"
      ]
     },
     "execution_count": 72,
     "metadata": {},
     "output_type": "execute_result"
    }
   ],
   "source": [
    "f1_score(y_test, predictions_fix, average='macro')"
   ]
  },
  {
   "cell_type": "code",
   "execution_count": 73,
   "id": "97310b21",
   "metadata": {},
   "outputs": [
    {
     "data": {
      "image/png": "[encoded data removed]",
      "text/plain": [
       "<Figure size 1000x1000 with 2 Axes>"
      ]
     },
     "metadata": {},
     "output_type": "display_data"
    }
   ],
   "source": [
    "f, ax = plt.subplots(figsize=(10,10))\n",
    "cm = confusion_matrix(y_test, predictions_fix, labels=y_test.unique())\n",
    "disp = ConfusionMatrixDisplay.from_predictions(y_test, predictions_fix, display_labels=y_test.unique(), ax=ax)"
   ]
  },
  {
   "cell_type": "code",
   "execution_count": 74,
   "id": "352a7090",
   "metadata": {},
   "outputs": [
    {
     "data": {
      "text/plain": [
       "238    7087\n",
       "3      6032\n",
       "1      5827\n",
       "20     5591\n",
       "222    5487\n",
       "29     5462\n",
       "0      5371\n",
       "7      5306\n",
       "66     5102\n",
       "5      4966\n",
       "50     4937\n",
       "37     4852\n",
       "2      4814\n",
       "9      4799\n",
       "4      4619\n",
       "11     4595\n",
       "dtype: int64"
      ]
     },
     "execution_count": 74,
     "metadata": {},
     "output_type": "execute_result"
    }
   ],
   "source": [
    "pd.Series(predictions_fix).value_counts()"
   ]
  },
  {
   "cell_type": "markdown",
   "id": "a9406568",
   "metadata": {},
   "source": [
    "# Somoclu"
   ]
  },
  {
   "cell_type": "code",
   "execution_count": 54,
   "id": "1cc498ce",
   "metadata": {},
   "outputs": [],
   "source": [
    "import somoclu\n",
    "from mpl_toolkits.mplot3d import Axes3D\n"
   ]
  },
  {
   "cell_type": "markdown",
   "id": "c49346eb",
   "metadata": {},
   "source": [
    "# Optimize hiperparameters"
   ]
  },
  {
   "cell_type": "code",
   "execution_count": 59,
   "id": "dbeb66cb",
   "metadata": {},
   "outputs": [
    {
     "name": "stderr",
     "output_type": "stream",
     "text": [
      "[I 2023-09-04 21:57:46,088] A new study created in memory with name: no-name-b4342bcb-2757-4d96-bceb-f1ff83791c9d\n",
      "[I 2023-09-04 21:57:51,550] Trial 0 finished with value: 0.16327813806991695 and parameters: {'gridtype': 'rectangular', 'std_coeff': 0.3712132853191884, 'initialization': 'random', 'epochs': 15, 'radius0': 650.3996393990318, 'radiuscooling': 'linear', 'scale0': 0.23481164807395874, 'scaleN': 0.08068386469121067, 'scalecooling': 'exponential'}. Best is trial 0 with value: 0.16327813806991695.\n",
      "[I 2023-09-04 21:58:05,538] Trial 1 finished with value: 0.24462012407703815 and parameters: {'gridtype': 'rectangular', 'std_coeff': 0.613585993818488, 'initialization': 'pca', 'epochs': 34, 'radius0': 3.3564697817624753, 'radiuscooling': 'exponential', 'scale0': 0.07650086554079967, 'scaleN': 0.007379517834505111, 'scalecooling': 'linear'}. Best is trial 1 with value: 0.24462012407703815.\n",
      "[I 2023-09-04 21:58:13,401] Trial 2 finished with value: 0.21020834192164806 and parameters: {'gridtype': 'rectangular', 'std_coeff': 0.9877237479133699, 'initialization': 'pca', 'epochs': 12, 'radius0': 12.950319699233859, 'radiuscooling': 'exponential', 'scale0': 0.012410596012770787, 'scaleN': 0.01788851529448829, 'scalecooling': 'exponential'}. Best is trial 1 with value: 0.24462012407703815.\n",
      "[I 2023-09-04 21:58:28,019] Trial 3 finished with value: 0.2985289007224547 and parameters: {'gridtype': 'hexagonal', 'std_coeff': 0.0743166675991929, 'initialization': None, 'epochs': 20, 'radius0': 4.077451987785159, 'radiuscooling': 'linear', 'scale0': 0.43874412659429674, 'scaleN': 0.0020058758020942815, 'scalecooling': 'exponential'}. Best is trial 3 with value: 0.2985289007224547.\n",
      "[I 2023-09-04 21:58:48,812] Trial 4 finished with value: 0.21677681279751188 and parameters: {'gridtype': 'rectangular', 'std_coeff': 1.1127726822172088, 'initialization': None, 'epochs': 34, 'radius0': 152.45340835509157, 'radiuscooling': 'exponential', 'scale0': 0.014428665999635862, 'scaleN': 0.0040824402453102935, 'scalecooling': 'exponential'}. Best is trial 3 with value: 0.2985289007224547.\n",
      "[I 2023-09-04 21:59:30,323] Trial 5 finished with value: 0.21841383430572892 and parameters: {'gridtype': 'hexagonal', 'std_coeff': 0.06027150664309119, 'initialization': 'random', 'epochs': 76, 'radius0': 665.5857847500217, 'radiuscooling': 'linear', 'scale0': 0.16261295009832782, 'scaleN': 0.010639794864128865, 'scalecooling': 'linear'}. Best is trial 3 with value: 0.2985289007224547.\n",
      "[I 2023-09-04 21:59:52,106] Trial 6 finished with value: 0.24642199235586792 and parameters: {'gridtype': 'rectangular', 'std_coeff': 0.0563277897810866, 'initialization': None, 'epochs': 29, 'radius0': 12.107401140465115, 'radiuscooling': 'exponential', 'scale0': 0.04779865621576964, 'scaleN': 0.009774561011505764, 'scalecooling': 'linear'}. Best is trial 3 with value: 0.2985289007224547.\n",
      "[I 2023-09-04 22:00:22,048] Trial 7 finished with value: 0.18364348404028444 and parameters: {'gridtype': 'hexagonal', 'std_coeff': 0.27046684723398734, 'initialization': 'random', 'epochs': 60, 'radius0': 455.08261045957306, 'radiuscooling': 'linear', 'scale0': 0.05027045112263245, 'scaleN': 0.01337769742725588, 'scalecooling': 'exponential'}. Best is trial 3 with value: 0.2985289007224547.\n",
      "[I 2023-09-04 22:01:12,102] Trial 8 finished with value: 0.3030567226475934 and parameters: {'gridtype': 'rectangular', 'std_coeff': 0.013336421396670763, 'initialization': 'random', 'epochs': 77, 'radius0': 22.46332648014969, 'radiuscooling': 'exponential', 'scale0': 0.016359091020454426, 'scaleN': 0.030846541737888207, 'scalecooling': 'exponential'}. Best is trial 8 with value: 0.3030567226475934.\n",
      "[I 2023-09-04 22:01:23,714] Trial 9 finished with value: 0.22957101172632655 and parameters: {'gridtype': 'hexagonal', 'std_coeff': 0.39620675470036376, 'initialization': None, 'epochs': 16, 'radius0': 25.75311854234646, 'radiuscooling': 'exponential', 'scale0': 0.13598776909377738, 'scaleN': 0.011666531822044503, 'scalecooling': 'exponential'}. Best is trial 8 with value: 0.3030567226475934.\n",
      "[I 2023-09-04 22:02:14,312] Trial 10 finished with value: 0.3147249288162008 and parameters: {'gridtype': 'rectangular', 'std_coeff': 0.011578981464683166, 'initialization': 'random', 'epochs': 81, 'radius0': 1.2870986769036266, 'radiuscooling': 'exponential', 'scale0': 0.9765615789760845, 'scaleN': 0.0392774560324979, 'scalecooling': 'linear'}. Best is trial 10 with value: 0.3147249288162008.\n",
      "[I 2023-09-04 22:03:00,623] Trial 11 finished with value: 0.31800961635518343 and parameters: {'gridtype': 'rectangular', 'std_coeff': 0.010333743878505637, 'initialization': 'random', 'epochs': 99, 'radius0': 1.2892413932005091, 'radiuscooling': 'exponential', 'scale0': 0.8706616928483254, 'scaleN': 0.04088081258965221, 'scalecooling': 'linear'}. Best is trial 11 with value: 0.31800961635518343.\n",
      "[I 2023-09-04 22:03:41,858] Trial 12 finished with value: 0.28205347095635364 and parameters: {'gridtype': 'rectangular', 'std_coeff': 0.012943580087440247, 'initialization': 'random', 'epochs': 95, 'radius0': 1.1255150169374122, 'radiuscooling': 'exponential', 'scale0': 0.9463104473988415, 'scaleN': 0.050096557356405336, 'scalecooling': 'linear'}. Best is trial 11 with value: 0.31800961635518343.\n",
      "[I 2023-09-04 22:04:07,095] Trial 13 finished with value: 0.30791612322447753 and parameters: {'gridtype': 'rectangular', 'std_coeff': 0.01028499773605364, 'initialization': 'random', 'epochs': 53, 'radius0': 1.1944624300676898, 'radiuscooling': 'exponential', 'scale0': 0.9481377789192407, 'scaleN': 0.0998248006306611, 'scalecooling': 'linear'}. Best is trial 11 with value: 0.31800961635518343.\n",
      "[I 2023-09-04 22:05:04,416] Trial 14 finished with value: 0.31433283000907564 and parameters: {'gridtype': 'rectangular', 'std_coeff': 0.026613193045757152, 'initialization': 'random', 'epochs': 100, 'radius0': 2905.9263045940547, 'radiuscooling': 'exponential', 'scale0': 0.4367715837693103, 'scaleN': 0.032384321068184785, 'scalecooling': 'linear'}. Best is trial 11 with value: 0.31800961635518343.\n",
      "[I 2023-09-04 22:05:31,539] Trial 15 finished with value: 0.2266511134285175 and parameters: {'gridtype': 'rectangular', 'std_coeff': 2.4383169678487375, 'initialization': 'random', 'epochs': 53, 'radius0': 3.838810308547067, 'radiuscooling': 'exponential', 'scale0': 0.5119095073405834, 'scaleN': 0.044867441902853133, 'scalecooling': 'linear'}. Best is trial 11 with value: 0.31800961635518343.\n",
      "[I 2023-09-04 22:06:15,313] Trial 16 finished with value: 0.2886636965597564 and parameters: {'gridtype': 'rectangular', 'std_coeff': 0.029188286120809908, 'initialization': 'pca', 'epochs': 98, 'radius0': 1.0445271712085762, 'radiuscooling': 'exponential', 'scale0': 0.8807517629625822, 'scaleN': 0.022949654294001094, 'scalecooling': 'linear'}. Best is trial 11 with value: 0.31800961635518343.\n",
      "[I 2023-09-04 22:06:44,655] Trial 17 finished with value: 0.3051173928751023 and parameters: {'gridtype': 'rectangular', 'std_coeff': 0.12477336400722526, 'initialization': 'random', 'epochs': 68, 'radius0': 60.1258005959296, 'radiuscooling': 'exponential', 'scale0': 0.2681358217693816, 'scaleN': 0.06128816153165956, 'scalecooling': 'linear'}. Best is trial 11 with value: 0.31800961635518343.\n",
      "[I 2023-09-04 22:07:14,165] Trial 18 finished with value: 0.3075661350914421 and parameters: {'gridtype': 'hexagonal', 'std_coeff': 0.02479698048639421, 'initialization': 'random', 'epochs': 47, 'radius0': 3.5529970318582658, 'radiuscooling': 'linear', 'scale0': 0.5845476747417202, 'scaleN': 0.03477123619764449, 'scalecooling': 'linear'}. Best is trial 11 with value: 0.31800961635518343.\n",
      "[I 2023-09-04 22:07:53,443] Trial 19 finished with value: 0.29695429651344696 and parameters: {'gridtype': 'rectangular', 'std_coeff': 0.019220771593809652, 'initialization': 'pca', 'epochs': 71, 'radius0': 5.8206164356912815, 'radiuscooling': 'exponential', 'scale0': 0.28498513653647123, 'scaleN': 0.060878544794235386, 'scalecooling': 'linear'}. Best is trial 11 with value: 0.31800961635518343.\n",
      "[I 2023-09-04 22:08:19,640] Trial 20 finished with value: 0.30528849097392036 and parameters: {'gridtype': 'rectangular', 'std_coeff': 0.03704960149654564, 'initialization': 'random', 'epochs': 43, 'radius0': 2.0691356125345717, 'radiuscooling': 'exponential', 'scale0': 0.660626541030593, 'scaleN': 0.020924533342896533, 'scalecooling': 'linear'}. Best is trial 11 with value: 0.31800961635518343.\n"
     ]
    },
    {
     "name": "stderr",
     "output_type": "stream",
     "text": [
      "[I 2023-09-04 22:09:08,169] Trial 21 finished with value: 0.3165858694041924 and parameters: {'gridtype': 'rectangular', 'std_coeff': 0.02036626540841865, 'initialization': 'random', 'epochs': 98, 'radius0': 3355.8473307466297, 'radiuscooling': 'exponential', 'scale0': 0.40383197279432315, 'scaleN': 0.03265260653317916, 'scalecooling': 'linear'}. Best is trial 11 with value: 0.31800961635518343.\n",
      "[I 2023-09-04 22:09:53,161] Trial 22 finished with value: 0.31685895211113 and parameters: {'gridtype': 'rectangular', 'std_coeff': 0.010067948770598837, 'initialization': 'random', 'epochs': 84, 'radius0': 69.57974714946901, 'radiuscooling': 'exponential', 'scale0': 0.6794304743952356, 'scaleN': 0.03503650818472312, 'scalecooling': 'linear'}. Best is trial 11 with value: 0.31800961635518343.\n",
      "[I 2023-09-04 22:10:35,623] Trial 23 finished with value: 0.31517589918968075 and parameters: {'gridtype': 'rectangular', 'std_coeff': 0.020123551921079987, 'initialization': 'random', 'epochs': 87, 'radius0': 4296.1676824107, 'radiuscooling': 'exponential', 'scale0': 0.3737855970437707, 'scaleN': 0.02646800087432472, 'scalecooling': 'linear'}. Best is trial 11 with value: 0.31800961635518343.\n",
      "[I 2023-09-04 22:11:13,734] Trial 24 finished with value: 0.3286419945527277 and parameters: {'gridtype': 'rectangular', 'std_coeff': 0.010569000628077455, 'initialization': 'random', 'epochs': 66, 'radius0': 87.36045899527089, 'radiuscooling': 'exponential', 'scale0': 0.5858665231604667, 'scaleN': 0.056289142808932664, 'scalecooling': 'linear'}. Best is trial 24 with value: 0.3286419945527277.\n",
      "[I 2023-09-04 22:11:47,336] Trial 25 finished with value: 0.27181169915694525 and parameters: {'gridtype': 'rectangular', 'std_coeff': 0.010101497984829831, 'initialization': 'random', 'epochs': 64, 'radius0': 69.63647709448324, 'radiuscooling': 'exponential', 'scale0': 0.6318411736123906, 'scaleN': 0.06227994289687534, 'scalecooling': 'linear'}. Best is trial 24 with value: 0.3286419945527277.\n",
      "[I 2023-09-04 22:12:22,199] Trial 26 finished with value: 0.3064055659825083 and parameters: {'gridtype': 'hexagonal', 'std_coeff': 0.04423915397685048, 'initialization': 'random', 'epochs': 77, 'radius0': 146.27915290213048, 'radiuscooling': 'linear', 'scale0': 0.629377227228838, 'scaleN': 0.09856223826448916, 'scalecooling': 'linear'}. Best is trial 24 with value: 0.3286419945527277.\n",
      "[I 2023-09-04 22:12:57,176] Trial 27 finished with value: 0.30077823635001044 and parameters: {'gridtype': 'rectangular', 'std_coeff': 0.016917246626938276, 'initialization': 'random', 'epochs': 61, 'radius0': 35.434419975116164, 'radiuscooling': 'exponential', 'scale0': 0.6610508364474111, 'scaleN': 0.04789485493672395, 'scalecooling': 'linear'}. Best is trial 24 with value: 0.3286419945527277.\n",
      "[I 2023-09-04 22:13:41,426] Trial 28 finished with value: 0.2843828146296615 and parameters: {'gridtype': 'rectangular', 'std_coeff': 0.01621716067537958, 'initialization': 'pca', 'epochs': 81, 'radius0': 11.900263380048067, 'radiuscooling': 'exponential', 'scale0': 0.32533245900435087, 'scaleN': 0.017594259811880498, 'scalecooling': 'linear'}. Best is trial 24 with value: 0.3286419945527277.\n",
      "[I 2023-09-04 22:14:19,692] Trial 29 finished with value: 0.2723894285641891 and parameters: {'gridtype': 'rectangular', 'std_coeff': 0.02847837791132142, 'initialization': None, 'epochs': 86, 'radius0': 155.25344614695035, 'radiuscooling': 'linear', 'scale0': 0.21326981491176325, 'scaleN': 0.07789164770422696, 'scalecooling': 'linear'}. Best is trial 24 with value: 0.3286419945527277.\n",
      "[I 2023-09-04 22:15:15,489] Trial 30 finished with value: 0.2843237332746158 and parameters: {'gridtype': 'rectangular', 'std_coeff': 0.0386457189222435, 'initialization': 'random', 'epochs': 67, 'radius0': 7.645999073255291, 'radiuscooling': 'exponential', 'scale0': 0.22778258906385115, 'scaleN': 0.07028646933572169, 'scalecooling': 'linear'}. Best is trial 24 with value: 0.3286419945527277.\n",
      "[I 2023-09-04 22:16:20,582] Trial 31 finished with value: 0.3183887228830151 and parameters: {'gridtype': 'rectangular', 'std_coeff': 0.010288365842025327, 'initialization': 'random', 'epochs': 100, 'radius0': 984.8161173666833, 'radiuscooling': 'exponential', 'scale0': 0.38425503667556904, 'scaleN': 0.03793284403976678, 'scalecooling': 'linear'}. Best is trial 24 with value: 0.3286419945527277.\n",
      "[I 2023-09-04 22:17:23,458] Trial 32 finished with value: 0.3172647365384552 and parameters: {'gridtype': 'rectangular', 'std_coeff': 0.015208640955261362, 'initialization': 'random', 'epochs': 88, 'radius0': 330.4637022590974, 'radiuscooling': 'exponential', 'scale0': 0.3475619600780333, 'scaleN': 0.0428447335306985, 'scalecooling': 'linear'}. Best is trial 24 with value: 0.3286419945527277.\n",
      "[I 2023-09-04 22:18:15,818] Trial 33 finished with value: 0.31754791709536795 and parameters: {'gridtype': 'rectangular', 'std_coeff': 0.01634715217255665, 'initialization': 'random', 'epochs': 89, 'radius0': 425.77456254111866, 'radiuscooling': 'exponential', 'scale0': 0.38372855833989855, 'scaleN': 0.04960323575225875, 'scalecooling': 'linear'}. Best is trial 24 with value: 0.3286419945527277.\n",
      "[I 2023-09-04 22:19:05,545] Trial 34 finished with value: 0.3171860966375867 and parameters: {'gridtype': 'rectangular', 'std_coeff': 0.01400188110164244, 'initialization': 'pca', 'epochs': 98, 'radius0': 1198.473157874139, 'radiuscooling': 'exponential', 'scale0': 0.4754337158772277, 'scaleN': 0.05038798486181328, 'scalecooling': 'linear'}. Best is trial 24 with value: 0.3286419945527277.\n",
      "[I 2023-09-04 22:19:43,150] Trial 35 finished with value: 0.314982873252872 and parameters: {'gridtype': 'rectangular', 'std_coeff': 0.02155248384816374, 'initialization': 'random', 'epochs': 73, 'radius0': 1116.0683734337936, 'radiuscooling': 'exponential', 'scale0': 0.4935889301653049, 'scaleN': 0.025396252954285048, 'scalecooling': 'exponential'}. Best is trial 24 with value: 0.3286419945527277.\n",
      "[I 2023-09-04 22:20:33,724] Trial 36 finished with value: 0.3186807821962617 and parameters: {'gridtype': 'rectangular', 'std_coeff': 0.015597834016723239, 'initialization': 'random', 'epochs': 87, 'radius0': 252.03319754355275, 'radiuscooling': 'exponential', 'scale0': 0.33085384564509596, 'scaleN': 0.0796022271412664, 'scalecooling': 'linear'}. Best is trial 24 with value: 0.3286419945527277.\n",
      "[I 2023-09-04 22:21:11,059] Trial 37 finished with value: 0.24920634598648156 and parameters: {'gridtype': 'hexagonal', 'std_coeff': 0.09380757597648753, 'initialization': None, 'epochs': 72, 'radius0': 217.5644177406713, 'radiuscooling': 'linear', 'scale0': 0.795155817064494, 'scaleN': 0.08002627766584346, 'scalecooling': 'exponential'}. Best is trial 24 with value: 0.3286419945527277.\n",
      "[I 2023-09-04 22:21:49,101] Trial 38 finished with value: 0.3111201837127077 and parameters: {'gridtype': 'rectangular', 'std_coeff': 0.03358712642819039, 'initialization': 'random', 'epochs': 62, 'radius0': 108.0619707124931, 'radiuscooling': 'exponential', 'scale0': 0.2934488041822709, 'scaleN': 0.08074019002569305, 'scalecooling': 'linear'}. Best is trial 24 with value: 0.3286419945527277.\n",
      "[I 2023-09-04 22:22:38,500] Trial 39 finished with value: 0.2771147542934741 and parameters: {'gridtype': 'rectangular', 'std_coeff': 0.049655438816569364, 'initialization': 'pca', 'epochs': 76, 'radius0': 46.131583029878904, 'radiuscooling': 'exponential', 'scale0': 0.1750795269083203, 'scaleN': 0.01614585717007675, 'scalecooling': 'linear'}. Best is trial 24 with value: 0.3286419945527277.\n",
      "[I 2023-09-04 22:23:06,939] Trial 40 finished with value: 0.24425325411127266 and parameters: {'gridtype': 'hexagonal', 'std_coeff': 0.012852762832547809, 'initialization': None, 'epochs': 56, 'radius0': 107.21049176511222, 'radiuscooling': 'linear', 'scale0': 0.5258360192371041, 'scaleN': 0.007344019780999015, 'scalecooling': 'exponential'}. Best is trial 24 with value: 0.3286419945527277.\n",
      "[I 2023-09-04 22:23:53,141] Trial 41 finished with value: 0.3174476953915773 and parameters: {'gridtype': 'rectangular', 'std_coeff': 0.016643987335389222, 'initialization': 'random', 'epochs': 89, 'radius0': 261.9945100326043, 'radiuscooling': 'exponential', 'scale0': 0.3808500674649398, 'scaleN': 0.054453562933203824, 'scalecooling': 'linear'}. Best is trial 24 with value: 0.3286419945527277.\n"
     ]
    },
    {
     "name": "stderr",
     "output_type": "stream",
     "text": [
      "[I 2023-09-04 22:24:40,751] Trial 42 finished with value: 0.31609027303020343 and parameters: {'gridtype': 'rectangular', 'std_coeff': 0.02283363352978141, 'initialization': 'random', 'epochs': 87, 'radius0': 454.4682779144191, 'radiuscooling': 'exponential', 'scale0': 0.7470821475607472, 'scaleN': 0.04079211132476331, 'scalecooling': 'linear'}. Best is trial 24 with value: 0.3286419945527277.\n",
      "[I 2023-09-04 22:25:29,670] Trial 43 finished with value: 0.3179381209054226 and parameters: {'gridtype': 'rectangular', 'std_coeff': 0.013426956861744712, 'initialization': 'random', 'epochs': 91, 'radius0': 423.3637656341547, 'radiuscooling': 'exponential', 'scale0': 0.44895292123971453, 'scaleN': 0.06340852719872932, 'scalecooling': 'linear'}. Best is trial 24 with value: 0.3286419945527277.\n",
      "[I 2023-09-04 22:26:20,547] Trial 44 finished with value: 0.3186561210408282 and parameters: {'gridtype': 'rectangular', 'std_coeff': 0.010132030869321832, 'initialization': 'random', 'epochs': 100, 'radius0': 684.8853812576483, 'radiuscooling': 'exponential', 'scale0': 0.7895422885714634, 'scaleN': 0.06680801107098062, 'scalecooling': 'linear'}. Best is trial 24 with value: 0.3286419945527277.\n",
      "[I 2023-09-04 22:27:02,531] Trial 45 finished with value: 0.31732972799843223 and parameters: {'gridtype': 'rectangular', 'std_coeff': 0.010354444397342918, 'initialization': 'random', 'epochs': 77, 'radius0': 721.2149455829319, 'radiuscooling': 'exponential', 'scale0': 0.7634788625142838, 'scaleN': 0.08739131454544392, 'scalecooling': 'linear'}. Best is trial 24 with value: 0.3286419945527277.\n",
      "[I 2023-09-04 22:27:53,018] Trial 46 finished with value: 0.3075738031999077 and parameters: {'gridtype': 'rectangular', 'std_coeff': 0.01288186063581285, 'initialization': 'random', 'epochs': 100, 'radius0': 2.260303949372695, 'radiuscooling': 'exponential', 'scale0': 0.8803705300006257, 'scaleN': 0.0720137714453104, 'scalecooling': 'exponential'}. Best is trial 24 with value: 0.3286419945527277.\n",
      "[I 2023-09-04 22:28:43,642] Trial 47 finished with value: 0.2841041509699736 and parameters: {'gridtype': 'rectangular', 'std_coeff': 0.010013742198324752, 'initialization': 'random', 'epochs': 81, 'radius0': 27.158271764494746, 'radiuscooling': 'exponential', 'scale0': 0.5235960129580892, 'scaleN': 0.027824205781411565, 'scalecooling': 'linear'}. Best is trial 24 with value: 0.3286419945527277.\n",
      "[I 2023-09-04 22:29:26,085] Trial 48 finished with value: 0.3175763711518137 and parameters: {'gridtype': 'hexagonal', 'std_coeff': 0.02502646833522727, 'initialization': 'random', 'epochs': 67, 'radius0': 229.67295965682104, 'radiuscooling': 'exponential', 'scale0': 0.9960657460288316, 'scaleN': 0.0996930223749784, 'scalecooling': 'linear'}. Best is trial 24 with value: 0.3286419945527277.\n",
      "[I 2023-09-04 22:30:28,727] Trial 49 finished with value: 0.3108888467164649 and parameters: {'gridtype': 'rectangular', 'std_coeff': 0.06268854987484529, 'initialization': None, 'epochs': 99, 'radius0': 764.0694439848152, 'radiuscooling': 'exponential', 'scale0': 0.5774483463562129, 'scaleN': 0.03842417409794624, 'scalecooling': 'linear'}. Best is trial 24 with value: 0.3286419945527277.\n",
      "[I 2023-09-04 22:31:24,795] Trial 50 finished with value: 0.3052487544258199 and parameters: {'gridtype': 'rectangular', 'std_coeff': 0.01825421861739027, 'initialization': 'random', 'epochs': 71, 'radius0': 18.84126767589384, 'radiuscooling': 'linear', 'scale0': 0.8177097231207137, 'scaleN': 0.0545407764650128, 'scalecooling': 'linear'}. Best is trial 24 with value: 0.3286419945527277.\n",
      "[I 2023-09-04 22:32:12,514] Trial 51 finished with value: 0.31790438895471895 and parameters: {'gridtype': 'rectangular', 'std_coeff': 0.013150842619607764, 'initialization': 'random', 'epochs': 91, 'radius0': 553.9767516061827, 'radiuscooling': 'exponential', 'scale0': 0.4560271118589125, 'scaleN': 0.06569358091426337, 'scalecooling': 'linear'}. Best is trial 24 with value: 0.3286419945527277.\n",
      "[I 2023-09-04 22:32:59,329] Trial 52 finished with value: 0.3176233784651298 and parameters: {'gridtype': 'rectangular', 'std_coeff': 0.012982106794669542, 'initialization': 'random', 'epochs': 80, 'radius0': 294.6682285367938, 'radiuscooling': 'exponential', 'scale0': 0.4410197882053595, 'scaleN': 0.06686684234859427, 'scalecooling': 'linear'}. Best is trial 24 with value: 0.3286419945527277.\n",
      "[I 2023-09-04 22:33:46,629] Trial 53 finished with value: 0.3172131820956322 and parameters: {'gridtype': 'rectangular', 'std_coeff': 0.013006362469073995, 'initialization': 'random', 'epochs': 91, 'radius0': 1520.1662823961083, 'radiuscooling': 'exponential', 'scale0': 0.32925479570153127, 'scaleN': 0.042220661106350345, 'scalecooling': 'linear'}. Best is trial 24 with value: 0.3286419945527277.\n",
      "[I 2023-09-04 22:34:29,608] Trial 54 finished with value: 0.3139078215435235 and parameters: {'gridtype': 'rectangular', 'std_coeff': 0.030744140160335696, 'initialization': 'random', 'epochs': 81, 'radius0': 363.8915221237182, 'radiuscooling': 'exponential', 'scale0': 0.5886147126401315, 'scaleN': 0.05441416994054064, 'scalecooling': 'linear'}. Best is trial 24 with value: 0.3286419945527277.\n",
      "[I 2023-09-04 22:35:14,383] Trial 55 finished with value: 0.3163977131115021 and parameters: {'gridtype': 'rectangular', 'std_coeff': 0.020965257294968922, 'initialization': 'random', 'epochs': 93, 'radius0': 604.2211888615342, 'radiuscooling': 'exponential', 'scale0': 0.7513094680733389, 'scaleN': 0.03479588125856849, 'scalecooling': 'linear'}. Best is trial 24 with value: 0.3286419945527277.\n",
      "[I 2023-09-04 22:36:09,074] Trial 56 finished with value: 0.317765744313784 and parameters: {'gridtype': 'rectangular', 'std_coeff': 0.011813341791420757, 'initialization': 'random', 'epochs': 100, 'radius0': 194.197700888893, 'radiuscooling': 'exponential', 'scale0': 0.5083220087357468, 'scaleN': 0.060263477769272565, 'scalecooling': 'linear'}. Best is trial 24 with value: 0.3286419945527277.\n",
      "[I 2023-09-04 22:36:53,918] Trial 57 finished with value: 0.317030149165202 and parameters: {'gridtype': 'rectangular', 'std_coeff': 0.015537142660570371, 'initialization': 'random', 'epochs': 72, 'radius0': 330.72826630942916, 'radiuscooling': 'exponential', 'scale0': 0.2575286663949346, 'scaleN': 0.08405554745971103, 'scalecooling': 'exponential'}. Best is trial 24 with value: 0.3286419945527277.\n",
      "[I 2023-09-04 22:37:52,811] Trial 58 finished with value: 0.3266576477063724 and parameters: {'gridtype': 'hexagonal', 'std_coeff': 0.026383479775285885, 'initialization': 'pca', 'epochs': 92, 'radius0': 97.44999708130076, 'radiuscooling': 'exponential', 'scale0': 0.400863199409974, 'scaleN': 0.030674959199194426, 'scalecooling': 'linear'}. Best is trial 24 with value: 0.3286419945527277.\n",
      "[I 2023-09-04 22:38:41,442] Trial 59 finished with value: 0.28132526947144915 and parameters: {'gridtype': 'hexagonal', 'std_coeff': 0.02535367869435597, 'initialization': 'pca', 'epochs': 83, 'radius0': 48.27175048485909, 'radiuscooling': 'exponential', 'scale0': 0.9864300592418445, 'scaleN': 0.031799054140154534, 'scalecooling': 'linear'}. Best is trial 24 with value: 0.3286419945527277.\n",
      "[I 2023-09-04 22:39:23,285] Trial 60 finished with value: 0.31823229608695347 and parameters: {'gridtype': 'hexagonal', 'std_coeff': 0.018750281471845483, 'initialization': 'pca', 'epochs': 77, 'radius0': 115.69426147323503, 'radiuscooling': 'exponential', 'scale0': 0.6949130928425047, 'scaleN': 0.046026601214782886, 'scalecooling': 'linear'}. Best is trial 24 with value: 0.3286419945527277.\n",
      "[I 2023-09-04 22:40:00,809] Trial 61 finished with value: 0.28036204887720906 and parameters: {'gridtype': 'hexagonal', 'std_coeff': 0.018430030147842523, 'initialization': 'pca', 'epochs': 65, 'radius0': 100.0545310113581, 'radiuscooling': 'exponential', 'scale0': 0.696938609369728, 'scaleN': 0.045407898375931385, 'scalecooling': 'linear'}. Best is trial 24 with value: 0.3286419945527277.\n",
      "[I 2023-09-04 22:40:44,278] Trial 62 finished with value: 0.3076617803787901 and parameters: {'gridtype': 'hexagonal', 'std_coeff': 0.01062369344827488, 'initialization': 'pca', 'epochs': 75, 'radius0': 163.10901954621482, 'radiuscooling': 'exponential', 'scale0': 0.5688046345504125, 'scaleN': 0.0387757049288038, 'scalecooling': 'linear'}. Best is trial 24 with value: 0.3286419945527277.\n"
     ]
    },
    {
     "name": "stderr",
     "output_type": "stream",
     "text": [
      "[I 2023-09-04 22:41:40,380] Trial 63 finished with value: 0.2546422052984946 and parameters: {'gridtype': 'hexagonal', 'std_coeff': 0.015326888343283081, 'initialization': 'pca', 'epochs': 93, 'radius0': 86.05195481501673, 'radiuscooling': 'exponential', 'scale0': 0.8231573167411497, 'scaleN': 0.028021310860447703, 'scalecooling': 'linear'}. Best is trial 24 with value: 0.3286419945527277.\n",
      "[I 2023-09-04 22:42:37,715] Trial 64 finished with value: 0.29871250808939603 and parameters: {'gridtype': 'hexagonal', 'std_coeff': 0.019649810862708117, 'initialization': 'pca', 'epochs': 82, 'radius0': 56.08712782023042, 'radiuscooling': 'exponential', 'scale0': 0.6598682004969564, 'scaleN': 0.02210945069985076, 'scalecooling': 'linear'}. Best is trial 24 with value: 0.3286419945527277.\n",
      "[I 2023-09-04 22:43:14,596] Trial 65 finished with value: 0.31886206451887333 and parameters: {'gridtype': 'hexagonal', 'std_coeff': 0.011495379221314855, 'initialization': 'pca', 'epochs': 58, 'radius0': 82.04739956050409, 'radiuscooling': 'exponential', 'scale0': 0.40140915006364397, 'scaleN': 0.04655289234821335, 'scalecooling': 'linear'}. Best is trial 24 with value: 0.3286419945527277.\n",
      "[I 2023-09-04 22:43:56,112] Trial 66 finished with value: 0.3190370620131142 and parameters: {'gridtype': 'hexagonal', 'std_coeff': 0.023553843119962444, 'initialization': 'pca', 'epochs': 68, 'radius0': 133.92014993249964, 'radiuscooling': 'exponential', 'scale0': 0.40309744196889674, 'scaleN': 0.05479155983487744, 'scalecooling': 'linear'}. Best is trial 24 with value: 0.3286419945527277.\n",
      "[I 2023-09-04 22:44:30,113] Trial 67 finished with value: 0.31589785172847107 and parameters: {'gridtype': 'hexagonal', 'std_coeff': 0.028478288327935482, 'initialization': 'pca', 'epochs': 60, 'radius0': 178.2809469430398, 'radiuscooling': 'exponential', 'scale0': 0.3166437108599734, 'scaleN': 0.05526785877633414, 'scalecooling': 'linear'}. Best is trial 24 with value: 0.3286419945527277.\n",
      "[I 2023-09-04 22:44:59,610] Trial 68 finished with value: 0.2859649988373173 and parameters: {'gridtype': 'hexagonal', 'std_coeff': 0.011676517993197041, 'initialization': 'pca', 'epochs': 54, 'radius0': 134.77147451728496, 'radiuscooling': 'linear', 'scale0': 0.4116363007119344, 'scaleN': 0.07359982024476772, 'scalecooling': 'linear'}. Best is trial 24 with value: 0.3286419945527277.\n",
      "[I 2023-09-04 22:45:29,158] Trial 69 finished with value: 0.28960769374948914 and parameters: {'gridtype': 'hexagonal', 'std_coeff': 0.024296577115039464, 'initialization': 'pca', 'epochs': 50, 'radius0': 78.1928736537233, 'radiuscooling': 'exponential', 'scale0': 0.3764799081691565, 'scaleN': 0.08925141929791792, 'scalecooling': 'linear'}. Best is trial 24 with value: 0.3286419945527277.\n",
      "[I 2023-09-04 22:46:07,121] Trial 70 finished with value: 0.31436182928794565 and parameters: {'gridtype': 'hexagonal', 'std_coeff': 0.03594704648605569, 'initialization': 'pca', 'epochs': 68, 'radius0': 88.95116073107349, 'radiuscooling': 'exponential', 'scale0': 0.24440957800133753, 'scaleN': 0.036253468186709555, 'scalecooling': 'linear'}. Best is trial 24 with value: 0.3286419945527277.\n",
      "[I 2023-09-04 22:46:43,657] Trial 71 finished with value: 0.2748444081916454 and parameters: {'gridtype': 'hexagonal', 'std_coeff': 0.017772451302584605, 'initialization': 'pca', 'epochs': 60, 'radius0': 126.90758384795795, 'radiuscooling': 'exponential', 'scale0': 0.3088414711531222, 'scaleN': 0.04551325897193972, 'scalecooling': 'linear'}. Best is trial 24 with value: 0.3286419945527277.\n",
      "[I 2023-09-04 22:47:30,765] Trial 72 finished with value: 0.30566871644720495 and parameters: {'gridtype': 'hexagonal', 'std_coeff': 0.014863797738177585, 'initialization': 'pca', 'epochs': 76, 'radius0': 124.69298596487091, 'radiuscooling': 'exponential', 'scale0': 0.41511718845387, 'scaleN': 0.047772919023279424, 'scalecooling': 'linear'}. Best is trial 24 with value: 0.3286419945527277.\n",
      "[I 2023-09-04 22:48:16,317] Trial 73 finished with value: 0.29368645315499864 and parameters: {'gridtype': 'hexagonal', 'std_coeff': 0.011634334720154998, 'initialization': 'pca', 'epochs': 64, 'radius0': 238.32926162352467, 'radiuscooling': 'exponential', 'scale0': 0.34938531384022276, 'scaleN': 0.07189649857717258, 'scalecooling': 'linear'}. Best is trial 24 with value: 0.3286419945527277.\n",
      "[I 2023-09-04 22:49:03,326] Trial 74 finished with value: 0.2718076204476263 and parameters: {'gridtype': 'hexagonal', 'std_coeff': 0.02192420077370586, 'initialization': 'pca', 'epochs': 85, 'radius0': 69.92073090753533, 'radiuscooling': 'exponential', 'scale0': 0.5337755147344062, 'scaleN': 0.05653902158731651, 'scalecooling': 'linear'}. Best is trial 24 with value: 0.3286419945527277.\n",
      "[I 2023-09-04 22:49:42,262] Trial 75 finished with value: 0.3184053737649012 and parameters: {'gridtype': 'hexagonal', 'std_coeff': 0.015709565069949378, 'initialization': 'pca', 'epochs': 69, 'radius0': 178.1738562221977, 'radiuscooling': 'exponential', 'scale0': 0.2915094905842669, 'scaleN': 0.03170990629801279, 'scalecooling': 'exponential'}. Best is trial 24 with value: 0.3286419945527277.\n",
      "[I 2023-09-04 22:50:20,781] Trial 76 finished with value: 0.3176466679505846 and parameters: {'gridtype': 'hexagonal', 'std_coeff': 0.01565308718206326, 'initialization': 'pca', 'epochs': 69, 'radius0': 167.25125311422963, 'radiuscooling': 'exponential', 'scale0': 0.2793894088280953, 'scaleN': 0.03191251161862471, 'scalecooling': 'exponential'}. Best is trial 24 with value: 0.3286419945527277.\n",
      "[I 2023-09-04 22:51:12,810] Trial 77 finished with value: 0.32606311920617237 and parameters: {'gridtype': 'hexagonal', 'std_coeff': 0.014360067663639925, 'initialization': 'pca', 'epochs': 94, 'radius0': 275.6877507160446, 'radiuscooling': 'exponential', 'scale0': 0.2091793071005139, 'scaleN': 0.03874062258833327, 'scalecooling': 'exponential'}. Best is trial 24 with value: 0.3286419945527277.\n",
      "[I 2023-09-04 22:51:45,143] Trial 78 finished with value: 0.32206349342021257 and parameters: {'gridtype': 'hexagonal', 'std_coeff': 0.0305421351689337, 'initialization': 'pca', 'epochs': 57, 'radius0': 205.62957290333517, 'radiuscooling': 'exponential', 'scale0': 0.2232112222485181, 'scaleN': 0.06191577754613719, 'scalecooling': 'exponential'}. Best is trial 24 with value: 0.3286419945527277.\n",
      "[I 2023-09-04 22:52:12,872] Trial 79 finished with value: 0.28459575428216943 and parameters: {'gridtype': 'hexagonal', 'std_coeff': 0.029992196664553373, 'initialization': 'pca', 'epochs': 59, 'radius0': 280.55879809180294, 'radiuscooling': 'linear', 'scale0': 0.21435834652715768, 'scaleN': 0.06435065944873934, 'scalecooling': 'exponential'}. Best is trial 24 with value: 0.3286419945527277.\n",
      "[I 2023-09-04 22:52:36,604] Trial 80 finished with value: 0.3285823559306349 and parameters: {'gridtype': 'hexagonal', 'std_coeff': 0.022669249707586756, 'initialization': 'pca', 'epochs': 42, 'radius0': 214.56266072386816, 'radiuscooling': 'exponential', 'scale0': 0.1563926167628322, 'scaleN': 0.0758499327522459, 'scalecooling': 'exponential'}. Best is trial 24 with value: 0.3286419945527277.\n",
      "[I 2023-09-04 22:53:01,556] Trial 81 finished with value: 0.32452543985226545 and parameters: {'gridtype': 'hexagonal', 'std_coeff': 0.03943266067693899, 'initialization': 'pca', 'epochs': 41, 'radius0': 211.33692705545633, 'radiuscooling': 'exponential', 'scale0': 0.16655222761564165, 'scaleN': 0.0761518293696313, 'scalecooling': 'exponential'}. Best is trial 24 with value: 0.3286419945527277.\n",
      "[I 2023-09-04 22:53:26,856] Trial 82 finished with value: 0.32438159361058927 and parameters: {'gridtype': 'hexagonal', 'std_coeff': 0.037479861363407266, 'initialization': 'pca', 'epochs': 43, 'radius0': 214.62610342070738, 'radiuscooling': 'exponential', 'scale0': 0.18735327429386886, 'scaleN': 0.08086374766328347, 'scalecooling': 'exponential'}. Best is trial 24 with value: 0.3286419945527277.\n",
      "[I 2023-09-04 22:53:53,482] Trial 83 finished with value: 0.3253029502706186 and parameters: {'gridtype': 'hexagonal', 'std_coeff': 0.03296308698228832, 'initialization': 'pca', 'epochs': 43, 'radius0': 149.59537706587452, 'radiuscooling': 'exponential', 'scale0': 0.14252906716309696, 'scaleN': 0.09261548138310016, 'scalecooling': 'exponential'}. Best is trial 24 with value: 0.3286419945527277.\n"
     ]
    },
    {
     "name": "stderr",
     "output_type": "stream",
     "text": [
      "[I 2023-09-04 22:54:24,296] Trial 84 finished with value: 0.31984634803577294 and parameters: {'gridtype': 'hexagonal', 'std_coeff': 0.043233598388608935, 'initialization': 'pca', 'epochs': 43, 'radius0': 139.33245581555357, 'radiuscooling': 'exponential', 'scale0': 0.14102931880964378, 'scaleN': 0.09154866288961275, 'scalecooling': 'exponential'}. Best is trial 24 with value: 0.3286419945527277.\n",
      "[I 2023-09-04 22:54:52,247] Trial 85 finished with value: 0.3244334488901738 and parameters: {'gridtype': 'hexagonal', 'std_coeff': 0.041007093100305904, 'initialization': 'pca', 'epochs': 42, 'radius0': 210.8102381770995, 'radiuscooling': 'exponential', 'scale0': 0.13603332119480763, 'scaleN': 0.09193589220491576, 'scalecooling': 'exponential'}. Best is trial 24 with value: 0.3286419945527277.\n",
      "[I 2023-09-04 22:55:19,734] Trial 86 finished with value: 0.3243118147900279 and parameters: {'gridtype': 'hexagonal', 'std_coeff': 0.03933965793114788, 'initialization': 'pca', 'epochs': 40, 'radius0': 197.85957810564295, 'radiuscooling': 'exponential', 'scale0': 0.18813957345190743, 'scaleN': 0.079154203301801, 'scalecooling': 'exponential'}. Best is trial 24 with value: 0.3286419945527277.\n",
      "[I 2023-09-04 22:55:43,303] Trial 87 finished with value: 0.32367627662458376 and parameters: {'gridtype': 'hexagonal', 'std_coeff': 0.040990360740513127, 'initialization': 'pca', 'epochs': 39, 'radius0': 201.93110620313956, 'radiuscooling': 'exponential', 'scale0': 0.18745999960917895, 'scaleN': 0.07722198097323496, 'scalecooling': 'exponential'}. Best is trial 24 with value: 0.3286419945527277.\n",
      "[I 2023-09-04 22:56:03,731] Trial 88 finished with value: 0.32213580475178166 and parameters: {'gridtype': 'hexagonal', 'std_coeff': 0.0491772682601149, 'initialization': 'pca', 'epochs': 36, 'radius0': 282.1001581759637, 'radiuscooling': 'exponential', 'scale0': 0.12767353798228767, 'scaleN': 0.09421591424961398, 'scalecooling': 'exponential'}. Best is trial 24 with value: 0.3286419945527277.\n",
      "[I 2023-09-04 22:56:30,545] Trial 89 finished with value: 0.32417810348644904 and parameters: {'gridtype': 'hexagonal', 'std_coeff': 0.033163586735541456, 'initialization': 'pca', 'epochs': 47, 'radius0': 378.57737437082756, 'radiuscooling': 'exponential', 'scale0': 0.15868917579021022, 'scaleN': 0.08353414888376055, 'scalecooling': 'exponential'}. Best is trial 24 with value: 0.3286419945527277.\n",
      "[I 2023-09-04 22:56:50,872] Trial 90 finished with value: 0.3340761820334319 and parameters: {'gridtype': 'hexagonal', 'std_coeff': 0.03991564886762316, 'initialization': 'pca', 'epochs': 32, 'radius0': 100.57821251302204, 'radiuscooling': 'exponential', 'scale0': 0.10845418829479475, 'scaleN': 0.09853311413786339, 'scalecooling': 'exponential'}. Best is trial 90 with value: 0.3340761820334319.\n",
      "[I 2023-09-04 22:57:07,415] Trial 91 finished with value: 0.308489893399251 and parameters: {'gridtype': 'hexagonal', 'std_coeff': 0.03684744762006934, 'initialization': 'pca', 'epochs': 30, 'radius0': 107.86037357772088, 'radiuscooling': 'exponential', 'scale0': 0.11499096292926266, 'scaleN': 0.09916694622685489, 'scalecooling': 'exponential'}. Best is trial 90 with value: 0.3340761820334319.\n",
      "[I 2023-09-04 22:57:33,204] Trial 92 finished with value: 0.324802441664851 and parameters: {'gridtype': 'hexagonal', 'std_coeff': 0.056827866113305155, 'initialization': 'pca', 'epochs': 39, 'radius0': 229.92781788119842, 'radiuscooling': 'exponential', 'scale0': 0.18087731196848592, 'scaleN': 0.07338276314546668, 'scalecooling': 'exponential'}. Best is trial 90 with value: 0.3340761820334319.\n",
      "[I 2023-09-04 22:57:51,676] Trial 93 finished with value: 0.2991134314252609 and parameters: {'gridtype': 'hexagonal', 'std_coeff': 0.057096328750724, 'initialization': 'pca', 'epochs': 33, 'radius0': 262.50638425633457, 'radiuscooling': 'exponential', 'scale0': 0.10113920878020213, 'scaleN': 0.0884650832445442, 'scalecooling': 'exponential'}. Best is trial 90 with value: 0.3340761820334319.\n",
      "[I 2023-09-04 22:58:09,036] Trial 94 finished with value: 0.30655019077386125 and parameters: {'gridtype': 'hexagonal', 'std_coeff': 0.04835861020319713, 'initialization': 'pca', 'epochs': 28, 'radius0': 157.10097456425677, 'radiuscooling': 'exponential', 'scale0': 0.1552910688531961, 'scaleN': 0.07162226224367185, 'scalecooling': 'exponential'}. Best is trial 90 with value: 0.3340761820334319.\n",
      "[I 2023-09-04 22:58:35,694] Trial 95 finished with value: 0.31470283033974134 and parameters: {'gridtype': 'hexagonal', 'std_coeff': 0.06799700942931008, 'initialization': None, 'epochs': 45, 'radius0': 94.95826631029946, 'radiuscooling': 'exponential', 'scale0': 0.14307237820628596, 'scaleN': 0.0871861223761137, 'scalecooling': 'exponential'}. Best is trial 90 with value: 0.3340761820334319.\n",
      "[I 2023-09-04 22:59:05,007] Trial 96 finished with value: 0.32726036421843313 and parameters: {'gridtype': 'hexagonal', 'std_coeff': 0.0334548978004201, 'initialization': 'pca', 'epochs': 49, 'radius0': 327.7767597276203, 'radiuscooling': 'exponential', 'scale0': 0.17220692048677644, 'scaleN': 0.07263347310649028, 'scalecooling': 'exponential'}. Best is trial 90 with value: 0.3340761820334319.\n",
      "[I 2023-09-04 22:59:28,890] Trial 97 finished with value: 0.27523506780269474 and parameters: {'gridtype': 'hexagonal', 'std_coeff': 0.033204791786062296, 'initialization': 'pca', 'epochs': 48, 'radius0': 321.44313977180315, 'radiuscooling': 'linear', 'scale0': 0.12112924576547893, 'scaleN': 0.0698243588667628, 'scalecooling': 'exponential'}. Best is trial 90 with value: 0.3340761820334319.\n",
      "[I 2023-09-04 22:59:56,492] Trial 98 finished with value: 0.3305552459764868 and parameters: {'gridtype': 'hexagonal', 'std_coeff': 0.025758797160024903, 'initialization': 'pca', 'epochs': 50, 'radius0': 491.03220896253833, 'radiuscooling': 'exponential', 'scale0': 0.11073505165015575, 'scaleN': 0.07539661105538528, 'scalecooling': 'exponential'}. Best is trial 90 with value: 0.3340761820334319.\n",
      "[I 2023-09-04 23:00:25,561] Trial 99 finished with value: 0.3308204593439281 and parameters: {'gridtype': 'hexagonal', 'std_coeff': 0.027148514541754227, 'initialization': 'pca', 'epochs': 50, 'radius0': 503.2684194898011, 'radiuscooling': 'exponential', 'scale0': 0.17252820966700338, 'scaleN': 0.07336272404498326, 'scalecooling': 'exponential'}. Best is trial 90 with value: 0.3340761820334319.\n",
      "[I 2023-09-04 23:00:52,986] Trial 100 finished with value: 0.3250948887559416 and parameters: {'gridtype': 'hexagonal', 'std_coeff': 0.026861019918549955, 'initialization': 'pca', 'epochs': 46, 'radius0': 532.2126180872564, 'radiuscooling': 'exponential', 'scale0': 0.08605340607637325, 'scaleN': 0.061542510274813216, 'scalecooling': 'exponential'}. Best is trial 90 with value: 0.3340761820334319.\n",
      "[I 2023-09-04 23:01:23,695] Trial 101 finished with value: 0.28818060589252525 and parameters: {'gridtype': 'hexagonal', 'std_coeff': 0.025056680094431242, 'initialization': 'pca', 'epochs': 50, 'radius0': 541.0844530940161, 'radiuscooling': 'exponential', 'scale0': 0.08204517514909426, 'scaleN': 0.06660481818640036, 'scalecooling': 'exponential'}. Best is trial 90 with value: 0.3340761820334319.\n",
      "[I 2023-09-04 23:01:55,505] Trial 102 finished with value: 0.3326554646360108 and parameters: {'gridtype': 'hexagonal', 'std_coeff': 0.022544070743806474, 'initialization': 'pca', 'epochs': 51, 'radius0': 495.72487550568155, 'radiuscooling': 'exponential', 'scale0': 0.11053807595800262, 'scaleN': 0.05811671965796717, 'scalecooling': 'exponential'}. Best is trial 90 with value: 0.3340761820334319.\n",
      "[I 2023-09-04 23:02:25,457] Trial 103 finished with value: 0.33298370596501864 and parameters: {'gridtype': 'hexagonal', 'std_coeff': 0.0215272904848963, 'initialization': 'pca', 'epochs': 50, 'radius0': 489.31623182737985, 'radiuscooling': 'exponential', 'scale0': 0.0998446612496218, 'scaleN': 0.05923367292101482, 'scalecooling': 'exponential'}. Best is trial 90 with value: 0.3340761820334319.\n",
      "[I 2023-09-04 23:02:55,378] Trial 104 finished with value: 0.3297396944967167 and parameters: {'gridtype': 'hexagonal', 'std_coeff': 0.020876670124033575, 'initialization': 'pca', 'epochs': 54, 'radius0': 423.34995226210185, 'radiuscooling': 'exponential', 'scale0': 0.11319120080067079, 'scaleN': 0.05166753350776501, 'scalecooling': 'exponential'}. Best is trial 90 with value: 0.3340761820334319.\n"
     ]
    },
    {
     "name": "stderr",
     "output_type": "stream",
     "text": [
      "[I 2023-09-04 23:03:27,405] Trial 105 finished with value: 0.33110235486919454 and parameters: {'gridtype': 'hexagonal', 'std_coeff': 0.021256687192456224, 'initialization': 'pca', 'epochs': 54, 'radius0': 458.4282612295, 'radiuscooling': 'exponential', 'scale0': 0.10741999101588239, 'scaleN': 0.05993684323014849, 'scalecooling': 'exponential'}. Best is trial 90 with value: 0.3340761820334319.\n",
      "[I 2023-09-04 23:04:00,222] Trial 106 finished with value: 0.28282430680038906 and parameters: {'gridtype': 'hexagonal', 'std_coeff': 0.02240150347634388, 'initialization': None, 'epochs': 55, 'radius0': 398.3479541053877, 'radiuscooling': 'exponential', 'scale0': 0.10885454340833257, 'scaleN': 0.05063279802952197, 'scalecooling': 'exponential'}. Best is trial 90 with value: 0.3340761820334319.\n",
      "[I 2023-09-04 23:04:28,116] Trial 107 finished with value: 0.3328141209533662 and parameters: {'gridtype': 'hexagonal', 'std_coeff': 0.02072080835740859, 'initialization': 'pca', 'epochs': 52, 'radius0': 513.355509737334, 'radiuscooling': 'exponential', 'scale0': 0.10369851157373969, 'scaleN': 0.05892215164137549, 'scalecooling': 'exponential'}. Best is trial 90 with value: 0.3340761820334319.\n",
      "[I 2023-09-04 23:05:02,433] Trial 108 finished with value: 0.33080158658401143 and parameters: {'gridtype': 'hexagonal', 'std_coeff': 0.021436438454938003, 'initialization': 'pca', 'epochs': 52, 'radius0': 422.34812359490473, 'radiuscooling': 'exponential', 'scale0': 0.0970694303713262, 'scaleN': 0.05809382167503539, 'scalecooling': 'exponential'}. Best is trial 90 with value: 0.3340761820334319.\n",
      "[I 2023-09-04 23:05:40,455] Trial 109 finished with value: 0.33053318914207397 and parameters: {'gridtype': 'hexagonal', 'std_coeff': 0.020019368297982714, 'initialization': 'pca', 'epochs': 53, 'radius0': 474.8150179173343, 'radiuscooling': 'exponential', 'scale0': 0.09587130806441395, 'scaleN': 0.051293566564827524, 'scalecooling': 'exponential'}. Best is trial 90 with value: 0.3340761820334319.\n",
      "[I 2023-09-04 23:06:15,389] Trial 110 finished with value: 0.33162793447657224 and parameters: {'gridtype': 'hexagonal', 'std_coeff': 0.02060473610869037, 'initialization': 'pca', 'epochs': 53, 'radius0': 502.36148380656095, 'radiuscooling': 'exponential', 'scale0': 0.09407851903616639, 'scaleN': 0.051002434748283865, 'scalecooling': 'exponential'}. Best is trial 90 with value: 0.3340761820334319.\n",
      "[I 2023-09-04 23:06:53,331] Trial 111 finished with value: 0.33160100195058456 and parameters: {'gridtype': 'hexagonal', 'std_coeff': 0.01708582948843056, 'initialization': 'pca', 'epochs': 52, 'radius0': 474.4090183557297, 'radiuscooling': 'exponential', 'scale0': 0.09495027666290405, 'scaleN': 0.058157855972181795, 'scalecooling': 'exponential'}. Best is trial 90 with value: 0.3340761820334319.\n",
      "[I 2023-09-04 23:07:39,240] Trial 112 finished with value: 0.33339254394171436 and parameters: {'gridtype': 'hexagonal', 'std_coeff': 0.02007640620908168, 'initialization': 'pca', 'epochs': 53, 'radius0': 485.09616238698226, 'radiuscooling': 'exponential', 'scale0': 0.09801422559739932, 'scaleN': 0.05789848658051016, 'scalecooling': 'exponential'}. Best is trial 90 with value: 0.3340761820334319.\n",
      "[I 2023-09-04 23:08:15,494] Trial 113 finished with value: 0.33173876301824623 and parameters: {'gridtype': 'hexagonal', 'std_coeff': 0.019470734298210942, 'initialization': 'pca', 'epochs': 51, 'radius0': 479.02109955563515, 'radiuscooling': 'exponential', 'scale0': 0.09586133534123915, 'scaleN': 0.05852779845491686, 'scalecooling': 'exponential'}. Best is trial 90 with value: 0.3340761820334319.\n",
      "[I 2023-09-04 23:08:50,177] Trial 114 finished with value: 0.2859483982432564 and parameters: {'gridtype': 'hexagonal', 'std_coeff': 0.01710509319712788, 'initialization': 'pca', 'epochs': 51, 'radius0': 831.778883439855, 'radiuscooling': 'exponential', 'scale0': 0.07221345653474641, 'scaleN': 0.059624816155660294, 'scalecooling': 'exponential'}. Best is trial 90 with value: 0.3340761820334319.\n",
      "[I 2023-09-04 23:09:22,806] Trial 115 finished with value: 0.33270591449155806 and parameters: {'gridtype': 'hexagonal', 'std_coeff': 0.01829497850347258, 'initialization': 'pca', 'epochs': 51, 'radius0': 635.6877948778064, 'radiuscooling': 'exponential', 'scale0': 0.09530525938775103, 'scaleN': 0.04264174865474257, 'scalecooling': 'exponential'}. Best is trial 90 with value: 0.3340761820334319.\n",
      "[I 2023-09-04 23:09:53,705] Trial 116 finished with value: 0.33353756933028067 and parameters: {'gridtype': 'hexagonal', 'std_coeff': 0.01898825740265779, 'initialization': 'pca', 'epochs': 52, 'radius0': 636.13881902182, 'radiuscooling': 'exponential', 'scale0': 0.09529164568972931, 'scaleN': 0.042487820288319045, 'scalecooling': 'exponential'}. Best is trial 90 with value: 0.3340761820334319.\n",
      "[I 2023-09-04 23:10:26,140] Trial 117 finished with value: 0.3342175482002941 and parameters: {'gridtype': 'hexagonal', 'std_coeff': 0.018414484428540517, 'initialization': 'pca', 'epochs': 52, 'radius0': 643.1124422950031, 'radiuscooling': 'exponential', 'scale0': 0.0723532287154119, 'scaleN': 0.04544347633270062, 'scalecooling': 'exponential'}. Best is trial 117 with value: 0.3342175482002941.\n",
      "[I 2023-09-04 23:10:56,092] Trial 118 finished with value: 0.2743316427739204 and parameters: {'gridtype': 'hexagonal', 'std_coeff': 0.018554660092788215, 'initialization': 'pca', 'epochs': 56, 'radius0': 645.0105656006656, 'radiuscooling': 'linear', 'scale0': 0.07796967173580681, 'scaleN': 0.04304347403737146, 'scalecooling': 'exponential'}. Best is trial 117 with value: 0.3342175482002941.\n",
      "[I 2023-09-04 23:11:27,828] Trial 119 finished with value: 0.33362606388353483 and parameters: {'gridtype': 'hexagonal', 'std_coeff': 0.017661705346308718, 'initialization': 'pca', 'epochs': 53, 'radius0': 851.1515690170315, 'radiuscooling': 'exponential', 'scale0': 0.08846298874854634, 'scaleN': 0.049672675965580636, 'scalecooling': 'exponential'}. Best is trial 117 with value: 0.3342175482002941.\n",
      "[I 2023-09-04 23:12:01,300] Trial 120 finished with value: 0.3337619247978354 and parameters: {'gridtype': 'hexagonal', 'std_coeff': 0.017347885156923235, 'initialization': 'pca', 'epochs': 57, 'radius0': 893.7179181378768, 'radiuscooling': 'exponential', 'scale0': 0.0906866718242679, 'scaleN': 0.041115503982665294, 'scalecooling': 'exponential'}. Best is trial 117 with value: 0.3342175482002941.\n",
      "[I 2023-09-04 23:12:36,974] Trial 121 finished with value: 0.3319847070234897 and parameters: {'gridtype': 'hexagonal', 'std_coeff': 0.017394771602402125, 'initialization': 'pca', 'epochs': 57, 'radius0': 852.5497612426101, 'radiuscooling': 'exponential', 'scale0': 0.07141708823261761, 'scaleN': 0.044620733595610515, 'scalecooling': 'exponential'}. Best is trial 117 with value: 0.3342175482002941.\n",
      "[I 2023-09-04 23:13:13,414] Trial 122 finished with value: 0.3335503137977429 and parameters: {'gridtype': 'hexagonal', 'std_coeff': 0.01863257400387973, 'initialization': 'pca', 'epochs': 58, 'radius0': 869.1930563307792, 'radiuscooling': 'exponential', 'scale0': 0.06908709579728008, 'scaleN': 0.04109295647852822, 'scalecooling': 'exponential'}. Best is trial 117 with value: 0.3342175482002941.\n",
      "[I 2023-09-04 23:13:55,007] Trial 123 finished with value: 0.28396402818771704 and parameters: {'gridtype': 'hexagonal', 'std_coeff': 0.017643886479769926, 'initialization': 'pca', 'epochs': 57, 'radius0': 835.9363813950337, 'radiuscooling': 'exponential', 'scale0': 0.07126363141208507, 'scaleN': 0.0443306858790419, 'scalecooling': 'exponential'}. Best is trial 117 with value: 0.3342175482002941.\n",
      "[I 2023-09-04 23:14:24,390] Trial 124 finished with value: 0.3249670586327327 and parameters: {'gridtype': 'hexagonal', 'std_coeff': 0.014480599670533837, 'initialization': 'pca', 'epochs': 48, 'radius0': 932.7720501555094, 'radiuscooling': 'exponential', 'scale0': 0.06309833588110078, 'scaleN': 0.03979606805295741, 'scalecooling': 'exponential'}. Best is trial 117 with value: 0.3342175482002941.\n",
      "[I 2023-09-04 23:15:03,288] Trial 125 finished with value: 0.32681831168742953 and parameters: {'gridtype': 'hexagonal', 'std_coeff': 0.01872971730780487, 'initialization': 'pca', 'epochs': 62, 'radius0': 602.0858916691051, 'radiuscooling': 'exponential', 'scale0': 0.08653862285672402, 'scaleN': 0.035329407236970374, 'scalecooling': 'exponential'}. Best is trial 117 with value: 0.3342175482002941.\n"
     ]
    },
    {
     "name": "stderr",
     "output_type": "stream",
     "text": [
      "[I 2023-09-04 23:15:35,688] Trial 126 finished with value: 0.3335967618967491 and parameters: {'gridtype': 'hexagonal', 'std_coeff': 0.013800309862646718, 'initialization': 'pca', 'epochs': 58, 'radius0': 716.6685122776015, 'radiuscooling': 'exponential', 'scale0': 0.0882636683827956, 'scaleN': 0.04129974556731837, 'scalecooling': 'exponential'}. Best is trial 117 with value: 0.3342175482002941.\n",
      "[I 2023-09-04 23:16:08,086] Trial 127 finished with value: 0.3342684306284533 and parameters: {'gridtype': 'hexagonal', 'std_coeff': 0.013878373681698482, 'initialization': 'pca', 'epochs': 60, 'radius0': 728.2607321517326, 'radiuscooling': 'exponential', 'scale0': 0.06400301083145854, 'scaleN': 0.043490207464450384, 'scalecooling': 'exponential'}. Best is trial 127 with value: 0.3342684306284533.\n",
      "[I 2023-09-04 23:16:39,753] Trial 128 finished with value: 0.33429692885308654 and parameters: {'gridtype': 'hexagonal', 'std_coeff': 0.014440870348818392, 'initialization': 'pca', 'epochs': 62, 'radius0': 1081.693841411005, 'radiuscooling': 'exponential', 'scale0': 0.08695788434217777, 'scaleN': 0.04158420316256445, 'scalecooling': 'exponential'}. Best is trial 128 with value: 0.33429692885308654.\n",
      "[I 2023-09-04 23:17:14,697] Trial 129 finished with value: 0.3361848262175692 and parameters: {'gridtype': 'hexagonal', 'std_coeff': 0.01277519710784196, 'initialization': 'pca', 'epochs': 62, 'radius0': 1369.3776668196067, 'radiuscooling': 'exponential', 'scale0': 0.06419758762372832, 'scaleN': 0.040632340419303865, 'scalecooling': 'exponential'}. Best is trial 129 with value: 0.3361848262175692.\n",
      "[I 2023-09-04 23:17:49,373] Trial 130 finished with value: 0.33429891368679515 and parameters: {'gridtype': 'hexagonal', 'std_coeff': 0.013279009179369923, 'initialization': None, 'epochs': 64, 'radius0': 1205.2297909290864, 'radiuscooling': 'exponential', 'scale0': 0.05996415026368615, 'scaleN': 0.03717284055905263, 'scalecooling': 'exponential'}. Best is trial 129 with value: 0.3361848262175692.\n",
      "[I 2023-09-04 23:18:20,538] Trial 131 finished with value: 0.2829978807180227 and parameters: {'gridtype': 'hexagonal', 'std_coeff': 0.012519268018412914, 'initialization': None, 'epochs': 63, 'radius0': 1348.5042335210362, 'radiuscooling': 'exponential', 'scale0': 0.061590610984713925, 'scaleN': 0.03850759544675575, 'scalecooling': 'exponential'}. Best is trial 129 with value: 0.3361848262175692.\n",
      "[I 2023-09-04 23:18:48,292] Trial 132 finished with value: 0.2801344902675552 and parameters: {'gridtype': 'hexagonal', 'std_coeff': 0.013825890272278275, 'initialization': None, 'epochs': 60, 'radius0': 1039.667380498266, 'radiuscooling': 'exponential', 'scale0': 0.0640943454643189, 'scaleN': 0.03529949548447502, 'scalecooling': 'exponential'}. Best is trial 129 with value: 0.3361848262175692.\n",
      "[I 2023-09-04 23:19:26,449] Trial 133 finished with value: 0.28025921767391293 and parameters: {'gridtype': 'hexagonal', 'std_coeff': 0.014718358713838593, 'initialization': None, 'epochs': 64, 'radius0': 1244.5213358303915, 'radiuscooling': 'exponential', 'scale0': 0.08385994663686826, 'scaleN': 0.04816070274306891, 'scalecooling': 'exponential'}. Best is trial 129 with value: 0.3361848262175692.\n",
      "[I 2023-09-04 23:20:07,480] Trial 134 finished with value: 0.324979696835908 and parameters: {'gridtype': 'hexagonal', 'std_coeff': 0.011378746372571767, 'initialization': None, 'epochs': 59, 'radius0': 1615.4556136647761, 'radiuscooling': 'exponential', 'scale0': 0.05421683501195148, 'scaleN': 0.04174276429867546, 'scalecooling': 'exponential'}. Best is trial 129 with value: 0.3361848262175692.\n",
      "[I 2023-09-04 23:20:45,206] Trial 135 finished with value: 0.32867929355233005 and parameters: {'gridtype': 'hexagonal', 'std_coeff': 0.013540933200437243, 'initialization': 'pca', 'epochs': 62, 'radius0': 699.052951129049, 'radiuscooling': 'exponential', 'scale0': 0.07821050550319303, 'scaleN': 0.037204824792557385, 'scalecooling': 'exponential'}. Best is trial 129 with value: 0.3361848262175692.\n",
      "[I 2023-09-04 23:21:18,365] Trial 136 finished with value: 0.33600769905340033 and parameters: {'gridtype': 'hexagonal', 'std_coeff': 0.012364321525029722, 'initialization': 'pca', 'epochs': 56, 'radius0': 1010.6034251643366, 'radiuscooling': 'exponential', 'scale0': 0.08898085658934071, 'scaleN': 0.03382110888102901, 'scalecooling': 'exponential'}. Best is trial 129 with value: 0.3361848262175692.\n",
      "[I 2023-09-04 23:21:54,417] Trial 137 finished with value: 0.33163714475115974 and parameters: {'gridtype': 'hexagonal', 'std_coeff': 0.012373818759120362, 'initialization': 'pca', 'epochs': 66, 'radius0': 1038.3139534935324, 'radiuscooling': 'exponential', 'scale0': 0.08855933285523512, 'scaleN': 0.02952601275097795, 'scalecooling': 'exponential'}. Best is trial 129 with value: 0.3361848262175692.\n",
      "[I 2023-09-04 23:22:25,850] Trial 138 finished with value: 0.2881452348067703 and parameters: {'gridtype': 'hexagonal', 'std_coeff': 0.015326467886157798, 'initialization': None, 'epochs': 56, 'radius0': 772.4362210100476, 'radiuscooling': 'exponential', 'scale0': 0.07512926005685544, 'scaleN': 0.03392516362995355, 'scalecooling': 'exponential'}. Best is trial 129 with value: 0.3361848262175692.\n",
      "[I 2023-09-04 23:22:55,000] Trial 139 finished with value: 0.24133557047292864 and parameters: {'gridtype': 'hexagonal', 'std_coeff': 0.011484391573726277, 'initialization': 'pca', 'epochs': 59, 'radius0': 1720.2729648596235, 'radiuscooling': 'linear', 'scale0': 0.06635890802280703, 'scaleN': 0.039596495720264094, 'scalecooling': 'exponential'}. Best is trial 129 with value: 0.3361848262175692.\n",
      "[I 2023-09-04 23:23:32,440] Trial 140 finished with value: 0.3327842156999916 and parameters: {'gridtype': 'hexagonal', 'std_coeff': 0.01598115981455947, 'initialization': 'pca', 'epochs': 62, 'radius0': 958.7691364339635, 'radiuscooling': 'exponential', 'scale0': 0.0814893395375909, 'scaleN': 0.025618772657615384, 'scalecooling': 'exponential'}. Best is trial 129 with value: 0.3361848262175692.\n",
      "[I 2023-09-04 23:24:03,814] Trial 141 finished with value: 0.33509875398318634 and parameters: {'gridtype': 'hexagonal', 'std_coeff': 0.013724375158216118, 'initialization': 'pca', 'epochs': 55, 'radius0': 769.3644358610314, 'radiuscooling': 'exponential', 'scale0': 0.05811363766325849, 'scaleN': 0.047768291569448146, 'scalecooling': 'exponential'}. Best is trial 129 with value: 0.3361848262175692.\n",
      "[I 2023-09-04 23:24:36,139] Trial 142 finished with value: 0.2836138694325928 and parameters: {'gridtype': 'hexagonal', 'std_coeff': 0.012552139114456086, 'initialization': 'pca', 'epochs': 55, 'radius0': 1143.4977209471228, 'radiuscooling': 'exponential', 'scale0': 0.05795706230328726, 'scaleN': 0.04748724265144901, 'scalecooling': 'exponential'}. Best is trial 129 with value: 0.3361848262175692.\n",
      "[I 2023-09-04 23:25:10,083] Trial 143 finished with value: 0.3334074479213093 and parameters: {'gridtype': 'hexagonal', 'std_coeff': 0.014210680186726945, 'initialization': 'pca', 'epochs': 58, 'radius0': 771.3456547802983, 'radiuscooling': 'exponential', 'scale0': 0.04586647129705101, 'scaleN': 0.04301692023371504, 'scalecooling': 'exponential'}. Best is trial 129 with value: 0.3361848262175692.\n",
      "[I 2023-09-04 23:25:46,016] Trial 144 finished with value: 0.276948876154894 and parameters: {'gridtype': 'hexagonal', 'std_coeff': 0.013542027021434465, 'initialization': 'pca', 'epochs': 66, 'radius0': 1442.8034680114583, 'radiuscooling': 'exponential', 'scale0': 0.04989401973891807, 'scaleN': 0.03314242244771142, 'scalecooling': 'exponential'}. Best is trial 129 with value: 0.3361848262175692.\n",
      "[I 2023-09-04 23:26:18,695] Trial 145 finished with value: 0.33191608617769325 and parameters: {'gridtype': 'hexagonal', 'std_coeff': 0.01450019372460184, 'initialization': 'pca', 'epochs': 60, 'radius0': 722.4592212441723, 'radiuscooling': 'exponential', 'scale0': 0.04312604866914092, 'scaleN': 0.041361524468844967, 'scalecooling': 'exponential'}. Best is trial 129 with value: 0.3361848262175692.\n",
      "[I 2023-09-04 23:26:48,164] Trial 146 finished with value: 0.33634960111707 and parameters: {'gridtype': 'hexagonal', 'std_coeff': 0.01138992669260931, 'initialization': 'pca', 'epochs': 58, 'radius0': 1831.6523589124492, 'radiuscooling': 'exponential', 'scale0': 0.07035788222469355, 'scaleN': 0.029097056017020822, 'scalecooling': 'exponential'}. Best is trial 146 with value: 0.33634960111707.\n"
     ]
    },
    {
     "name": "stderr",
     "output_type": "stream",
     "text": [
      "[I 2023-09-04 23:27:17,670] Trial 147 finished with value: 0.33608269276469416 and parameters: {'gridtype': 'hexagonal', 'std_coeff': 0.010780428666718782, 'initialization': 'pca', 'epochs': 57, 'radius0': 2010.5509107180499, 'radiuscooling': 'exponential', 'scale0': 0.06733993453630618, 'scaleN': 0.029484460372406842, 'scalecooling': 'exponential'}. Best is trial 146 with value: 0.33634960111707.\n",
      "[I 2023-09-04 23:28:00,733] Trial 148 finished with value: 0.2847324115576123 and parameters: {'gridtype': 'hexagonal', 'std_coeff': 0.010097602868224476, 'initialization': 'pca', 'epochs': 64, 'radius0': 1223.4568777920845, 'radiuscooling': 'exponential', 'scale0': 0.06901772711088372, 'scaleN': 0.026931064265194985, 'scalecooling': 'exponential'}. Best is trial 146 with value: 0.33634960111707.\n",
      "[I 2023-09-04 23:28:43,647] Trial 149 finished with value: 0.3350958811421365 and parameters: {'gridtype': 'hexagonal', 'std_coeff': 0.010770838626475548, 'initialization': 'pca', 'epochs': 57, 'radius0': 2222.7111030228507, 'radiuscooling': 'exponential', 'scale0': 0.05831742388533492, 'scaleN': 0.028812940450848083, 'scalecooling': 'exponential'}. Best is trial 146 with value: 0.33634960111707.\n",
      "[I 2023-09-04 23:29:23,162] Trial 150 finished with value: 0.27530140824831506 and parameters: {'gridtype': 'hexagonal', 'std_coeff': 0.011417259985700824, 'initialization': 'pca', 'epochs': 71, 'radius0': 1897.4677691784514, 'radiuscooling': 'exponential', 'scale0': 0.0573493953557934, 'scaleN': 0.030221300505220296, 'scalecooling': 'exponential'}. Best is trial 146 with value: 0.33634960111707.\n",
      "[I 2023-09-04 23:29:55,243] Trial 151 finished with value: 0.3373909021148113 and parameters: {'gridtype': 'hexagonal', 'std_coeff': 0.0111510977430551, 'initialization': 'pca', 'epochs': 57, 'radius0': 1388.7428093688145, 'radiuscooling': 'exponential', 'scale0': 0.06924075324088226, 'scaleN': 0.03612228031788805, 'scalecooling': 'exponential'}. Best is trial 151 with value: 0.3373909021148113.\n",
      "[I 2023-09-04 23:30:30,028] Trial 152 finished with value: 0.2839167942372818 and parameters: {'gridtype': 'hexagonal', 'std_coeff': 0.010884806729918702, 'initialization': 'pca', 'epochs': 58, 'radius0': 1945.6445632234575, 'radiuscooling': 'exponential', 'scale0': 0.07492312075776864, 'scaleN': 0.03589850212456369, 'scalecooling': 'exponential'}. Best is trial 151 with value: 0.3373909021148113.\n",
      "[I 2023-09-04 23:31:04,571] Trial 153 finished with value: 0.33618271260001725 and parameters: {'gridtype': 'hexagonal', 'std_coeff': 0.012137148573427776, 'initialization': 'pca', 'epochs': 61, 'radius0': 2538.7192315153175, 'radiuscooling': 'exponential', 'scale0': 0.06740880637575, 'scaleN': 0.029226959672632676, 'scalecooling': 'exponential'}. Best is trial 151 with value: 0.3373909021148113.\n",
      "[I 2023-09-04 23:31:43,480] Trial 154 finished with value: 0.3360627604263673 and parameters: {'gridtype': 'hexagonal', 'std_coeff': 0.01223502504960444, 'initialization': 'pca', 'epochs': 62, 'radius0': 2787.938321489133, 'radiuscooling': 'exponential', 'scale0': 0.05392479615275149, 'scaleN': 0.028617877897182245, 'scalecooling': 'exponential'}. Best is trial 151 with value: 0.3373909021148113.\n",
      "[I 2023-09-04 23:32:34,522] Trial 155 finished with value: 0.3368729575794821 and parameters: {'gridtype': 'hexagonal', 'std_coeff': 0.01223617512451033, 'initialization': 'pca', 'epochs': 62, 'radius0': 2240.0232371724737, 'radiuscooling': 'exponential', 'scale0': 0.0565536394393897, 'scaleN': 0.023519951208766557, 'scalecooling': 'exponential'}. Best is trial 151 with value: 0.3373909021148113.\n",
      "[I 2023-09-04 23:33:17,288] Trial 156 finished with value: 0.2855589345047256 and parameters: {'gridtype': 'hexagonal', 'std_coeff': 0.01013528181517066, 'initialization': 'pca', 'epochs': 62, 'radius0': 2398.6478187907373, 'radiuscooling': 'exponential', 'scale0': 0.053639940078637614, 'scaleN': 0.023662258853500904, 'scalecooling': 'exponential'}. Best is trial 151 with value: 0.3373909021148113.\n",
      "[I 2023-09-04 23:33:58,524] Trial 157 finished with value: 0.33673816299436565 and parameters: {'gridtype': 'hexagonal', 'std_coeff': 0.01215461895969928, 'initialization': 'pca', 'epochs': 66, 'radius0': 2914.263207650308, 'radiuscooling': 'exponential', 'scale0': 0.05929040397151099, 'scaleN': 0.030262797893485918, 'scalecooling': 'exponential'}. Best is trial 151 with value: 0.3373909021148113.\n",
      "[I 2023-09-04 23:34:39,149] Trial 158 finished with value: 0.2881123594177936 and parameters: {'gridtype': 'hexagonal', 'std_coeff': 0.012127128376402346, 'initialization': None, 'epochs': 66, 'radius0': 3118.1416521826513, 'radiuscooling': 'exponential', 'scale0': 0.06103041019832522, 'scaleN': 0.028109546813256163, 'scalecooling': 'exponential'}. Best is trial 151 with value: 0.3373909021148113.\n",
      "[I 2023-09-04 23:35:21,576] Trial 159 finished with value: 0.33491049683608776 and parameters: {'gridtype': 'hexagonal', 'std_coeff': 0.011524744770611979, 'initialization': 'pca', 'epochs': 69, 'radius0': 2177.431328196593, 'radiuscooling': 'exponential', 'scale0': 0.05457324821070204, 'scaleN': 0.0249881289296634, 'scalecooling': 'exponential'}. Best is trial 151 with value: 0.3373909021148113.\n",
      "[I 2023-09-04 23:36:03,346] Trial 160 finished with value: 0.28264332171266215 and parameters: {'gridtype': 'hexagonal', 'std_coeff': 0.011034659497620513, 'initialization': 'pca', 'epochs': 69, 'radius0': 2637.0299514232215, 'radiuscooling': 'exponential', 'scale0': 0.05377431451234235, 'scaleN': 0.024587355849588755, 'scalecooling': 'exponential'}. Best is trial 151 with value: 0.3373909021148113.\n",
      "[I 2023-09-04 23:36:52,849] Trial 161 finished with value: 0.2759227910414601 and parameters: {'gridtype': 'hexagonal', 'std_coeff': 0.012548770405756197, 'initialization': 'pca', 'epochs': 73, 'radius0': 2163.5051379209426, 'radiuscooling': 'exponential', 'scale0': 0.05823477332634204, 'scaleN': 0.028954426391732183, 'scalecooling': 'exponential'}. Best is trial 151 with value: 0.3373909021148113.\n",
      "[I 2023-09-04 23:37:30,711] Trial 162 finished with value: 0.2844561270843472 and parameters: {'gridtype': 'hexagonal', 'std_coeff': 0.010054009818104443, 'initialization': 'pca', 'epochs': 64, 'radius0': 3524.982857480182, 'radiuscooling': 'exponential', 'scale0': 0.06646827860743643, 'scaleN': 0.02059366738637727, 'scalecooling': 'exponential'}. Best is trial 151 with value: 0.3373909021148113.\n",
      "[I 2023-09-04 23:38:10,211] Trial 163 finished with value: 0.276529535458496 and parameters: {'gridtype': 'hexagonal', 'std_coeff': 0.011787032157569106, 'initialization': 'pca', 'epochs': 68, 'radius0': 2334.4993702670813, 'radiuscooling': 'exponential', 'scale0': 0.046012502022131994, 'scaleN': 0.0265133424370452, 'scalecooling': 'exponential'}. Best is trial 151 with value: 0.3373909021148113.\n",
      "[I 2023-09-04 23:38:42,184] Trial 164 finished with value: 0.336416658541729 and parameters: {'gridtype': 'hexagonal', 'std_coeff': 0.012866290270379275, 'initialization': 'pca', 'epochs': 61, 'radius0': 1554.9019762139042, 'radiuscooling': 'exponential', 'scale0': 0.05047426537983946, 'scaleN': 0.03094294841944257, 'scalecooling': 'exponential'}. Best is trial 151 with value: 0.3373909021148113.\n",
      "[I 2023-09-04 23:39:15,144] Trial 165 finished with value: 0.2883628696370035 and parameters: {'gridtype': 'hexagonal', 'std_coeff': 0.012662026775587957, 'initialization': 'pca', 'epochs': 61, 'radius0': 1546.8001811119937, 'radiuscooling': 'exponential', 'scale0': 0.05085429465347312, 'scaleN': 0.03125370629695402, 'scalecooling': 'exponential'}. Best is trial 151 with value: 0.3373909021148113.\n",
      "[I 2023-09-04 23:39:51,903] Trial 166 finished with value: 0.30259661573278185 and parameters: {'gridtype': 'hexagonal', 'std_coeff': 0.011015399677888064, 'initialization': 'pca', 'epochs': 65, 'radius0': 2164.466919272926, 'radiuscooling': 'exponential', 'scale0': 0.06052839733559717, 'scaleN': 0.03271746950360371, 'scalecooling': 'exponential'}. Best is trial 151 with value: 0.3373909021148113.\n",
      "[I 2023-09-04 23:40:29,854] Trial 167 finished with value: 0.33459580697072133 and parameters: {'gridtype': 'hexagonal', 'std_coeff': 0.013115868572836318, 'initialization': 'pca', 'epochs': 71, 'radius0': 2818.3724061241046, 'radiuscooling': 'exponential', 'scale0': 0.06554404666614624, 'scaleN': 0.02913702642955306, 'scalecooling': 'exponential'}. Best is trial 151 with value: 0.3373909021148113.\n"
     ]
    },
    {
     "name": "stderr",
     "output_type": "stream",
     "text": [
      "[I 2023-09-04 23:41:04,890] Trial 168 finished with value: 0.2293005600315134 and parameters: {'gridtype': 'hexagonal', 'std_coeff': 0.012749404279270175, 'initialization': 'pca', 'epochs': 73, 'radius0': 2831.4715300022094, 'radiuscooling': 'linear', 'scale0': 0.04147534109266965, 'scaleN': 0.022477513597111583, 'scalecooling': 'exponential'}. Best is trial 151 with value: 0.3373909021148113.\n",
      "[I 2023-09-04 23:41:42,971] Trial 169 finished with value: 0.33562837170119764 and parameters: {'gridtype': 'hexagonal', 'std_coeff': 0.010025776523461505, 'initialization': 'pca', 'epochs': 67, 'radius0': 1846.0446321973343, 'radiuscooling': 'exponential', 'scale0': 0.05431797782249133, 'scaleN': 0.029344172495919342, 'scalecooling': 'exponential'}. Best is trial 151 with value: 0.3373909021148113.\n",
      "[I 2023-09-04 23:42:21,646] Trial 170 finished with value: 0.2783106313385705 and parameters: {'gridtype': 'hexagonal', 'std_coeff': 0.010928934522600296, 'initialization': 'pca', 'epochs': 70, 'radius0': 1860.8353146964448, 'radiuscooling': 'exponential', 'scale0': 0.04970959195305197, 'scaleN': 0.029139119889298314, 'scalecooling': 'exponential'}. Best is trial 151 with value: 0.3373909021148113.\n",
      "[I 2023-09-04 23:42:57,538] Trial 171 finished with value: 0.33620278959470506 and parameters: {'gridtype': 'hexagonal', 'std_coeff': 0.01005183799958213, 'initialization': 'pca', 'epochs': 68, 'radius0': 3760.5148180858923, 'radiuscooling': 'exponential', 'scale0': 0.06476532870547341, 'scaleN': 0.02482373743971839, 'scalecooling': 'exponential'}. Best is trial 151 with value: 0.3373909021148113.\n",
      "[I 2023-09-04 23:43:34,574] Trial 172 finished with value: 0.33595369888511983 and parameters: {'gridtype': 'hexagonal', 'std_coeff': 0.010109335666578189, 'initialization': 'pca', 'epochs': 67, 'radius0': 3543.223689093016, 'radiuscooling': 'exponential', 'scale0': 0.05686253881916752, 'scaleN': 0.024634350680172227, 'scalecooling': 'exponential'}. Best is trial 151 with value: 0.3373909021148113.\n",
      "[I 2023-09-04 23:44:13,931] Trial 173 finished with value: 0.2829980602023674 and parameters: {'gridtype': 'hexagonal', 'std_coeff': 0.010115956560420861, 'initialization': 'pca', 'epochs': 68, 'radius0': 3659.382903438411, 'radiuscooling': 'exponential', 'scale0': 0.056033381384230856, 'scaleN': 0.025341098785354222, 'scalecooling': 'exponential'}. Best is trial 151 with value: 0.3373909021148113.\n",
      "[I 2023-09-04 23:45:02,970] Trial 174 finished with value: 0.3347335097653835 and parameters: {'gridtype': 'hexagonal', 'std_coeff': 0.01163506819526794, 'initialization': 'pca', 'epochs': 75, 'radius0': 4259.46684747753, 'radiuscooling': 'exponential', 'scale0': 0.05326031882810542, 'scaleN': 0.027123062535690617, 'scalecooling': 'exponential'}. Best is trial 151 with value: 0.3373909021148113.\n",
      "[I 2023-09-04 23:45:48,956] Trial 175 finished with value: 0.2790727667626651 and parameters: {'gridtype': 'hexagonal', 'std_coeff': 0.011513072191487228, 'initialization': 'pca', 'epochs': 75, 'radius0': 4471.9664727152995, 'radiuscooling': 'exponential', 'scale0': 0.05325667081575798, 'scaleN': 0.026681645915348946, 'scalecooling': 'exponential'}. Best is trial 151 with value: 0.3373909021148113.\n",
      "[I 2023-09-04 23:46:32,943] Trial 176 finished with value: 0.33145043932450347 and parameters: {'gridtype': 'hexagonal', 'std_coeff': 0.011594922076230503, 'initialization': 'pca', 'epochs': 78, 'radius0': 2780.950987038756, 'radiuscooling': 'exponential', 'scale0': 0.04792298187363878, 'scaleN': 0.02125905441968124, 'scalecooling': 'exponential'}. Best is trial 151 with value: 0.3373909021148113.\n",
      "[I 2023-09-04 23:47:16,745] Trial 177 finished with value: 0.27536008965724695 and parameters: {'gridtype': 'hexagonal', 'std_coeff': 0.010020010007384733, 'initialization': 'pca', 'epochs': 73, 'radius0': 3787.703567717771, 'radiuscooling': 'exponential', 'scale0': 0.056532104993911696, 'scaleN': 0.024215339196427606, 'scalecooling': 'exponential'}. Best is trial 151 with value: 0.3373909021148113.\n",
      "[I 2023-09-04 23:47:49,178] Trial 178 finished with value: 0.33480824818771665 and parameters: {'gridtype': 'hexagonal', 'std_coeff': 0.012041970993113969, 'initialization': 'pca', 'epochs': 69, 'radius0': 3066.6761108846945, 'radiuscooling': 'exponential', 'scale0': 0.06455303995038325, 'scaleN': 0.02999085619284613, 'scalecooling': 'exponential'}. Best is trial 151 with value: 0.3373909021148113.\n",
      "[I 2023-09-04 23:48:24,904] Trial 179 finished with value: 0.28519227979010386 and parameters: {'gridtype': 'hexagonal', 'std_coeff': 0.011429753148303596, 'initialization': 'pca', 'epochs': 67, 'radius0': 3229.9469019581898, 'radiuscooling': 'exponential', 'scale0': 0.04440266119337432, 'scaleN': 0.03176379116775446, 'scalecooling': 'exponential'}. Best is trial 151 with value: 0.3373909021148113.\n",
      "[I 2023-09-04 23:49:06,590] Trial 180 finished with value: 0.314243244569638 and parameters: {'gridtype': 'hexagonal', 'std_coeff': 0.012207451673890993, 'initialization': 'pca', 'epochs': 78, 'radius0': 4310.812014740405, 'radiuscooling': 'exponential', 'scale0': 0.051005671608989916, 'scaleN': 0.01955409269058214, 'scalecooling': 'exponential'}. Best is trial 151 with value: 0.3373909021148113.\n",
      "[I 2023-09-04 23:49:43,773] Trial 181 finished with value: 0.28493315603216973 and parameters: {'gridtype': 'hexagonal', 'std_coeff': 0.012788150511491387, 'initialization': 'pca', 'epochs': 69, 'radius0': 4949.062155859524, 'radiuscooling': 'exponential', 'scale0': 0.06701029740433291, 'scaleN': 0.02904247522295115, 'scalecooling': 'exponential'}. Best is trial 151 with value: 0.3373909021148113.\n",
      "[I 2023-09-04 23:50:21,869] Trial 182 finished with value: 0.3170566544723186 and parameters: {'gridtype': 'hexagonal', 'std_coeff': 0.010002850534881537, 'initialization': 'pca', 'epochs': 70, 'radius0': 2684.226564436816, 'radiuscooling': 'exponential', 'scale0': 0.06379386814635157, 'scaleN': 0.023105388855023168, 'scalecooling': 'exponential'}. Best is trial 151 with value: 0.3373909021148113.\n",
      "[I 2023-09-04 23:51:00,696] Trial 183 finished with value: 0.2798590759029429 and parameters: {'gridtype': 'hexagonal', 'std_coeff': 0.015136472679140712, 'initialization': 'pca', 'epochs': 73, 'radius0': 2233.4862308332176, 'radiuscooling': 'exponential', 'scale0': 0.058528303719570594, 'scaleN': 0.027021367046113205, 'scalecooling': 'exponential'}. Best is trial 151 with value: 0.3373909021148113.\n",
      "[I 2023-09-04 23:51:36,213] Trial 184 finished with value: 0.3368522395599424 and parameters: {'gridtype': 'hexagonal', 'std_coeff': 0.011186206774661731, 'initialization': 'pca', 'epochs': 66, 'radius0': 2878.7858488178376, 'radiuscooling': 'exponential', 'scale0': 0.06748148177868232, 'scaleN': 0.030314441634041622, 'scalecooling': 'exponential'}. Best is trial 151 with value: 0.3373909021148113.\n",
      "[I 2023-09-04 23:52:13,942] Trial 185 finished with value: 0.2860727688115493 and parameters: {'gridtype': 'hexagonal', 'std_coeff': 0.011189867498500762, 'initialization': 'pca', 'epochs': 64, 'radius0': 3297.8955055328947, 'radiuscooling': 'exponential', 'scale0': 0.04169954856237397, 'scaleN': 0.024991523343512897, 'scalecooling': 'exponential'}. Best is trial 151 with value: 0.3373909021148113.\n",
      "[I 2023-09-04 23:52:52,817] Trial 186 finished with value: 0.28280758196809763 and parameters: {'gridtype': 'hexagonal', 'std_coeff': 0.011070806448099742, 'initialization': 'pca', 'epochs': 61, 'radius0': 1786.8609444343385, 'radiuscooling': 'exponential', 'scale0': 0.05469459521201457, 'scaleN': 0.032794376984016396, 'scalecooling': 'exponential'}. Best is trial 151 with value: 0.3373909021148113.\n",
      "[I 2023-09-04 23:53:29,171] Trial 187 finished with value: 0.28262588838519337 and parameters: {'gridtype': 'hexagonal', 'std_coeff': 0.015656098917524446, 'initialization': 'pca', 'epochs': 66, 'radius0': 2097.9425395134717, 'radiuscooling': 'exponential', 'scale0': 0.07619535902211075, 'scaleN': 0.023230710751451836, 'scalecooling': 'exponential'}. Best is trial 151 with value: 0.3373909021148113.\n",
      "[I 2023-09-04 23:53:59,929] Trial 188 finished with value: 0.3165225600243685 and parameters: {'gridtype': 'hexagonal', 'std_coeff': 0.012284911666677658, 'initialization': 'pca', 'epochs': 56, 'radius0': 2460.9085793132585, 'radiuscooling': 'exponential', 'scale0': 0.04847035671558638, 'scaleN': 0.03090904377640897, 'scalecooling': 'exponential'}. Best is trial 151 with value: 0.3373909021148113.\n"
     ]
    },
    {
     "name": "stderr",
     "output_type": "stream",
     "text": [
      "[I 2023-09-04 23:54:33,451] Trial 189 finished with value: 0.2884711095518353 and parameters: {'gridtype': 'hexagonal', 'std_coeff': 0.013838154902725441, 'initialization': 'pca', 'epochs': 66, 'radius0': 3854.8484771698436, 'radiuscooling': 'exponential', 'scale0': 0.061040565253269584, 'scaleN': 0.028233027100484195, 'scalecooling': 'exponential'}. Best is trial 151 with value: 0.3373909021148113.\n",
      "[I 2023-09-04 23:55:06,154] Trial 190 finished with value: 0.28560034249038535 and parameters: {'gridtype': 'hexagonal', 'std_coeff': 0.01000230178407128, 'initialization': 'pca', 'epochs': 62, 'radius0': 3215.2240116336047, 'radiuscooling': 'exponential', 'scale0': 0.0669829912942303, 'scaleN': 0.03459477006376006, 'scalecooling': 'exponential'}. Best is trial 151 with value: 0.3373909021148113.\n",
      "[I 2023-09-04 23:55:39,870] Trial 191 finished with value: 0.3342174297989745 and parameters: {'gridtype': 'hexagonal', 'std_coeff': 0.012802021574543179, 'initialization': 'pca', 'epochs': 70, 'radius0': 2789.615186715526, 'radiuscooling': 'exponential', 'scale0': 0.06996667625996568, 'scaleN': 0.029535095838981933, 'scalecooling': 'exponential'}. Best is trial 151 with value: 0.3373909021148113.\n",
      "[I 2023-09-04 23:56:19,991] Trial 192 finished with value: 0.32449807026909905 and parameters: {'gridtype': 'hexagonal', 'std_coeff': 0.0116862232037934, 'initialization': 'pca', 'epochs': 74, 'radius0': 1488.6805967445353, 'radiuscooling': 'exponential', 'scale0': 0.06263356897693015, 'scaleN': 0.026534539826826766, 'scalecooling': 'exponential'}. Best is trial 151 with value: 0.3373909021148113.\n",
      "[I 2023-09-04 23:57:09,582] Trial 193 finished with value: 0.32245360778009324 and parameters: {'gridtype': 'hexagonal', 'std_coeff': 0.013192884168941838, 'initialization': 'pca', 'epochs': 82, 'radius0': 2533.309450040172, 'radiuscooling': 'exponential', 'scale0': 0.05258943801734814, 'scaleN': 0.03079225150630508, 'scalecooling': 'exponential'}. Best is trial 151 with value: 0.3373909021148113.\n",
      "[I 2023-09-04 23:57:45,967] Trial 194 finished with value: 0.28692870677384247 and parameters: {'gridtype': 'hexagonal', 'std_coeff': 0.015697021897334174, 'initialization': 'pca', 'epochs': 60, 'radius0': 1945.9392205670267, 'radiuscooling': 'exponential', 'scale0': 0.05593350719500586, 'scaleN': 0.02744472133374453, 'scalecooling': 'exponential'}. Best is trial 151 with value: 0.3373909021148113.\n",
      "[I 2023-09-04 23:58:25,746] Trial 195 finished with value: 0.33193943313459523 and parameters: {'gridtype': 'hexagonal', 'std_coeff': 0.011342391590179407, 'initialization': 'pca', 'epochs': 71, 'radius0': 1656.052087694911, 'radiuscooling': 'exponential', 'scale0': 0.07550897033777118, 'scaleN': 0.023966313033913108, 'scalecooling': 'exponential'}. Best is trial 151 with value: 0.3373909021148113.\n",
      "[I 2023-09-04 23:59:06,504] Trial 196 finished with value: 0.27983661377851177 and parameters: {'gridtype': 'hexagonal', 'std_coeff': 0.013767648094572482, 'initialization': 'pca', 'epochs': 77, 'radius0': 2839.224499230056, 'radiuscooling': 'exponential', 'scale0': 0.06691156282146515, 'scaleN': 0.03427767836451911, 'scalecooling': 'exponential'}. Best is trial 151 with value: 0.3373909021148113.\n",
      "[I 2023-09-04 23:59:39,736] Trial 197 finished with value: 0.2839169973845332 and parameters: {'gridtype': 'hexagonal', 'std_coeff': 0.010009809079639134, 'initialization': 'pca', 'epochs': 63, 'radius0': 3711.2844930267956, 'radiuscooling': 'exponential', 'scale0': 0.06099776885690467, 'scaleN': 0.020097165756963947, 'scalecooling': 'exponential'}. Best is trial 151 with value: 0.3373909021148113.\n",
      "[I 2023-09-05 00:00:09,346] Trial 198 finished with value: 0.28185722759425447 and parameters: {'gridtype': 'hexagonal', 'std_coeff': 0.012427032483427965, 'initialization': 'pca', 'epochs': 55, 'radius0': 2207.1630322391675, 'radiuscooling': 'exponential', 'scale0': 0.0690233713956774, 'scaleN': 0.024938707926828573, 'scalecooling': 'exponential'}. Best is trial 151 with value: 0.3373909021148113.\n",
      "[I 2023-09-05 00:00:40,306] Trial 199 finished with value: 0.259284871001555 and parameters: {'gridtype': 'hexagonal', 'std_coeff': 0.015151234250905213, 'initialization': 'pca', 'epochs': 67, 'radius0': 1415.6490545529357, 'radiuscooling': 'linear', 'scale0': 0.048500099649992315, 'scaleN': 0.030012559830162988, 'scalecooling': 'exponential'}. Best is trial 151 with value: 0.3373909021148113.\n",
      "[I 2023-09-05 00:01:08,175] Trial 200 finished with value: 0.32341164996812816 and parameters: {'gridtype': 'hexagonal', 'std_coeff': 0.08150187675116116, 'initialization': 'pca', 'epochs': 59, 'radius0': 3051.8254162486683, 'radiuscooling': 'exponential', 'scale0': 0.038731003661573005, 'scaleN': 0.03356660889672614, 'scalecooling': 'exponential'}. Best is trial 151 with value: 0.3373909021148113.\n",
      "[I 2023-09-05 00:01:42,229] Trial 201 finished with value: 0.3348356047976374 and parameters: {'gridtype': 'hexagonal', 'std_coeff': 0.013268513815777521, 'initialization': None, 'epochs': 64, 'radius0': 1743.8113585874707, 'radiuscooling': 'exponential', 'scale0': 0.05886336912512204, 'scaleN': 0.03663273535668192, 'scalecooling': 'exponential'}. Best is trial 151 with value: 0.3373909021148113.\n",
      "[I 2023-09-05 00:02:18,068] Trial 202 finished with value: 0.2988928903476882 and parameters: {'gridtype': 'hexagonal', 'std_coeff': 0.17232160260159654, 'initialization': None, 'epochs': 65, 'radius0': 1927.1379126398144, 'radiuscooling': 'exponential', 'scale0': 0.05648822852878193, 'scaleN': 0.027448315305107027, 'scalecooling': 'exponential'}. Best is trial 151 with value: 0.3373909021148113.\n",
      "[I 2023-09-05 00:02:51,538] Trial 203 finished with value: 0.337157662218947 and parameters: {'gridtype': 'hexagonal', 'std_coeff': 0.010990913909496957, 'initialization': 'pca', 'epochs': 62, 'radius0': 2319.935457894518, 'radiuscooling': 'exponential', 'scale0': 0.06434353493346975, 'scaleN': 0.035810085542570834, 'scalecooling': 'exponential'}. Best is trial 151 with value: 0.3373909021148113.\n",
      "[I 2023-09-05 00:03:27,341] Trial 204 finished with value: 0.3378801354351434 and parameters: {'gridtype': 'hexagonal', 'std_coeff': 0.010971214520158503, 'initialization': 'pca', 'epochs': 62, 'radius0': 1823.0714879122515, 'radiuscooling': 'exponential', 'scale0': 0.05259600148398599, 'scaleN': 0.03698003593543007, 'scalecooling': 'exponential'}. Best is trial 204 with value: 0.3378801354351434.\n",
      "[I 2023-09-05 00:04:00,811] Trial 205 finished with value: 0.2838406121318727 and parameters: {'gridtype': 'hexagonal', 'std_coeff': 0.01096230623984984, 'initialization': 'pca', 'epochs': 61, 'radius0': 1688.176843586005, 'radiuscooling': 'exponential', 'scale0': 0.060728976643796014, 'scaleN': 0.03703261878056841, 'scalecooling': 'exponential'}. Best is trial 204 with value: 0.3378801354351434.\n",
      "[I 2023-09-05 00:04:31,604] Trial 206 finished with value: 0.27925055219028383 and parameters: {'gridtype': 'hexagonal', 'std_coeff': 0.011008687175726279, 'initialization': 'pca', 'epochs': 56, 'radius0': 2368.5970536501422, 'radiuscooling': 'exponential', 'scale0': 0.07618123588592485, 'scaleN': 0.035561998164370515, 'scalecooling': 'exponential'}. Best is trial 204 with value: 0.3378801354351434.\n",
      "[I 2023-09-05 00:05:02,456] Trial 207 finished with value: 0.2844617826519917 and parameters: {'gridtype': 'hexagonal', 'std_coeff': 0.0100028766660431, 'initialization': 'pca', 'epochs': 63, 'radius0': 1348.1336774465567, 'radiuscooling': 'exponential', 'scale0': 0.05006603296966066, 'scaleN': 0.032174844050067354, 'scalecooling': 'exponential'}. Best is trial 204 with value: 0.3378801354351434.\n",
      "[I 2023-09-05 00:05:35,258] Trial 208 finished with value: 0.3360008199293298 and parameters: {'gridtype': 'hexagonal', 'std_coeff': 0.013222250057341713, 'initialization': 'pca', 'epochs': 60, 'radius0': 1690.873428880907, 'radiuscooling': 'exponential', 'scale0': 0.05855576078396516, 'scaleN': 0.03568141903818474, 'scalecooling': 'exponential'}. Best is trial 204 with value: 0.3378801354351434.\n",
      "[I 2023-09-05 00:06:11,274] Trial 209 finished with value: 0.3344007140355161 and parameters: {'gridtype': 'hexagonal', 'std_coeff': 0.014016573168276498, 'initialization': 'pca', 'epochs': 58, 'radius0': 1692.1754392045125, 'radiuscooling': 'exponential', 'scale0': 0.057487584626551354, 'scaleN': 0.03744009442671719, 'scalecooling': 'exponential'}. Best is trial 204 with value: 0.3378801354351434.\n"
     ]
    },
    {
     "name": "stderr",
     "output_type": "stream",
     "text": [
      "[I 2023-09-05 00:06:43,909] Trial 210 finished with value: 0.28614215448093716 and parameters: {'gridtype': 'hexagonal', 'std_coeff': 0.013379749284231175, 'initialization': 'pca', 'epochs': 59, 'radius0': 2014.7064351542572, 'radiuscooling': 'exponential', 'scale0': 0.04672979050641558, 'scaleN': 0.03323681625939122, 'scalecooling': 'exponential'}. Best is trial 204 with value: 0.3378801354351434.\n",
      "[I 2023-09-05 00:07:18,828] Trial 211 finished with value: 0.3343258287171338 and parameters: {'gridtype': 'hexagonal', 'std_coeff': 0.012058067878756334, 'initialization': 'pca', 'epochs': 64, 'radius0': 1521.372951383964, 'radiuscooling': 'exponential', 'scale0': 0.06937746986676029, 'scaleN': 0.030945386289952803, 'scalecooling': 'exponential'}. Best is trial 204 with value: 0.3378801354351434.\n",
      "[I 2023-09-05 00:07:52,004] Trial 212 finished with value: 0.3360096144837518 and parameters: {'gridtype': 'hexagonal', 'std_coeff': 0.012347638037122632, 'initialization': 'pca', 'epochs': 61, 'radius0': 2393.4310462611124, 'radiuscooling': 'exponential', 'scale0': 0.06122749785706385, 'scaleN': 0.037233558142425856, 'scalecooling': 'exponential'}. Best is trial 204 with value: 0.3378801354351434.\n",
      "[I 2023-09-05 00:08:23,463] Trial 213 finished with value: 0.28477554568561936 and parameters: {'gridtype': 'hexagonal', 'std_coeff': 0.016066316029912268, 'initialization': 'pca', 'epochs': 55, 'radius0': 2252.1142585363405, 'radiuscooling': 'exponential', 'scale0': 0.05986275762464527, 'scaleN': 0.03714027169313696, 'scalecooling': 'exponential'}. Best is trial 204 with value: 0.3378801354351434.\n",
      "[I 2023-09-05 00:09:04,518] Trial 214 finished with value: 0.2865387879106456 and parameters: {'gridtype': 'hexagonal', 'std_coeff': 0.011290454032556668, 'initialization': 'pca', 'epochs': 61, 'radius0': 1790.092051071188, 'radiuscooling': 'exponential', 'scale0': 0.05367633158403834, 'scaleN': 0.03788731371627128, 'scalecooling': 'exponential'}. Best is trial 204 with value: 0.3378801354351434.\n",
      "[I 2023-09-05 00:09:40,187] Trial 215 finished with value: 0.33049884833678955 and parameters: {'gridtype': 'hexagonal', 'std_coeff': 0.013271551250191313, 'initialization': 'pca', 'epochs': 57, 'radius0': 2473.746133018718, 'radiuscooling': 'exponential', 'scale0': 0.07828554011073095, 'scaleN': 0.03404503915047749, 'scalecooling': 'exponential'}. Best is trial 204 with value: 0.3378801354351434.\n",
      "[I 2023-09-05 00:10:22,599] Trial 216 finished with value: 0.33415389234154436 and parameters: {'gridtype': 'hexagonal', 'std_coeff': 0.010771930974302861, 'initialization': None, 'epochs': 66, 'radius0': 1314.6494542160792, 'radiuscooling': 'exponential', 'scale0': 0.06353312460660662, 'scaleN': 0.017830162267234117, 'scalecooling': 'exponential'}. Best is trial 204 with value: 0.3378801354351434.\n",
      "[I 2023-09-05 00:10:57,702] Trial 217 finished with value: 0.3353334499453735 and parameters: {'gridtype': 'hexagonal', 'std_coeff': 0.015186833975936339, 'initialization': 'pca', 'epochs': 63, 'radius0': 2085.3116367343277, 'radiuscooling': 'exponential', 'scale0': 0.05671144177177164, 'scaleN': 0.02210346644067889, 'scalecooling': 'exponential'}. Best is trial 204 with value: 0.3378801354351434.\n",
      "[I 2023-09-05 00:11:31,078] Trial 218 finished with value: 0.334571997965398 and parameters: {'gridtype': 'hexagonal', 'std_coeff': 0.015559218449290388, 'initialization': 'pca', 'epochs': 60, 'radius0': 2112.2255123423834, 'radiuscooling': 'exponential', 'scale0': 0.05182487820317408, 'scaleN': 0.022332074146597772, 'scalecooling': 'exponential'}. Best is trial 204 with value: 0.3378801354351434.\n",
      "[I 2023-09-05 00:12:03,580] Trial 219 finished with value: 0.2866908177194907 and parameters: {'gridtype': 'hexagonal', 'std_coeff': 0.011943318591100748, 'initialization': 'pca', 'epochs': 62, 'radius0': 2462.4299585785316, 'radiuscooling': 'exponential', 'scale0': 0.07153150141934535, 'scaleN': 0.025837528791201533, 'scalecooling': 'exponential'}. Best is trial 204 with value: 0.3378801354351434.\n",
      "[I 2023-09-05 00:12:34,681] Trial 220 finished with value: 0.3362764712018794 and parameters: {'gridtype': 'hexagonal', 'std_coeff': 0.010905168173299895, 'initialization': 'pca', 'epochs': 56, 'radius0': 1464.3598458012032, 'radiuscooling': 'exponential', 'scale0': 0.04546048082335501, 'scaleN': 0.019146809417481012, 'scalecooling': 'exponential'}. Best is trial 204 with value: 0.3378801354351434.\n",
      "[I 2023-09-05 00:13:04,771] Trial 221 finished with value: 0.2774341829849343 and parameters: {'gridtype': 'hexagonal', 'std_coeff': 0.01009327707739664, 'initialization': 'pca', 'epochs': 56, 'radius0': 1358.7447629273763, 'radiuscooling': 'exponential', 'scale0': 0.04532389612820508, 'scaleN': 0.02085618775457295, 'scalecooling': 'exponential'}. Best is trial 204 with value: 0.3378801354351434.\n",
      "[I 2023-09-05 00:13:33,800] Trial 222 finished with value: 0.27962139066411895 and parameters: {'gridtype': 'hexagonal', 'std_coeff': 0.3475887648561946, 'initialization': 'pca', 'epochs': 59, 'radius0': 1897.2133233866532, 'radiuscooling': 'exponential', 'scale0': 0.05422953737565138, 'scaleN': 0.022453327766261945, 'scalecooling': 'exponential'}. Best is trial 204 with value: 0.3378801354351434.\n",
      "[I 2023-09-05 00:14:04,589] Trial 223 finished with value: 0.32645827868940325 and parameters: {'gridtype': 'hexagonal', 'std_coeff': 0.011259707575666175, 'initialization': 'pca', 'epochs': 54, 'radius0': 1583.3832404616453, 'radiuscooling': 'exponential', 'scale0': 0.04969421307900694, 'scaleN': 0.02408119197713017, 'scalecooling': 'exponential'}. Best is trial 204 with value: 0.3378801354351434.\n",
      "[I 2023-09-05 00:14:35,541] Trial 224 finished with value: 0.2837768528665538 and parameters: {'gridtype': 'hexagonal', 'std_coeff': 0.014211171229052967, 'initialization': 'pca', 'epochs': 62, 'radius0': 1208.4838941446355, 'radiuscooling': 'exponential', 'scale0': 0.06189460628868934, 'scaleN': 0.02824137757528892, 'scalecooling': 'exponential'}. Best is trial 204 with value: 0.3378801354351434.\n",
      "[I 2023-09-05 00:15:12,619] Trial 225 finished with value: 0.3345325478122776 and parameters: {'gridtype': 'hexagonal', 'std_coeff': 0.012401719568090582, 'initialization': 'pca', 'epochs': 67, 'radius0': 2050.4586239772407, 'radiuscooling': 'exponential', 'scale0': 0.03974465066345173, 'scaleN': 0.01995466978655168, 'scalecooling': 'exponential'}. Best is trial 204 with value: 0.3378801354351434.\n",
      "[I 2023-09-05 00:15:44,179] Trial 226 finished with value: 0.28322843064706704 and parameters: {'gridtype': 'hexagonal', 'std_coeff': 0.010868760318781603, 'initialization': 'pca', 'epochs': 58, 'radius0': 3330.261829480922, 'radiuscooling': 'exponential', 'scale0': 0.057090023082008404, 'scaleN': 0.01652443930886946, 'scalecooling': 'exponential'}. Best is trial 204 with value: 0.3378801354351434.\n",
      "[I 2023-09-05 00:16:13,722] Trial 227 finished with value: 0.28655588255009723 and parameters: {'gridtype': 'hexagonal', 'std_coeff': 0.012599325102961847, 'initialization': 'pca', 'epochs': 55, 'radius0': 2587.360025948501, 'radiuscooling': 'exponential', 'scale0': 0.045417118197375164, 'scaleN': 0.025439595328273622, 'scalecooling': 'exponential'}. Best is trial 204 with value: 0.3378801354351434.\n",
      "[I 2023-09-05 00:16:49,831] Trial 228 finished with value: 0.31767638885655225 and parameters: {'gridtype': 'hexagonal', 'std_coeff': 0.010043422673239249, 'initialization': 'pca', 'epochs': 64, 'radius0': 1456.835148635452, 'radiuscooling': 'exponential', 'scale0': 0.06651825426027622, 'scaleN': 0.031137177939846973, 'scalecooling': 'exponential'}. Best is trial 204 with value: 0.3378801354351434.\n",
      "[I 2023-09-05 14:42:51,956] Trial 229 finished with value: 0.3345805265944611 and parameters: {'gridtype': 'hexagonal', 'std_coeff': 0.014310107129840243, 'initialization': 'pca', 'epochs': 60, 'radius0': 2228.9974675404123, 'radiuscooling': 'exponential', 'scale0': 0.07255726011536837, 'scaleN': 0.01930456779296566, 'scalecooling': 'exponential'}. Best is trial 204 with value: 0.3378801354351434.\n",
      "[I 2023-09-05 14:43:26,604] Trial 230 finished with value: 0.20437344845683703 and parameters: {'gridtype': 'hexagonal', 'std_coeff': 0.7934443960849953, 'initialization': 'pca', 'epochs': 67, 'radius0': 2871.7233495831438, 'radiuscooling': 'exponential', 'scale0': 0.050758407391959824, 'scaleN': 0.03302650199091635, 'scalecooling': 'exponential'}. Best is trial 204 with value: 0.3378801354351434.\n"
     ]
    },
    {
     "name": "stderr",
     "output_type": "stream",
     "text": [
      "[I 2023-09-05 14:44:01,269] Trial 231 finished with value: 0.27922080120653014 and parameters: {'gridtype': 'hexagonal', 'std_coeff': 0.012790433201856775, 'initialization': 'pca', 'epochs': 64, 'radius0': 1879.3218041220516, 'radiuscooling': 'exponential', 'scale0': 0.05779180419552924, 'scaleN': 0.038124253965473996, 'scalecooling': 'exponential'}. Best is trial 204 with value: 0.3378801354351434.\n",
      "[I 2023-09-05 14:44:38,031] Trial 232 finished with value: 0.281638643556156 and parameters: {'gridtype': 'hexagonal', 'std_coeff': 0.011489832551422888, 'initialization': 'pca', 'epochs': 61, 'radius0': 1614.1489057453202, 'radiuscooling': 'exponential', 'scale0': 0.05923037561043771, 'scaleN': 0.03496691128026669, 'scalecooling': 'exponential'}. Best is trial 204 with value: 0.3378801354351434.\n",
      "[I 2023-09-05 14:45:16,647] Trial 233 finished with value: 0.31593480498129023 and parameters: {'gridtype': 'hexagonal', 'std_coeff': 0.014223115550934478, 'initialization': 'pca', 'epochs': 63, 'radius0': 1060.4625061116467, 'radiuscooling': 'exponential', 'scale0': 0.06453187907868813, 'scaleN': 0.013941097241797049, 'scalecooling': 'exponential'}. Best is trial 204 with value: 0.3378801354351434.\n",
      "[I 2023-09-05 14:45:52,393] Trial 234 finished with value: 0.28430196460173796 and parameters: {'gridtype': 'hexagonal', 'std_coeff': 0.012246187939969264, 'initialization': 'pca', 'epochs': 57, 'radius0': 1741.5294097914857, 'radiuscooling': 'exponential', 'scale0': 0.05374643433040927, 'scaleN': 0.028127898590460707, 'scalecooling': 'exponential'}. Best is trial 204 with value: 0.3378801354351434.\n",
      "[I 2023-09-05 14:46:40,655] Trial 235 finished with value: 0.33572723824177364 and parameters: {'gridtype': 'hexagonal', 'std_coeff': 0.01085225061265631, 'initialization': 'pca', 'epochs': 67, 'radius0': 2489.7955207757354, 'radiuscooling': 'exponential', 'scale0': 0.05801541209547573, 'scaleN': 0.021749388021901295, 'scalecooling': 'exponential'}. Best is trial 204 with value: 0.3378801354351434.\n",
      "[I 2023-09-05 14:47:18,390] Trial 236 finished with value: 0.3373204755774551 and parameters: {'gridtype': 'hexagonal', 'std_coeff': 0.011237671863625927, 'initialization': 'pca', 'epochs': 68, 'radius0': 3640.018185125772, 'radiuscooling': 'exponential', 'scale0': 0.07056445754635558, 'scaleN': 0.023622053937916263, 'scalecooling': 'exponential'}. Best is trial 204 with value: 0.3378801354351434.\n",
      "[I 2023-09-05 14:47:50,504] Trial 237 finished with value: 0.3253528697130801 and parameters: {'gridtype': 'hexagonal', 'std_coeff': 0.010756694230477364, 'initialization': 'pca', 'epochs': 59, 'radius0': 3743.8655267545505, 'radiuscooling': 'exponential', 'scale0': 0.08018340923562248, 'scaleN': 0.02602664502961058, 'scalecooling': 'exponential'}. Best is trial 204 with value: 0.3378801354351434.\n",
      "[I 2023-09-05 14:48:23,354] Trial 238 finished with value: 0.2133682357416583 and parameters: {'gridtype': 'hexagonal', 'std_coeff': 0.010833026096031073, 'initialization': 'pca', 'epochs': 67, 'radius0': 4823.402705272065, 'radiuscooling': 'linear', 'scale0': 0.0691514690734699, 'scaleN': 0.021458952625125528, 'scalecooling': 'exponential'}. Best is trial 204 with value: 0.3378801354351434.\n",
      "[I 2023-09-05 14:48:50,652] Trial 239 finished with value: 0.3047327909406329 and parameters: {'gridtype': 'hexagonal', 'std_coeff': 0.012089775955091506, 'initialization': 'pca', 'epochs': 54, 'radius0': 3236.52655176415, 'radiuscooling': 'exponential', 'scale0': 0.07362562080322264, 'scaleN': 0.01876029093478262, 'scalecooling': 'exponential'}. Best is trial 204 with value: 0.3378801354351434.\n",
      "[I 2023-09-05 14:49:19,514] Trial 240 finished with value: 0.3102245774325708 and parameters: {'gridtype': 'hexagonal', 'std_coeff': 0.12611213843108746, 'initialization': 'pca', 'epochs': 66, 'radius0': 4175.088287910136, 'radiuscooling': 'exponential', 'scale0': 0.06402658986770146, 'scaleN': 0.022556983620338433, 'scalecooling': 'exponential'}. Best is trial 204 with value: 0.3378801354351434.\n",
      "[I 2023-09-05 14:49:54,872] Trial 241 finished with value: 0.3166759923894278 and parameters: {'gridtype': 'hexagonal', 'std_coeff': 0.011121453382092705, 'initialization': 'pca', 'epochs': 70, 'radius0': 2532.657969660331, 'radiuscooling': 'exponential', 'scale0': 0.05776676617712614, 'scaleN': 0.02326680704229137, 'scalecooling': 'exponential'}. Best is trial 204 with value: 0.3378801354351434.\n",
      "[I 2023-09-05 14:50:09,798] Trial 242 finished with value: 0.3084206803672933 and parameters: {'gridtype': 'hexagonal', 'std_coeff': 0.010062790462645717, 'initialization': 'pca', 'epochs': 26, 'radius0': 2149.67903982907, 'radiuscooling': 'exponential', 'scale0': 0.052350662103090355, 'scaleN': 0.024048111444677, 'scalecooling': 'exponential'}. Best is trial 204 with value: 0.3378801354351434.\n",
      "[I 2023-09-05 14:50:44,438] Trial 243 finished with value: 0.33428250279508864 and parameters: {'gridtype': 'hexagonal', 'std_coeff': 0.012416681832913156, 'initialization': 'pca', 'epochs': 70, 'radius0': 2997.855407539118, 'radiuscooling': 'exponential', 'scale0': 0.06365288256912564, 'scaleN': 0.028897185336007145, 'scalecooling': 'exponential'}. Best is trial 204 with value: 0.3378801354351434.\n",
      "[I 2023-09-05 14:51:15,198] Trial 244 finished with value: 0.33478199279816073 and parameters: {'gridtype': 'hexagonal', 'std_coeff': 0.013832887274010037, 'initialization': 'pca', 'epochs': 61, 'radius0': 2533.368876283807, 'radiuscooling': 'exponential', 'scale0': 0.04683771869922842, 'scaleN': 0.008745579324633155, 'scalecooling': 'exponential'}. Best is trial 204 with value: 0.3378801354351434.\n",
      "[I 2023-09-05 14:51:47,887] Trial 245 finished with value: 0.28042924122167157 and parameters: {'gridtype': 'hexagonal', 'std_coeff': 0.01155985240630694, 'initialization': 'pca', 'epochs': 65, 'radius0': 3680.166815950554, 'radiuscooling': 'exponential', 'scale0': 0.05484577630324892, 'scaleN': 0.021461528469541254, 'scalecooling': 'exponential'}. Best is trial 204 with value: 0.3378801354351434.\n",
      "[I 2023-09-05 14:52:20,670] Trial 246 finished with value: 0.2880589896993669 and parameters: {'gridtype': 'hexagonal', 'std_coeff': 0.015736571000009348, 'initialization': 'pca', 'epochs': 57, 'radius0': 2080.8959479219548, 'radiuscooling': 'exponential', 'scale0': 0.07918662385294702, 'scaleN': 0.02570678975921113, 'scalecooling': 'exponential'}. Best is trial 204 with value: 0.3378801354351434.\n",
      "[I 2023-09-05 14:52:52,612] Trial 247 finished with value: 0.3171388302671785 and parameters: {'gridtype': 'hexagonal', 'std_coeff': 0.010010398873652002, 'initialization': 'pca', 'epochs': 62, 'radius0': 1286.2454997587956, 'radiuscooling': 'exponential', 'scale0': 0.06934973412415693, 'scaleN': 0.031619308235863786, 'scalecooling': 'exponential'}. Best is trial 204 with value: 0.3378801354351434.\n",
      "[I 2023-09-05 14:53:23,656] Trial 248 finished with value: 0.286890377454203 and parameters: {'gridtype': 'hexagonal', 'std_coeff': 0.012858394576443088, 'initialization': 'pca', 'epochs': 67, 'radius0': 2885.2729224050136, 'radiuscooling': 'exponential', 'scale0': 0.05989869471910856, 'scaleN': 0.029129540817826954, 'scalecooling': 'exponential'}. Best is trial 204 with value: 0.3378801354351434.\n",
      "[I 2023-09-05 14:53:30,717] Trial 249 finished with value: 0.24387971204438802 and parameters: {'gridtype': 'hexagonal', 'std_coeff': 0.01114909373281142, 'initialization': 'pca', 'epochs': 12, 'radius0': 2366.7028036502206, 'radiuscooling': 'exponential', 'scale0': 0.050738795447720454, 'scaleN': 0.025577495937911185, 'scalecooling': 'exponential'}. Best is trial 204 with value: 0.3378801354351434.\n",
      "[I 2023-09-05 14:54:06,659] Trial 250 finished with value: 0.28133045288178576 and parameters: {'gridtype': 'hexagonal', 'std_coeff': 0.014409506267409665, 'initialization': 'pca', 'epochs': 72, 'radius0': 1529.2409759041711, 'radiuscooling': 'exponential', 'scale0': 0.042895048535584686, 'scaleN': 0.031844631540493704, 'scalecooling': 'exponential'}. Best is trial 204 with value: 0.3378801354351434.\n",
      "[I 2023-09-05 14:54:35,142] Trial 251 finished with value: 0.33004477187656905 and parameters: {'gridtype': 'hexagonal', 'std_coeff': 0.01208532880586903, 'initialization': 'pca', 'epochs': 60, 'radius0': 3417.8440411650827, 'radiuscooling': 'exponential', 'scale0': 0.06411544364005622, 'scaleN': 0.027285310323512807, 'scalecooling': 'exponential'}. Best is trial 204 with value: 0.3378801354351434.\n"
     ]
    },
    {
     "name": "stderr",
     "output_type": "stream",
     "text": [
      "[I 2023-09-05 14:55:09,660] Trial 252 finished with value: 0.3338260032411884 and parameters: {'gridtype': 'hexagonal', 'std_coeff': 0.013189985790895621, 'initialization': 'pca', 'epochs': 69, 'radius0': 2013.6672377214654, 'radiuscooling': 'exponential', 'scale0': 0.05693448057300486, 'scaleN': 0.02200902429825612, 'scalecooling': 'exponential'}. Best is trial 204 with value: 0.3378801354351434.\n",
      "[I 2023-09-05 14:55:41,322] Trial 253 finished with value: 0.33216594314440684 and parameters: {'gridtype': 'hexagonal', 'std_coeff': 0.011078766639044304, 'initialization': 'pca', 'epochs': 64, 'radius0': 1191.0473080456773, 'radiuscooling': 'exponential', 'scale0': 0.07297366711514996, 'scaleN': 0.03429444375566672, 'scalecooling': 'exponential'}. Best is trial 204 with value: 0.3378801354351434.\n",
      "[I 2023-09-05 14:56:08,947] Trial 254 finished with value: 0.3318305488049497 and parameters: {'gridtype': 'hexagonal', 'std_coeff': 0.016579069532048622, 'initialization': 'pca', 'epochs': 57, 'radius0': 1768.1795125586966, 'radiuscooling': 'exponential', 'scale0': 0.04724973338493555, 'scaleN': 0.02998346361929327, 'scalecooling': 'exponential'}. Best is trial 204 with value: 0.3378801354351434.\n",
      "[I 2023-09-05 14:56:39,340] Trial 255 finished with value: 0.3069761247797804 and parameters: {'gridtype': 'hexagonal', 'std_coeff': 0.06189169314191758, 'initialization': 'pca', 'epochs': 54, 'radius0': 2868.832447780071, 'radiuscooling': 'exponential', 'scale0': 0.037679268962410466, 'scaleN': 0.018233757487333108, 'scalecooling': 'exponential'}. Best is trial 204 with value: 0.3378801354351434.\n",
      "[I 2023-09-05 14:57:13,011] Trial 256 finished with value: 0.2784207506401682 and parameters: {'gridtype': 'hexagonal', 'std_coeff': 0.010026692264966284, 'initialization': 'pca', 'epochs': 59, 'radius0': 2500.4382214021766, 'radiuscooling': 'exponential', 'scale0': 0.06219887152664305, 'scaleN': 0.001013826722073285, 'scalecooling': 'exponential'}. Best is trial 204 with value: 0.3378801354351434.\n",
      "[I 2023-09-05 14:57:44,505] Trial 257 finished with value: 0.1972648673827112 and parameters: {'gridtype': 'hexagonal', 'std_coeff': 1.7447695916008064, 'initialization': 'pca', 'epochs': 63, 'radius0': 4026.7683061889315, 'radiuscooling': 'exponential', 'scale0': 0.06848472892825601, 'scaleN': 0.02438090579845735, 'scalecooling': 'exponential'}. Best is trial 204 with value: 0.3378801354351434.\n",
      "[I 2023-09-05 14:57:55,229] Trial 258 finished with value: 0.2517788940536192 and parameters: {'gridtype': 'hexagonal', 'std_coeff': 0.012513707873737172, 'initialization': 'pca', 'epochs': 16, 'radius0': 1594.6472127831862, 'radiuscooling': 'exponential', 'scale0': 0.054921271894966955, 'scaleN': 0.039159121565255105, 'scalecooling': 'exponential'}. Best is trial 204 with value: 0.3378801354351434.\n",
      "[I 2023-09-05 14:58:03,379] Trial 259 finished with value: 0.29509204297499436 and parameters: {'gridtype': 'hexagonal', 'std_coeff': 0.014882766537306304, 'initialization': 'pca', 'epochs': 11, 'radius0': 4989.67427222896, 'radiuscooling': 'exponential', 'scale0': 0.05148938505713744, 'scaleN': 0.02061614980683076, 'scalecooling': 'exponential'}. Best is trial 204 with value: 0.3378801354351434.\n",
      "[I 2023-09-05 14:58:39,705] Trial 260 finished with value: 0.3342599867257731 and parameters: {'gridtype': 'hexagonal', 'std_coeff': 0.011415400658426516, 'initialization': 'pca', 'epochs': 68, 'radius0': 2174.9770759344115, 'radiuscooling': 'exponential', 'scale0': 0.059948549579045905, 'scaleN': 0.028089654998681865, 'scalecooling': 'exponential'}. Best is trial 204 with value: 0.3378801354351434.\n",
      "[I 2023-09-05 14:59:07,449] Trial 261 finished with value: 0.19643056829883188 and parameters: {'gridtype': 'hexagonal', 'std_coeff': 0.07892033418145479, 'initialization': 'pca', 'epochs': 62, 'radius0': 1027.2906557922945, 'radiuscooling': 'linear', 'scale0': 0.07979313293844699, 'scaleN': 0.035148547421082525, 'scalecooling': 'exponential'}. Best is trial 204 with value: 0.3378801354351434.\n",
      "[I 2023-09-05 14:59:44,218] Trial 262 finished with value: 0.3245507625127263 and parameters: {'gridtype': 'hexagonal', 'std_coeff': 0.013587739230034895, 'initialization': 'pca', 'epochs': 73, 'radius0': 1331.7024835052252, 'radiuscooling': 'exponential', 'scale0': 0.06624528458518834, 'scaleN': 0.031750002652062154, 'scalecooling': 'exponential'}. Best is trial 204 with value: 0.3378801354351434.\n",
      "[I 2023-09-05 15:00:15,180] Trial 263 finished with value: 0.32525557910970315 and parameters: {'gridtype': 'hexagonal', 'std_coeff': 0.011210842926505156, 'initialization': 'pca', 'epochs': 57, 'radius0': 3188.6759820141237, 'radiuscooling': 'exponential', 'scale0': 0.0737329074152369, 'scaleN': 0.024617654193304698, 'scalecooling': 'exponential'}. Best is trial 204 with value: 0.3378801354351434.\n",
      "[I 2023-09-05 15:00:36,973] Trial 264 finished with value: 0.21336984548615306 and parameters: {'gridtype': 'hexagonal', 'std_coeff': 0.5623815502615606, 'initialization': 'pca', 'epochs': 48, 'radius0': 1952.3587823214227, 'radiuscooling': 'exponential', 'scale0': 0.055936185759995184, 'scaleN': 0.016851274982599366, 'scalecooling': 'exponential'}. Best is trial 204 with value: 0.3378801354351434.\n",
      "[I 2023-09-05 15:01:10,765] Trial 265 finished with value: 0.28282630447192575 and parameters: {'gridtype': 'hexagonal', 'std_coeff': 0.012384762948838541, 'initialization': 'pca', 'epochs': 66, 'radius0': 2545.757578993738, 'radiuscooling': 'exponential', 'scale0': 0.08300148175690703, 'scaleN': 0.027217800965271016, 'scalecooling': 'exponential'}. Best is trial 204 with value: 0.3378801354351434.\n",
      "[I 2023-09-05 15:01:36,224] Trial 266 finished with value: 0.32050031170711124 and parameters: {'gridtype': 'hexagonal', 'std_coeff': 0.01438304740610513, 'initialization': 'pca', 'epochs': 46, 'radius0': 1490.8826606658897, 'radiuscooling': 'exponential', 'scale0': 0.050079179463063395, 'scaleN': 0.03931231331502613, 'scalecooling': 'exponential'}. Best is trial 204 with value: 0.3378801354351434.\n",
      "[I 2023-09-05 15:01:58,119] Trial 267 finished with value: 0.2802817592699093 and parameters: {'gridtype': 'hexagonal', 'std_coeff': 0.05452220422686295, 'initialization': 'pca', 'epochs': 37, 'radius0': 1791.4721764191195, 'radiuscooling': 'exponential', 'scale0': 0.062119500732355545, 'scaleN': 0.012102103683109657, 'scalecooling': 'exponential'}. Best is trial 204 with value: 0.3378801354351434.\n",
      "[I 2023-09-05 15:02:32,071] Trial 268 finished with value: 0.3266015362496205 and parameters: {'gridtype': 'hexagonal', 'std_coeff': 0.016474442932597807, 'initialization': 'pca', 'epochs': 60, 'radius0': 3365.6461877281135, 'radiuscooling': 'exponential', 'scale0': 0.0676694196154917, 'scaleN': 0.030465995373609556, 'scalecooling': 'exponential'}. Best is trial 204 with value: 0.3378801354351434.\n",
      "[I 2023-09-05 15:03:06,626] Trial 269 finished with value: 0.2847431035463494 and parameters: {'gridtype': 'hexagonal', 'std_coeff': 0.010025245753054192, 'initialization': 'pca', 'epochs': 64, 'radius0': 2185.347166277303, 'radiuscooling': 'exponential', 'scale0': 0.04588929163538531, 'scaleN': 0.03428939077579845, 'scalecooling': 'exponential'}. Best is trial 204 with value: 0.3378801354351434.\n",
      "[I 2023-09-05 15:03:39,799] Trial 270 finished with value: 0.3361803751888559 and parameters: {'gridtype': 'hexagonal', 'std_coeff': 0.011987389831781615, 'initialization': 'pca', 'epochs': 54, 'radius0': 1112.3300123925985, 'radiuscooling': 'exponential', 'scale0': 0.05654997049805777, 'scaleN': 0.023189215497138264, 'scalecooling': 'exponential'}. Best is trial 204 with value: 0.3378801354351434.\n",
      "[I 2023-09-05 15:04:08,601] Trial 271 finished with value: 0.33460271638448114 and parameters: {'gridtype': 'hexagonal', 'std_coeff': 0.013266240452720615, 'initialization': 'pca', 'epochs': 54, 'radius0': 976.0995581923718, 'radiuscooling': 'exponential', 'scale0': 0.05886364188403632, 'scaleN': 0.015343468285290738, 'scalecooling': 'exponential'}. Best is trial 204 with value: 0.3378801354351434.\n",
      "[I 2023-09-05 15:04:36,773] Trial 272 finished with value: 0.291402274909912 and parameters: {'gridtype': 'hexagonal', 'std_coeff': 0.27038968825644705, 'initialization': 'pca', 'epochs': 56, 'radius0': 1492.4340653156378, 'radiuscooling': 'exponential', 'scale0': 0.07194737912392761, 'scaleN': 0.022834327417029263, 'scalecooling': 'exponential'}. Best is trial 204 with value: 0.3378801354351434.\n"
     ]
    },
    {
     "name": "stderr",
     "output_type": "stream",
     "text": [
      "[I 2023-09-05 15:05:03,776] Trial 273 finished with value: 0.302080608895852 and parameters: {'gridtype': 'hexagonal', 'std_coeff': 0.10017806031273162, 'initialization': 'pca', 'epochs': 52, 'radius0': 1188.1922456684858, 'radiuscooling': 'exponential', 'scale0': 0.06253482859248195, 'scaleN': 0.01933829476158213, 'scalecooling': 'exponential'}. Best is trial 204 with value: 0.3378801354351434.\n",
      "[I 2023-09-05 15:05:35,839] Trial 274 finished with value: 0.3243661272231959 and parameters: {'gridtype': 'hexagonal', 'std_coeff': 0.01201026548350302, 'initialization': 'pca', 'epochs': 58, 'radius0': 4165.619371692468, 'radiuscooling': 'exponential', 'scale0': 0.04945989005557664, 'scaleN': 0.02056790867723719, 'scalecooling': 'exponential'}. Best is trial 204 with value: 0.3378801354351434.\n",
      "[I 2023-09-05 15:06:11,472] Trial 275 finished with value: 0.3349976221223767 and parameters: {'gridtype': 'hexagonal', 'std_coeff': 0.010883263661357475, 'initialization': 'pca', 'epochs': 60, 'radius0': 2808.573825339459, 'radiuscooling': 'exponential', 'scale0': 0.05437611123259202, 'scaleN': 0.045698637397882415, 'scalecooling': 'exponential'}. Best is trial 204 with value: 0.3378801354351434.\n",
      "[I 2023-09-05 15:06:40,067] Trial 276 finished with value: 0.26402473819704564 and parameters: {'gridtype': 'hexagonal', 'std_coeff': 0.015024777722571386, 'initialization': 'pca', 'epochs': 44, 'radius0': 1192.673579417957, 'radiuscooling': 'exponential', 'scale0': 0.034987195402804136, 'scaleN': 0.03594070972127025, 'scalecooling': 'exponential'}. Best is trial 204 with value: 0.3378801354351434.\n",
      "[I 2023-09-05 15:07:11,570] Trial 277 finished with value: 0.2849124921593147 and parameters: {'gridtype': 'hexagonal', 'std_coeff': 0.013205131039420961, 'initialization': 'pca', 'epochs': 55, 'radius0': 1760.210427932835, 'radiuscooling': 'exponential', 'scale0': 0.06750993381587991, 'scaleN': 0.026573499315818518, 'scalecooling': 'exponential'}. Best is trial 204 with value: 0.3378801354351434.\n",
      "[I 2023-09-05 15:07:45,765] Trial 278 finished with value: 0.2823353362218013 and parameters: {'gridtype': 'hexagonal', 'std_coeff': 0.011014890437535719, 'initialization': 'pca', 'epochs': 62, 'radius0': 1380.4477046559352, 'radiuscooling': 'exponential', 'scale0': 0.08261332870784228, 'scaleN': 0.032411770496474625, 'scalecooling': 'exponential'}. Best is trial 204 with value: 0.3378801354351434.\n",
      "[I 2023-09-05 15:08:12,874] Trial 279 finished with value: 0.2965625565493253 and parameters: {'gridtype': 'hexagonal', 'std_coeff': 0.028251337218588145, 'initialization': 'pca', 'epochs': 49, 'radius0': 3608.5028544856254, 'radiuscooling': 'exponential', 'scale0': 0.057800289326630866, 'scaleN': 0.028689386643376086, 'scalecooling': 'exponential'}. Best is trial 204 with value: 0.3378801354351434.\n",
      "[I 2023-09-05 15:08:46,921] Trial 280 finished with value: 0.31740190099871357 and parameters: {'gridtype': 'rectangular', 'std_coeff': 0.012041845325951253, 'initialization': 'pca', 'epochs': 59, 'radius0': 1011.2691766182847, 'radiuscooling': 'exponential', 'scale0': 0.07495106124242083, 'scaleN': 0.00434425777253653, 'scalecooling': 'exponential'}. Best is trial 204 with value: 0.3378801354351434.\n",
      "[I 2023-09-05 15:09:14,770] Trial 281 finished with value: 0.2174175202234831 and parameters: {'gridtype': 'hexagonal', 'std_coeff': 0.016271387548433387, 'initialization': 'pca', 'epochs': 53, 'radius0': 2534.0927157205006, 'radiuscooling': 'linear', 'scale0': 0.06419569435914874, 'scaleN': 0.02307897652022257, 'scalecooling': 'exponential'}. Best is trial 204 with value: 0.3378801354351434.\n",
      "[I 2023-09-05 15:09:56,220] Trial 282 finished with value: 0.33423516419712873 and parameters: {'gridtype': 'hexagonal', 'std_coeff': 0.01373975087519417, 'initialization': 'pca', 'epochs': 66, 'radius0': 1969.1485980759749, 'radiuscooling': 'exponential', 'scale0': 0.05180935340704113, 'scaleN': 0.03988864892747135, 'scalecooling': 'exponential'}. Best is trial 204 with value: 0.3378801354351434.\n",
      "[I 2023-09-05 15:10:33,130] Trial 283 finished with value: 0.2786005591456272 and parameters: {'gridtype': 'hexagonal', 'std_coeff': 0.010133073720567565, 'initialization': 'pca', 'epochs': 56, 'radius0': 56.22047330776258, 'radiuscooling': 'exponential', 'scale0': 0.04361183684896943, 'scaleN': 0.029857697577625412, 'scalecooling': 'exponential'}. Best is trial 204 with value: 0.3378801354351434.\n",
      "[I 2023-09-05 15:11:12,189] Trial 284 finished with value: 0.2927332466824542 and parameters: {'gridtype': 'hexagonal', 'std_coeff': 0.01225772549679303, 'initialization': 'pca', 'epochs': 63, 'radius0': 16.497433718551104, 'radiuscooling': 'exponential', 'scale0': 0.05888636925194551, 'scaleN': 0.025793710313767124, 'scalecooling': 'exponential'}. Best is trial 204 with value: 0.3378801354351434.\n",
      "[I 2023-09-05 15:11:53,388] Trial 285 finished with value: 0.335604795960884 and parameters: {'gridtype': 'hexagonal', 'std_coeff': 0.011064189684883357, 'initialization': 'pca', 'epochs': 59, 'radius0': 2944.4653993563734, 'radiuscooling': 'exponential', 'scale0': 0.0699943547230117, 'scaleN': 0.01815643789303509, 'scalecooling': 'exponential'}. Best is trial 204 with value: 0.3378801354351434.\n",
      "[I 2023-09-05 15:12:33,315] Trial 286 finished with value: 0.3359223710071185 and parameters: {'gridtype': 'hexagonal', 'std_coeff': 0.01004411642619684, 'initialization': 'pca', 'epochs': 61, 'radius0': 3362.915598698276, 'radiuscooling': 'exponential', 'scale0': 0.0782420275768414, 'scaleN': 0.01697511326113834, 'scalecooling': 'exponential'}. Best is trial 204 with value: 0.3378801354351434.\n",
      "[I 2023-09-05 15:13:07,929] Trial 287 finished with value: 0.2874697843793558 and parameters: {'gridtype': 'hexagonal', 'std_coeff': 0.011028842579213662, 'initialization': 'pca', 'epochs': 65, 'radius0': 4047.765938699416, 'radiuscooling': 'exponential', 'scale0': 0.07624765516456734, 'scaleN': 0.02070796222260788, 'scalecooling': 'exponential'}. Best is trial 204 with value: 0.3378801354351434.\n",
      "[I 2023-09-05 15:13:53,294] Trial 288 finished with value: 0.3231623121164694 and parameters: {'gridtype': 'hexagonal', 'std_coeff': 0.010076419509889698, 'initialization': 'pca', 'epochs': 86, 'radius0': 3198.3717612159785, 'radiuscooling': 'exponential', 'scale0': 0.08749861521347382, 'scaleN': 0.01832148202105641, 'scalecooling': 'exponential'}. Best is trial 204 with value: 0.3378801354351434.\n",
      "[I 2023-09-05 15:14:23,417] Trial 289 finished with value: 0.3363413246886058 and parameters: {'gridtype': 'hexagonal', 'std_coeff': 0.012007671208253926, 'initialization': 'random', 'epochs': 62, 'radius0': 2918.57674942764, 'radiuscooling': 'exponential', 'scale0': 0.08147834417415924, 'scaleN': 0.0166850030217329, 'scalecooling': 'exponential'}. Best is trial 204 with value: 0.3378801354351434.\n",
      "[I 2023-09-05 15:14:58,251] Trial 290 finished with value: 0.27624059574690496 and parameters: {'gridtype': 'hexagonal', 'std_coeff': 0.011674422413194243, 'initialization': 'random', 'epochs': 60, 'radius0': 2977.646393728448, 'radiuscooling': 'exponential', 'scale0': 0.08743779472499447, 'scaleN': 0.0158798308058138, 'scalecooling': 'exponential'}. Best is trial 204 with value: 0.3378801354351434.\n",
      "[I 2023-09-05 15:15:31,060] Trial 291 finished with value: 0.3286885738394494 and parameters: {'gridtype': 'hexagonal', 'std_coeff': 0.033958972578429336, 'initialization': 'random', 'epochs': 69, 'radius0': 3826.1079159442234, 'radiuscooling': 'exponential', 'scale0': 0.08134027152685709, 'scaleN': 0.01824182419647633, 'scalecooling': 'exponential'}. Best is trial 204 with value: 0.3378801354351434.\n",
      "[I 2023-09-05 15:16:09,025] Trial 292 finished with value: 0.27970832431790604 and parameters: {'gridtype': 'hexagonal', 'std_coeff': 0.012515753100906434, 'initialization': 'random', 'epochs': 79, 'radius0': 3239.6993069397677, 'radiuscooling': 'exponential', 'scale0': 0.07205243757244931, 'scaleN': 0.014982153722324943, 'scalecooling': 'exponential'}. Best is trial 204 with value: 0.3378801354351434.\n",
      "[I 2023-09-05 15:16:50,967] Trial 293 finished with value: 0.3411157876088221 and parameters: {'gridtype': 'hexagonal', 'std_coeff': 0.010027094275395014, 'initialization': 'random', 'epochs': 72, 'radius0': 26.54454156002509, 'radiuscooling': 'exponential', 'scale0': 0.07477695179393117, 'scaleN': 0.016923357143479697, 'scalecooling': 'exponential'}. Best is trial 293 with value: 0.3411157876088221.\n"
     ]
    },
    {
     "name": "stderr",
     "output_type": "stream",
     "text": [
      "[I 2023-09-05 15:17:24,518] Trial 294 finished with value: 0.2847684618356887 and parameters: {'gridtype': 'hexagonal', 'std_coeff': 0.01002192725019115, 'initialization': 'random', 'epochs': 71, 'radius0': 4955.735781231386, 'radiuscooling': 'exponential', 'scale0': 0.07769472845999675, 'scaleN': 0.01723945069564219, 'scalecooling': 'exponential'}. Best is trial 293 with value: 0.3411157876088221.\n",
      "[I 2023-09-05 15:17:52,543] Trial 295 finished with value: 0.31763236651701754 and parameters: {'gridtype': 'hexagonal', 'std_coeff': 0.012024023520055029, 'initialization': 'random', 'epochs': 67, 'radius0': 4.763907145655338, 'radiuscooling': 'exponential', 'scale0': 0.0893583897451825, 'scaleN': 0.014329104283236041, 'scalecooling': 'exponential'}. Best is trial 293 with value: 0.3411157876088221.\n",
      "[I 2023-09-05 15:18:35,176] Trial 296 finished with value: 0.2907146427644263 and parameters: {'gridtype': 'hexagonal', 'std_coeff': 0.010017792464223131, 'initialization': 'random', 'epochs': 73, 'radius0': 37.292189942653756, 'radiuscooling': 'exponential', 'scale0': 0.0820378600102276, 'scaleN': 0.01633802798072253, 'scalecooling': 'exponential'}. Best is trial 293 with value: 0.3411157876088221.\n",
      "[I 2023-09-05 15:19:12,652] Trial 297 finished with value: 0.29835196664623487 and parameters: {'gridtype': 'hexagonal', 'std_coeff': 0.012774780100251449, 'initialization': 'random', 'epochs': 76, 'radius0': 10.070019309055622, 'radiuscooling': 'exponential', 'scale0': 0.06823590170041915, 'scaleN': 0.012758272588585778, 'scalecooling': 'exponential'}. Best is trial 293 with value: 0.3411157876088221.\n",
      "[I 2023-09-05 15:19:47,742] Trial 298 finished with value: 0.28641555565536697 and parameters: {'gridtype': 'rectangular', 'std_coeff': 0.01111450275822396, 'initialization': 'random', 'epochs': 65, 'radius0': 30.685819515602184, 'radiuscooling': 'exponential', 'scale0': 0.07580206734596678, 'scaleN': 0.01303945787578735, 'scalecooling': 'exponential'}. Best is trial 293 with value: 0.3411157876088221.\n",
      "[I 2023-09-05 15:20:25,431] Trial 299 finished with value: 0.27776058338873727 and parameters: {'gridtype': 'hexagonal', 'std_coeff': 0.06537481235237569, 'initialization': 'random', 'epochs': 62, 'radius0': 70.40301406949433, 'radiuscooling': 'exponential', 'scale0': 0.0645866818719634, 'scaleN': 0.014950656475884172, 'scalecooling': 'exponential'}. Best is trial 293 with value: 0.3411157876088221.\n"
     ]
    }
   ],
   "source": [
    "def get_labels(som2):\n",
    "    grid_labels = [tuple(grid_label) for grid_label in som2.bmus]\n",
    "    unique_labels = [\n",
    "        tuple(grid_label) for grid_label in np.unique(grid_labels, axis=0)\n",
    "    ]\n",
    "    # Generate mapping\n",
    "    labels_mapping = {\n",
    "        grid_label: cluster_label\n",
    "        for grid_label, cluster_label in zip(\n",
    "            unique_labels, range(len(unique_labels))\n",
    "        )\n",
    "    }\n",
    "    labels = np.array(\n",
    "        [labels_mapping[grid_label] for grid_label in grid_labels]\n",
    "    )\n",
    "    predictions2=pd.Series(labels)\n",
    "    return predictions2\n",
    "\n",
    "def objective2(trial):\n",
    "    # Suggest values of the parameters using a trial object.\n",
    "    param = {\n",
    "        'n_columns': 4,\n",
    "        'n_rows': 4,\n",
    "        'initialcodebook': None,\n",
    "        'kerneltype': 0, \n",
    "        'maptype': \"planar\",\n",
    "        'gridtype': trial.suggest_categorical(\"gridtype\", [\"rectangular\", \"hexagonal\"]), \n",
    "        'compactsupport': True, \n",
    "        'neighborhood': \"gaussian\",\n",
    "        'std_coeff': trial.suggest_float('std_coeff', 1e-2, 3, log=True),\n",
    "        'initialization': trial.suggest_categorical(\"initialization\", [\"random\", \"pca\", None]),  \n",
    "        'verbose': 0, # trial.suggest_categorical(\"verbose\", [0, 1, 2]),  \n",
    "    }\n",
    "    \n",
    "    param2 = {\n",
    "        'epochs': trial.suggest_int('epochs', 10, 100, log=True),\n",
    "        'radius0': trial.suggest_float('radius0', 1, 5000, log=True),\n",
    "        'radiusN': 1,\n",
    "        'radiuscooling': trial.suggest_categorical(\"radiuscooling\", [\"linear\", \"exponential\"]),\n",
    "        'scale0': trial.suggest_float('scale0', 1e-2, 1, log=True),\n",
    "        'scaleN': trial.suggest_float('scaleN', 1e-3, 1e-1, log=True),\n",
    "        'scalecooling': trial.suggest_categorical(\"scalecooling\", [\"linear\", \"exponential\"]),\n",
    "    }\n",
    "    \n",
    "    # create SOM model\n",
    "    som2 = somoclu.Somoclu(**param)\n",
    "    som2.train(np.float32(x_train.to_numpy()), **param2)\n",
    "    som2.train(np.float32(x_test.to_numpy()), **param2)\n",
    "    # get results\n",
    "    predictions2 = get_labels(som2)\n",
    "    classes_mapping2=map_class(predictions2)\n",
    "    # change clusters to classes from mapping table\n",
    "    predictions_fix2 = predictions2.copy()\n",
    "    for index, row in classes_mapping2.iterrows():\n",
    "        predictions_fix2[predictions2==classes_mapping2.at[index, 'som']]=classes_mapping2.at[index, 'best_classes']\n",
    "    # calculate score\n",
    "    score = f1_score(y_test, predictions_fix2, average='macro')\n",
    "    return score\n",
    "\n",
    "# Create a study object and optimize the objective function.\n",
    "sampler2 = TPESampler(seed=10)\n",
    "study2 = optuna.create_study(sampler=sampler2, direction='maximize')\n",
    "study2.optimize(objective2, n_trials=300)"
   ]
  },
  {
   "cell_type": "code",
   "execution_count": 60,
   "id": "ae91df32",
   "metadata": {},
   "outputs": [
    {
     "data": {
      "application/vnd.plotly.v1+json": {
       "config": {
        "plotlyServerURL": "https://plot.ly"
       },
       "data": [
        {
         "mode": "markers",
         "name": "Objective Value",
         "type": "scatter",
         "x": [
          0,
          1,
          2,
          3,
          4,
          5,
          6,
          7,
          8,
          9,
          10,
          11,
          12,
          13,
          14,
          15,
          16,
          17,
          18,
          19,
          20,
          21,
          22,
          23,
          24,
          25,
          26,
          27,
          28,
          29,
          30,
          31,
          32,
          33,
          34,
          35,
          36,
          37,
          38,
          39,
          40,
          41,
          42,
          43,
          44,
          45,
          46,
          47,
          48,
          49,
          50,
          51,
          52,
          53,
          54,
          55,
          56,
          57,
          58,
          59,
          60,
          61,
          62,
          63,
          64,
          65,
          66,
          67,
          68,
          69,
          70,
          71,
          72,
          73,
          74,
          75,
          76,
          77,
          78,
          79,
          80,
          81,
          82,
          83,
          84,
          85,
          86,
          87,
          88,
          89,
          90,
          91,
          92,
          93,
          94,
          95,
          96,
          97,
          98,
          99,
          100,
          101,
          102,
          103,
          104,
          105,
          106,
          107,
          108,
          109,
          110,
          111,
          112,
          113,
          114,
          115,
          116,
          117,
          118,
          119,
          120,
          121,
          122,
          123,
          124,
          125,
          126,
          127,
          128,
          129,
          130,
          131,
          132,
          133,
          134,
          135,
          136,
          137,
          138,
          139,
          140,
          141,
          142,
          143,
          144,
          145,
          146,
          147,
          148,
          149,
          150,
          151,
          152,
          153,
          154,
          155,
          156,
          157,
          158,
          159,
          160,
          161,
          162,
          163,
          164,
          165,
          166,
          167,
          168,
          169,
          170,
          171,
          172,
          173,
          174,
          175,
          176,
          177,
          178,
          179,
          180,
          181,
          182,
          183,
          184,
          185,
          186,
          187,
          188,
          189,
          190,
          191,
          192,
          193,
          194,
          195,
          196,
          197,
          198,
          199,
          200,
          201,
          202,
          203,
          204,
          205,
          206,
          207,
          208,
          209,
          210,
          211,
          212,
          213,
          214,
          215,
          216,
          217,
          218,
          219,
          220,
          221,
          222,
          223,
          224,
          225,
          226,
          227,
          228,
          229,
          230,
          231,
          232,
          233,
          234,
          235,
          236,
          237,
          238,
          239,
          240,
          241,
          242,
          243,
          244,
          245,
          246,
          247,
          248,
          249,
          250,
          251,
          252,
          253,
          254,
          255,
          256,
          257,
          258,
          259,
          260,
          261,
          262,
          263,
          264,
          265,
          266,
          267,
          268,
          269,
          270,
          271,
          272,
          273,
          274,
          275,
          276,
          277,
          278,
          279,
          280,
          281,
          282,
          283,
          284,
          285,
          286,
          287,
          288,
          289,
          290,
          291,
          292,
          293,
          294,
          295,
          296,
          297,
          298,
          299
         ],
         "y": [
          0.16327813806991695,
          0.24462012407703815,
          0.21020834192164806,
          0.2985289007224547,
          0.21677681279751188,
          0.21841383430572892,
          0.24642199235586792,
          0.18364348404028444,
          0.3030567226475934,
          0.22957101172632655,
          0.3147249288162008,
          0.31800961635518343,
          0.28205347095635364,
          0.30791612322447753,
          0.31433283000907564,
          0.2266511134285175,
          0.2886636965597564,
          0.3051173928751023,
          0.3075661350914421,
          0.29695429651344696,
          0.30528849097392036,
          0.3165858694041924,
          0.31685895211113,
          0.31517589918968075,
          0.3286419945527277,
          0.27181169915694525,
          0.3064055659825083,
          0.30077823635001044,
          0.2843828146296615,
          0.2723894285641891,
          0.2843237332746158,
          0.3183887228830151,
          0.3172647365384552,
          0.31754791709536795,
          0.3171860966375867,
          0.314982873252872,
          0.3186807821962617,
          0.24920634598648156,
          0.3111201837127077,
          0.2771147542934741,
          0.24425325411127266,
          0.3174476953915773,
          0.31609027303020343,
          0.3179381209054226,
          0.3186561210408282,
          0.31732972799843223,
          0.3075738031999077,
          0.2841041509699736,
          0.3175763711518137,
          0.3108888467164649,
          0.3052487544258199,
          0.31790438895471895,
          0.3176233784651298,
          0.3172131820956322,
          0.3139078215435235,
          0.3163977131115021,
          0.317765744313784,
          0.317030149165202,
          0.3266576477063724,
          0.28132526947144915,
          0.31823229608695347,
          0.28036204887720906,
          0.3076617803787901,
          0.2546422052984946,
          0.29871250808939603,
          0.31886206451887333,
          0.3190370620131142,
          0.31589785172847107,
          0.2859649988373173,
          0.28960769374948914,
          0.31436182928794565,
          0.2748444081916454,
          0.30566871644720495,
          0.29368645315499864,
          0.2718076204476263,
          0.3184053737649012,
          0.3176466679505846,
          0.32606311920617237,
          0.32206349342021257,
          0.28459575428216943,
          0.3285823559306349,
          0.32452543985226545,
          0.32438159361058927,
          0.3253029502706186,
          0.31984634803577294,
          0.3244334488901738,
          0.3243118147900279,
          0.32367627662458376,
          0.32213580475178166,
          0.32417810348644904,
          0.3340761820334319,
          0.308489893399251,
          0.324802441664851,
          0.2991134314252609,
          0.30655019077386125,
          0.31470283033974134,
          0.32726036421843313,
          0.27523506780269474,
          0.3305552459764868,
          0.3308204593439281,
          0.3250948887559416,
          0.28818060589252525,
          0.3326554646360108,
          0.33298370596501864,
          0.3297396944967167,
          0.33110235486919454,
          0.28282430680038906,
          0.3328141209533662,
          0.33080158658401143,
          0.33053318914207397,
          0.33162793447657224,
          0.33160100195058456,
          0.33339254394171436,
          0.33173876301824623,
          0.2859483982432564,
          0.33270591449155806,
          0.33353756933028067,
          0.3342175482002941,
          0.2743316427739204,
          0.33362606388353483,
          0.3337619247978354,
          0.3319847070234897,
          0.3335503137977429,
          0.28396402818771704,
          0.3249670586327327,
          0.32681831168742953,
          0.3335967618967491,
          0.3342684306284533,
          0.33429692885308654,
          0.3361848262175692,
          0.33429891368679515,
          0.2829978807180227,
          0.2801344902675552,
          0.28025921767391293,
          0.324979696835908,
          0.32867929355233005,
          0.33600769905340033,
          0.33163714475115974,
          0.2881452348067703,
          0.24133557047292864,
          0.3327842156999916,
          0.33509875398318634,
          0.2836138694325928,
          0.3334074479213093,
          0.276948876154894,
          0.33191608617769325,
          0.33634960111707,
          0.33608269276469416,
          0.2847324115576123,
          0.3350958811421365,
          0.27530140824831506,
          0.3373909021148113,
          0.2839167942372818,
          0.33618271260001725,
          0.3360627604263673,
          0.3368729575794821,
          0.2855589345047256,
          0.33673816299436565,
          0.2881123594177936,
          0.33491049683608776,
          0.28264332171266215,
          0.2759227910414601,
          0.2844561270843472,
          0.276529535458496,
          0.336416658541729,
          0.2883628696370035,
          0.30259661573278185,
          0.33459580697072133,
          0.2293005600315134,
          0.33562837170119764,
          0.2783106313385705,
          0.33620278959470506,
          0.33595369888511983,
          0.2829980602023674,
          0.3347335097653835,
          0.2790727667626651,
          0.33145043932450347,
          0.27536008965724695,
          0.33480824818771665,
          0.28519227979010386,
          0.314243244569638,
          0.28493315603216973,
          0.3170566544723186,
          0.2798590759029429,
          0.3368522395599424,
          0.2860727688115493,
          0.28280758196809763,
          0.28262588838519337,
          0.3165225600243685,
          0.2884711095518353,
          0.28560034249038535,
          0.3342174297989745,
          0.32449807026909905,
          0.32245360778009324,
          0.28692870677384247,
          0.33193943313459523,
          0.27983661377851177,
          0.2839169973845332,
          0.28185722759425447,
          0.259284871001555,
          0.32341164996812816,
          0.3348356047976374,
          0.2988928903476882,
          0.337157662218947,
          0.3378801354351434,
          0.2838406121318727,
          0.27925055219028383,
          0.2844617826519917,
          0.3360008199293298,
          0.3344007140355161,
          0.28614215448093716,
          0.3343258287171338,
          0.3360096144837518,
          0.28477554568561936,
          0.2865387879106456,
          0.33049884833678955,
          0.33415389234154436,
          0.3353334499453735,
          0.334571997965398,
          0.2866908177194907,
          0.3362764712018794,
          0.2774341829849343,
          0.27962139066411895,
          0.32645827868940325,
          0.2837768528665538,
          0.3345325478122776,
          0.28322843064706704,
          0.28655588255009723,
          0.31767638885655225,
          0.3345805265944611,
          0.20437344845683703,
          0.27922080120653014,
          0.281638643556156,
          0.31593480498129023,
          0.28430196460173796,
          0.33572723824177364,
          0.3373204755774551,
          0.3253528697130801,
          0.2133682357416583,
          0.3047327909406329,
          0.3102245774325708,
          0.3166759923894278,
          0.3084206803672933,
          0.33428250279508864,
          0.33478199279816073,
          0.28042924122167157,
          0.2880589896993669,
          0.3171388302671785,
          0.286890377454203,
          0.24387971204438802,
          0.28133045288178576,
          0.33004477187656905,
          0.3338260032411884,
          0.33216594314440684,
          0.3318305488049497,
          0.3069761247797804,
          0.2784207506401682,
          0.1972648673827112,
          0.2517788940536192,
          0.29509204297499436,
          0.3342599867257731,
          0.19643056829883188,
          0.3245507625127263,
          0.32525557910970315,
          0.21336984548615306,
          0.28282630447192575,
          0.32050031170711124,
          0.2802817592699093,
          0.3266015362496205,
          0.2847431035463494,
          0.3361803751888559,
          0.33460271638448114,
          0.291402274909912,
          0.302080608895852,
          0.3243661272231959,
          0.3349976221223767,
          0.26402473819704564,
          0.2849124921593147,
          0.2823353362218013,
          0.2965625565493253,
          0.31740190099871357,
          0.2174175202234831,
          0.33423516419712873,
          0.2786005591456272,
          0.2927332466824542,
          0.335604795960884,
          0.3359223710071185,
          0.2874697843793558,
          0.3231623121164694,
          0.3363413246886058,
          0.27624059574690496,
          0.3286885738394494,
          0.27970832431790604,
          0.3411157876088221,
          0.2847684618356887,
          0.31763236651701754,
          0.2907146427644263,
          0.29835196664623487,
          0.28641555565536697,
          0.27776058338873727
         ]
        },
        {
         "name": "Best Value",
         "type": "scatter",
         "x": [
          0,
          1,
          2,
          3,
          4,
          5,
          6,
          7,
          8,
          9,
          10,
          11,
          12,
          13,
          14,
          15,
          16,
          17,
          18,
          19,
          20,
          21,
          22,
          23,
          24,
          25,
          26,
          27,
          28,
          29,
          30,
          31,
          32,
          33,
          34,
          35,
          36,
          37,
          38,
          39,
          40,
          41,
          42,
          43,
          44,
          45,
          46,
          47,
          48,
          49,
          50,
          51,
          52,
          53,
          54,
          55,
          56,
          57,
          58,
          59,
          60,
          61,
          62,
          63,
          64,
          65,
          66,
          67,
          68,
          69,
          70,
          71,
          72,
          73,
          74,
          75,
          76,
          77,
          78,
          79,
          80,
          81,
          82,
          83,
          84,
          85,
          86,
          87,
          88,
          89,
          90,
          91,
          92,
          93,
          94,
          95,
          96,
          97,
          98,
          99,
          100,
          101,
          102,
          103,
          104,
          105,
          106,
          107,
          108,
          109,
          110,
          111,
          112,
          113,
          114,
          115,
          116,
          117,
          118,
          119,
          120,
          121,
          122,
          123,
          124,
          125,
          126,
          127,
          128,
          129,
          130,
          131,
          132,
          133,
          134,
          135,
          136,
          137,
          138,
          139,
          140,
          141,
          142,
          143,
          144,
          145,
          146,
          147,
          148,
          149,
          150,
          151,
          152,
          153,
          154,
          155,
          156,
          157,
          158,
          159,
          160,
          161,
          162,
          163,
          164,
          165,
          166,
          167,
          168,
          169,
          170,
          171,
          172,
          173,
          174,
          175,
          176,
          177,
          178,
          179,
          180,
          181,
          182,
          183,
          184,
          185,
          186,
          187,
          188,
          189,
          190,
          191,
          192,
          193,
          194,
          195,
          196,
          197,
          198,
          199,
          200,
          201,
          202,
          203,
          204,
          205,
          206,
          207,
          208,
          209,
          210,
          211,
          212,
          213,
          214,
          215,
          216,
          217,
          218,
          219,
          220,
          221,
          222,
          223,
          224,
          225,
          226,
          227,
          228,
          229,
          230,
          231,
          232,
          233,
          234,
          235,
          236,
          237,
          238,
          239,
          240,
          241,
          242,
          243,
          244,
          245,
          246,
          247,
          248,
          249,
          250,
          251,
          252,
          253,
          254,
          255,
          256,
          257,
          258,
          259,
          260,
          261,
          262,
          263,
          264,
          265,
          266,
          267,
          268,
          269,
          270,
          271,
          272,
          273,
          274,
          275,
          276,
          277,
          278,
          279,
          280,
          281,
          282,
          283,
          284,
          285,
          286,
          287,
          288,
          289,
          290,
          291,
          292,
          293,
          294,
          295,
          296,
          297,
          298,
          299
         ],
         "y": [
          0.16327813806991695,
          0.24462012407703815,
          0.24462012407703815,
          0.2985289007224547,
          0.2985289007224547,
          0.2985289007224547,
          0.2985289007224547,
          0.2985289007224547,
          0.3030567226475934,
          0.3030567226475934,
          0.3147249288162008,
          0.31800961635518343,
          0.31800961635518343,
          0.31800961635518343,
          0.31800961635518343,
          0.31800961635518343,
          0.31800961635518343,
          0.31800961635518343,
          0.31800961635518343,
          0.31800961635518343,
          0.31800961635518343,
          0.31800961635518343,
          0.31800961635518343,
          0.31800961635518343,
          0.3286419945527277,
          0.3286419945527277,
          0.3286419945527277,
          0.3286419945527277,
          0.3286419945527277,
          0.3286419945527277,
          0.3286419945527277,
          0.3286419945527277,
          0.3286419945527277,
          0.3286419945527277,
          0.3286419945527277,
          0.3286419945527277,
          0.3286419945527277,
          0.3286419945527277,
          0.3286419945527277,
          0.3286419945527277,
          0.3286419945527277,
          0.3286419945527277,
          0.3286419945527277,
          0.3286419945527277,
          0.3286419945527277,
          0.3286419945527277,
          0.3286419945527277,
          0.3286419945527277,
          0.3286419945527277,
          0.3286419945527277,
          0.3286419945527277,
          0.3286419945527277,
          0.3286419945527277,
          0.3286419945527277,
          0.3286419945527277,
          0.3286419945527277,
          0.3286419945527277,
          0.3286419945527277,
          0.3286419945527277,
          0.3286419945527277,
          0.3286419945527277,
          0.3286419945527277,
          0.3286419945527277,
          0.3286419945527277,
          0.3286419945527277,
          0.3286419945527277,
          0.3286419945527277,
          0.3286419945527277,
          0.3286419945527277,
          0.3286419945527277,
          0.3286419945527277,
          0.3286419945527277,
          0.3286419945527277,
          0.3286419945527277,
          0.3286419945527277,
          0.3286419945527277,
          0.3286419945527277,
          0.3286419945527277,
          0.3286419945527277,
          0.3286419945527277,
          0.3286419945527277,
          0.3286419945527277,
          0.3286419945527277,
          0.3286419945527277,
          0.3286419945527277,
          0.3286419945527277,
          0.3286419945527277,
          0.3286419945527277,
          0.3286419945527277,
          0.3286419945527277,
          0.3340761820334319,
          0.3340761820334319,
          0.3340761820334319,
          0.3340761820334319,
          0.3340761820334319,
          0.3340761820334319,
          0.3340761820334319,
          0.3340761820334319,
          0.3340761820334319,
          0.3340761820334319,
          0.3340761820334319,
          0.3340761820334319,
          0.3340761820334319,
          0.3340761820334319,
          0.3340761820334319,
          0.3340761820334319,
          0.3340761820334319,
          0.3340761820334319,
          0.3340761820334319,
          0.3340761820334319,
          0.3340761820334319,
          0.3340761820334319,
          0.3340761820334319,
          0.3340761820334319,
          0.3340761820334319,
          0.3340761820334319,
          0.3340761820334319,
          0.3342175482002941,
          0.3342175482002941,
          0.3342175482002941,
          0.3342175482002941,
          0.3342175482002941,
          0.3342175482002941,
          0.3342175482002941,
          0.3342175482002941,
          0.3342175482002941,
          0.3342175482002941,
          0.3342684306284533,
          0.33429692885308654,
          0.3361848262175692,
          0.3361848262175692,
          0.3361848262175692,
          0.3361848262175692,
          0.3361848262175692,
          0.3361848262175692,
          0.3361848262175692,
          0.3361848262175692,
          0.3361848262175692,
          0.3361848262175692,
          0.3361848262175692,
          0.3361848262175692,
          0.3361848262175692,
          0.3361848262175692,
          0.3361848262175692,
          0.3361848262175692,
          0.3361848262175692,
          0.33634960111707,
          0.33634960111707,
          0.33634960111707,
          0.33634960111707,
          0.33634960111707,
          0.3373909021148113,
          0.3373909021148113,
          0.3373909021148113,
          0.3373909021148113,
          0.3373909021148113,
          0.3373909021148113,
          0.3373909021148113,
          0.3373909021148113,
          0.3373909021148113,
          0.3373909021148113,
          0.3373909021148113,
          0.3373909021148113,
          0.3373909021148113,
          0.3373909021148113,
          0.3373909021148113,
          0.3373909021148113,
          0.3373909021148113,
          0.3373909021148113,
          0.3373909021148113,
          0.3373909021148113,
          0.3373909021148113,
          0.3373909021148113,
          0.3373909021148113,
          0.3373909021148113,
          0.3373909021148113,
          0.3373909021148113,
          0.3373909021148113,
          0.3373909021148113,
          0.3373909021148113,
          0.3373909021148113,
          0.3373909021148113,
          0.3373909021148113,
          0.3373909021148113,
          0.3373909021148113,
          0.3373909021148113,
          0.3373909021148113,
          0.3373909021148113,
          0.3373909021148113,
          0.3373909021148113,
          0.3373909021148113,
          0.3373909021148113,
          0.3373909021148113,
          0.3373909021148113,
          0.3373909021148113,
          0.3373909021148113,
          0.3373909021148113,
          0.3373909021148113,
          0.3373909021148113,
          0.3373909021148113,
          0.3373909021148113,
          0.3373909021148113,
          0.3373909021148113,
          0.3373909021148113,
          0.3378801354351434,
          0.3378801354351434,
          0.3378801354351434,
          0.3378801354351434,
          0.3378801354351434,
          0.3378801354351434,
          0.3378801354351434,
          0.3378801354351434,
          0.3378801354351434,
          0.3378801354351434,
          0.3378801354351434,
          0.3378801354351434,
          0.3378801354351434,
          0.3378801354351434,
          0.3378801354351434,
          0.3378801354351434,
          0.3378801354351434,
          0.3378801354351434,
          0.3378801354351434,
          0.3378801354351434,
          0.3378801354351434,
          0.3378801354351434,
          0.3378801354351434,
          0.3378801354351434,
          0.3378801354351434,
          0.3378801354351434,
          0.3378801354351434,
          0.3378801354351434,
          0.3378801354351434,
          0.3378801354351434,
          0.3378801354351434,
          0.3378801354351434,
          0.3378801354351434,
          0.3378801354351434,
          0.3378801354351434,
          0.3378801354351434,
          0.3378801354351434,
          0.3378801354351434,
          0.3378801354351434,
          0.3378801354351434,
          0.3378801354351434,
          0.3378801354351434,
          0.3378801354351434,
          0.3378801354351434,
          0.3378801354351434,
          0.3378801354351434,
          0.3378801354351434,
          0.3378801354351434,
          0.3378801354351434,
          0.3378801354351434,
          0.3378801354351434,
          0.3378801354351434,
          0.3378801354351434,
          0.3378801354351434,
          0.3378801354351434,
          0.3378801354351434,
          0.3378801354351434,
          0.3378801354351434,
          0.3378801354351434,
          0.3378801354351434,
          0.3378801354351434,
          0.3378801354351434,
          0.3378801354351434,
          0.3378801354351434,
          0.3378801354351434,
          0.3378801354351434,
          0.3378801354351434,
          0.3378801354351434,
          0.3378801354351434,
          0.3378801354351434,
          0.3378801354351434,
          0.3378801354351434,
          0.3378801354351434,
          0.3378801354351434,
          0.3378801354351434,
          0.3378801354351434,
          0.3378801354351434,
          0.3378801354351434,
          0.3378801354351434,
          0.3378801354351434,
          0.3378801354351434,
          0.3378801354351434,
          0.3378801354351434,
          0.3378801354351434,
          0.3378801354351434,
          0.3378801354351434,
          0.3378801354351434,
          0.3378801354351434,
          0.3378801354351434,
          0.3411157876088221,
          0.3411157876088221,
          0.3411157876088221,
          0.3411157876088221,
          0.3411157876088221,
          0.3411157876088221,
          0.3411157876088221
         ]
        }
       ],
       "layout": {
        "template": {
         "data": {
          "bar": [
           {
            "error_x": {
             "color": "#2a3f5f"
            },
            "error_y": {
             "color": "#2a3f5f"
            },
            "marker": {
             "line": {
              "color": "#E5ECF6",
              "width": 0.5
             },
             "pattern": {
              "fillmode": "overlay",
              "size": 10,
              "solidity": 0.2
             }
            },
            "type": "bar"
           }
          ],
          "barpolar": [
           {
            "marker": {
             "line": {
              "color": "#E5ECF6",
              "width": 0.5
             },
             "pattern": {
              "fillmode": "overlay",
              "size": 10,
              "solidity": 0.2
             }
            },
            "type": "barpolar"
           }
          ],
          "carpet": [
           {
            "aaxis": {
             "endlinecolor": "#2a3f5f",
             "gridcolor": "white",
             "linecolor": "white",
             "minorgridcolor": "white",
             "startlinecolor": "#2a3f5f"
            },
            "baxis": {
             "endlinecolor": "#2a3f5f",
             "gridcolor": "white",
             "linecolor": "white",
             "minorgridcolor": "white",
             "startlinecolor": "#2a3f5f"
            },
            "type": "carpet"
           }
          ],
          "choropleth": [
           {
            "colorbar": {
             "outlinewidth": 0,
             "ticks": ""
            },
            "type": "choropleth"
           }
          ],
          "contour": [
           {
            "colorbar": {
             "outlinewidth": 0,
             "ticks": ""
            },
            "colorscale": [
             [
              0,
              "#0d0887"
             ],
             [
              0.1111111111111111,
              "#46039f"
             ],
             [
              0.2222222222222222,
              "#7201a8"
             ],
             [
              0.3333333333333333,
              "#9c179e"
             ],
             [
              0.4444444444444444,
              "#bd3786"
             ],
             [
              0.5555555555555556,
              "#d8576b"
             ],
             [
              0.6666666666666666,
              "#ed7953"
             ],
             [
              0.7777777777777778,
              "#fb9f3a"
             ],
             [
              0.8888888888888888,
              "#fdca26"
             ],
             [
              1,
              "#f0f921"
             ]
            ],
            "type": "contour"
           }
          ],
          "contourcarpet": [
           {
            "colorbar": {
             "outlinewidth": 0,
             "ticks": ""
            },
            "type": "contourcarpet"
           }
          ],
          "heatmap": [
           {
            "colorbar": {
             "outlinewidth": 0,
             "ticks": ""
            },
            "colorscale": [
             [
              0,
              "#0d0887"
             ],
             [
              0.1111111111111111,
              "#46039f"
             ],
             [
              0.2222222222222222,
              "#7201a8"
             ],
             [
              0.3333333333333333,
              "#9c179e"
             ],
             [
              0.4444444444444444,
              "#bd3786"
             ],
             [
              0.5555555555555556,
              "#d8576b"
             ],
             [
              0.6666666666666666,
              "#ed7953"
             ],
             [
              0.7777777777777778,
              "#fb9f3a"
             ],
             [
              0.8888888888888888,
              "#fdca26"
             ],
             [
              1,
              "#f0f921"
             ]
            ],
            "type": "heatmap"
           }
          ],
          "heatmapgl": [
           {
            "colorbar": {
             "outlinewidth": 0,
             "ticks": ""
            },
            "colorscale": [
             [
              0,
              "#0d0887"
             ],
             [
              0.1111111111111111,
              "#46039f"
             ],
             [
              0.2222222222222222,
              "#7201a8"
             ],
             [
              0.3333333333333333,
              "#9c179e"
             ],
             [
              0.4444444444444444,
              "#bd3786"
             ],
             [
              0.5555555555555556,
              "#d8576b"
             ],
             [
              0.6666666666666666,
              "#ed7953"
             ],
             [
              0.7777777777777778,
              "#fb9f3a"
             ],
             [
              0.8888888888888888,
              "#fdca26"
             ],
             [
              1,
              "#f0f921"
             ]
            ],
            "type": "heatmapgl"
           }
          ],
          "histogram": [
           {
            "marker": {
             "pattern": {
              "fillmode": "overlay",
              "size": 10,
              "solidity": 0.2
             }
            },
            "type": "histogram"
           }
          ],
          "histogram2d": [
           {
            "colorbar": {
             "outlinewidth": 0,
             "ticks": ""
            },
            "colorscale": [
             [
              0,
              "#0d0887"
             ],
             [
              0.1111111111111111,
              "#46039f"
             ],
             [
              0.2222222222222222,
              "#7201a8"
             ],
             [
              0.3333333333333333,
              "#9c179e"
             ],
             [
              0.4444444444444444,
              "#bd3786"
             ],
             [
              0.5555555555555556,
              "#d8576b"
             ],
             [
              0.6666666666666666,
              "#ed7953"
             ],
             [
              0.7777777777777778,
              "#fb9f3a"
             ],
             [
              0.8888888888888888,
              "#fdca26"
             ],
             [
              1,
              "#f0f921"
             ]
            ],
            "type": "histogram2d"
           }
          ],
          "histogram2dcontour": [
           {
            "colorbar": {
             "outlinewidth": 0,
             "ticks": ""
            },
            "colorscale": [
             [
              0,
              "#0d0887"
             ],
             [
              0.1111111111111111,
              "#46039f"
             ],
             [
              0.2222222222222222,
              "#7201a8"
             ],
             [
              0.3333333333333333,
              "#9c179e"
             ],
             [
              0.4444444444444444,
              "#bd3786"
             ],
             [
              0.5555555555555556,
              "#d8576b"
             ],
             [
              0.6666666666666666,
              "#ed7953"
             ],
             [
              0.7777777777777778,
              "#fb9f3a"
             ],
             [
              0.8888888888888888,
              "#fdca26"
             ],
             [
              1,
              "#f0f921"
             ]
            ],
            "type": "histogram2dcontour"
           }
          ],
          "mesh3d": [
           {
            "colorbar": {
             "outlinewidth": 0,
             "ticks": ""
            },
            "type": "mesh3d"
           }
          ],
          "parcoords": [
           {
            "line": {
             "colorbar": {
              "outlinewidth": 0,
              "ticks": ""
             }
            },
            "type": "parcoords"
           }
          ],
          "pie": [
           {
            "automargin": true,
            "type": "pie"
           }
          ],
          "scatter": [
           {
            "fillpattern": {
             "fillmode": "overlay",
             "size": 10,
             "solidity": 0.2
            },
            "type": "scatter"
           }
          ],
          "scatter3d": [
           {
            "line": {
             "colorbar": {
              "outlinewidth": 0,
              "ticks": ""
             }
            },
            "marker": {
             "colorbar": {
              "outlinewidth": 0,
              "ticks": ""
             }
            },
            "type": "scatter3d"
           }
          ],
          "scattercarpet": [
           {
            "marker": {
             "colorbar": {
              "outlinewidth": 0,
              "ticks": ""
             }
            },
            "type": "scattercarpet"
           }
          ],
          "scattergeo": [
           {
            "marker": {
             "colorbar": {
              "outlinewidth": 0,
              "ticks": ""
             }
            },
            "type": "scattergeo"
           }
          ],
          "scattergl": [
           {
            "marker": {
             "colorbar": {
              "outlinewidth": 0,
              "ticks": ""
             }
            },
            "type": "scattergl"
           }
          ],
          "scattermapbox": [
           {
            "marker": {
             "colorbar": {
              "outlinewidth": 0,
              "ticks": ""
             }
            },
            "type": "scattermapbox"
           }
          ],
          "scatterpolar": [
           {
            "marker": {
             "colorbar": {
              "outlinewidth": 0,
              "ticks": ""
             }
            },
            "type": "scatterpolar"
           }
          ],
          "scatterpolargl": [
           {
            "marker": {
             "colorbar": {
              "outlinewidth": 0,
              "ticks": ""
             }
            },
            "type": "scatterpolargl"
           }
          ],
          "scatterternary": [
           {
            "marker": {
             "colorbar": {
              "outlinewidth": 0,
              "ticks": ""
             }
            },
            "type": "scatterternary"
           }
          ],
          "surface": [
           {
            "colorbar": {
             "outlinewidth": 0,
             "ticks": ""
            },
            "colorscale": [
             [
              0,
              "#0d0887"
             ],
             [
              0.1111111111111111,
              "#46039f"
             ],
             [
              0.2222222222222222,
              "#7201a8"
             ],
             [
              0.3333333333333333,
              "#9c179e"
             ],
             [
              0.4444444444444444,
              "#bd3786"
             ],
             [
              0.5555555555555556,
              "#d8576b"
             ],
             [
              0.6666666666666666,
              "#ed7953"
             ],
             [
              0.7777777777777778,
              "#fb9f3a"
             ],
             [
              0.8888888888888888,
              "#fdca26"
             ],
             [
              1,
              "#f0f921"
             ]
            ],
            "type": "surface"
           }
          ],
          "table": [
           {
            "cells": {
             "fill": {
              "color": "#EBF0F8"
             },
             "line": {
              "color": "white"
             }
            },
            "header": {
             "fill": {
              "color": "#C8D4E3"
             },
             "line": {
              "color": "white"
             }
            },
            "type": "table"
           }
          ]
         },
         "layout": {
          "annotationdefaults": {
           "arrowcolor": "#2a3f5f",
           "arrowhead": 0,
           "arrowwidth": 1
          },
          "autotypenumbers": "strict",
          "coloraxis": {
           "colorbar": {
            "outlinewidth": 0,
            "ticks": ""
           }
          },
          "colorscale": {
           "diverging": [
            [
             0,
             "#8e0152"
            ],
            [
             0.1,
             "#c51b7d"
            ],
            [
             0.2,
             "#de77ae"
            ],
            [
             0.3,
             "#f1b6da"
            ],
            [
             0.4,
             "#fde0ef"
            ],
            [
             0.5,
             "#f7f7f7"
            ],
            [
             0.6,
             "#e6f5d0"
            ],
            [
             0.7,
             "#b8e186"
            ],
            [
             0.8,
             "#7fbc41"
            ],
            [
             0.9,
             "#4d9221"
            ],
            [
             1,
             "#276419"
            ]
           ],
           "sequential": [
            [
             0,
             "#0d0887"
            ],
            [
             0.1111111111111111,
             "#46039f"
            ],
            [
             0.2222222222222222,
             "#7201a8"
            ],
            [
             0.3333333333333333,
             "#9c179e"
            ],
            [
             0.4444444444444444,
             "#bd3786"
            ],
            [
             0.5555555555555556,
             "#d8576b"
            ],
            [
             0.6666666666666666,
             "#ed7953"
            ],
            [
             0.7777777777777778,
             "#fb9f3a"
            ],
            [
             0.8888888888888888,
             "#fdca26"
            ],
            [
             1,
             "#f0f921"
            ]
           ],
           "sequentialminus": [
            [
             0,
             "#0d0887"
            ],
            [
             0.1111111111111111,
             "#46039f"
            ],
            [
             0.2222222222222222,
             "#7201a8"
            ],
            [
             0.3333333333333333,
             "#9c179e"
            ],
            [
             0.4444444444444444,
             "#bd3786"
            ],
            [
             0.5555555555555556,
             "#d8576b"
            ],
            [
             0.6666666666666666,
             "#ed7953"
            ],
            [
             0.7777777777777778,
             "#fb9f3a"
            ],
            [
             0.8888888888888888,
             "#fdca26"
            ],
            [
             1,
             "#f0f921"
            ]
           ]
          },
          "colorway": [
           "#636efa",
           "#EF553B",
           "#00cc96",
           "#ab63fa",
           "#FFA15A",
           "#19d3f3",
           "#FF6692",
           "#B6E880",
           "#FF97FF",
           "#FECB52"
          ],
          "font": {
           "color": "#2a3f5f"
          },
          "geo": {
           "bgcolor": "white",
           "lakecolor": "white",
           "landcolor": "#E5ECF6",
           "showlakes": true,
           "showland": true,
           "subunitcolor": "white"
          },
          "hoverlabel": {
           "align": "left"
          },
          "hovermode": "closest",
          "mapbox": {
           "style": "light"
          },
          "paper_bgcolor": "white",
          "plot_bgcolor": "#E5ECF6",
          "polar": {
           "angularaxis": {
            "gridcolor": "white",
            "linecolor": "white",
            "ticks": ""
           },
           "bgcolor": "#E5ECF6",
           "radialaxis": {
            "gridcolor": "white",
            "linecolor": "white",
            "ticks": ""
           }
          },
          "scene": {
           "xaxis": {
            "backgroundcolor": "#E5ECF6",
            "gridcolor": "white",
            "gridwidth": 2,
            "linecolor": "white",
            "showbackground": true,
            "ticks": "",
            "zerolinecolor": "white"
           },
           "yaxis": {
            "backgroundcolor": "#E5ECF6",
            "gridcolor": "white",
            "gridwidth": 2,
            "linecolor": "white",
            "showbackground": true,
            "ticks": "",
            "zerolinecolor": "white"
           },
           "zaxis": {
            "backgroundcolor": "#E5ECF6",
            "gridcolor": "white",
            "gridwidth": 2,
            "linecolor": "white",
            "showbackground": true,
            "ticks": "",
            "zerolinecolor": "white"
           }
          },
          "shapedefaults": {
           "line": {
            "color": "#2a3f5f"
           }
          },
          "ternary": {
           "aaxis": {
            "gridcolor": "white",
            "linecolor": "white",
            "ticks": ""
           },
           "baxis": {
            "gridcolor": "white",
            "linecolor": "white",
            "ticks": ""
           },
           "bgcolor": "#E5ECF6",
           "caxis": {
            "gridcolor": "white",
            "linecolor": "white",
            "ticks": ""
           }
          },
          "title": {
           "x": 0.05
          },
          "xaxis": {
           "automargin": true,
           "gridcolor": "white",
           "linecolor": "white",
           "ticks": "",
           "title": {
            "standoff": 15
           },
           "zerolinecolor": "white",
           "zerolinewidth": 2
          },
          "yaxis": {
           "automargin": true,
           "gridcolor": "white",
           "linecolor": "white",
           "ticks": "",
           "title": {
            "standoff": 15
           },
           "zerolinecolor": "white",
           "zerolinewidth": 2
          }
         }
        },
        "title": {
         "text": "Optimization History Plot"
        },
        "xaxis": {
         "title": {
          "text": "Trial"
         }
        },
        "yaxis": {
         "title": {
          "text": "Objective Value"
         }
        }
       }
      },
      "text/html": [
       "<div>                            <div id=\"abad06da-ef40-441f-bbf6-911b8ba96189\" class=\"plotly-graph-div\" style=\"height:525px; width:100%;\"></div>            <script type=\"text/javascript\">                require([\"plotly\"], function(Plotly) {                    window.PLOTLYENV=window.PLOTLYENV || {};                                    if (document.getElementById(\"abad06da-ef40-441f-bbf6-911b8ba96189\")) {                    Plotly.newPlot(                        \"abad06da-ef40-441f-bbf6-911b8ba96189\",                        [{\"mode\":\"markers\",\"name\":\"Objective Value\",\"x\":[0,1,2,3,4,5,6,7,8,9,10,11,12,13,14,15,16,17,18,19,20,21,22,23,24,25,26,27,28,29,30,31,32,33,34,35,36,37,38,39,40,41,42,43,44,45,46,47,48,49,50,51,52,53,54,55,56,57,58,59,60,61,62,63,64,65,66,67,68,69,70,71,72,73,74,75,76,77,78,79,80,81,82,83,84,85,86,87,88,89,90,91,92,93,94,95,96,97,98,99,100,101,102,103,104,105,106,107,108,109,110,111,112,113,114,115,116,117,118,119,120,121,122,123,124,125,126,127,128,129,130,131,132,133,134,135,136,137,138,139,140,141,142,143,144,145,146,147,148,149,150,151,152,153,154,155,156,157,158,159,160,161,162,163,164,165,166,167,168,169,170,171,172,173,174,175,176,177,178,179,180,181,182,183,184,185,186,187,188,189,190,191,192,193,194,195,196,197,198,199,200,201,202,203,204,205,206,207,208,209,210,211,212,213,214,215,216,217,218,219,220,221,222,223,224,225,226,227,228,229,230,231,232,233,234,235,236,237,238,239,240,241,242,243,244,245,246,247,248,249,250,251,252,253,254,255,256,257,258,259,260,261,262,263,264,265,266,267,268,269,270,271,272,273,274,275,276,277,278,279,280,281,282,283,284,285,286,287,288,289,290,291,292,293,294,295,296,297,298,299],\"y\":[0.16327813806991695,0.24462012407703815,0.21020834192164806,0.2985289007224547,0.21677681279751188,0.21841383430572892,0.24642199235586792,0.18364348404028444,0.3030567226475934,0.22957101172632655,0.3147249288162008,0.31800961635518343,0.28205347095635364,0.30791612322447753,0.31433283000907564,0.2266511134285175,0.2886636965597564,0.3051173928751023,0.3075661350914421,0.29695429651344696,0.30528849097392036,0.3165858694041924,0.31685895211113,0.31517589918968075,0.3286419945527277,0.27181169915694525,0.3064055659825083,0.30077823635001044,0.2843828146296615,0.2723894285641891,0.2843237332746158,0.3183887228830151,0.3172647365384552,0.31754791709536795,0.3171860966375867,0.314982873252872,0.3186807821962617,0.24920634598648156,0.3111201837127077,0.2771147542934741,0.24425325411127266,0.3174476953915773,0.31609027303020343,0.3179381209054226,0.3186561210408282,0.31732972799843223,0.3075738031999077,0.2841041509699736,0.3175763711518137,0.3108888467164649,0.3052487544258199,0.31790438895471895,0.3176233784651298,0.3172131820956322,0.3139078215435235,0.3163977131115021,0.317765744313784,0.317030149165202,0.3266576477063724,0.28132526947144915,0.31823229608695347,0.28036204887720906,0.3076617803787901,0.2546422052984946,0.29871250808939603,0.31886206451887333,0.3190370620131142,0.31589785172847107,0.2859649988373173,0.28960769374948914,0.31436182928794565,0.2748444081916454,0.30566871644720495,0.29368645315499864,0.2718076204476263,0.3184053737649012,0.3176466679505846,0.32606311920617237,0.32206349342021257,0.28459575428216943,0.3285823559306349,0.32452543985226545,0.32438159361058927,0.3253029502706186,0.31984634803577294,0.3244334488901738,0.3243118147900279,0.32367627662458376,0.32213580475178166,0.32417810348644904,0.3340761820334319,0.308489893399251,0.324802441664851,0.2991134314252609,0.30655019077386125,0.31470283033974134,0.32726036421843313,0.27523506780269474,0.3305552459764868,0.3308204593439281,0.3250948887559416,0.28818060589252525,0.3326554646360108,0.33298370596501864,0.3297396944967167,0.33110235486919454,0.28282430680038906,0.3328141209533662,0.33080158658401143,0.33053318914207397,0.33162793447657224,0.33160100195058456,0.33339254394171436,0.33173876301824623,0.2859483982432564,0.33270591449155806,0.33353756933028067,0.3342175482002941,0.2743316427739204,0.33362606388353483,0.3337619247978354,0.3319847070234897,0.3335503137977429,0.28396402818771704,0.3249670586327327,0.32681831168742953,0.3335967618967491,0.3342684306284533,0.33429692885308654,0.3361848262175692,0.33429891368679515,0.2829978807180227,0.2801344902675552,0.28025921767391293,0.324979696835908,0.32867929355233005,0.33600769905340033,0.33163714475115974,0.2881452348067703,0.24133557047292864,0.3327842156999916,0.33509875398318634,0.2836138694325928,0.3334074479213093,0.276948876154894,0.33191608617769325,0.33634960111707,0.33608269276469416,0.2847324115576123,0.3350958811421365,0.27530140824831506,0.3373909021148113,0.2839167942372818,0.33618271260001725,0.3360627604263673,0.3368729575794821,0.2855589345047256,0.33673816299436565,0.2881123594177936,0.33491049683608776,0.28264332171266215,0.2759227910414601,0.2844561270843472,0.276529535458496,0.336416658541729,0.2883628696370035,0.30259661573278185,0.33459580697072133,0.2293005600315134,0.33562837170119764,0.2783106313385705,0.33620278959470506,0.33595369888511983,0.2829980602023674,0.3347335097653835,0.2790727667626651,0.33145043932450347,0.27536008965724695,0.33480824818771665,0.28519227979010386,0.314243244569638,0.28493315603216973,0.3170566544723186,0.2798590759029429,0.3368522395599424,0.2860727688115493,0.28280758196809763,0.28262588838519337,0.3165225600243685,0.2884711095518353,0.28560034249038535,0.3342174297989745,0.32449807026909905,0.32245360778009324,0.28692870677384247,0.33193943313459523,0.27983661377851177,0.2839169973845332,0.28185722759425447,0.259284871001555,0.32341164996812816,0.3348356047976374,0.2988928903476882,0.337157662218947,0.3378801354351434,0.2838406121318727,0.27925055219028383,0.2844617826519917,0.3360008199293298,0.3344007140355161,0.28614215448093716,0.3343258287171338,0.3360096144837518,0.28477554568561936,0.2865387879106456,0.33049884833678955,0.33415389234154436,0.3353334499453735,0.334571997965398,0.2866908177194907,0.3362764712018794,0.2774341829849343,0.27962139066411895,0.32645827868940325,0.2837768528665538,0.3345325478122776,0.28322843064706704,0.28655588255009723,0.31767638885655225,0.3345805265944611,0.20437344845683703,0.27922080120653014,0.281638643556156,0.31593480498129023,0.28430196460173796,0.33572723824177364,0.3373204755774551,0.3253528697130801,0.2133682357416583,0.3047327909406329,0.3102245774325708,0.3166759923894278,0.3084206803672933,0.33428250279508864,0.33478199279816073,0.28042924122167157,0.2880589896993669,0.3171388302671785,0.286890377454203,0.24387971204438802,0.28133045288178576,0.33004477187656905,0.3338260032411884,0.33216594314440684,0.3318305488049497,0.3069761247797804,0.2784207506401682,0.1972648673827112,0.2517788940536192,0.29509204297499436,0.3342599867257731,0.19643056829883188,0.3245507625127263,0.32525557910970315,0.21336984548615306,0.28282630447192575,0.32050031170711124,0.2802817592699093,0.3266015362496205,0.2847431035463494,0.3361803751888559,0.33460271638448114,0.291402274909912,0.302080608895852,0.3243661272231959,0.3349976221223767,0.26402473819704564,0.2849124921593147,0.2823353362218013,0.2965625565493253,0.31740190099871357,0.2174175202234831,0.33423516419712873,0.2786005591456272,0.2927332466824542,0.335604795960884,0.3359223710071185,0.2874697843793558,0.3231623121164694,0.3363413246886058,0.27624059574690496,0.3286885738394494,0.27970832431790604,0.3411157876088221,0.2847684618356887,0.31763236651701754,0.2907146427644263,0.29835196664623487,0.28641555565536697,0.27776058338873727],\"type\":\"scatter\"},{\"name\":\"Best Value\",\"x\":[0,1,2,3,4,5,6,7,8,9,10,11,12,13,14,15,16,17,18,19,20,21,22,23,24,25,26,27,28,29,30,31,32,33,34,35,36,37,38,39,40,41,42,43,44,45,46,47,48,49,50,51,52,53,54,55,56,57,58,59,60,61,62,63,64,65,66,67,68,69,70,71,72,73,74,75,76,77,78,79,80,81,82,83,84,85,86,87,88,89,90,91,92,93,94,95,96,97,98,99,100,101,102,103,104,105,106,107,108,109,110,111,112,113,114,115,116,117,118,119,120,121,122,123,124,125,126,127,128,129,130,131,132,133,134,135,136,137,138,139,140,141,142,143,144,145,146,147,148,149,150,151,152,153,154,155,156,157,158,159,160,161,162,163,164,165,166,167,168,169,170,171,172,173,174,175,176,177,178,179,180,181,182,183,184,185,186,187,188,189,190,191,192,193,194,195,196,197,198,199,200,201,202,203,204,205,206,207,208,209,210,211,212,213,214,215,216,217,218,219,220,221,222,223,224,225,226,227,228,229,230,231,232,233,234,235,236,237,238,239,240,241,242,243,244,245,246,247,248,249,250,251,252,253,254,255,256,257,258,259,260,261,262,263,264,265,266,267,268,269,270,271,272,273,274,275,276,277,278,279,280,281,282,283,284,285,286,287,288,289,290,291,292,293,294,295,296,297,298,299],\"y\":[0.16327813806991695,0.24462012407703815,0.24462012407703815,0.2985289007224547,0.2985289007224547,0.2985289007224547,0.2985289007224547,0.2985289007224547,0.3030567226475934,0.3030567226475934,0.3147249288162008,0.31800961635518343,0.31800961635518343,0.31800961635518343,0.31800961635518343,0.31800961635518343,0.31800961635518343,0.31800961635518343,0.31800961635518343,0.31800961635518343,0.31800961635518343,0.31800961635518343,0.31800961635518343,0.31800961635518343,0.3286419945527277,0.3286419945527277,0.3286419945527277,0.3286419945527277,0.3286419945527277,0.3286419945527277,0.3286419945527277,0.3286419945527277,0.3286419945527277,0.3286419945527277,0.3286419945527277,0.3286419945527277,0.3286419945527277,0.3286419945527277,0.3286419945527277,0.3286419945527277,0.3286419945527277,0.3286419945527277,0.3286419945527277,0.3286419945527277,0.3286419945527277,0.3286419945527277,0.3286419945527277,0.3286419945527277,0.3286419945527277,0.3286419945527277,0.3286419945527277,0.3286419945527277,0.3286419945527277,0.3286419945527277,0.3286419945527277,0.3286419945527277,0.3286419945527277,0.3286419945527277,0.3286419945527277,0.3286419945527277,0.3286419945527277,0.3286419945527277,0.3286419945527277,0.3286419945527277,0.3286419945527277,0.3286419945527277,0.3286419945527277,0.3286419945527277,0.3286419945527277,0.3286419945527277,0.3286419945527277,0.3286419945527277,0.3286419945527277,0.3286419945527277,0.3286419945527277,0.3286419945527277,0.3286419945527277,0.3286419945527277,0.3286419945527277,0.3286419945527277,0.3286419945527277,0.3286419945527277,0.3286419945527277,0.3286419945527277,0.3286419945527277,0.3286419945527277,0.3286419945527277,0.3286419945527277,0.3286419945527277,0.3286419945527277,0.3340761820334319,0.3340761820334319,0.3340761820334319,0.3340761820334319,0.3340761820334319,0.3340761820334319,0.3340761820334319,0.3340761820334319,0.3340761820334319,0.3340761820334319,0.3340761820334319,0.3340761820334319,0.3340761820334319,0.3340761820334319,0.3340761820334319,0.3340761820334319,0.3340761820334319,0.3340761820334319,0.3340761820334319,0.3340761820334319,0.3340761820334319,0.3340761820334319,0.3340761820334319,0.3340761820334319,0.3340761820334319,0.3340761820334319,0.3340761820334319,0.3342175482002941,0.3342175482002941,0.3342175482002941,0.3342175482002941,0.3342175482002941,0.3342175482002941,0.3342175482002941,0.3342175482002941,0.3342175482002941,0.3342175482002941,0.3342684306284533,0.33429692885308654,0.3361848262175692,0.3361848262175692,0.3361848262175692,0.3361848262175692,0.3361848262175692,0.3361848262175692,0.3361848262175692,0.3361848262175692,0.3361848262175692,0.3361848262175692,0.3361848262175692,0.3361848262175692,0.3361848262175692,0.3361848262175692,0.3361848262175692,0.3361848262175692,0.3361848262175692,0.33634960111707,0.33634960111707,0.33634960111707,0.33634960111707,0.33634960111707,0.3373909021148113,0.3373909021148113,0.3373909021148113,0.3373909021148113,0.3373909021148113,0.3373909021148113,0.3373909021148113,0.3373909021148113,0.3373909021148113,0.3373909021148113,0.3373909021148113,0.3373909021148113,0.3373909021148113,0.3373909021148113,0.3373909021148113,0.3373909021148113,0.3373909021148113,0.3373909021148113,0.3373909021148113,0.3373909021148113,0.3373909021148113,0.3373909021148113,0.3373909021148113,0.3373909021148113,0.3373909021148113,0.3373909021148113,0.3373909021148113,0.3373909021148113,0.3373909021148113,0.3373909021148113,0.3373909021148113,0.3373909021148113,0.3373909021148113,0.3373909021148113,0.3373909021148113,0.3373909021148113,0.3373909021148113,0.3373909021148113,0.3373909021148113,0.3373909021148113,0.3373909021148113,0.3373909021148113,0.3373909021148113,0.3373909021148113,0.3373909021148113,0.3373909021148113,0.3373909021148113,0.3373909021148113,0.3373909021148113,0.3373909021148113,0.3373909021148113,0.3373909021148113,0.3373909021148113,0.3378801354351434,0.3378801354351434,0.3378801354351434,0.3378801354351434,0.3378801354351434,0.3378801354351434,0.3378801354351434,0.3378801354351434,0.3378801354351434,0.3378801354351434,0.3378801354351434,0.3378801354351434,0.3378801354351434,0.3378801354351434,0.3378801354351434,0.3378801354351434,0.3378801354351434,0.3378801354351434,0.3378801354351434,0.3378801354351434,0.3378801354351434,0.3378801354351434,0.3378801354351434,0.3378801354351434,0.3378801354351434,0.3378801354351434,0.3378801354351434,0.3378801354351434,0.3378801354351434,0.3378801354351434,0.3378801354351434,0.3378801354351434,0.3378801354351434,0.3378801354351434,0.3378801354351434,0.3378801354351434,0.3378801354351434,0.3378801354351434,0.3378801354351434,0.3378801354351434,0.3378801354351434,0.3378801354351434,0.3378801354351434,0.3378801354351434,0.3378801354351434,0.3378801354351434,0.3378801354351434,0.3378801354351434,0.3378801354351434,0.3378801354351434,0.3378801354351434,0.3378801354351434,0.3378801354351434,0.3378801354351434,0.3378801354351434,0.3378801354351434,0.3378801354351434,0.3378801354351434,0.3378801354351434,0.3378801354351434,0.3378801354351434,0.3378801354351434,0.3378801354351434,0.3378801354351434,0.3378801354351434,0.3378801354351434,0.3378801354351434,0.3378801354351434,0.3378801354351434,0.3378801354351434,0.3378801354351434,0.3378801354351434,0.3378801354351434,0.3378801354351434,0.3378801354351434,0.3378801354351434,0.3378801354351434,0.3378801354351434,0.3378801354351434,0.3378801354351434,0.3378801354351434,0.3378801354351434,0.3378801354351434,0.3378801354351434,0.3378801354351434,0.3378801354351434,0.3378801354351434,0.3378801354351434,0.3378801354351434,0.3411157876088221,0.3411157876088221,0.3411157876088221,0.3411157876088221,0.3411157876088221,0.3411157876088221,0.3411157876088221],\"type\":\"scatter\"}],                        {\"title\":{\"text\":\"Optimization History Plot\"},\"xaxis\":{\"title\":{\"text\":\"Trial\"}},\"yaxis\":{\"title\":{\"text\":\"Objective Value\"}},\"template\":{\"data\":{\"histogram2dcontour\":[{\"type\":\"histogram2dcontour\",\"colorbar\":{\"outlinewidth\":0,\"ticks\":\"\"},\"colorscale\":[[0.0,\"#0d0887\"],[0.1111111111111111,\"#46039f\"],[0.2222222222222222,\"#7201a8\"],[0.3333333333333333,\"#9c179e\"],[0.4444444444444444,\"#bd3786\"],[0.5555555555555556,\"#d8576b\"],[0.6666666666666666,\"#ed7953\"],[0.7777777777777778,\"#fb9f3a\"],[0.8888888888888888,\"#fdca26\"],[1.0,\"#f0f921\"]]}],\"choropleth\":[{\"type\":\"choropleth\",\"colorbar\":{\"outlinewidth\":0,\"ticks\":\"\"}}],\"histogram2d\":[{\"type\":\"histogram2d\",\"colorbar\":{\"outlinewidth\":0,\"ticks\":\"\"},\"colorscale\":[[0.0,\"#0d0887\"],[0.1111111111111111,\"#46039f\"],[0.2222222222222222,\"#7201a8\"],[0.3333333333333333,\"#9c179e\"],[0.4444444444444444,\"#bd3786\"],[0.5555555555555556,\"#d8576b\"],[0.6666666666666666,\"#ed7953\"],[0.7777777777777778,\"#fb9f3a\"],[0.8888888888888888,\"#fdca26\"],[1.0,\"#f0f921\"]]}],\"heatmap\":[{\"type\":\"heatmap\",\"colorbar\":{\"outlinewidth\":0,\"ticks\":\"\"},\"colorscale\":[[0.0,\"#0d0887\"],[0.1111111111111111,\"#46039f\"],[0.2222222222222222,\"#7201a8\"],[0.3333333333333333,\"#9c179e\"],[0.4444444444444444,\"#bd3786\"],[0.5555555555555556,\"#d8576b\"],[0.6666666666666666,\"#ed7953\"],[0.7777777777777778,\"#fb9f3a\"],[0.8888888888888888,\"#fdca26\"],[1.0,\"#f0f921\"]]}],\"heatmapgl\":[{\"type\":\"heatmapgl\",\"colorbar\":{\"outlinewidth\":0,\"ticks\":\"\"},\"colorscale\":[[0.0,\"#0d0887\"],[0.1111111111111111,\"#46039f\"],[0.2222222222222222,\"#7201a8\"],[0.3333333333333333,\"#9c179e\"],[0.4444444444444444,\"#bd3786\"],[0.5555555555555556,\"#d8576b\"],[0.6666666666666666,\"#ed7953\"],[0.7777777777777778,\"#fb9f3a\"],[0.8888888888888888,\"#fdca26\"],[1.0,\"#f0f921\"]]}],\"contourcarpet\":[{\"type\":\"contourcarpet\",\"colorbar\":{\"outlinewidth\":0,\"ticks\":\"\"}}],\"contour\":[{\"type\":\"contour\",\"colorbar\":{\"outlinewidth\":0,\"ticks\":\"\"},\"colorscale\":[[0.0,\"#0d0887\"],[0.1111111111111111,\"#46039f\"],[0.2222222222222222,\"#7201a8\"],[0.3333333333333333,\"#9c179e\"],[0.4444444444444444,\"#bd3786\"],[0.5555555555555556,\"#d8576b\"],[0.6666666666666666,\"#ed7953\"],[0.7777777777777778,\"#fb9f3a\"],[0.8888888888888888,\"#fdca26\"],[1.0,\"#f0f921\"]]}],\"surface\":[{\"type\":\"surface\",\"colorbar\":{\"outlinewidth\":0,\"ticks\":\"\"},\"colorscale\":[[0.0,\"#0d0887\"],[0.1111111111111111,\"#46039f\"],[0.2222222222222222,\"#7201a8\"],[0.3333333333333333,\"#9c179e\"],[0.4444444444444444,\"#bd3786\"],[0.5555555555555556,\"#d8576b\"],[0.6666666666666666,\"#ed7953\"],[0.7777777777777778,\"#fb9f3a\"],[0.8888888888888888,\"#fdca26\"],[1.0,\"#f0f921\"]]}],\"mesh3d\":[{\"type\":\"mesh3d\",\"colorbar\":{\"outlinewidth\":0,\"ticks\":\"\"}}],\"scatter\":[{\"fillpattern\":{\"fillmode\":\"overlay\",\"size\":10,\"solidity\":0.2},\"type\":\"scatter\"}],\"parcoords\":[{\"type\":\"parcoords\",\"line\":{\"colorbar\":{\"outlinewidth\":0,\"ticks\":\"\"}}}],\"scatterpolargl\":[{\"type\":\"scatterpolargl\",\"marker\":{\"colorbar\":{\"outlinewidth\":0,\"ticks\":\"\"}}}],\"bar\":[{\"error_x\":{\"color\":\"#2a3f5f\"},\"error_y\":{\"color\":\"#2a3f5f\"},\"marker\":{\"line\":{\"color\":\"#E5ECF6\",\"width\":0.5},\"pattern\":{\"fillmode\":\"overlay\",\"size\":10,\"solidity\":0.2}},\"type\":\"bar\"}],\"scattergeo\":[{\"type\":\"scattergeo\",\"marker\":{\"colorbar\":{\"outlinewidth\":0,\"ticks\":\"\"}}}],\"scatterpolar\":[{\"type\":\"scatterpolar\",\"marker\":{\"colorbar\":{\"outlinewidth\":0,\"ticks\":\"\"}}}],\"histogram\":[{\"marker\":{\"pattern\":{\"fillmode\":\"overlay\",\"size\":10,\"solidity\":0.2}},\"type\":\"histogram\"}],\"scattergl\":[{\"type\":\"scattergl\",\"marker\":{\"colorbar\":{\"outlinewidth\":0,\"ticks\":\"\"}}}],\"scatter3d\":[{\"type\":\"scatter3d\",\"line\":{\"colorbar\":{\"outlinewidth\":0,\"ticks\":\"\"}},\"marker\":{\"colorbar\":{\"outlinewidth\":0,\"ticks\":\"\"}}}],\"scattermapbox\":[{\"type\":\"scattermapbox\",\"marker\":{\"colorbar\":{\"outlinewidth\":0,\"ticks\":\"\"}}}],\"scatterternary\":[{\"type\":\"scatterternary\",\"marker\":{\"colorbar\":{\"outlinewidth\":0,\"ticks\":\"\"}}}],\"scattercarpet\":[{\"type\":\"scattercarpet\",\"marker\":{\"colorbar\":{\"outlinewidth\":0,\"ticks\":\"\"}}}],\"carpet\":[{\"aaxis\":{\"endlinecolor\":\"#2a3f5f\",\"gridcolor\":\"white\",\"linecolor\":\"white\",\"minorgridcolor\":\"white\",\"startlinecolor\":\"#2a3f5f\"},\"baxis\":{\"endlinecolor\":\"#2a3f5f\",\"gridcolor\":\"white\",\"linecolor\":\"white\",\"minorgridcolor\":\"white\",\"startlinecolor\":\"#2a3f5f\"},\"type\":\"carpet\"}],\"table\":[{\"cells\":{\"fill\":{\"color\":\"#EBF0F8\"},\"line\":{\"color\":\"white\"}},\"header\":{\"fill\":{\"color\":\"#C8D4E3\"},\"line\":{\"color\":\"white\"}},\"type\":\"table\"}],\"barpolar\":[{\"marker\":{\"line\":{\"color\":\"#E5ECF6\",\"width\":0.5},\"pattern\":{\"fillmode\":\"overlay\",\"size\":10,\"solidity\":0.2}},\"type\":\"barpolar\"}],\"pie\":[{\"automargin\":true,\"type\":\"pie\"}]},\"layout\":{\"autotypenumbers\":\"strict\",\"colorway\":[\"#636efa\",\"#EF553B\",\"#00cc96\",\"#ab63fa\",\"#FFA15A\",\"#19d3f3\",\"#FF6692\",\"#B6E880\",\"#FF97FF\",\"#FECB52\"],\"font\":{\"color\":\"#2a3f5f\"},\"hovermode\":\"closest\",\"hoverlabel\":{\"align\":\"left\"},\"paper_bgcolor\":\"white\",\"plot_bgcolor\":\"#E5ECF6\",\"polar\":{\"bgcolor\":\"#E5ECF6\",\"angularaxis\":{\"gridcolor\":\"white\",\"linecolor\":\"white\",\"ticks\":\"\"},\"radialaxis\":{\"gridcolor\":\"white\",\"linecolor\":\"white\",\"ticks\":\"\"}},\"ternary\":{\"bgcolor\":\"#E5ECF6\",\"aaxis\":{\"gridcolor\":\"white\",\"linecolor\":\"white\",\"ticks\":\"\"},\"baxis\":{\"gridcolor\":\"white\",\"linecolor\":\"white\",\"ticks\":\"\"},\"caxis\":{\"gridcolor\":\"white\",\"linecolor\":\"white\",\"ticks\":\"\"}},\"coloraxis\":{\"colorbar\":{\"outlinewidth\":0,\"ticks\":\"\"}},\"colorscale\":{\"sequential\":[[0.0,\"#0d0887\"],[0.1111111111111111,\"#46039f\"],[0.2222222222222222,\"#7201a8\"],[0.3333333333333333,\"#9c179e\"],[0.4444444444444444,\"#bd3786\"],[0.5555555555555556,\"#d8576b\"],[0.6666666666666666,\"#ed7953\"],[0.7777777777777778,\"#fb9f3a\"],[0.8888888888888888,\"#fdca26\"],[1.0,\"#f0f921\"]],\"sequentialminus\":[[0.0,\"#0d0887\"],[0.1111111111111111,\"#46039f\"],[0.2222222222222222,\"#7201a8\"],[0.3333333333333333,\"#9c179e\"],[0.4444444444444444,\"#bd3786\"],[0.5555555555555556,\"#d8576b\"],[0.6666666666666666,\"#ed7953\"],[0.7777777777777778,\"#fb9f3a\"],[0.8888888888888888,\"#fdca26\"],[1.0,\"#f0f921\"]],\"diverging\":[[0,\"#8e0152\"],[0.1,\"#c51b7d\"],[0.2,\"#de77ae\"],[0.3,\"#f1b6da\"],[0.4,\"#fde0ef\"],[0.5,\"#f7f7f7\"],[0.6,\"#e6f5d0\"],[0.7,\"#b8e186\"],[0.8,\"#7fbc41\"],[0.9,\"#4d9221\"],[1,\"#276419\"]]},\"xaxis\":{\"gridcolor\":\"white\",\"linecolor\":\"white\",\"ticks\":\"\",\"title\":{\"standoff\":15},\"zerolinecolor\":\"white\",\"automargin\":true,\"zerolinewidth\":2},\"yaxis\":{\"gridcolor\":\"white\",\"linecolor\":\"white\",\"ticks\":\"\",\"title\":{\"standoff\":15},\"zerolinecolor\":\"white\",\"automargin\":true,\"zerolinewidth\":2},\"scene\":{\"xaxis\":{\"backgroundcolor\":\"#E5ECF6\",\"gridcolor\":\"white\",\"linecolor\":\"white\",\"showbackground\":true,\"ticks\":\"\",\"zerolinecolor\":\"white\",\"gridwidth\":2},\"yaxis\":{\"backgroundcolor\":\"#E5ECF6\",\"gridcolor\":\"white\",\"linecolor\":\"white\",\"showbackground\":true,\"ticks\":\"\",\"zerolinecolor\":\"white\",\"gridwidth\":2},\"zaxis\":{\"backgroundcolor\":\"#E5ECF6\",\"gridcolor\":\"white\",\"linecolor\":\"white\",\"showbackground\":true,\"ticks\":\"\",\"zerolinecolor\":\"white\",\"gridwidth\":2}},\"shapedefaults\":{\"line\":{\"color\":\"#2a3f5f\"}},\"annotationdefaults\":{\"arrowcolor\":\"#2a3f5f\",\"arrowhead\":0,\"arrowwidth\":1},\"geo\":{\"bgcolor\":\"white\",\"landcolor\":\"#E5ECF6\",\"subunitcolor\":\"white\",\"showland\":true,\"showlakes\":true,\"lakecolor\":\"white\"},\"title\":{\"x\":0.05},\"mapbox\":{\"style\":\"light\"}}}},                        {\"responsive\": true}                    ).then(function(){\n",
       "                            \n",
       "var gd = document.getElementById('abad06da-ef40-441f-bbf6-911b8ba96189');\n",
       "var x = new MutationObserver(function (mutations, observer) {{\n",
       "        var display = window.getComputedStyle(gd).display;\n",
       "        if (!display || display === 'none') {{\n",
       "            console.log([gd, 'removed!']);\n",
       "            Plotly.purge(gd);\n",
       "            observer.disconnect();\n",
       "        }}\n",
       "}});\n",
       "\n",
       "// Listen for the removal of the full notebook cells\n",
       "var notebookContainer = gd.closest('#notebook-container');\n",
       "if (notebookContainer) {{\n",
       "    x.observe(notebookContainer, {childList: true});\n",
       "}}\n",
       "\n",
       "// Listen for the clearing of the current output cell\n",
       "var outputEl = gd.closest('.output');\n",
       "if (outputEl) {{\n",
       "    x.observe(outputEl, {childList: true});\n",
       "}}\n",
       "\n",
       "                        })                };                });            </script>        </div>"
      ]
     },
     "metadata": {},
     "output_type": "display_data"
    }
   ],
   "source": [
    "fig = optuna.visualization.plot_optimization_history(study2)\n",
    "fig.show()"
   ]
  },
  {
   "cell_type": "code",
   "execution_count": 61,
   "id": "5b7207dd",
   "metadata": {},
   "outputs": [
    {
     "name": "stdout",
     "output_type": "stream",
     "text": [
      "Study statistics: \n",
      "  Number of finished trials:  300\n",
      "  Number of pruned trials:  0\n",
      "  Number of complete trials:  300\n",
      "Best trial:\n",
      "  Value:  0.3411157876088221\n",
      "  Params: \n",
      "    gridtype: hexagonal\n",
      "    std_coeff: 0.010027094275395014\n",
      "    initialization: random\n",
      "    epochs: 72\n",
      "    radius0: 26.54454156002509\n",
      "    radiuscooling: exponential\n",
      "    scale0: 0.07477695179393117\n",
      "    scaleN: 0.016923357143479697\n",
      "    scalecooling: exponential\n"
     ]
    }
   ],
   "source": [
    "from optuna.trial import TrialState\n",
    "\n",
    "pruned_trials = study2.get_trials(deepcopy=False, states=[TrialState.PRUNED])\n",
    "complete_trials = study2.get_trials(deepcopy=False, states=[TrialState.COMPLETE])\n",
    "\n",
    "print(\"Study statistics: \")\n",
    "print(\"  Number of finished trials: \", len(study2.trials))\n",
    "print(\"  Number of pruned trials: \", len(pruned_trials))\n",
    "print(\"  Number of complete trials: \", len(complete_trials))\n",
    "\n",
    "print(\"Best trial:\")\n",
    "trial2 = study2.best_trial\n",
    "\n",
    "print(\"  Value: \", trial2.value)\n",
    "\n",
    "print(\"  Params: \")\n",
    "for key, value in trial2.params.items():\n",
    "    print(\"    {}: {}\".format(key, value))"
   ]
  },
  {
   "cell_type": "markdown",
   "id": "5843d855",
   "metadata": {},
   "source": [
    "# Train model"
   ]
  },
  {
   "cell_type": "code",
   "execution_count": 108,
   "id": "a0eebd1a",
   "metadata": {},
   "outputs": [
    {
     "name": "stdout",
     "output_type": "stream",
     "text": [
      "CPU times: user 47 s, sys: 235 ms, total: 47.2 s\n",
      "Wall time: 7.8 s\n"
     ]
    }
   ],
   "source": [
    "# {'gridtype': 'hexagonal', 'std_coeff': 0.010027094275395014, 'initialization': 'random', 'epochs': 72, 'radius0': 26.54454156002509, 'radiuscooling': 'exponential', 'scale0': 0.07477695179393117, 'scaleN': 0.016923357143479697, 'scalecooling': 'exponential'}\n",
    "som2 = somoclu.Somoclu(4, 4, initialcodebook=None, kerneltype=0, maptype='planar', gridtype='hexagonal', compactsupport=True, neighborhood='gaussian', std_coeff=0.010027094275395014, initialization='random', verbose=0)\n",
    "%time som2.train(np.float32(x_train.to_numpy()), epochs=26, radius0=26.54454156002509, radiuscooling='exponential', scale0=0.07477695179393117, scaleN=0.016923357143479697, scalecooling='exponential')\n",
    "som2.train(np.float32(x_test.to_numpy()), epochs=26, radius0=26.54454156002509, radiuscooling='exponential', scale0=0.07477695179393117, scaleN=0.016923357143479697, scalecooling='exponential')"
   ]
  },
  {
   "cell_type": "markdown",
   "id": "a0679e1b",
   "metadata": {},
   "source": [
    "# Predict"
   ]
  },
  {
   "cell_type": "code",
   "execution_count": 93,
   "id": "60b8654e",
   "metadata": {},
   "outputs": [],
   "source": [
    "# som2.train(np.float32(x_test.to_numpy()), epochs=10)"
   ]
  },
  {
   "cell_type": "markdown",
   "id": "292c3fac",
   "metadata": {},
   "source": [
    "# Get labels (from som-learn)"
   ]
  },
  {
   "cell_type": "code",
   "execution_count": 94,
   "id": "f4849764",
   "metadata": {},
   "outputs": [],
   "source": [
    "def get_labels(som2):\n",
    "    grid_labels = [tuple(grid_label) for grid_label in som2.bmus]\n",
    "    unique_labels = [\n",
    "        tuple(grid_label) for grid_label in np.unique(grid_labels, axis=0)\n",
    "    ]\n",
    "    # Generate mapping\n",
    "    labels_mapping = {\n",
    "        grid_label: cluster_label\n",
    "        for grid_label, cluster_label in zip(\n",
    "            unique_labels, range(len(unique_labels))\n",
    "        )\n",
    "    }\n",
    "    labels = np.array(\n",
    "        [labels_mapping[grid_label] for grid_label in grid_labels]\n",
    "    )\n",
    "    predictions2=pd.Series(labels)\n",
    "    return predictions2"
   ]
  },
  {
   "cell_type": "code",
   "execution_count": 95,
   "id": "6a937afc",
   "metadata": {},
   "outputs": [],
   "source": [
    "predictions2 = get_labels(som2)"
   ]
  },
  {
   "cell_type": "code",
   "execution_count": 96,
   "id": "b07dd938",
   "metadata": {},
   "outputs": [
    {
     "data": {
      "text/plain": [
       "10    7027\n",
       "13    6486\n",
       "12    6271\n",
       "11    5736\n",
       "3     5684\n",
       "7     5553\n",
       "0     5542\n",
       "8     5497\n",
       "4     5330\n",
       "14    5074\n",
       "1     4923\n",
       "9     4685\n",
       "6     4578\n",
       "2     4526\n",
       "15    4064\n",
       "5     3871\n",
       "dtype: int64"
      ]
     },
     "execution_count": 96,
     "metadata": {},
     "output_type": "execute_result"
    }
   ],
   "source": [
    "predictions2.value_counts()"
   ]
  },
  {
   "cell_type": "markdown",
   "id": "bec8b25a",
   "metadata": {},
   "source": [
    "# Map classes from som to classes from Y data"
   ]
  },
  {
   "cell_type": "code",
   "execution_count": 97,
   "id": "8b6efff6",
   "metadata": {},
   "outputs": [],
   "source": [
    "# get classes mapping\n",
    "classes_mapping2=map_class(predictions2)\n",
    "# create copy of output\n",
    "predictions_fix2 = predictions2.copy()\n",
    "# change clusters to classes from mapping table\n",
    "for index, row in classes_mapping2.iterrows():\n",
    "    predictions_fix2[predictions2==classes_mapping2.at[index, 'som']]=classes_mapping2.at[index, 'best_classes']"
   ]
  },
  {
   "cell_type": "markdown",
   "id": "68177811",
   "metadata": {},
   "source": [
    "# Check the results"
   ]
  },
  {
   "cell_type": "code",
   "execution_count": 98,
   "id": "6487012b",
   "metadata": {},
   "outputs": [
    {
     "name": "stdout",
     "output_type": "stream",
     "text": [
      "              precision    recall  f1-score   support\n",
      "\n",
      "           0       0.62      0.25      0.35     12656\n",
      "           1       0.36      0.84      0.51      1673\n",
      "           2       0.24      0.74      0.37      1844\n",
      "           3       0.97      0.19      0.32     29536\n",
      "           4       0.20      0.22      0.21      5085\n",
      "           5       0.50      0.86      0.63      2339\n",
      "           7       0.03      0.07      0.04      2171\n",
      "           9       0.46      0.43      0.45      5926\n",
      "          11       0.40      0.54      0.46      4224\n",
      "          20       0.31      0.73      0.43      1928\n",
      "          29       0.20      0.48      0.28      2661\n",
      "          37       0.09      0.31      0.14      1395\n",
      "          50       0.27      0.51      0.35      2448\n",
      "          66       0.09      0.39      0.14      1061\n",
      "         222       0.03      0.07      0.04      2804\n",
      "         238       0.43      0.43      0.43      7096\n",
      "\n",
      "    accuracy                           0.33     84847\n",
      "   macro avg       0.33      0.44      0.32     84847\n",
      "weighted avg       0.58      0.33      0.34     84847\n",
      "\n"
     ]
    }
   ],
   "source": [
    "print(classification_report(y_test,predictions_fix2))"
   ]
  },
  {
   "cell_type": "code",
   "execution_count": 99,
   "id": "88fc3031",
   "metadata": {},
   "outputs": [
    {
     "name": "stdout",
     "output_type": "stream",
     "text": [
      "[29536, 12656, 7096, 5926, 5085, 4224, 2804, 2661, 2448, 2339, 2171, 1928, 1844, 1673, 1395, 1061]\n",
      "[0.31617146745293717, 0.3530738860688099, 0.42979536925582384, 0.4483780955702825, 0.20922320922320925, 0.4646750100928542, 0.0411194833153929, 0.2832512315270936, 0.35354397950469685, 0.6315789473684211, 0.03946140514598054, 0.434149364735048, 0.36771664188184394, 0.5075757575757576, 0.14046052631578948, 0.14004010695187166]\n"
     ]
    },
    {
     "data": {
      "image/png": "[encoded data removed]",
      "text/plain": [
       "<Figure size 640x480 with 1 Axes>"
      ]
     },
     "metadata": {},
     "output_type": "display_data"
    }
   ],
   "source": [
    "rep2=classification_report(y_test,predictions_fix2, output_dict=True)\n",
    "x=[cnt for cnt in pd.Series(y_test).value_counts().to_list()]\n",
    "y=[rep2[str(i)]['f1-score'] for i in pd.Series(y_test).value_counts().keys().to_list()]\n",
    "print(x)\n",
    "print(y)\n",
    "\n",
    "plt.title('Miara F1 w zależności od liczności klas')\n",
    "plt.plot(x,y)\n",
    "plt.show()"
   ]
  },
  {
   "cell_type": "code",
   "execution_count": 100,
   "id": "7dd44c4d",
   "metadata": {},
   "outputs": [
    {
     "data": {
      "text/plain": [
       "0.33645027098721203"
      ]
     },
     "execution_count": 100,
     "metadata": {},
     "output_type": "execute_result"
    }
   ],
   "source": [
    "score = f1_score(y_test, predictions_fix2, average='weighted')\n",
    "score"
   ]
  },
  {
   "cell_type": "code",
   "execution_count": 101,
   "id": "9fb58359",
   "metadata": {},
   "outputs": [
    {
     "data": {
      "text/plain": [
       "0.32532676464695276"
      ]
     },
     "execution_count": 101,
     "metadata": {},
     "output_type": "execute_result"
    }
   ],
   "source": [
    "accuracy_score(y_test, predictions_fix2)"
   ]
  },
  {
   "cell_type": "code",
   "execution_count": 102,
   "id": "298a9a71",
   "metadata": {},
   "outputs": [
    {
     "data": {
      "text/plain": [
       "0.3225134051241133"
      ]
     },
     "execution_count": 102,
     "metadata": {},
     "output_type": "execute_result"
    }
   ],
   "source": [
    "f1_score(y_test, predictions_fix2, average='macro')"
   ]
  },
  {
   "cell_type": "code",
   "execution_count": 103,
   "id": "4a8e5adb",
   "metadata": {},
   "outputs": [
    {
     "data": {
      "image/png": "[encoded data removed]",
      "text/plain": [
       "<Figure size 1000x1000 with 2 Axes>"
      ]
     },
     "metadata": {},
     "output_type": "display_data"
    }
   ],
   "source": [
    "f, ax = plt.subplots(figsize=(10,10))\n",
    "cm = confusion_matrix(y_test, predictions_fix2, labels=y_test.unique())\n",
    "disp = ConfusionMatrixDisplay.from_predictions(y_test, predictions_fix2, display_labels=y_test.unique(), ax=ax)"
   ]
  },
  {
   "cell_type": "code",
   "execution_count": 104,
   "id": "a61f66e5",
   "metadata": {},
   "outputs": [
    {
     "data": {
      "text/plain": [
       "238    7027\n",
       "222    6486\n",
       "29     6271\n",
       "3      5736\n",
       "11     5684\n",
       "2      5553\n",
       "9      5542\n",
       "4      5497\n",
       "7      5330\n",
       "0      5074\n",
       "66     4923\n",
       "37     4685\n",
       "50     4578\n",
       "20     4526\n",
       "5      4064\n",
       "1      3871\n",
       "dtype: int64"
      ]
     },
     "execution_count": 104,
     "metadata": {},
     "output_type": "execute_result"
    }
   ],
   "source": [
    "pd.Series(predictions_fix2).value_counts()"
   ]
  },
  {
   "cell_type": "code",
   "execution_count": null,
   "id": "63d73bd9",
   "metadata": {},
   "outputs": [],
   "source": []
  }
 ],
 "metadata": {
  "kernelspec": {
   "display_name": "Python 3 (ipykernel)",
   "language": "python",
   "name": "python3"
  },
  "language_info": {
   "codemirror_mode": {
    "name": "ipython",
    "version": 3
   },
   "file_extension": ".py",
   "mimetype": "text/x-python",
   "name": "python",
   "nbconvert_exporter": "python",
   "pygments_lexer": "ipython3",
   "version": "3.11.3"
  }
 },
 "nbformat": 4,
 "nbformat_minor": 5
}
