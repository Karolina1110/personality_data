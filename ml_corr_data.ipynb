{
 "cells": [
  {
   "cell_type": "code",
   "execution_count": 51,
   "id": "e611de2c",
   "metadata": {},
   "outputs": [],
   "source": [
    "import numpy as np\n",
    "import pandas as pd\n",
    "import utils\n",
    "import seaborn as sn\n",
    "import matplotlib.pyplot as plt\n",
    "from joblib import dump, load\n",
    "from sklearn.metrics import classification_report, confusion_matrix, ConfusionMatrixDisplay, f1_score, accuracy_score"
   ]
  },
  {
   "cell_type": "markdown",
   "id": "1065ce45",
   "metadata": {},
   "source": [
    "# Load data"
   ]
  },
  {
   "cell_type": "code",
   "execution_count": 52,
   "id": "4742b686",
   "metadata": {},
   "outputs": [
    {
     "data": {
      "text/html": [
       "<div>\n",
       "<style scoped>\n",
       "    .dataframe tbody tr th:only-of-type {\n",
       "        vertical-align: middle;\n",
       "    }\n",
       "\n",
       "    .dataframe tbody tr th {\n",
       "        vertical-align: top;\n",
       "    }\n",
       "\n",
       "    .dataframe thead th {\n",
       "        text-align: right;\n",
       "    }\n",
       "</style>\n",
       "<table border=\"1\" class=\"dataframe\">\n",
       "  <thead>\n",
       "    <tr style=\"text-align: right;\">\n",
       "      <th></th>\n",
       "      <th>EXT1</th>\n",
       "      <th>EXT2</th>\n",
       "      <th>EXT3</th>\n",
       "      <th>EXT4</th>\n",
       "      <th>EXT5</th>\n",
       "      <th>EXT6</th>\n",
       "      <th>EXT7</th>\n",
       "      <th>EXT8</th>\n",
       "      <th>EXT9</th>\n",
       "      <th>EXT10</th>\n",
       "      <th>...</th>\n",
       "      <th>_OPN10</th>\n",
       "      <th>EXT</th>\n",
       "      <th>EST</th>\n",
       "      <th>AGR</th>\n",
       "      <th>CSN</th>\n",
       "      <th>OPN</th>\n",
       "      <th>MAX_SCORE</th>\n",
       "      <th>TYPE</th>\n",
       "      <th>CORR</th>\n",
       "      <th>B5_TYPE</th>\n",
       "    </tr>\n",
       "  </thead>\n",
       "  <tbody>\n",
       "    <tr>\n",
       "      <th>0</th>\n",
       "      <td>4.0</td>\n",
       "      <td>1.0</td>\n",
       "      <td>5.0</td>\n",
       "      <td>2.0</td>\n",
       "      <td>5.0</td>\n",
       "      <td>1.0</td>\n",
       "      <td>5.0</td>\n",
       "      <td>2.0</td>\n",
       "      <td>4.0</td>\n",
       "      <td>1.0</td>\n",
       "      <td>...</td>\n",
       "      <td>5.0</td>\n",
       "      <td>46.0</td>\n",
       "      <td>36.0</td>\n",
       "      <td>39.0</td>\n",
       "      <td>32.0</td>\n",
       "      <td>45.0</td>\n",
       "      <td>46.0</td>\n",
       "      <td>0</td>\n",
       "      <td>1.000000</td>\n",
       "      <td>ESACO</td>\n",
       "    </tr>\n",
       "    <tr>\n",
       "      <th>1</th>\n",
       "      <td>3.0</td>\n",
       "      <td>5.0</td>\n",
       "      <td>3.0</td>\n",
       "      <td>4.0</td>\n",
       "      <td>3.0</td>\n",
       "      <td>3.0</td>\n",
       "      <td>2.0</td>\n",
       "      <td>5.0</td>\n",
       "      <td>1.0</td>\n",
       "      <td>5.0</td>\n",
       "      <td>...</td>\n",
       "      <td>3.0</td>\n",
       "      <td>20.0</td>\n",
       "      <td>35.0</td>\n",
       "      <td>40.0</td>\n",
       "      <td>37.0</td>\n",
       "      <td>35.0</td>\n",
       "      <td>40.0</td>\n",
       "      <td>1</td>\n",
       "      <td>1.000000</td>\n",
       "      <td>ISACO</td>\n",
       "    </tr>\n",
       "    <tr>\n",
       "      <th>2</th>\n",
       "      <td>2.0</td>\n",
       "      <td>3.0</td>\n",
       "      <td>4.0</td>\n",
       "      <td>4.0</td>\n",
       "      <td>3.0</td>\n",
       "      <td>2.0</td>\n",
       "      <td>1.0</td>\n",
       "      <td>3.0</td>\n",
       "      <td>2.0</td>\n",
       "      <td>5.0</td>\n",
       "      <td>...</td>\n",
       "      <td>4.0</td>\n",
       "      <td>25.0</td>\n",
       "      <td>34.0</td>\n",
       "      <td>40.0</td>\n",
       "      <td>34.0</td>\n",
       "      <td>41.0</td>\n",
       "      <td>41.0</td>\n",
       "      <td>1</td>\n",
       "      <td>0.984049</td>\n",
       "      <td>ISACO</td>\n",
       "    </tr>\n",
       "    <tr>\n",
       "      <th>3</th>\n",
       "      <td>2.0</td>\n",
       "      <td>2.0</td>\n",
       "      <td>2.0</td>\n",
       "      <td>3.0</td>\n",
       "      <td>4.0</td>\n",
       "      <td>2.0</td>\n",
       "      <td>2.0</td>\n",
       "      <td>4.0</td>\n",
       "      <td>1.0</td>\n",
       "      <td>4.0</td>\n",
       "      <td>...</td>\n",
       "      <td>3.0</td>\n",
       "      <td>26.0</td>\n",
       "      <td>31.0</td>\n",
       "      <td>38.0</td>\n",
       "      <td>25.0</td>\n",
       "      <td>39.0</td>\n",
       "      <td>39.0</td>\n",
       "      <td>96</td>\n",
       "      <td>0.972907</td>\n",
       "      <td>ESARO</td>\n",
       "    </tr>\n",
       "    <tr>\n",
       "      <th>4</th>\n",
       "      <td>3.0</td>\n",
       "      <td>3.0</td>\n",
       "      <td>3.0</td>\n",
       "      <td>3.0</td>\n",
       "      <td>5.0</td>\n",
       "      <td>3.0</td>\n",
       "      <td>3.0</td>\n",
       "      <td>5.0</td>\n",
       "      <td>3.0</td>\n",
       "      <td>4.0</td>\n",
       "      <td>...</td>\n",
       "      <td>5.0</td>\n",
       "      <td>29.0</td>\n",
       "      <td>41.0</td>\n",
       "      <td>42.0</td>\n",
       "      <td>48.0</td>\n",
       "      <td>48.0</td>\n",
       "      <td>48.0</td>\n",
       "      <td>1</td>\n",
       "      <td>0.985012</td>\n",
       "      <td>ESACO</td>\n",
       "    </tr>\n",
       "    <tr>\n",
       "      <th>...</th>\n",
       "      <td>...</td>\n",
       "      <td>...</td>\n",
       "      <td>...</td>\n",
       "      <td>...</td>\n",
       "      <td>...</td>\n",
       "      <td>...</td>\n",
       "      <td>...</td>\n",
       "      <td>...</td>\n",
       "      <td>...</td>\n",
       "      <td>...</td>\n",
       "      <td>...</td>\n",
       "      <td>...</td>\n",
       "      <td>...</td>\n",
       "      <td>...</td>\n",
       "      <td>...</td>\n",
       "      <td>...</td>\n",
       "      <td>...</td>\n",
       "      <td>...</td>\n",
       "      <td>...</td>\n",
       "      <td>...</td>\n",
       "      <td>...</td>\n",
       "    </tr>\n",
       "    <tr>\n",
       "      <th>415057</th>\n",
       "      <td>3.0</td>\n",
       "      <td>1.0</td>\n",
       "      <td>4.0</td>\n",
       "      <td>3.0</td>\n",
       "      <td>2.0</td>\n",
       "      <td>1.0</td>\n",
       "      <td>3.0</td>\n",
       "      <td>4.0</td>\n",
       "      <td>4.0</td>\n",
       "      <td>4.0</td>\n",
       "      <td>...</td>\n",
       "      <td>5.0</td>\n",
       "      <td>33.0</td>\n",
       "      <td>26.0</td>\n",
       "      <td>40.0</td>\n",
       "      <td>35.0</td>\n",
       "      <td>42.0</td>\n",
       "      <td>42.0</td>\n",
       "      <td>0</td>\n",
       "      <td>0.975817</td>\n",
       "      <td>ESACO</td>\n",
       "    </tr>\n",
       "    <tr>\n",
       "      <th>415058</th>\n",
       "      <td>4.0</td>\n",
       "      <td>2.0</td>\n",
       "      <td>5.0</td>\n",
       "      <td>2.0</td>\n",
       "      <td>4.0</td>\n",
       "      <td>2.0</td>\n",
       "      <td>5.0</td>\n",
       "      <td>4.0</td>\n",
       "      <td>2.0</td>\n",
       "      <td>4.0</td>\n",
       "      <td>...</td>\n",
       "      <td>4.0</td>\n",
       "      <td>36.0</td>\n",
       "      <td>34.0</td>\n",
       "      <td>41.0</td>\n",
       "      <td>24.0</td>\n",
       "      <td>42.0</td>\n",
       "      <td>42.0</td>\n",
       "      <td>0</td>\n",
       "      <td>0.983439</td>\n",
       "      <td>ESARO</td>\n",
       "    </tr>\n",
       "    <tr>\n",
       "      <th>415059</th>\n",
       "      <td>2.0</td>\n",
       "      <td>2.0</td>\n",
       "      <td>4.0</td>\n",
       "      <td>5.0</td>\n",
       "      <td>4.0</td>\n",
       "      <td>1.0</td>\n",
       "      <td>1.0</td>\n",
       "      <td>1.0</td>\n",
       "      <td>5.0</td>\n",
       "      <td>5.0</td>\n",
       "      <td>...</td>\n",
       "      <td>2.0</td>\n",
       "      <td>32.0</td>\n",
       "      <td>14.0</td>\n",
       "      <td>43.0</td>\n",
       "      <td>34.0</td>\n",
       "      <td>40.0</td>\n",
       "      <td>43.0</td>\n",
       "      <td>4</td>\n",
       "      <td>0.970462</td>\n",
       "      <td>ENACO</td>\n",
       "    </tr>\n",
       "    <tr>\n",
       "      <th>415060</th>\n",
       "      <td>3.0</td>\n",
       "      <td>1.0</td>\n",
       "      <td>5.0</td>\n",
       "      <td>1.0</td>\n",
       "      <td>4.0</td>\n",
       "      <td>1.0</td>\n",
       "      <td>4.0</td>\n",
       "      <td>2.0</td>\n",
       "      <td>5.0</td>\n",
       "      <td>2.0</td>\n",
       "      <td>...</td>\n",
       "      <td>5.0</td>\n",
       "      <td>44.0</td>\n",
       "      <td>24.0</td>\n",
       "      <td>40.0</td>\n",
       "      <td>45.0</td>\n",
       "      <td>49.0</td>\n",
       "      <td>49.0</td>\n",
       "      <td>4</td>\n",
       "      <td>0.984814</td>\n",
       "      <td>ENACO</td>\n",
       "    </tr>\n",
       "    <tr>\n",
       "      <th>415061</th>\n",
       "      <td>3.0</td>\n",
       "      <td>4.0</td>\n",
       "      <td>3.0</td>\n",
       "      <td>2.0</td>\n",
       "      <td>4.0</td>\n",
       "      <td>2.0</td>\n",
       "      <td>1.0</td>\n",
       "      <td>2.0</td>\n",
       "      <td>4.0</td>\n",
       "      <td>5.0</td>\n",
       "      <td>...</td>\n",
       "      <td>5.0</td>\n",
       "      <td>30.0</td>\n",
       "      <td>22.0</td>\n",
       "      <td>25.0</td>\n",
       "      <td>46.0</td>\n",
       "      <td>49.0</td>\n",
       "      <td>49.0</td>\n",
       "      <td>16</td>\n",
       "      <td>0.977913</td>\n",
       "      <td>ENTCO</td>\n",
       "    </tr>\n",
       "  </tbody>\n",
       "</table>\n",
       "<p>415062 rows × 109 columns</p>\n",
       "</div>"
      ],
      "text/plain": [
       "        EXT1  EXT2  EXT3  EXT4  EXT5  EXT6  EXT7  EXT8  EXT9  EXT10  ...  \\\n",
       "0        4.0   1.0   5.0   2.0   5.0   1.0   5.0   2.0   4.0    1.0  ...   \n",
       "1        3.0   5.0   3.0   4.0   3.0   3.0   2.0   5.0   1.0    5.0  ...   \n",
       "2        2.0   3.0   4.0   4.0   3.0   2.0   1.0   3.0   2.0    5.0  ...   \n",
       "3        2.0   2.0   2.0   3.0   4.0   2.0   2.0   4.0   1.0    4.0  ...   \n",
       "4        3.0   3.0   3.0   3.0   5.0   3.0   3.0   5.0   3.0    4.0  ...   \n",
       "...      ...   ...   ...   ...   ...   ...   ...   ...   ...    ...  ...   \n",
       "415057   3.0   1.0   4.0   3.0   2.0   1.0   3.0   4.0   4.0    4.0  ...   \n",
       "415058   4.0   2.0   5.0   2.0   4.0   2.0   5.0   4.0   2.0    4.0  ...   \n",
       "415059   2.0   2.0   4.0   5.0   4.0   1.0   1.0   1.0   5.0    5.0  ...   \n",
       "415060   3.0   1.0   5.0   1.0   4.0   1.0   4.0   2.0   5.0    2.0  ...   \n",
       "415061   3.0   4.0   3.0   2.0   4.0   2.0   1.0   2.0   4.0    5.0  ...   \n",
       "\n",
       "        _OPN10   EXT   EST   AGR   CSN   OPN  MAX_SCORE  TYPE      CORR  \\\n",
       "0          5.0  46.0  36.0  39.0  32.0  45.0       46.0     0  1.000000   \n",
       "1          3.0  20.0  35.0  40.0  37.0  35.0       40.0     1  1.000000   \n",
       "2          4.0  25.0  34.0  40.0  34.0  41.0       41.0     1  0.984049   \n",
       "3          3.0  26.0  31.0  38.0  25.0  39.0       39.0    96  0.972907   \n",
       "4          5.0  29.0  41.0  42.0  48.0  48.0       48.0     1  0.985012   \n",
       "...        ...   ...   ...   ...   ...   ...        ...   ...       ...   \n",
       "415057     5.0  33.0  26.0  40.0  35.0  42.0       42.0     0  0.975817   \n",
       "415058     4.0  36.0  34.0  41.0  24.0  42.0       42.0     0  0.983439   \n",
       "415059     2.0  32.0  14.0  43.0  34.0  40.0       43.0     4  0.970462   \n",
       "415060     5.0  44.0  24.0  40.0  45.0  49.0       49.0     4  0.984814   \n",
       "415061     5.0  30.0  22.0  25.0  46.0  49.0       49.0    16  0.977913   \n",
       "\n",
       "        B5_TYPE  \n",
       "0         ESACO  \n",
       "1         ISACO  \n",
       "2         ISACO  \n",
       "3         ESARO  \n",
       "4         ESACO  \n",
       "...         ...  \n",
       "415057    ESACO  \n",
       "415058    ESARO  \n",
       "415059    ENACO  \n",
       "415060    ENACO  \n",
       "415061    ENTCO  \n",
       "\n",
       "[415062 rows x 109 columns]"
      ]
     },
     "execution_count": 52,
     "metadata": {},
     "output_type": "execute_result"
    }
   ],
   "source": [
    "data_big_cleaned = pd.read_csv('data/big_cleaned_results.csv', index_col=0)\n",
    "data_big_cleaned"
   ]
  },
  {
   "cell_type": "markdown",
   "id": "be0a6071",
   "metadata": {},
   "source": [
    "# Choose X and Y data"
   ]
  },
  {
   "cell_type": "code",
   "execution_count": 53,
   "id": "7aad43a0",
   "metadata": {},
   "outputs": [
    {
     "name": "stdout",
     "output_type": "stream",
     "text": [
      "        EXT1  EXT2  EXT3  EXT4  EXT5  EXT6  EXT7  EXT8  EXT9  EXT10  ...  \\\n",
      "0        4.0   1.0   5.0   2.0   5.0   1.0   5.0   2.0   4.0    1.0  ...   \n",
      "1        3.0   5.0   3.0   4.0   3.0   3.0   2.0   5.0   1.0    5.0  ...   \n",
      "2        2.0   3.0   4.0   4.0   3.0   2.0   1.0   3.0   2.0    5.0  ...   \n",
      "3        2.0   2.0   2.0   3.0   4.0   2.0   2.0   4.0   1.0    4.0  ...   \n",
      "4        3.0   3.0   3.0   3.0   5.0   3.0   3.0   5.0   3.0    4.0  ...   \n",
      "...      ...   ...   ...   ...   ...   ...   ...   ...   ...    ...  ...   \n",
      "415057   3.0   1.0   4.0   3.0   2.0   1.0   3.0   4.0   4.0    4.0  ...   \n",
      "415058   4.0   2.0   5.0   2.0   4.0   2.0   5.0   4.0   2.0    4.0  ...   \n",
      "415059   2.0   2.0   4.0   5.0   4.0   1.0   1.0   1.0   5.0    5.0  ...   \n",
      "415060   3.0   1.0   5.0   1.0   4.0   1.0   4.0   2.0   5.0    2.0  ...   \n",
      "415061   3.0   4.0   3.0   2.0   4.0   2.0   1.0   2.0   4.0    5.0  ...   \n",
      "\n",
      "        OPN1  OPN2  OPN3  OPN4  OPN5  OPN6  OPN7  OPN8  OPN9  OPN10  \n",
      "0        5.0   1.0   4.0   1.0   4.0   1.0   5.0   3.0   4.0    5.0  \n",
      "1        1.0   2.0   4.0   2.0   3.0   1.0   4.0   2.0   5.0    3.0  \n",
      "2        5.0   1.0   2.0   1.0   4.0   2.0   5.0   3.0   4.0    4.0  \n",
      "3        4.0   2.0   5.0   2.0   3.0   1.0   4.0   4.0   3.0    3.0  \n",
      "4        5.0   1.0   5.0   1.0   5.0   1.0   5.0   3.0   5.0    5.0  \n",
      "...      ...   ...   ...   ...   ...   ...   ...   ...   ...    ...  \n",
      "415057   3.0   2.0   5.0   2.0   4.0   1.0   4.0   4.0   4.0    5.0  \n",
      "415058   2.0   1.0   5.0   1.0   4.0   1.0   5.0   2.0   5.0    4.0  \n",
      "415059   4.0   2.0   5.0   1.0   4.0   5.0   5.0   5.0   5.0    2.0  \n",
      "415060   5.0   1.0   5.0   1.0   5.0   1.0   4.0   5.0   5.0    5.0  \n",
      "415061   5.0   1.0   5.0   1.0   5.0   1.0   5.0   5.0   4.0    5.0  \n",
      "\n",
      "[415062 rows x 50 columns]\n",
      "0          0\n",
      "1          1\n",
      "2          1\n",
      "3         96\n",
      "4          1\n",
      "          ..\n",
      "415057     0\n",
      "415058     0\n",
      "415059     4\n",
      "415060     4\n",
      "415061    16\n",
      "Name: TYPE, Length: 415062, dtype: int64\n"
     ]
    }
   ],
   "source": [
    "X=data_big_cleaned.iloc[:,:50]\n",
    "print(X)\n",
    "Y=data_big_cleaned['TYPE']\n",
    "print(Y)"
   ]
  },
  {
   "cell_type": "markdown",
   "id": "2f7beccf",
   "metadata": {},
   "source": [
    "# Check if Y data is representative"
   ]
  },
  {
   "cell_type": "code",
   "execution_count": 54,
   "id": "9ded514f",
   "metadata": {},
   "outputs": [
    {
     "data": {
      "text/plain": [
       "0      143667\n",
       "1      105328\n",
       "3       30589\n",
       "4       22700\n",
       "25      14877\n",
       "7       14634\n",
       "27      14107\n",
       "14      13665\n",
       "23       9760\n",
       "31       7874\n",
       "20       7747\n",
       "5        6874\n",
       "96       6171\n",
       "179      6066\n",
       "11       5556\n",
       "16       5447\n",
       "Name: TYPE, dtype: int64"
      ]
     },
     "execution_count": 54,
     "metadata": {},
     "output_type": "execute_result"
    }
   ],
   "source": [
    "pd.Series(Y).value_counts()"
   ]
  },
  {
   "cell_type": "markdown",
   "id": "f6e3422b",
   "metadata": {},
   "source": [
    "# Split data to train and test"
   ]
  },
  {
   "cell_type": "code",
   "execution_count": 55,
   "id": "ac610082",
   "metadata": {},
   "outputs": [],
   "source": [
    "x_train, x_test, y_train, y_test = train_test_split(X, Y, test_size=0.2, random_state=42)"
   ]
  },
  {
   "cell_type": "markdown",
   "id": "157ea4e7",
   "metadata": {},
   "source": [
    "# Check if test data is representative"
   ]
  },
  {
   "cell_type": "code",
   "execution_count": 56,
   "id": "7724a6dc",
   "metadata": {},
   "outputs": [
    {
     "name": "stdout",
     "output_type": "stream",
     "text": [
      "0      114788\n",
      "1       84369\n",
      "3       24451\n",
      "4       18159\n",
      "25      11916\n",
      "7       11715\n",
      "27      11311\n",
      "14      10929\n",
      "23       7942\n",
      "31       6229\n",
      "20       6191\n",
      "5        5458\n",
      "96       4963\n",
      "179      4870\n",
      "11       4422\n",
      "16       4336\n",
      "Name: TYPE, dtype: int64\n"
     ]
    }
   ],
   "source": [
    "print(pd.Series(y_train).value_counts())"
   ]
  },
  {
   "cell_type": "markdown",
   "id": "3bb61c01",
   "metadata": {},
   "source": [
    "# Functions for mapping classes from SOM model to classes from Y data"
   ]
  },
  {
   "cell_type": "code",
   "execution_count": 57,
   "id": "bd78cdb0",
   "metadata": {},
   "outputs": [],
   "source": [
    "def find_class(predictions, i, mapping):\n",
    "    keys=pd.Series(y_test.tolist())[list(pd.Series(predictions).loc[lambda x : x == i].index)].value_counts().keys().to_list()\n",
    "    cnts=pd.Series(y_test.tolist())[list(pd.Series(predictions).loc[lambda x : x == i].index)].value_counts().to_list()\n",
    "    lbl = None\n",
    "    cnt = None\n",
    "    for key_id in range(len(keys)):\n",
    "        if keys[key_id] not in mapping.best_classes.values:\n",
    "            lbl = keys[key_id]\n",
    "            cnt = cnts[key_id]\n",
    "            mapping.at[mapping[mapping['som']==i].index[0], 'counts']=cnt\n",
    "            mapping.at[mapping[mapping['som']==i].index[0], 'best_classes']=lbl \n",
    "            break\n",
    "        elif cnts[key_id] > mapping[mapping['best_classes']==keys[key_id]].counts.values[0]:\n",
    "            lbl = keys[key_id]\n",
    "            cnt = cnts[key_id]\n",
    "            j=mapping[mapping['best_classes']==keys[key_id]].som.values[0]\n",
    "            index = mapping[mapping['best_classes']==keys[key_id]].index[0]\n",
    "            mapping.at[index, 'counts']=None\n",
    "            mapping.at[index, 'best_classes']=None\n",
    "            mapping.at[mapping[mapping['som']==i].index[0], 'counts']=cnt\n",
    "            mapping.at[mapping[mapping['som']==i].index[0], 'best_classes']=lbl \n",
    "            lbl2, cnt2 = find_class(predictions, j, mapping)\n",
    "            mapping.at[index, 'counts']=cnt2\n",
    "            mapping.at[index, 'best_classes']=lbl2\n",
    "            break\n",
    "        \n",
    "            \n",
    "    return lbl, cnt"
   ]
  },
  {
   "cell_type": "code",
   "execution_count": 58,
   "id": "ecfc1ec6",
   "metadata": {},
   "outputs": [],
   "source": [
    "def map_class(predictions):\n",
    "    d = {'best_classes': pd.Series(pd.Series(predictions).unique()), 'som': pd.Series(pd.Series(predictions).unique())}\n",
    "    classes_mapping = pd.DataFrame(data=d)\n",
    "    classes_mapping['best_classes']=None\n",
    "    classes_mapping['counts']=None\n",
    "    i=0\n",
    "    for i in pd.Series(predictions).unique():\n",
    "        lbl, cnt = find_class(predictions, i, classes_mapping)\n",
    "        i+=1\n",
    "\n",
    "    best_classes=pd.Series(y_test.unique())\n",
    "    null_classes=best_classes[~best_classes.isin(classes_mapping['best_classes'].values)].values\n",
    "\n",
    "    i=0\n",
    "    for index, row in classes_mapping[classes_mapping['best_classes'].isna()].iterrows():\n",
    "        classes_mapping.at[index, 'best_classes']=null_classes[i]\n",
    "        i+=1\n",
    "\n",
    "    return classes_mapping"
   ]
  },
  {
   "cell_type": "markdown",
   "id": "b4f1b4d0",
   "metadata": {},
   "source": [
    "# sklearn-som"
   ]
  },
  {
   "cell_type": "code",
   "execution_count": 59,
   "id": "d741924f",
   "metadata": {},
   "outputs": [],
   "source": [
    "from sklearn_som.som import SOM\n",
    "from sklearn.preprocessing import LabelEncoder\n",
    "from sklearn.model_selection import train_test_split\n",
    "from joblib import dump, load\n",
    "from sklearn.preprocessing import StandardScaler"
   ]
  },
  {
   "cell_type": "markdown",
   "id": "bcd98464",
   "metadata": {},
   "source": [
    "# Optimize hiperparameters"
   ]
  },
  {
   "cell_type": "code",
   "execution_count": 50,
   "id": "248abe28",
   "metadata": {},
   "outputs": [
    {
     "name": "stderr",
     "output_type": "stream",
     "text": [
      "[I 2023-07-27 00:47:15,935] A new study created in memory with name: no-name-8b588a24-9602-4c25-8023-aa172ed1bbef\n",
      "[I 2023-07-27 00:47:30,443] Trial 0 finished with value: 0.03765235647776414 and parameters: {'lr': 0.14199514399787572, 'sigma': 0.02522823252666424, 'max_iter': 2883}. Best is trial 0 with value: 0.03765235647776414.\n",
      "[I 2023-07-27 00:47:45,941] Trial 1 finished with value: 0.14843755860026428 and parameters: {'lr': 0.9063036142272856, 'sigma': 1.084431839370771, 'max_iter': 3610}. Best is trial 1 with value: 0.14843755860026428.\n",
      "[I 2023-07-27 00:48:01,768] Trial 2 finished with value: 0.15744156685697783 and parameters: {'lr': 0.5815942826212414, 'sigma': 1.4424002186386138, 'max_iter': 4598}. Best is trial 2 with value: 0.15744156685697783.\n",
      "[I 2023-07-27 00:48:17,087] Trial 3 finished with value: 0.03743877496269648 and parameters: {'lr': 0.03027143393048963, 'sigma': 0.16217105055969902, 'max_iter': 3548}. Best is trial 2 with value: 0.15744156685697783.\n",
      "[I 2023-07-27 00:48:32,120] Trial 4 finished with value: 0.03743877496269648 and parameters: {'lr': 0.04128123633865868, 'sigma': 0.05743747294836717, 'max_iter': 2909}. Best is trial 2 with value: 0.15744156685697783.\n",
      "[I 2023-07-27 00:48:56,988] Trial 5 finished with value: 0.1143256562807009 and parameters: {'lr': 1.0488573332532096, 'sigma': 0.4067086008439682, 'max_iter': 4611}. Best is trial 2 with value: 0.15744156685697783.\n",
      "[I 2023-07-27 00:49:21,684] Trial 6 finished with value: 0.17636481646527039 and parameters: {'lr': 0.41722305583379726, 'sigma': 0.7967273391644033, 'max_iter': 3213}. Best is trial 6 with value: 0.17636481646527039.\n",
      "[I 2023-07-27 00:49:40,688] Trial 7 finished with value: 0.06874339359566059 and parameters: {'lr': 1.3250204519957913, 'sigma': 0.19330394656418326, 'max_iter': 2690}. Best is trial 6 with value: 0.17636481646527039.\n",
      "[I 2023-07-27 00:50:06,120] Trial 8 finished with value: 0.03765235647776414 and parameters: {'lr': 0.11000180156371202, 'sigma': 0.12072362084421034, 'max_iter': 2860}. Best is trial 6 with value: 0.17636481646527039.\n",
      "[I 2023-07-27 00:50:23,231] Trial 9 finished with value: 0.2069372096508254 and parameters: {'lr': 0.2869536640684738, 'sigma': 0.5841259604361554, 'max_iter': 3202}. Best is trial 9 with value: 0.2069372096508254.\n",
      "[I 2023-07-27 00:50:39,929] Trial 10 finished with value: 0.10302514139754612 and parameters: {'lr': 2.6671119790403632, 'sigma': 2.694440262055993, 'max_iter': 2072}. Best is trial 9 with value: 0.2069372096508254.\n",
      "[I 2023-07-27 00:50:56,309] Trial 11 finished with value: 0.20082025485643118 and parameters: {'lr': 0.37146699844784253, 'sigma': 0.584954562279438, 'max_iter': 3608}. Best is trial 9 with value: 0.2069372096508254.\n",
      "[I 2023-07-27 00:51:14,493] Trial 12 finished with value: 0.15138950373215126 and parameters: {'lr': 0.33120012058056864, 'sigma': 0.4989077436528459, 'max_iter': 3917}. Best is trial 9 with value: 0.2069372096508254.\n",
      "[I 2023-07-27 00:51:30,922] Trial 13 finished with value: 0.037511695337205296 and parameters: {'lr': 0.011480229835154, 'sigma': 0.35493816977119713, 'max_iter': 3900}. Best is trial 9 with value: 0.2069372096508254.\n",
      "[I 2023-07-27 00:51:47,048] Trial 14 finished with value: 0.07884995399586078 and parameters: {'lr': 0.22718855984351655, 'sigma': 2.8869723278017956, 'max_iter': 3352}. Best is trial 9 with value: 0.2069372096508254.\n",
      "[I 2023-07-27 00:52:05,193] Trial 15 finished with value: 0.17133560052386462 and parameters: {'lr': 0.22465681817583866, 'sigma': 0.707340639298235, 'max_iter': 4138}. Best is trial 9 with value: 0.2069372096508254.\n",
      "[I 2023-07-27 00:52:25,884] Trial 16 finished with value: 0.03765235647776414 and parameters: {'lr': 0.09396941447953577, 'sigma': 0.3518347297427628, 'max_iter': 3186}. Best is trial 9 with value: 0.2069372096508254.\n",
      "[I 2023-07-27 00:52:42,182] Trial 17 finished with value: 0.14089418656492347 and parameters: {'lr': 0.5694283504887041, 'sigma': 1.4336360052482708, 'max_iter': 2461}. Best is trial 9 with value: 0.2069372096508254.\n",
      "[I 2023-07-27 00:52:58,876] Trial 18 finished with value: 0.03787312809594755 and parameters: {'lr': 0.2676641506822285, 'sigma': 0.23806568430252076, 'max_iter': 4967}. Best is trial 9 with value: 0.2069372096508254.\n",
      "[I 2023-07-27 00:53:14,269] Trial 19 finished with value: 0.03772603695290561 and parameters: {'lr': 0.16134947961005022, 'sigma': 0.10406755889195911, 'max_iter': 3475}. Best is trial 9 with value: 0.2069372096508254.\n",
      "[I 2023-07-27 00:53:29,832] Trial 20 finished with value: 0.037868874942396075 and parameters: {'lr': 0.5554554483466371, 'sigma': 0.011289564889954147, 'max_iter': 3759}. Best is trial 9 with value: 0.2069372096508254.\n",
      "[I 2023-07-27 00:53:45,997] Trial 21 finished with value: 0.1440071661009364 and parameters: {'lr': 0.3659640865862328, 'sigma': 0.6304338903500103, 'max_iter': 3193}. Best is trial 9 with value: 0.2069372096508254.\n",
      "[I 2023-07-27 00:54:02,210] Trial 22 finished with value: 0.15053064275061573 and parameters: {'lr': 0.40180235090662936, 'sigma': 0.9041969103002249, 'max_iter': 3315}. Best is trial 9 with value: 0.2069372096508254.\n",
      "[I 2023-07-27 00:54:17,941] Trial 23 finished with value: 0.2068026300866971 and parameters: {'lr': 0.17857203679152275, 'sigma': 0.6491917481495036, 'max_iter': 3162}. Best is trial 9 with value: 0.2069372096508254.\n",
      "[I 2023-07-27 00:54:33,708] Trial 24 finished with value: 0.12463207493636999 and parameters: {'lr': 0.19198660555581157, 'sigma': 0.5062205234860052, 'max_iter': 3010}. Best is trial 9 with value: 0.2069372096508254.\n",
      "[I 2023-07-27 00:54:49,958] Trial 25 finished with value: 0.03765235647776414 and parameters: {'lr': 0.08944781314557844, 'sigma': 0.32758576692835717, 'max_iter': 3640}. Best is trial 9 with value: 0.2069372096508254.\n",
      "[I 2023-07-27 00:55:05,804] Trial 26 finished with value: 0.14288940278536474 and parameters: {'lr': 0.26405621778218624, 'sigma': 1.2675730341910336, 'max_iter': 3381}. Best is trial 9 with value: 0.2069372096508254.\n",
      "[I 2023-07-27 00:55:22,693] Trial 27 finished with value: 0.03772603695290561 and parameters: {'lr': 0.14360494014936004, 'sigma': 0.24980609545228633, 'max_iter': 3030}. Best is trial 9 with value: 0.2069372096508254.\n",
      "[I 2023-07-27 00:55:38,689] Trial 28 finished with value: 0.13121340820075883 and parameters: {'lr': 0.06278013176184809, 'sigma': 0.6239453959383962, 'max_iter': 4033}. Best is trial 9 with value: 0.2069372096508254.\n",
      "[I 2023-07-27 00:55:54,348] Trial 29 finished with value: 0.12877537854522036 and parameters: {'lr': 0.1598677398931331, 'sigma': 1.9580594055235414, 'max_iter': 3446}. Best is trial 9 with value: 0.2069372096508254.\n",
      "[I 2023-07-27 00:56:09,722] Trial 30 finished with value: 0.1484112983034666 and parameters: {'lr': 0.13594719984691542, 'sigma': 0.9302351568247599, 'max_iter': 3084}. Best is trial 9 with value: 0.2069372096508254.\n",
      "[I 2023-07-27 00:56:25,182] Trial 31 finished with value: 0.18353603594564036 and parameters: {'lr': 0.40749930409623, 'sigma': 0.8641423066473509, 'max_iter': 3218}. Best is trial 9 with value: 0.2069372096508254.\n",
      "[I 2023-07-27 00:56:40,679] Trial 32 finished with value: 0.12785528432718646 and parameters: {'lr': 0.2894775851259226, 'sigma': 0.9078801944407761, 'max_iter': 3728}. Best is trial 9 with value: 0.2069372096508254.\n",
      "[I 2023-07-27 00:56:56,424] Trial 33 finished with value: 0.19392470127537126 and parameters: {'lr': 0.8036007245568696, 'sigma': 0.6243032116758925, 'max_iter': 3257}. Best is trial 9 with value: 0.2069372096508254.\n",
      "[I 2023-07-27 00:57:12,126] Trial 34 finished with value: 0.20358874681581246 and parameters: {'lr': 0.7524571728002009, 'sigma': 0.5593258545528997, 'max_iter': 3561}. Best is trial 9 with value: 0.2069372096508254.\n",
      "[I 2023-07-27 00:57:28,145] Trial 35 finished with value: 0.1348892274138166 and parameters: {'lr': 0.7515051351015223, 'sigma': 1.7235712401439243, 'max_iter': 3548}. Best is trial 9 with value: 0.2069372096508254.\n",
      "[I 2023-07-27 00:57:44,372] Trial 36 finished with value: 0.15109580238196113 and parameters: {'lr': 0.5307560740168028, 'sigma': 1.0879358801815873, 'max_iter': 3628}. Best is trial 9 with value: 0.2069372096508254.\n",
      "[I 2023-07-27 00:58:00,501] Trial 37 finished with value: 0.2013444205798652 and parameters: {'lr': 1.1259991805919045, 'sigma': 0.453930979355515, 'max_iter': 4138}. Best is trial 9 with value: 0.2069372096508254.\n"
     ]
    },
    {
     "name": "stderr",
     "output_type": "stream",
     "text": [
      "[I 2023-07-27 00:58:16,802] Trial 38 finished with value: 0.1730623474275726 and parameters: {'lr': 1.4120891869398944, 'sigma': 0.4758704468084834, 'max_iter': 4129}. Best is trial 9 with value: 0.2069372096508254.\n",
      "[I 2023-07-27 00:58:32,616] Trial 39 finished with value: 0.03794653909431091 and parameters: {'lr': 0.8562702267760047, 'sigma': 0.3054328725260602, 'max_iter': 4347}. Best is trial 9 with value: 0.2069372096508254.\n",
      "[I 2023-07-27 00:58:48,383] Trial 40 finished with value: 0.19598601635636487 and parameters: {'lr': 1.132895866579797, 'sigma': 0.4210070101465585, 'max_iter': 3841}. Best is trial 9 with value: 0.2069372096508254.\n",
      "[I 2023-07-27 00:59:04,612] Trial 41 finished with value: 0.2099287253346384 and parameters: {'lr': 0.6745299772124765, 'sigma': 0.6214853550016058, 'max_iter': 3503}. Best is trial 41 with value: 0.2099287253346384.\n",
      "[I 2023-07-27 00:59:20,602] Trial 42 finished with value: 0.14769825322549898 and parameters: {'lr': 1.5669166519415199, 'sigma': 0.4350752284144333, 'max_iter': 3486}. Best is trial 41 with value: 0.2099287253346384.\n",
      "[I 2023-07-27 00:59:36,370] Trial 43 finished with value: 0.20287238280333916 and parameters: {'lr': 0.6829612054160097, 'sigma': 0.7309440769156709, 'max_iter': 3359}. Best is trial 41 with value: 0.2099287253346384.\n",
      "[I 2023-07-27 00:59:52,179] Trial 44 finished with value: 0.13804214117045638 and parameters: {'lr': 0.6691483267764735, 'sigma': 1.2156648693624714, 'max_iter': 2871}. Best is trial 41 with value: 0.2099287253346384.\n",
      "[I 2023-07-27 01:00:08,701] Trial 45 finished with value: 0.15210047912408628 and parameters: {'lr': 0.48880913626964984, 'sigma': 0.7677993408159338, 'max_iter': 3294}. Best is trial 41 with value: 0.2099287253346384.\n",
      "[I 2023-07-27 01:00:24,852] Trial 46 finished with value: 0.16759874315673384 and parameters: {'lr': 0.6729870861117944, 'sigma': 1.045064451098304, 'max_iter': 3354}. Best is trial 41 with value: 0.2099287253346384.\n",
      "[I 2023-07-27 01:00:40,276] Trial 47 finished with value: 0.15558875060448987 and parameters: {'lr': 0.458686337110433, 'sigma': 0.7347863986018397, 'max_iter': 3105}. Best is trial 41 with value: 0.2099287253346384.\n",
      "[I 2023-07-27 01:00:57,195] Trial 48 finished with value: 0.1461936029506562 and parameters: {'lr': 0.3155689380744348, 'sigma': 1.5831174342873242, 'max_iter': 3687}. Best is trial 41 with value: 0.2099287253346384.\n",
      "[I 2023-07-27 01:01:14,096] Trial 49 finished with value: 0.19694158863470407 and parameters: {'lr': 0.923758399825149, 'sigma': 0.6015312282515698, 'max_iter': 3536}. Best is trial 41 with value: 0.2099287253346384.\n",
      "[I 2023-07-27 01:01:29,093] Trial 50 finished with value: 0.03772603695290561 and parameters: {'lr': 0.20390489964246825, 'sigma': 0.17552369770257092, 'max_iter': 2922}. Best is trial 41 with value: 0.2099287253346384.\n",
      "[I 2023-07-27 01:01:44,657] Trial 51 finished with value: 0.20137937761972463 and parameters: {'lr': 1.0832897810570912, 'sigma': 0.50722739378901, 'max_iter': 3827}. Best is trial 41 with value: 0.2099287253346384.\n",
      "[I 2023-07-27 01:02:00,028] Trial 52 finished with value: 0.06344991514516601 and parameters: {'lr': 1.938050647719572, 'sigma': 0.35809685730532087, 'max_iter': 3413}. Best is trial 41 with value: 0.2099287253346384.\n",
      "[I 2023-07-27 01:02:15,662] Trial 53 finished with value: 0.19335660082954892 and parameters: {'lr': 0.6278871191208532, 'sigma': 0.5437786895319372, 'max_iter': 3755}. Best is trial 41 with value: 0.2099287253346384.\n",
      "[I 2023-07-27 01:02:31,256] Trial 54 finished with value: 0.17945401364893823 and parameters: {'lr': 0.932561963484169, 'sigma': 0.7360592722724906, 'max_iter': 3158}. Best is trial 41 with value: 0.2099287253346384.\n",
      "[I 2023-07-27 01:02:46,651] Trial 55 finished with value: 0.03794224328087788 and parameters: {'lr': 0.49447041559506993, 'sigma': 0.2770785815959168, 'max_iter': 3567}. Best is trial 41 with value: 0.2099287253346384.\n",
      "[I 2023-07-27 01:03:03,512] Trial 56 finished with value: 0.13003872975425457 and parameters: {'lr': 1.0722854261201589, 'sigma': 0.38371404004999915, 'max_iter': 3858}. Best is trial 41 with value: 0.2099287253346384.\n",
      "[I 2023-07-27 01:03:22,126] Trial 57 finished with value: 0.16005170460796414 and parameters: {'lr': 0.33629251818520617, 'sigma': 0.5276736339504752, 'max_iter': 3302}. Best is trial 41 with value: 0.2099287253346384.\n",
      "[I 2023-07-27 01:03:45,247] Trial 58 finished with value: 0.06513327903909438 and parameters: {'lr': 0.7439130641305133, 'sigma': 0.2113440878869476, 'max_iter': 3459}. Best is trial 41 with value: 0.2099287253346384.\n",
      "[I 2023-07-27 01:04:04,632] Trial 59 finished with value: 0.03794224328087788 and parameters: {'lr': 0.5718428610065802, 'sigma': 0.33300720180984034, 'max_iter': 2991}. Best is trial 41 with value: 0.2099287253346384.\n",
      "[I 2023-07-27 01:04:22,434] Trial 60 finished with value: 0.16691900031371035 and parameters: {'lr': 1.7571108933776869, 'sigma': 0.796782629407723, 'max_iter': 3135}. Best is trial 41 with value: 0.2099287253346384.\n",
      "[I 2023-07-27 01:04:39,079] Trial 61 finished with value: 0.17359236130035413 and parameters: {'lr': 1.221444621136931, 'sigma': 0.49072520523854907, 'max_iter': 3992}. Best is trial 41 with value: 0.2099287253346384.\n",
      "[I 2023-07-27 01:04:56,179] Trial 62 finished with value: 0.18470409099951096 and parameters: {'lr': 1.0013142806501307, 'sigma': 0.41714370683553675, 'max_iter': 3659}. Best is trial 41 with value: 0.2099287253346384.\n",
      "[I 2023-07-27 01:05:13,975] Trial 63 finished with value: 0.19462641222570315 and parameters: {'lr': 1.4292760929350843, 'sigma': 0.6248266012083032, 'max_iter': 3821}. Best is trial 41 with value: 0.2099287253346384.\n",
      "[I 2023-07-27 01:05:31,035] Trial 64 finished with value: 0.193657420229882 and parameters: {'lr': 0.24370729853218176, 'sigma': 0.6910389617071557, 'max_iter': 3391}. Best is trial 41 with value: 0.2099287253346384.\n",
      "[I 2023-07-27 01:05:50,265] Trial 65 finished with value: 0.0636905548293446 and parameters: {'lr': 0.810073215284814, 'sigma': 0.2783288546400485, 'max_iter': 4001}. Best is trial 41 with value: 0.2099287253346384.\n",
      "[I 2023-07-27 01:06:10,540] Trial 66 finished with value: 0.12386766001664348 and parameters: {'lr': 1.2053823376518418, 'sigma': 1.033998376004511, 'max_iter': 3233}. Best is trial 41 with value: 0.2099287253346384.\n",
      "[I 2023-07-27 01:06:27,165] Trial 67 finished with value: 0.14953804529087006 and parameters: {'lr': 0.42458172687231466, 'sigma': 0.4722903001945967, 'max_iter': 3599}. Best is trial 41 with value: 0.2099287253346384.\n",
      "[I 2023-07-27 01:06:44,228] Trial 68 finished with value: 0.16356157680925448 and parameters: {'lr': 2.093325745378863, 'sigma': 0.589028872218723, 'max_iter': 4290}. Best is trial 41 with value: 0.2099287253346384.\n",
      "[I 2023-07-27 01:07:02,628] Trial 69 finished with value: 0.08768149254263263 and parameters: {'lr': 0.6338206157668195, 'sigma': 0.39309439407043323, 'max_iter': 3758}. Best is trial 41 with value: 0.2099287253346384.\n",
      "[I 2023-07-27 01:07:19,625] Trial 70 finished with value: 0.14538637741974553 and parameters: {'lr': 0.3582987733524615, 'sigma': 0.8448553025518436, 'max_iter': 3494}. Best is trial 41 with value: 0.2099287253346384.\n",
      "[I 2023-07-27 01:07:36,283] Trial 71 finished with value: 0.16203971096203437 and parameters: {'lr': 0.26544783166390296, 'sigma': 0.5356768269177713, 'max_iter': 3602}. Best is trial 41 with value: 0.2099287253346384.\n",
      "[I 2023-07-27 01:07:53,594] Trial 72 finished with value: 0.18417822023972394 and parameters: {'lr': 0.4021435520912165, 'sigma': 0.6886898708450988, 'max_iter': 3362}. Best is trial 41 with value: 0.2099287253346384.\n",
      "[I 2023-07-27 01:08:10,415] Trial 73 finished with value: 0.11631570761617141 and parameters: {'lr': 0.5144996554566632, 'sigma': 0.9381225312002751, 'max_iter': 3938}. Best is trial 41 with value: 0.2099287253346384.\n",
      "[I 2023-07-27 01:08:28,089] Trial 74 finished with value: 0.17929293208915967 and parameters: {'lr': 0.9714045304131705, 'sigma': 0.4592665882040829, 'max_iter': 3213}. Best is trial 41 with value: 0.2099287253346384.\n",
      "[I 2023-07-27 01:08:44,954] Trial 75 finished with value: 0.1557963206904062 and parameters: {'lr': 0.7173820991692761, 'sigma': 1.1844762548495618, 'max_iter': 3444}. Best is trial 41 with value: 0.2099287253346384.\n"
     ]
    },
    {
     "name": "stderr",
     "output_type": "stream",
     "text": [
      "[I 2023-07-27 01:09:01,717] Trial 76 finished with value: 0.17342815207177756 and parameters: {'lr': 0.31505447132309244, 'sigma': 0.5488116939524788, 'max_iter': 3717}. Best is trial 41 with value: 0.2099287253346384.\n",
      "[I 2023-07-27 01:09:19,329] Trial 77 finished with value: 0.16934952178850654 and parameters: {'lr': 0.22021534861672573, 'sigma': 0.6998713792136044, 'max_iter': 3276}. Best is trial 41 with value: 0.2099287253346384.\n",
      "[I 2023-07-27 01:09:36,581] Trial 78 finished with value: 0.15288685122178966 and parameters: {'lr': 0.5869685939588623, 'sigma': 1.361331135532909, 'max_iter': 3813}. Best is trial 41 with value: 0.2099287253346384.\n",
      "[I 2023-07-27 01:09:54,883] Trial 79 finished with value: 0.19340709609685322 and parameters: {'lr': 0.7979312023146394, 'sigma': 0.8655675784338146, 'max_iter': 3525}. Best is trial 41 with value: 0.2099287253346384.\n",
      "[I 2023-07-27 01:10:21,656] Trial 80 finished with value: 0.03807996329461315 and parameters: {'lr': 0.1850000618874208, 'sigma': 0.3626374265268466, 'max_iter': 3669}. Best is trial 41 with value: 0.2099287253346384.\n",
      "[I 2023-07-27 01:10:45,769] Trial 81 finished with value: 0.14177005153152666 and parameters: {'lr': 0.8719470576383761, 'sigma': 0.5970580005105164, 'max_iter': 3591}. Best is trial 41 with value: 0.2099287253346384.\n",
      "[I 2023-07-27 01:11:03,376] Trial 82 finished with value: 0.21144355004214674 and parameters: {'lr': 1.069352676694671, 'sigma': 0.4478058589349034, 'max_iter': 3522}. Best is trial 82 with value: 0.21144355004214674.\n",
      "[I 2023-07-27 01:11:19,417] Trial 83 finished with value: 0.18564945988886722 and parameters: {'lr': 1.2597803880242204, 'sigma': 0.4329373720893609, 'max_iter': 3414}. Best is trial 82 with value: 0.21144355004214674.\n",
      "[I 2023-07-27 01:11:37,081] Trial 84 finished with value: 0.15681947667824286 and parameters: {'lr': 1.0108541473641648, 'sigma': 0.4937377534251475, 'max_iter': 3326}. Best is trial 82 with value: 0.21144355004214674.\n",
      "[I 2023-07-27 01:11:54,073] Trial 85 finished with value: 0.15588825379582252 and parameters: {'lr': 1.115125697000336, 'sigma': 0.4044240220583448, 'max_iter': 3916}. Best is trial 82 with value: 0.21144355004214674.\n",
      "[I 2023-07-27 01:12:10,725] Trial 86 finished with value: 0.0391438104436435 and parameters: {'lr': 0.6900445460121639, 'sigma': 0.3155136852829105, 'max_iter': 3515}. Best is trial 82 with value: 0.21144355004214674.\n",
      "[I 2023-07-27 01:12:27,398] Trial 87 finished with value: 0.21450960884607825 and parameters: {'lr': 0.4517516977630655, 'sigma': 0.6820945909305205, 'max_iter': 3153}. Best is trial 87 with value: 0.21450960884607825.\n",
      "[I 2023-07-27 01:12:43,165] Trial 88 finished with value: 0.1990459304501765 and parameters: {'lr': 0.4546666833572762, 'sigma': 0.660452976146114, 'max_iter': 3100}. Best is trial 87 with value: 0.21450960884607825.\n",
      "[I 2023-07-27 01:13:00,001] Trial 89 finished with value: 0.17354671634921243 and parameters: {'lr': 0.5677423043342164, 'sigma': 0.799720223244475, 'max_iter': 3176}. Best is trial 87 with value: 0.21450960884607825.\n",
      "[I 2023-07-27 01:13:16,362] Trial 90 finished with value: 0.18360199472826666 and parameters: {'lr': 0.8671764663541499, 'sigma': 1.0271504916688488, 'max_iter': 3279}. Best is trial 87 with value: 0.21450960884607825.\n",
      "[I 2023-07-27 01:13:32,982] Trial 91 finished with value: 0.17491279150399314 and parameters: {'lr': 0.3742664976632976, 'sigma': 0.5688613102828197, 'max_iter': 3057}. Best is trial 87 with value: 0.21450960884607825.\n",
      "[I 2023-07-27 01:13:49,060] Trial 92 finished with value: 0.17679351043805488 and parameters: {'lr': 0.48946771543358314, 'sigma': 0.7585448113896085, 'max_iter': 3338}. Best is trial 87 with value: 0.21450960884607825.\n",
      "[I 2023-07-27 01:14:04,696] Trial 93 finished with value: 0.14527301741069007 and parameters: {'lr': 0.7178585959624154, 'sigma': 0.5021860904339941, 'max_iter': 3433}. Best is trial 87 with value: 0.21450960884607825.\n",
      "[I 2023-07-27 01:14:20,181] Trial 94 finished with value: 0.20683000354478995 and parameters: {'lr': 0.6112414073230635, 'sigma': 0.5753209118033538, 'max_iter': 3166}. Best is trial 87 with value: 0.21450960884607825.\n",
      "[I 2023-07-27 01:14:36,924] Trial 95 finished with value: 0.12905278349617794 and parameters: {'lr': 0.6284698519483458, 'sigma': 0.4468544124245859, 'max_iter': 3162}. Best is trial 87 with value: 0.21450960884607825.\n",
      "[I 2023-07-27 01:14:53,776] Trial 96 finished with value: 0.12972513527973292 and parameters: {'lr': 1.3756768110386925, 'sigma': 0.6572906668416487, 'max_iter': 3020}. Best is trial 87 with value: 0.21450960884607825.\n",
      "[I 2023-07-27 01:15:13,924] Trial 97 finished with value: 0.08063376127867748 and parameters: {'lr': 1.133776911363559, 'sigma': 0.3737206470503763, 'max_iter': 3116}. Best is trial 87 with value: 0.21450960884607825.\n",
      "[I 2023-07-27 01:15:33,746] Trial 98 finished with value: 0.16926812607392855 and parameters: {'lr': 0.8066685926725088, 'sigma': 0.5746068972434063, 'max_iter': 3187}. Best is trial 87 with value: 0.21450960884607825.\n",
      "[I 2023-07-27 01:15:54,739] Trial 99 finished with value: 0.1427533345329336 and parameters: {'lr': 1.0095719270632957, 'sigma': 0.7739961697691328, 'max_iter': 3275}. Best is trial 87 with value: 0.21450960884607825.\n"
     ]
    }
   ],
   "source": [
    "import optuna\n",
    "def objective(trial):\n",
    "    # 2. Suggest values of the hyperparameters using a trial object.\n",
    "    param = {\n",
    "        'm': 4,\n",
    "        'n': 4,\n",
    "        'dim': 50,\n",
    "        'lr': trial.suggest_float('lr', 1e-2, 3, log=True),\n",
    "        'sigma': trial.suggest_float('sigma', 1e-2, 3, log=True),\n",
    "        'max_iter': trial.suggest_int('max_iter', 2000, 5000, log=True),\n",
    "        'random_state': 42, #trial.suggest_int('random_state', 1, 42, log=True),\n",
    "    }\n",
    "\n",
    "    som = SOM(**param)\n",
    "    som.fit(x_train.to_numpy(), epochs=10)\n",
    "    predictions = som.fit_predict(x_test.to_numpy())\n",
    "    predictions_fix = predictions.copy()\n",
    "    for i in pd.Series(predictions).unique():\n",
    "        key=pd.Series(y_test.tolist())[list(pd.Series(predictions).loc[lambda x : x == i].index)].value_counts().keys().to_list()[0]\n",
    "        predictions_fix[predictions==i]=key\n",
    "    score = f1_score(y_test, predictions_fix, average='macro')\n",
    "    return score\n",
    "\n",
    "# 3. Create a study object and optimize the objective function.\n",
    "study = optuna.create_study(direction='maximize')\n",
    "study.optimize(objective, n_trials=100)"
   ]
  },
  {
   "cell_type": "markdown",
   "id": "d56d4cfc",
   "metadata": {},
   "source": [
    "# Train model"
   ]
  },
  {
   "cell_type": "code",
   "execution_count": 68,
   "id": "11bab879",
   "metadata": {},
   "outputs": [
    {
     "name": "stdout",
     "output_type": "stream",
     "text": [
      "CPU times: user 7.72 s, sys: 0 ns, total: 7.72 s\n",
      "Wall time: 8.36 s\n"
     ]
    }
   ],
   "source": [
    "# som = load('som_big.joblib')\n",
    "# {'lr': 0.20715800685544858, 'sigma': 0.48812890935056635, 'max_iter': 3510, 'random_state': 23}\n",
    "# {'lr': 0.4484606809403018, 'sigma': 0.7617226203270118, 'max_iter': 3781, 'random_state': 5}\n",
    "# {'lr': 1.5792491494219374, 'sigma': 0.6821505133687678, 'max_iter': 3575}\n",
    "# {'lr': 1.1441603825302205, 'sigma': 0.3672077435443995, 'max_iter': 2409}\n",
    "# {'lr': 0.4517516977630655, 'sigma': 0.6820945909305205, 'max_iter': 3153}\n",
    "som = SOM(m=4, n=4, dim=50, lr=0.4517516977630655, sigma=0.6820945909305205, max_iter=3153, random_state=42)\n",
    "%time som.fit(x_train.to_numpy(), epochs=10)\n",
    "predictions = som.fit_predict(x_test.to_numpy())\n",
    "# dump(som, 'som_big.joblib') "
   ]
  },
  {
   "cell_type": "code",
   "execution_count": 69,
   "id": "c05c292f",
   "metadata": {},
   "outputs": [
    {
     "data": {
      "text/plain": [
       "10    6769\n",
       "14    6358\n",
       "8     6095\n",
       "3     5796\n",
       "6     5642\n",
       "13    5339\n",
       "0     5304\n",
       "11    5226\n",
       "15    5193\n",
       "12    4832\n",
       "5     4651\n",
       "7     4534\n",
       "4     4506\n",
       "9     4441\n",
       "1     4300\n",
       "2     4027\n",
       "dtype: int64"
      ]
     },
     "execution_count": 69,
     "metadata": {},
     "output_type": "execute_result"
    }
   ],
   "source": [
    "pd.Series(predictions).value_counts()"
   ]
  },
  {
   "cell_type": "markdown",
   "id": "b250cf4b",
   "metadata": {},
   "source": [
    "# Map classes from som to classes from Y data"
   ]
  },
  {
   "cell_type": "code",
   "execution_count": 113,
   "id": "201e2210",
   "metadata": {},
   "outputs": [],
   "source": [
    "classes_mapping=map_class(predictions)\n",
    "predictions_fix = predictions.copy()\n",
    "for index, row in classes_mapping.iterrows():\n",
    "    predictions_fix[predictions==classes_mapping.at[index, 'som']]=classes_mapping.at[index, 'best_classes']"
   ]
  },
  {
   "cell_type": "markdown",
   "id": "d5516a92",
   "metadata": {},
   "source": [
    "# Simple method"
   ]
  },
  {
   "cell_type": "code",
   "execution_count": 108,
   "id": "49bcef18",
   "metadata": {},
   "outputs": [],
   "source": [
    "# predictions_fix = predictions.copy()\n",
    "# for i in pd.Series(predictions).unique():\n",
    "#     key=pd.Series(y_test.tolist())[list(pd.Series(predictions).loc[lambda x : x == i].index)].value_counts().keys().to_list()[0]\n",
    "#     predictions_fix[predictions==i]=key"
   ]
  },
  {
   "cell_type": "markdown",
   "id": "b8bad8b6",
   "metadata": {},
   "source": [
    "# Check the resuts"
   ]
  },
  {
   "cell_type": "code",
   "execution_count": 114,
   "id": "d9434a51",
   "metadata": {
    "scrolled": true
   },
   "outputs": [
    {
     "name": "stdout",
     "output_type": "stream",
     "text": [
      "              precision    recall  f1-score   support\n",
      "\n",
      "           0       0.86      0.17      0.29     28879\n",
      "           1       0.86      0.19      0.31     20959\n",
      "           3       0.66      0.69      0.68      6138\n",
      "           4       0.58      0.67      0.62      4541\n",
      "           5       0.00      0.00      0.00      1416\n",
      "           7       0.19      0.32      0.24      2919\n",
      "          11       0.18      0.85      0.30      1134\n",
      "          14       0.00      0.00      0.00      2736\n",
      "          16       0.02      0.10      0.03      1111\n",
      "          20       0.10      0.39      0.16      1556\n",
      "          23       0.01      0.02      0.01      1818\n",
      "          25       0.31      0.56      0.40      2961\n",
      "          27       0.29      0.54      0.38      2796\n",
      "          31       0.15      0.61      0.24      1645\n",
      "          96       0.07      0.26      0.11      1208\n",
      "         179       0.06      0.21      0.09      1196\n",
      "\n",
      "    accuracy                           0.28     83013\n",
      "   macro avg       0.27      0.35      0.24     83013\n",
      "weighted avg       0.64      0.28      0.31     83013\n",
      "\n"
     ]
    }
   ],
   "source": [
    "print(classification_report(y_test,predictions_fix))"
   ]
  },
  {
   "cell_type": "code",
   "execution_count": 115,
   "id": "c488939a",
   "metadata": {},
   "outputs": [
    {
     "data": {
      "text/plain": [
       "0.3120490690007987"
      ]
     },
     "execution_count": 115,
     "metadata": {},
     "output_type": "execute_result"
    }
   ],
   "source": [
    "score = f1_score(y_test, predictions_fix, average='weighted')\n",
    "score"
   ]
  },
  {
   "cell_type": "code",
   "execution_count": 116,
   "id": "d63d4faf",
   "metadata": {},
   "outputs": [
    {
     "data": {
      "text/plain": [
       "0.2832447929842314"
      ]
     },
     "execution_count": 116,
     "metadata": {},
     "output_type": "execute_result"
    }
   ],
   "source": [
    "accuracy_score(y_test, predictions_fix)"
   ]
  },
  {
   "cell_type": "code",
   "execution_count": 117,
   "id": "c747e073",
   "metadata": {},
   "outputs": [
    {
     "data": {
      "text/plain": [
       "0.24014467440983844"
      ]
     },
     "execution_count": 117,
     "metadata": {},
     "output_type": "execute_result"
    }
   ],
   "source": [
    "f1_score(y_test, predictions_fix, average='macro')"
   ]
  },
  {
   "cell_type": "markdown",
   "id": "a9406568",
   "metadata": {},
   "source": [
    "# Somoclu"
   ]
  },
  {
   "cell_type": "code",
   "execution_count": 83,
   "id": "1cc498ce",
   "metadata": {},
   "outputs": [],
   "source": [
    "import somoclu\n",
    "from mpl_toolkits.mplot3d import Axes3D\n"
   ]
  },
  {
   "cell_type": "markdown",
   "id": "c49346eb",
   "metadata": {},
   "source": [
    "# Optimize hiperparameters"
   ]
  },
  {
   "cell_type": "code",
   "execution_count": 84,
   "id": "dbeb66cb",
   "metadata": {},
   "outputs": [
    {
     "name": "stderr",
     "output_type": "stream",
     "text": [
      "[I 2023-07-27 01:31:01,141] A new study created in memory with name: no-name-a6d22e35-06d5-4d7d-8ce6-4f1724770a43\n",
      "[I 2023-07-27 01:31:05,900] Trial 0 finished with value: 0.21006933994746213 and parameters: {'gridtype': 'rectangular', 'std_coeff': 0.01517310653130157, 'initialization': 'pca'}. Best is trial 0 with value: 0.21006933994746213.\n",
      "[I 2023-07-27 01:31:09,510] Trial 1 finished with value: 0.2506232198413363 and parameters: {'gridtype': 'rectangular', 'std_coeff': 0.2671509618739662, 'initialization': 'random'}. Best is trial 1 with value: 0.2506232198413363.\n",
      "[I 2023-07-27 01:31:13,565] Trial 2 finished with value: 0.25639560058928396 and parameters: {'gridtype': 'hexagonal', 'std_coeff': 0.310183498671109, 'initialization': 'pca'}. Best is trial 2 with value: 0.25639560058928396.\n",
      "[I 2023-07-27 01:31:17,337] Trial 3 finished with value: 0.17802527058642323 and parameters: {'gridtype': 'rectangular', 'std_coeff': 1.372401552964429, 'initialization': 'random'}. Best is trial 2 with value: 0.25639560058928396.\n",
      "[I 2023-07-27 01:31:22,373] Trial 4 finished with value: 0.19876200255021792 and parameters: {'gridtype': 'rectangular', 'std_coeff': 2.8048643338534904, 'initialization': None}. Best is trial 2 with value: 0.25639560058928396.\n",
      "[I 2023-07-27 01:31:27,896] Trial 5 finished with value: 0.18336631998433106 and parameters: {'gridtype': 'hexagonal', 'std_coeff': 0.011624474013883534, 'initialization': 'random'}. Best is trial 2 with value: 0.25639560058928396.\n",
      "[I 2023-07-27 01:31:36,197] Trial 6 finished with value: 0.23834063015030746 and parameters: {'gridtype': 'rectangular', 'std_coeff': 0.03695533998236495, 'initialization': 'pca'}. Best is trial 2 with value: 0.25639560058928396.\n",
      "[I 2023-07-27 01:31:41,488] Trial 7 finished with value: 0.19594592148959483 and parameters: {'gridtype': 'rectangular', 'std_coeff': 0.10751931640093453, 'initialization': None}. Best is trial 2 with value: 0.25639560058928396.\n",
      "[I 2023-07-27 01:31:47,350] Trial 8 finished with value: 0.25104590992279974 and parameters: {'gridtype': 'hexagonal', 'std_coeff': 0.25273511064205373, 'initialization': 'pca'}. Best is trial 2 with value: 0.25639560058928396.\n",
      "[I 2023-07-27 01:31:53,460] Trial 9 finished with value: 0.21545016330755867 and parameters: {'gridtype': 'hexagonal', 'std_coeff': 0.128845374311389, 'initialization': 'pca'}. Best is trial 2 with value: 0.25639560058928396.\n",
      "[I 2023-07-27 01:31:59,377] Trial 10 finished with value: 0.23151133132590068 and parameters: {'gridtype': 'hexagonal', 'std_coeff': 0.5754936305805813, 'initialization': 'pca'}. Best is trial 2 with value: 0.25639560058928396.\n",
      "[I 2023-07-27 01:32:05,177] Trial 11 finished with value: 0.25406713456641483 and parameters: {'gridtype': 'hexagonal', 'std_coeff': 0.42104547255417524, 'initialization': 'pca'}. Best is trial 2 with value: 0.25639560058928396.\n",
      "[I 2023-07-27 01:32:11,315] Trial 12 finished with value: 0.23077457082288663 and parameters: {'gridtype': 'hexagonal', 'std_coeff': 0.5803046423277565, 'initialization': 'pca'}. Best is trial 2 with value: 0.25639560058928396.\n",
      "[I 2023-07-27 01:32:17,579] Trial 13 finished with value: 0.24312505696134634 and parameters: {'gridtype': 'hexagonal', 'std_coeff': 0.4734729958486137, 'initialization': 'pca'}. Best is trial 2 with value: 0.25639560058928396.\n",
      "[I 2023-07-27 01:32:23,101] Trial 14 finished with value: 0.18139909278690391 and parameters: {'gridtype': 'hexagonal', 'std_coeff': 0.09028671355087682, 'initialization': None}. Best is trial 2 with value: 0.25639560058928396.\n",
      "[I 2023-07-27 01:32:29,069] Trial 15 finished with value: 0.20950745801272322 and parameters: {'gridtype': 'hexagonal', 'std_coeff': 0.8267490020625814, 'initialization': 'pca'}. Best is trial 2 with value: 0.25639560058928396.\n",
      "[I 2023-07-27 01:32:34,740] Trial 16 finished with value: 0.26314054211922644 and parameters: {'gridtype': 'hexagonal', 'std_coeff': 0.2395943166692868, 'initialization': 'pca'}. Best is trial 16 with value: 0.26314054211922644.\n",
      "[I 2023-07-27 01:32:41,318] Trial 17 finished with value: 0.23451087969261156 and parameters: {'gridtype': 'hexagonal', 'std_coeff': 0.1809658568949514, 'initialization': 'pca'}. Best is trial 16 with value: 0.26314054211922644.\n",
      "[I 2023-07-27 01:32:49,094] Trial 18 finished with value: 0.2570204222775041 and parameters: {'gridtype': 'hexagonal', 'std_coeff': 0.06844451529743782, 'initialization': 'random'}. Best is trial 16 with value: 0.26314054211922644.\n",
      "[I 2023-07-27 01:32:57,304] Trial 19 finished with value: 0.23763422822105093 and parameters: {'gridtype': 'hexagonal', 'std_coeff': 0.05995817578600909, 'initialization': 'random'}. Best is trial 16 with value: 0.26314054211922644.\n",
      "[I 2023-07-27 01:33:02,341] Trial 20 finished with value: 0.21518135807857214 and parameters: {'gridtype': 'hexagonal', 'std_coeff': 0.030638479159089786, 'initialization': 'random'}. Best is trial 16 with value: 0.26314054211922644.\n",
      "[I 2023-07-27 01:33:07,614] Trial 21 finished with value: 0.2636652729714922 and parameters: {'gridtype': 'hexagonal', 'std_coeff': 0.1860124279819752, 'initialization': 'random'}. Best is trial 21 with value: 0.2636652729714922.\n",
      "[I 2023-07-27 01:33:12,705] Trial 22 finished with value: 0.24044189317524203 and parameters: {'gridtype': 'hexagonal', 'std_coeff': 0.1662621720382259, 'initialization': 'random'}. Best is trial 21 with value: 0.2636652729714922.\n",
      "[I 2023-07-27 01:33:19,097] Trial 23 finished with value: 0.2412144066579346 and parameters: {'gridtype': 'hexagonal', 'std_coeff': 0.06968218666479524, 'initialization': 'random'}. Best is trial 21 with value: 0.2636652729714922.\n",
      "[I 2023-07-27 01:33:24,746] Trial 24 finished with value: 0.2878121799258846 and parameters: {'gridtype': 'hexagonal', 'std_coeff': 0.17366435985004622, 'initialization': 'random'}. Best is trial 24 with value: 0.2878121799258846.\n",
      "[I 2023-07-27 01:33:29,949] Trial 25 finished with value: 0.22978996703129242 and parameters: {'gridtype': 'hexagonal', 'std_coeff': 0.16196776892372214, 'initialization': 'random'}. Best is trial 24 with value: 0.2878121799258846.\n",
      "[I 2023-07-27 01:33:35,511] Trial 26 finished with value: 0.23211777098876096 and parameters: {'gridtype': 'hexagonal', 'std_coeff': 0.22730203227885656, 'initialization': 'random'}. Best is trial 24 with value: 0.2878121799258846.\n",
      "[I 2023-07-27 01:33:41,017] Trial 27 finished with value: 0.2134363184168404 and parameters: {'gridtype': 'hexagonal', 'std_coeff': 0.1321458854203797, 'initialization': None}. Best is trial 24 with value: 0.2878121799258846.\n",
      "[I 2023-07-27 01:33:47,159] Trial 28 finished with value: 0.2257881465879412 and parameters: {'gridtype': 'hexagonal', 'std_coeff': 0.35022836396727397, 'initialization': 'random'}. Best is trial 24 with value: 0.2878121799258846.\n",
      "[I 2023-07-27 01:33:52,099] Trial 29 finished with value: 0.24959894073877106 and parameters: {'gridtype': 'rectangular', 'std_coeff': 0.29838721040304794, 'initialization': 'random'}. Best is trial 24 with value: 0.2878121799258846.\n",
      "[I 2023-07-27 01:33:57,529] Trial 30 finished with value: 0.24776649816433466 and parameters: {'gridtype': 'hexagonal', 'std_coeff': 0.1986144159837904, 'initialization': None}. Best is trial 24 with value: 0.2878121799258846.\n",
      "[I 2023-07-27 01:34:02,335] Trial 31 finished with value: 0.20241550095991712 and parameters: {'gridtype': 'hexagonal', 'std_coeff': 0.09188817926271226, 'initialization': 'random'}. Best is trial 24 with value: 0.2878121799258846.\n",
      "[I 2023-07-27 01:34:10,487] Trial 32 finished with value: 0.22289269564764766 and parameters: {'gridtype': 'hexagonal', 'std_coeff': 0.0644722475464273, 'initialization': 'random'}. Best is trial 24 with value: 0.2878121799258846.\n",
      "[I 2023-07-27 01:34:16,143] Trial 33 finished with value: 0.2505704674196345 and parameters: {'gridtype': 'hexagonal', 'std_coeff': 0.23954572834990093, 'initialization': 'random'}. Best is trial 24 with value: 0.2878121799258846.\n",
      "[I 2023-07-27 01:34:21,128] Trial 34 finished with value: 0.24407551940610836 and parameters: {'gridtype': 'rectangular', 'std_coeff': 0.12964463182154917, 'initialization': 'random'}. Best is trial 24 with value: 0.2878121799258846.\n",
      "[I 2023-07-27 01:34:27,008] Trial 35 finished with value: 0.26180911877561586 and parameters: {'gridtype': 'hexagonal', 'std_coeff': 0.3071408548340489, 'initialization': 'random'}. Best is trial 24 with value: 0.2878121799258846.\n"
     ]
    },
    {
     "name": "stderr",
     "output_type": "stream",
     "text": [
      "[I 2023-07-27 01:34:33,215] Trial 36 finished with value: 0.2360868183555332 and parameters: {'gridtype': 'hexagonal', 'std_coeff': 0.3205660656231137, 'initialization': 'random'}. Best is trial 24 with value: 0.2878121799258846.\n",
      "[I 2023-07-27 01:34:38,924] Trial 37 finished with value: 0.2586471759612799 and parameters: {'gridtype': 'rectangular', 'std_coeff': 0.22315286851330554, 'initialization': 'random'}. Best is trial 24 with value: 0.2878121799258846.\n",
      "[I 2023-07-27 01:34:44,554] Trial 38 finished with value: 0.23682165130439736 and parameters: {'gridtype': 'hexagonal', 'std_coeff': 0.3855407201427996, 'initialization': 'random'}. Best is trial 24 with value: 0.2878121799258846.\n",
      "[I 2023-07-27 01:34:50,312] Trial 39 finished with value: 0.25115609698728514 and parameters: {'gridtype': 'rectangular', 'std_coeff': 0.2864057777232352, 'initialization': None}. Best is trial 24 with value: 0.2878121799258846.\n",
      "[I 2023-07-27 01:34:56,501] Trial 40 finished with value: 0.21365716947678592 and parameters: {'gridtype': 'hexagonal', 'std_coeff': 0.7905903164027013, 'initialization': 'pca'}. Best is trial 24 with value: 0.2878121799258846.\n",
      "[I 2023-07-27 01:35:02,065] Trial 41 finished with value: 0.2570388421749502 and parameters: {'gridtype': 'rectangular', 'std_coeff': 0.2087084528135778, 'initialization': 'random'}. Best is trial 24 with value: 0.2878121799258846.\n",
      "[I 2023-07-27 01:35:07,739] Trial 42 finished with value: 0.260864016381828 and parameters: {'gridtype': 'rectangular', 'std_coeff': 0.2701245229961255, 'initialization': 'random'}. Best is trial 24 with value: 0.2878121799258846.\n",
      "[I 2023-07-27 01:35:13,272] Trial 43 finished with value: 0.2551523184834613 and parameters: {'gridtype': 'rectangular', 'std_coeff': 0.15502358844689207, 'initialization': 'random'}. Best is trial 24 with value: 0.2878121799258846.\n",
      "[I 2023-07-27 01:35:18,394] Trial 44 finished with value: 0.22113672064405399 and parameters: {'gridtype': 'rectangular', 'std_coeff': 0.28705665994710233, 'initialization': 'random'}. Best is trial 24 with value: 0.2878121799258846.\n",
      "[I 2023-07-27 01:35:23,925] Trial 45 finished with value: 0.22800442306436378 and parameters: {'gridtype': 'rectangular', 'std_coeff': 0.4423651434110298, 'initialization': 'random'}. Best is trial 24 with value: 0.2878121799258846.\n",
      "[I 2023-07-27 01:35:29,435] Trial 46 finished with value: 0.24689429316702557 and parameters: {'gridtype': 'rectangular', 'std_coeff': 0.19076820963096214, 'initialization': 'pca'}. Best is trial 24 with value: 0.2878121799258846.\n",
      "[I 2023-07-27 01:35:34,538] Trial 47 finished with value: 0.2705101505908215 and parameters: {'gridtype': 'hexagonal', 'std_coeff': 0.2615996459418685, 'initialization': 'random'}. Best is trial 24 with value: 0.2878121799258846.\n",
      "[I 2023-07-27 01:35:40,624] Trial 48 finished with value: 0.2544695876048245 and parameters: {'gridtype': 'hexagonal', 'std_coeff': 0.37706113698639704, 'initialization': 'pca'}. Best is trial 24 with value: 0.2878121799258846.\n",
      "[I 2023-07-27 01:35:45,767] Trial 49 finished with value: 0.20780138663049838 and parameters: {'gridtype': 'hexagonal', 'std_coeff': 0.11729500514101629, 'initialization': None}. Best is trial 24 with value: 0.2878121799258846.\n",
      "[I 2023-07-27 01:35:51,497] Trial 50 finished with value: 0.23504012550546144 and parameters: {'gridtype': 'hexagonal', 'std_coeff': 0.5308572150190289, 'initialization': 'pca'}. Best is trial 24 with value: 0.2878121799258846.\n",
      "[I 2023-07-27 01:35:56,787] Trial 51 finished with value: 0.25751286431400927 and parameters: {'gridtype': 'hexagonal', 'std_coeff': 0.2666931596641806, 'initialization': 'random'}. Best is trial 24 with value: 0.2878121799258846.\n",
      "[I 2023-07-27 01:36:01,914] Trial 52 finished with value: 0.24702011133459603 and parameters: {'gridtype': 'hexagonal', 'std_coeff': 0.33880523223107456, 'initialization': 'random'}. Best is trial 24 with value: 0.2878121799258846.\n",
      "[I 2023-07-27 01:36:07,126] Trial 53 finished with value: 0.2683878139277245 and parameters: {'gridtype': 'hexagonal', 'std_coeff': 0.14875200843237088, 'initialization': 'random'}. Best is trial 24 with value: 0.2878121799258846.\n",
      "[I 2023-07-27 01:36:12,629] Trial 54 finished with value: 0.2713748932783161 and parameters: {'gridtype': 'hexagonal', 'std_coeff': 0.1652450207532662, 'initialization': 'random'}. Best is trial 24 with value: 0.2878121799258846.\n",
      "[I 2023-07-27 01:36:18,302] Trial 55 finished with value: 0.25403365859988025 and parameters: {'gridtype': 'hexagonal', 'std_coeff': 0.14861269508703898, 'initialization': 'random'}. Best is trial 24 with value: 0.2878121799258846.\n",
      "[I 2023-07-27 01:36:23,956] Trial 56 finished with value: 0.24667165371438493 and parameters: {'gridtype': 'hexagonal', 'std_coeff': 0.16866081921211357, 'initialization': 'random'}. Best is trial 24 with value: 0.2878121799258846.\n",
      "[I 2023-07-27 01:36:30,036] Trial 57 finished with value: 0.22496683012095092 and parameters: {'gridtype': 'hexagonal', 'std_coeff': 0.11168035102245956, 'initialization': 'pca'}. Best is trial 24 with value: 0.2878121799258846.\n",
      "[I 2023-07-27 01:36:35,657] Trial 58 finished with value: 0.22797598927284074 and parameters: {'gridtype': 'hexagonal', 'std_coeff': 0.0944077536866478, 'initialization': 'random'}. Best is trial 24 with value: 0.2878121799258846.\n",
      "[I 2023-07-27 01:36:41,177] Trial 59 finished with value: 0.2563927998818445 and parameters: {'gridtype': 'hexagonal', 'std_coeff': 0.19721452303367334, 'initialization': 'random'}. Best is trial 24 with value: 0.2878121799258846.\n",
      "[I 2023-07-27 01:36:47,328] Trial 60 finished with value: 0.2200308919418414 and parameters: {'gridtype': 'hexagonal', 'std_coeff': 0.136541257127327, 'initialization': 'pca'}. Best is trial 24 with value: 0.2878121799258846.\n",
      "[I 2023-07-27 01:36:52,885] Trial 61 finished with value: 0.2384616537239867 and parameters: {'gridtype': 'hexagonal', 'std_coeff': 0.16767406056176704, 'initialization': 'random'}. Best is trial 24 with value: 0.2878121799258846.\n",
      "[I 2023-07-27 01:36:58,395] Trial 62 finished with value: 0.2610221658400057 and parameters: {'gridtype': 'hexagonal', 'std_coeff': 0.24727795257340565, 'initialization': 'random'}. Best is trial 24 with value: 0.2878121799258846.\n",
      "[I 2023-07-27 01:37:03,592] Trial 63 finished with value: 0.26259265244759544 and parameters: {'gridtype': 'hexagonal', 'std_coeff': 0.21762390987659996, 'initialization': 'random'}. Best is trial 24 with value: 0.2878121799258846.\n",
      "[I 2023-07-27 01:37:08,742] Trial 64 finished with value: 0.2505508082020257 and parameters: {'gridtype': 'hexagonal', 'std_coeff': 0.22265419577859863, 'initialization': 'random'}. Best is trial 24 with value: 0.2878121799258846.\n",
      "[I 2023-07-27 01:37:14,066] Trial 65 finished with value: 0.2510256971554256 and parameters: {'gridtype': 'hexagonal', 'std_coeff': 0.18220006609385755, 'initialization': 'random'}. Best is trial 24 with value: 0.2878121799258846.\n",
      "[I 2023-07-27 01:37:19,448] Trial 66 finished with value: 0.2259655657514636 and parameters: {'gridtype': 'hexagonal', 'std_coeff': 0.142405913367458, 'initialization': None}. Best is trial 24 with value: 0.2878121799258846.\n",
      "[I 2023-07-27 01:37:24,392] Trial 67 finished with value: 0.21382009114723877 and parameters: {'gridtype': 'hexagonal', 'std_coeff': 0.10332069541970718, 'initialization': 'random'}. Best is trial 24 with value: 0.2878121799258846.\n",
      "[I 2023-07-27 01:37:29,689] Trial 68 finished with value: 0.2612938587899723 and parameters: {'gridtype': 'hexagonal', 'std_coeff': 0.12805750080425266, 'initialization': 'random'}. Best is trial 24 with value: 0.2878121799258846.\n",
      "[I 2023-07-27 01:37:37,163] Trial 69 finished with value: 0.23175060427968114 and parameters: {'gridtype': 'hexagonal', 'std_coeff': 0.0773168519295431, 'initialization': 'random'}. Best is trial 24 with value: 0.2878121799258846.\n",
      "[I 2023-07-27 01:37:44,294] Trial 70 finished with value: 0.26330933033263776 and parameters: {'gridtype': 'hexagonal', 'std_coeff': 0.23286672936680322, 'initialization': 'pca'}. Best is trial 24 with value: 0.2878121799258846.\n",
      "[I 2023-07-27 01:37:51,320] Trial 71 finished with value: 0.26776380322423776 and parameters: {'gridtype': 'hexagonal', 'std_coeff': 0.23860756395987812, 'initialization': 'pca'}. Best is trial 24 with value: 0.2878121799258846.\n"
     ]
    },
    {
     "name": "stderr",
     "output_type": "stream",
     "text": [
      "[I 2023-07-27 01:37:58,154] Trial 72 finished with value: 0.2146771856446098 and parameters: {'gridtype': 'hexagonal', 'std_coeff': 0.18579784770651536, 'initialization': 'pca'}. Best is trial 24 with value: 0.2878121799258846.\n",
      "[I 2023-07-27 01:38:05,394] Trial 73 finished with value: 0.2473390792079113 and parameters: {'gridtype': 'hexagonal', 'std_coeff': 0.25155640312987043, 'initialization': 'pca'}. Best is trial 24 with value: 0.2878121799258846.\n",
      "[I 2023-07-27 01:38:12,416] Trial 74 finished with value: 0.2602489358704115 and parameters: {'gridtype': 'hexagonal', 'std_coeff': 0.33253662723603583, 'initialization': 'pca'}. Best is trial 24 with value: 0.2878121799258846.\n",
      "[I 2023-07-27 01:38:18,174] Trial 75 finished with value: 0.24956570963484193 and parameters: {'gridtype': 'hexagonal', 'std_coeff': 0.24380904643136242, 'initialization': 'pca'}. Best is trial 24 with value: 0.2878121799258846.\n",
      "[I 2023-07-27 01:38:24,278] Trial 76 finished with value: 0.21368554371715198 and parameters: {'gridtype': 'hexagonal', 'std_coeff': 0.16417069298432763, 'initialization': 'pca'}. Best is trial 24 with value: 0.2878121799258846.\n",
      "[I 2023-07-27 01:38:30,274] Trial 77 finished with value: 0.2148201641608121 and parameters: {'gridtype': 'hexagonal', 'std_coeff': 0.14898125114632446, 'initialization': 'pca'}. Best is trial 24 with value: 0.2878121799258846.\n",
      "[I 2023-07-27 01:38:35,779] Trial 78 finished with value: 0.27570363393408476 and parameters: {'gridtype': 'hexagonal', 'std_coeff': 0.21283813190329243, 'initialization': 'pca'}. Best is trial 24 with value: 0.2878121799258846.\n",
      "[I 2023-07-27 01:38:41,510] Trial 79 finished with value: 0.2439225821428575 and parameters: {'gridtype': 'hexagonal', 'std_coeff': 0.20450426383084966, 'initialization': 'pca'}. Best is trial 24 with value: 0.2878121799258846.\n",
      "[I 2023-07-27 01:38:47,447] Trial 80 finished with value: 0.2538682190403686 and parameters: {'gridtype': 'hexagonal', 'std_coeff': 0.3050969594553432, 'initialization': 'pca'}. Best is trial 24 with value: 0.2878121799258846.\n",
      "[I 2023-07-27 01:38:53,538] Trial 81 finished with value: 0.2558681955145742 and parameters: {'gridtype': 'hexagonal', 'std_coeff': 0.3844970149554712, 'initialization': 'pca'}. Best is trial 24 with value: 0.2878121799258846.\n",
      "[I 2023-07-27 01:38:59,348] Trial 82 finished with value: 0.2160555881129805 and parameters: {'gridtype': 'hexagonal', 'std_coeff': 0.11714142363834053, 'initialization': 'pca'}. Best is trial 24 with value: 0.2878121799258846.\n",
      "[I 2023-07-27 01:39:05,248] Trial 83 finished with value: 0.25489492787831797 and parameters: {'gridtype': 'hexagonal', 'std_coeff': 0.264318080643732, 'initialization': 'pca'}. Best is trial 24 with value: 0.2878121799258846.\n",
      "[I 2023-07-27 01:39:11,022] Trial 84 finished with value: 0.26145387231613226 and parameters: {'gridtype': 'hexagonal', 'std_coeff': 0.21649292954990068, 'initialization': 'pca'}. Best is trial 24 with value: 0.2878121799258846.\n",
      "[I 2023-07-27 01:39:16,973] Trial 85 finished with value: 0.23800903734702455 and parameters: {'gridtype': 'hexagonal', 'std_coeff': 0.1827629444660716, 'initialization': 'pca'}. Best is trial 24 with value: 0.2878121799258846.\n",
      "[I 2023-07-27 01:39:22,465] Trial 86 finished with value: 0.22492509110957704 and parameters: {'gridtype': 'hexagonal', 'std_coeff': 0.4473822267478233, 'initialization': None}. Best is trial 24 with value: 0.2878121799258846.\n",
      "[I 2023-07-27 01:39:28,127] Trial 87 finished with value: 0.2107872449084382 and parameters: {'gridtype': 'hexagonal', 'std_coeff': 0.15435795849269435, 'initialization': 'pca'}. Best is trial 24 with value: 0.2878121799258846.\n",
      "[I 2023-07-27 01:39:33,722] Trial 88 finished with value: 0.27151528162485045 and parameters: {'gridtype': 'hexagonal', 'std_coeff': 0.29996149218939216, 'initialization': 'pca'}. Best is trial 24 with value: 0.2878121799258846.\n",
      "[I 2023-07-27 01:39:39,477] Trial 89 finished with value: 0.2686499790647114 and parameters: {'gridtype': 'hexagonal', 'std_coeff': 0.28979426080579607, 'initialization': 'pca'}. Best is trial 24 with value: 0.2878121799258846.\n",
      "[I 2023-07-27 01:39:44,648] Trial 90 finished with value: 0.2395889224938273 and parameters: {'gridtype': 'hexagonal', 'std_coeff': 0.34629353943372604, 'initialization': 'random'}. Best is trial 24 with value: 0.2878121799258846.\n",
      "[I 2023-07-27 01:39:50,320] Trial 91 finished with value: 0.2488054176535583 and parameters: {'gridtype': 'hexagonal', 'std_coeff': 0.27283194457863824, 'initialization': 'pca'}. Best is trial 24 with value: 0.2878121799258846.\n",
      "[I 2023-07-27 01:39:56,154] Trial 92 finished with value: 0.2685897600063487 and parameters: {'gridtype': 'hexagonal', 'std_coeff': 0.30420841434614554, 'initialization': 'pca'}. Best is trial 24 with value: 0.2878121799258846.\n",
      "[I 2023-07-27 01:40:02,052] Trial 93 finished with value: 0.25351235168638736 and parameters: {'gridtype': 'hexagonal', 'std_coeff': 0.3100800333932234, 'initialization': 'pca'}. Best is trial 24 with value: 0.2878121799258846.\n",
      "[I 2023-07-27 01:40:07,838] Trial 94 finished with value: 0.25325020626643036 and parameters: {'gridtype': 'hexagonal', 'std_coeff': 0.4119399417892608, 'initialization': 'pca'}. Best is trial 24 with value: 0.2878121799258846.\n",
      "[I 2023-07-27 01:40:13,885] Trial 95 finished with value: 0.2614532068749942 and parameters: {'gridtype': 'hexagonal', 'std_coeff': 0.199912474677357, 'initialization': 'pca'}. Best is trial 24 with value: 0.2878121799258846.\n",
      "[I 2023-07-27 01:40:19,266] Trial 96 finished with value: 0.21429332682844687 and parameters: {'gridtype': 'hexagonal', 'std_coeff': 0.28479835930972763, 'initialization': 'random'}. Best is trial 24 with value: 0.2878121799258846.\n",
      "[I 2023-07-27 01:40:25,341] Trial 97 finished with value: 0.2599793098268621 and parameters: {'gridtype': 'hexagonal', 'std_coeff': 0.34004617493467915, 'initialization': 'pca'}. Best is trial 24 with value: 0.2878121799258846.\n",
      "[I 2023-07-27 01:40:30,553] Trial 98 finished with value: 0.2725886742564959 and parameters: {'gridtype': 'hexagonal', 'std_coeff': 0.1301903729104671, 'initialization': 'random'}. Best is trial 24 with value: 0.2878121799258846.\n",
      "[I 2023-07-27 01:40:35,734] Trial 99 finished with value: 0.2469236452257586 and parameters: {'gridtype': 'hexagonal', 'std_coeff': 0.1258476117432254, 'initialization': None}. Best is trial 24 with value: 0.2878121799258846.\n"
     ]
    }
   ],
   "source": [
    "def objective2(trial):\n",
    "    # 2. Suggest values of the hyperparameters using a trial object.\n",
    "    param = {\n",
    "        'n_columns': 4,\n",
    "        'n_rows': 4,\n",
    "        'initialcodebook': None,\n",
    "        'kerneltype': 0, \n",
    "        'maptype': \"planar\",\n",
    "        'gridtype': trial.suggest_categorical(\"gridtype\", [\"rectangular\", \"hexagonal\"]), \n",
    "        'compactsupport': True, \n",
    "        'neighborhood': \"gaussian\",\n",
    "        'std_coeff': trial.suggest_float('std_coeff', 1e-2, 3, log=True),\n",
    "        'initialization': trial.suggest_categorical(\"initialization\", [\"random\", \"pca\", None]),  \n",
    "        'verbose': 0, # trial.suggest_categorical(\"verbose\", [0, 1, 2]),  \n",
    "    }\n",
    "    \n",
    "    def get_labels(som2):\n",
    "        grid_labels = [tuple(grid_label) for grid_label in som2.bmus]\n",
    "        unique_labels = [\n",
    "            tuple(grid_label) for grid_label in np.unique(grid_labels, axis=0)\n",
    "        ]\n",
    "        # Generate mapping\n",
    "        labels_mapping = {\n",
    "            grid_label: cluster_label\n",
    "            for grid_label, cluster_label in zip(\n",
    "                unique_labels, range(len(unique_labels))\n",
    "            )\n",
    "        }\n",
    "        labels = np.array(\n",
    "            [labels_mapping[grid_label] for grid_label in grid_labels]\n",
    "        )\n",
    "        predictions2=pd.Series(labels)\n",
    "        return predictions2\n",
    "\n",
    "    som2 = somoclu.Somoclu(**param)\n",
    "    som2.train(np.float32(x_train.to_numpy()), epochs=10)\n",
    "    som2.train(np.float32(x_test.to_numpy()), epochs=10)\n",
    "    predictions2 = get_labels(som2)\n",
    "    classes_mapping2=map_class(predictions2)\n",
    "    predictions_fix2 = predictions2.copy()\n",
    "    for index, row in classes_mapping2.iterrows():\n",
    "        predictions_fix2[predictions2==classes_mapping2.at[index, 'som']]=classes_mapping2.at[index, 'best_classes']\n",
    "    score = f1_score(y_test, predictions_fix2, average='macro')\n",
    "    return score\n",
    "\n",
    "# 3. Create a study object and optimize the objective function.\n",
    "study2 = optuna.create_study(direction='maximize')\n",
    "study2.optimize(objective2, n_trials=100)"
   ]
  },
  {
   "cell_type": "markdown",
   "id": "5843d855",
   "metadata": {},
   "source": [
    "# Train model"
   ]
  },
  {
   "cell_type": "code",
   "execution_count": 85,
   "id": "a0eebd1a",
   "metadata": {},
   "outputs": [
    {
     "name": "stdout",
     "output_type": "stream",
     "text": [
      "CPU times: user 14.5 s, sys: 130 ms, total: 14.6 s\n",
      "Wall time: 2.93 s\n"
     ]
    }
   ],
   "source": [
    "# som2 = load('som2_big.joblib')\n",
    "# {'gridtype': 'rectangular', 'std_coeff': 0.012281063564056477, 'initialization': None, 'verbose': 2}\n",
    "# {'gridtype': 'rectangular', 'std_coeff': 0.3928668000921264, 'initialization': 'pca'}\n",
    "# {'gridtype': 'rectangular', 'std_coeff': 0.3241248621288222, 'initialization': 'pca'}\n",
    "# {'gridtype': 'hexagonal', 'std_coeff': 0.17366435985004622, 'initialization': 'random'}\n",
    "som2 = somoclu.Somoclu(4, 4, initialcodebook=None, kerneltype=0, maptype=\"planar\", gridtype='hexagonal', std_coeff=0.17366435985004622, initialization='random', verbose=0)\n",
    "%time som2.train(np.float32(x_train.to_numpy()), epochs=10)\n",
    "# dump(som, 'som2_big.joblib') "
   ]
  },
  {
   "cell_type": "markdown",
   "id": "a0679e1b",
   "metadata": {},
   "source": [
    "# Predict"
   ]
  },
  {
   "cell_type": "code",
   "execution_count": 86,
   "id": "60b8654e",
   "metadata": {},
   "outputs": [],
   "source": [
    "som2.train(np.float32(x_test.to_numpy()), epochs=10)"
   ]
  },
  {
   "cell_type": "markdown",
   "id": "292c3fac",
   "metadata": {},
   "source": [
    "# Get labels (from som-learn)"
   ]
  },
  {
   "cell_type": "code",
   "execution_count": 87,
   "id": "f4849764",
   "metadata": {},
   "outputs": [],
   "source": [
    "def get_labels(som2):\n",
    "    grid_labels = [tuple(grid_label) for grid_label in som2.bmus]\n",
    "    unique_labels = [\n",
    "        tuple(grid_label) for grid_label in np.unique(grid_labels, axis=0)\n",
    "    ]\n",
    "    # Generate mapping\n",
    "    labels_mapping = {\n",
    "        grid_label: cluster_label\n",
    "        for grid_label, cluster_label in zip(\n",
    "            unique_labels, range(len(unique_labels))\n",
    "        )\n",
    "    }\n",
    "    labels = np.array(\n",
    "        [labels_mapping[grid_label] for grid_label in grid_labels]\n",
    "    )\n",
    "    predictions2=pd.Series(labels)\n",
    "    return predictions2"
   ]
  },
  {
   "cell_type": "code",
   "execution_count": 88,
   "id": "6a937afc",
   "metadata": {},
   "outputs": [],
   "source": [
    "predictions2 = get_labels(som2)"
   ]
  },
  {
   "cell_type": "code",
   "execution_count": 89,
   "id": "b07dd938",
   "metadata": {},
   "outputs": [
    {
     "data": {
      "text/plain": [
       "3     6682\n",
       "8     6268\n",
       "6     6048\n",
       "0     5867\n",
       "10    5742\n",
       "13    5703\n",
       "9     5659\n",
       "1     5511\n",
       "5     5334\n",
       "4     4939\n",
       "14    4885\n",
       "15    4828\n",
       "2     4176\n",
       "7     4153\n",
       "11    4117\n",
       "12    3101\n",
       "dtype: int64"
      ]
     },
     "execution_count": 89,
     "metadata": {},
     "output_type": "execute_result"
    }
   ],
   "source": [
    "predictions2.value_counts()"
   ]
  },
  {
   "cell_type": "markdown",
   "id": "bec8b25a",
   "metadata": {},
   "source": [
    "# Map classes from som to classes from Y data"
   ]
  },
  {
   "cell_type": "code",
   "execution_count": 102,
   "id": "8b6efff6",
   "metadata": {},
   "outputs": [],
   "source": [
    "classes_mapping2=map_class(predictions2)\n",
    "predictions_fix2 = predictions2.copy()\n",
    "for index, row in classes_mapping2.iterrows():\n",
    "    predictions_fix2[predictions2==classes_mapping2.at[index, 'som']]=classes_mapping2.at[index, 'best_classes']"
   ]
  },
  {
   "cell_type": "markdown",
   "id": "22b72d62",
   "metadata": {},
   "source": [
    "# Simple method"
   ]
  },
  {
   "cell_type": "code",
   "execution_count": 103,
   "id": "699e8755",
   "metadata": {},
   "outputs": [],
   "source": [
    "# predictions_fix2 = predictions.copy()\n",
    "# for i in pd.Series(predictions2).unique():\n",
    "#     key=pd.Series(y_test.tolist())[list(pd.Series(predictions2).loc[lambda x : x == i].index)].value_counts().keys().to_list()[0]\n",
    "#     predictions_fix2[predictions2==i]=key"
   ]
  },
  {
   "cell_type": "markdown",
   "id": "68177811",
   "metadata": {},
   "source": [
    "# Check the results"
   ]
  },
  {
   "cell_type": "code",
   "execution_count": 104,
   "id": "6487012b",
   "metadata": {},
   "outputs": [
    {
     "name": "stdout",
     "output_type": "stream",
     "text": [
      "              precision    recall  f1-score   support\n",
      "\n",
      "           0       0.95      0.18      0.31     28879\n",
      "           1       0.94      0.26      0.40     20959\n",
      "           3       0.39      0.31      0.35      6138\n",
      "           4       0.25      0.34      0.29      4541\n",
      "           5       0.15      0.43      0.22      1416\n",
      "           7       0.40      0.57      0.47      2919\n",
      "          11       0.18      0.84      0.29      1134\n",
      "          14       0.02      0.04      0.03      2736\n",
      "          16       0.01      0.05      0.02      1111\n",
      "          20       0.16      0.50      0.24      1556\n",
      "          23       0.00      0.00      0.00      1818\n",
      "          25       0.36      0.59      0.45      2961\n",
      "          27       0.22      0.49      0.30      2796\n",
      "          31       0.14      0.47      0.21      1645\n",
      "          96       0.01      0.04      0.02      1208\n",
      "         179       0.05      0.22      0.08      1196\n",
      "\n",
      "    accuracy                           0.27     83013\n",
      "   macro avg       0.26      0.33      0.23     83013\n",
      "weighted avg       0.66      0.27      0.31     83013\n",
      "\n"
     ]
    }
   ],
   "source": [
    "print(classification_report(y_test,predictions_fix2))"
   ]
  },
  {
   "cell_type": "code",
   "execution_count": 105,
   "id": "7dd44c4d",
   "metadata": {},
   "outputs": [
    {
     "data": {
      "text/plain": [
       "0.3112741554071716"
      ]
     },
     "execution_count": 105,
     "metadata": {},
     "output_type": "execute_result"
    }
   ],
   "source": [
    "score = f1_score(y_test, predictions_fix2, average='weighted')\n",
    "score"
   ]
  },
  {
   "cell_type": "code",
   "execution_count": 106,
   "id": "9fb58359",
   "metadata": {},
   "outputs": [
    {
     "data": {
      "text/plain": [
       "0.27048775492995075"
      ]
     },
     "execution_count": 106,
     "metadata": {},
     "output_type": "execute_result"
    }
   ],
   "source": [
    "accuracy_score(y_test, predictions_fix2)"
   ]
  },
  {
   "cell_type": "code",
   "execution_count": 107,
   "id": "298a9a71",
   "metadata": {},
   "outputs": [
    {
     "data": {
      "text/plain": [
       "0.22967388746564915"
      ]
     },
     "execution_count": 107,
     "metadata": {},
     "output_type": "execute_result"
    }
   ],
   "source": [
    "f1_score(y_test, predictions_fix2, average='macro')"
   ]
  }
 ],
 "metadata": {
  "kernelspec": {
   "display_name": "Python 3 (ipykernel)",
   "language": "python",
   "name": "python3"
  },
  "language_info": {
   "codemirror_mode": {
    "name": "ipython",
    "version": 3
   },
   "file_extension": ".py",
   "mimetype": "text/x-python",
   "name": "python",
   "nbconvert_exporter": "python",
   "pygments_lexer": "ipython3",
   "version": "3.11.3"
  }
 },
 "nbformat": 4,
 "nbformat_minor": 5
}
