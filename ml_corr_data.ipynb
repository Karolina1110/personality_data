{
 "cells": [
  {
   "cell_type": "code",
   "execution_count": 109,
   "id": "e611de2c",
   "metadata": {},
   "outputs": [],
   "source": [
    "import numpy as np\n",
    "import pandas as pd\n",
    "import utils\n",
    "import seaborn as sn\n",
    "import matplotlib.pyplot as plt\n",
    "from joblib import dump, load\n",
    "from sklearn.metrics import classification_report, confusion_matrix, ConfusionMatrixDisplay, f1_score, accuracy_score, roc_auc_score\n",
    "from sklearn.model_selection import train_test_split"
   ]
  },
  {
   "cell_type": "markdown",
   "id": "1065ce45",
   "metadata": {},
   "source": [
    "# Load data"
   ]
  },
  {
   "cell_type": "code",
   "execution_count": 2,
   "id": "4742b686",
   "metadata": {},
   "outputs": [
    {
     "data": {
      "text/html": [
       "<div>\n",
       "<style scoped>\n",
       "    .dataframe tbody tr th:only-of-type {\n",
       "        vertical-align: middle;\n",
       "    }\n",
       "\n",
       "    .dataframe tbody tr th {\n",
       "        vertical-align: top;\n",
       "    }\n",
       "\n",
       "    .dataframe thead th {\n",
       "        text-align: right;\n",
       "    }\n",
       "</style>\n",
       "<table border=\"1\" class=\"dataframe\">\n",
       "  <thead>\n",
       "    <tr style=\"text-align: right;\">\n",
       "      <th></th>\n",
       "      <th>EXT1</th>\n",
       "      <th>EXT2</th>\n",
       "      <th>EXT3</th>\n",
       "      <th>EXT4</th>\n",
       "      <th>EXT5</th>\n",
       "      <th>EXT6</th>\n",
       "      <th>EXT7</th>\n",
       "      <th>EXT8</th>\n",
       "      <th>EXT9</th>\n",
       "      <th>EXT10</th>\n",
       "      <th>...</th>\n",
       "      <th>_OPN10</th>\n",
       "      <th>EXT</th>\n",
       "      <th>EST</th>\n",
       "      <th>AGR</th>\n",
       "      <th>CSN</th>\n",
       "      <th>OPN</th>\n",
       "      <th>MAX_SCORE</th>\n",
       "      <th>TYPE</th>\n",
       "      <th>CORR</th>\n",
       "      <th>B5_TYPE</th>\n",
       "    </tr>\n",
       "  </thead>\n",
       "  <tbody>\n",
       "    <tr>\n",
       "      <th>0</th>\n",
       "      <td>4.0</td>\n",
       "      <td>1.0</td>\n",
       "      <td>5.0</td>\n",
       "      <td>2.0</td>\n",
       "      <td>5.0</td>\n",
       "      <td>1.0</td>\n",
       "      <td>5.0</td>\n",
       "      <td>2.0</td>\n",
       "      <td>4.0</td>\n",
       "      <td>1.0</td>\n",
       "      <td>...</td>\n",
       "      <td>5.0</td>\n",
       "      <td>46.0</td>\n",
       "      <td>36.0</td>\n",
       "      <td>39.0</td>\n",
       "      <td>32.0</td>\n",
       "      <td>45.0</td>\n",
       "      <td>46.0</td>\n",
       "      <td>0</td>\n",
       "      <td>1.000000</td>\n",
       "      <td>ESACO</td>\n",
       "    </tr>\n",
       "    <tr>\n",
       "      <th>1</th>\n",
       "      <td>3.0</td>\n",
       "      <td>5.0</td>\n",
       "      <td>3.0</td>\n",
       "      <td>4.0</td>\n",
       "      <td>3.0</td>\n",
       "      <td>3.0</td>\n",
       "      <td>2.0</td>\n",
       "      <td>5.0</td>\n",
       "      <td>1.0</td>\n",
       "      <td>5.0</td>\n",
       "      <td>...</td>\n",
       "      <td>3.0</td>\n",
       "      <td>20.0</td>\n",
       "      <td>35.0</td>\n",
       "      <td>40.0</td>\n",
       "      <td>37.0</td>\n",
       "      <td>35.0</td>\n",
       "      <td>40.0</td>\n",
       "      <td>1</td>\n",
       "      <td>1.000000</td>\n",
       "      <td>ISACO</td>\n",
       "    </tr>\n",
       "    <tr>\n",
       "      <th>2</th>\n",
       "      <td>2.0</td>\n",
       "      <td>3.0</td>\n",
       "      <td>4.0</td>\n",
       "      <td>4.0</td>\n",
       "      <td>3.0</td>\n",
       "      <td>2.0</td>\n",
       "      <td>1.0</td>\n",
       "      <td>3.0</td>\n",
       "      <td>2.0</td>\n",
       "      <td>5.0</td>\n",
       "      <td>...</td>\n",
       "      <td>4.0</td>\n",
       "      <td>25.0</td>\n",
       "      <td>34.0</td>\n",
       "      <td>40.0</td>\n",
       "      <td>34.0</td>\n",
       "      <td>41.0</td>\n",
       "      <td>41.0</td>\n",
       "      <td>1</td>\n",
       "      <td>0.984049</td>\n",
       "      <td>ISACO</td>\n",
       "    </tr>\n",
       "    <tr>\n",
       "      <th>3</th>\n",
       "      <td>2.0</td>\n",
       "      <td>2.0</td>\n",
       "      <td>2.0</td>\n",
       "      <td>3.0</td>\n",
       "      <td>4.0</td>\n",
       "      <td>2.0</td>\n",
       "      <td>2.0</td>\n",
       "      <td>4.0</td>\n",
       "      <td>1.0</td>\n",
       "      <td>4.0</td>\n",
       "      <td>...</td>\n",
       "      <td>3.0</td>\n",
       "      <td>26.0</td>\n",
       "      <td>31.0</td>\n",
       "      <td>38.0</td>\n",
       "      <td>25.0</td>\n",
       "      <td>39.0</td>\n",
       "      <td>39.0</td>\n",
       "      <td>96</td>\n",
       "      <td>0.972907</td>\n",
       "      <td>ESARO</td>\n",
       "    </tr>\n",
       "    <tr>\n",
       "      <th>4</th>\n",
       "      <td>3.0</td>\n",
       "      <td>3.0</td>\n",
       "      <td>3.0</td>\n",
       "      <td>3.0</td>\n",
       "      <td>5.0</td>\n",
       "      <td>3.0</td>\n",
       "      <td>3.0</td>\n",
       "      <td>5.0</td>\n",
       "      <td>3.0</td>\n",
       "      <td>4.0</td>\n",
       "      <td>...</td>\n",
       "      <td>5.0</td>\n",
       "      <td>29.0</td>\n",
       "      <td>41.0</td>\n",
       "      <td>42.0</td>\n",
       "      <td>48.0</td>\n",
       "      <td>48.0</td>\n",
       "      <td>48.0</td>\n",
       "      <td>1</td>\n",
       "      <td>0.985012</td>\n",
       "      <td>ESACO</td>\n",
       "    </tr>\n",
       "    <tr>\n",
       "      <th>...</th>\n",
       "      <td>...</td>\n",
       "      <td>...</td>\n",
       "      <td>...</td>\n",
       "      <td>...</td>\n",
       "      <td>...</td>\n",
       "      <td>...</td>\n",
       "      <td>...</td>\n",
       "      <td>...</td>\n",
       "      <td>...</td>\n",
       "      <td>...</td>\n",
       "      <td>...</td>\n",
       "      <td>...</td>\n",
       "      <td>...</td>\n",
       "      <td>...</td>\n",
       "      <td>...</td>\n",
       "      <td>...</td>\n",
       "      <td>...</td>\n",
       "      <td>...</td>\n",
       "      <td>...</td>\n",
       "      <td>...</td>\n",
       "      <td>...</td>\n",
       "    </tr>\n",
       "    <tr>\n",
       "      <th>415057</th>\n",
       "      <td>3.0</td>\n",
       "      <td>1.0</td>\n",
       "      <td>4.0</td>\n",
       "      <td>3.0</td>\n",
       "      <td>2.0</td>\n",
       "      <td>1.0</td>\n",
       "      <td>3.0</td>\n",
       "      <td>4.0</td>\n",
       "      <td>4.0</td>\n",
       "      <td>4.0</td>\n",
       "      <td>...</td>\n",
       "      <td>5.0</td>\n",
       "      <td>33.0</td>\n",
       "      <td>26.0</td>\n",
       "      <td>40.0</td>\n",
       "      <td>35.0</td>\n",
       "      <td>42.0</td>\n",
       "      <td>42.0</td>\n",
       "      <td>0</td>\n",
       "      <td>0.975817</td>\n",
       "      <td>ESACO</td>\n",
       "    </tr>\n",
       "    <tr>\n",
       "      <th>415058</th>\n",
       "      <td>4.0</td>\n",
       "      <td>2.0</td>\n",
       "      <td>5.0</td>\n",
       "      <td>2.0</td>\n",
       "      <td>4.0</td>\n",
       "      <td>2.0</td>\n",
       "      <td>5.0</td>\n",
       "      <td>4.0</td>\n",
       "      <td>2.0</td>\n",
       "      <td>4.0</td>\n",
       "      <td>...</td>\n",
       "      <td>4.0</td>\n",
       "      <td>36.0</td>\n",
       "      <td>34.0</td>\n",
       "      <td>41.0</td>\n",
       "      <td>24.0</td>\n",
       "      <td>42.0</td>\n",
       "      <td>42.0</td>\n",
       "      <td>0</td>\n",
       "      <td>0.983439</td>\n",
       "      <td>ESARO</td>\n",
       "    </tr>\n",
       "    <tr>\n",
       "      <th>415059</th>\n",
       "      <td>2.0</td>\n",
       "      <td>2.0</td>\n",
       "      <td>4.0</td>\n",
       "      <td>5.0</td>\n",
       "      <td>4.0</td>\n",
       "      <td>1.0</td>\n",
       "      <td>1.0</td>\n",
       "      <td>1.0</td>\n",
       "      <td>5.0</td>\n",
       "      <td>5.0</td>\n",
       "      <td>...</td>\n",
       "      <td>2.0</td>\n",
       "      <td>32.0</td>\n",
       "      <td>14.0</td>\n",
       "      <td>43.0</td>\n",
       "      <td>34.0</td>\n",
       "      <td>40.0</td>\n",
       "      <td>43.0</td>\n",
       "      <td>4</td>\n",
       "      <td>0.970462</td>\n",
       "      <td>ENACO</td>\n",
       "    </tr>\n",
       "    <tr>\n",
       "      <th>415060</th>\n",
       "      <td>3.0</td>\n",
       "      <td>1.0</td>\n",
       "      <td>5.0</td>\n",
       "      <td>1.0</td>\n",
       "      <td>4.0</td>\n",
       "      <td>1.0</td>\n",
       "      <td>4.0</td>\n",
       "      <td>2.0</td>\n",
       "      <td>5.0</td>\n",
       "      <td>2.0</td>\n",
       "      <td>...</td>\n",
       "      <td>5.0</td>\n",
       "      <td>44.0</td>\n",
       "      <td>24.0</td>\n",
       "      <td>40.0</td>\n",
       "      <td>45.0</td>\n",
       "      <td>49.0</td>\n",
       "      <td>49.0</td>\n",
       "      <td>4</td>\n",
       "      <td>0.984814</td>\n",
       "      <td>ENACO</td>\n",
       "    </tr>\n",
       "    <tr>\n",
       "      <th>415061</th>\n",
       "      <td>3.0</td>\n",
       "      <td>4.0</td>\n",
       "      <td>3.0</td>\n",
       "      <td>2.0</td>\n",
       "      <td>4.0</td>\n",
       "      <td>2.0</td>\n",
       "      <td>1.0</td>\n",
       "      <td>2.0</td>\n",
       "      <td>4.0</td>\n",
       "      <td>5.0</td>\n",
       "      <td>...</td>\n",
       "      <td>5.0</td>\n",
       "      <td>30.0</td>\n",
       "      <td>22.0</td>\n",
       "      <td>25.0</td>\n",
       "      <td>46.0</td>\n",
       "      <td>49.0</td>\n",
       "      <td>49.0</td>\n",
       "      <td>16</td>\n",
       "      <td>0.977913</td>\n",
       "      <td>ENTCO</td>\n",
       "    </tr>\n",
       "  </tbody>\n",
       "</table>\n",
       "<p>415062 rows × 109 columns</p>\n",
       "</div>"
      ],
      "text/plain": [
       "        EXT1  EXT2  EXT3  EXT4  EXT5  EXT6  EXT7  EXT8  EXT9  EXT10  ...  \\\n",
       "0        4.0   1.0   5.0   2.0   5.0   1.0   5.0   2.0   4.0    1.0  ...   \n",
       "1        3.0   5.0   3.0   4.0   3.0   3.0   2.0   5.0   1.0    5.0  ...   \n",
       "2        2.0   3.0   4.0   4.0   3.0   2.0   1.0   3.0   2.0    5.0  ...   \n",
       "3        2.0   2.0   2.0   3.0   4.0   2.0   2.0   4.0   1.0    4.0  ...   \n",
       "4        3.0   3.0   3.0   3.0   5.0   3.0   3.0   5.0   3.0    4.0  ...   \n",
       "...      ...   ...   ...   ...   ...   ...   ...   ...   ...    ...  ...   \n",
       "415057   3.0   1.0   4.0   3.0   2.0   1.0   3.0   4.0   4.0    4.0  ...   \n",
       "415058   4.0   2.0   5.0   2.0   4.0   2.0   5.0   4.0   2.0    4.0  ...   \n",
       "415059   2.0   2.0   4.0   5.0   4.0   1.0   1.0   1.0   5.0    5.0  ...   \n",
       "415060   3.0   1.0   5.0   1.0   4.0   1.0   4.0   2.0   5.0    2.0  ...   \n",
       "415061   3.0   4.0   3.0   2.0   4.0   2.0   1.0   2.0   4.0    5.0  ...   \n",
       "\n",
       "        _OPN10   EXT   EST   AGR   CSN   OPN  MAX_SCORE  TYPE      CORR  \\\n",
       "0          5.0  46.0  36.0  39.0  32.0  45.0       46.0     0  1.000000   \n",
       "1          3.0  20.0  35.0  40.0  37.0  35.0       40.0     1  1.000000   \n",
       "2          4.0  25.0  34.0  40.0  34.0  41.0       41.0     1  0.984049   \n",
       "3          3.0  26.0  31.0  38.0  25.0  39.0       39.0    96  0.972907   \n",
       "4          5.0  29.0  41.0  42.0  48.0  48.0       48.0     1  0.985012   \n",
       "...        ...   ...   ...   ...   ...   ...        ...   ...       ...   \n",
       "415057     5.0  33.0  26.0  40.0  35.0  42.0       42.0     0  0.975817   \n",
       "415058     4.0  36.0  34.0  41.0  24.0  42.0       42.0     0  0.983439   \n",
       "415059     2.0  32.0  14.0  43.0  34.0  40.0       43.0     4  0.970462   \n",
       "415060     5.0  44.0  24.0  40.0  45.0  49.0       49.0     4  0.984814   \n",
       "415061     5.0  30.0  22.0  25.0  46.0  49.0       49.0    16  0.977913   \n",
       "\n",
       "        B5_TYPE  \n",
       "0         ESACO  \n",
       "1         ISACO  \n",
       "2         ISACO  \n",
       "3         ESARO  \n",
       "4         ESACO  \n",
       "...         ...  \n",
       "415057    ESACO  \n",
       "415058    ESARO  \n",
       "415059    ENACO  \n",
       "415060    ENACO  \n",
       "415061    ENTCO  \n",
       "\n",
       "[415062 rows x 109 columns]"
      ]
     },
     "execution_count": 2,
     "metadata": {},
     "output_type": "execute_result"
    }
   ],
   "source": [
    "data_big_cleaned = pd.read_csv('data/big_cleaned_results.csv', index_col=0)\n",
    "data_big_cleaned"
   ]
  },
  {
   "cell_type": "markdown",
   "id": "be0a6071",
   "metadata": {},
   "source": [
    "# Choose X and Y data"
   ]
  },
  {
   "cell_type": "code",
   "execution_count": 3,
   "id": "7aad43a0",
   "metadata": {},
   "outputs": [
    {
     "name": "stdout",
     "output_type": "stream",
     "text": [
      "        EXT1  EXT2  EXT3  EXT4  EXT5  EXT6  EXT7  EXT8  EXT9  EXT10  ...  \\\n",
      "0        4.0   1.0   5.0   2.0   5.0   1.0   5.0   2.0   4.0    1.0  ...   \n",
      "1        3.0   5.0   3.0   4.0   3.0   3.0   2.0   5.0   1.0    5.0  ...   \n",
      "2        2.0   3.0   4.0   4.0   3.0   2.0   1.0   3.0   2.0    5.0  ...   \n",
      "3        2.0   2.0   2.0   3.0   4.0   2.0   2.0   4.0   1.0    4.0  ...   \n",
      "4        3.0   3.0   3.0   3.0   5.0   3.0   3.0   5.0   3.0    4.0  ...   \n",
      "...      ...   ...   ...   ...   ...   ...   ...   ...   ...    ...  ...   \n",
      "415057   3.0   1.0   4.0   3.0   2.0   1.0   3.0   4.0   4.0    4.0  ...   \n",
      "415058   4.0   2.0   5.0   2.0   4.0   2.0   5.0   4.0   2.0    4.0  ...   \n",
      "415059   2.0   2.0   4.0   5.0   4.0   1.0   1.0   1.0   5.0    5.0  ...   \n",
      "415060   3.0   1.0   5.0   1.0   4.0   1.0   4.0   2.0   5.0    2.0  ...   \n",
      "415061   3.0   4.0   3.0   2.0   4.0   2.0   1.0   2.0   4.0    5.0  ...   \n",
      "\n",
      "        OPN1  OPN2  OPN3  OPN4  OPN5  OPN6  OPN7  OPN8  OPN9  OPN10  \n",
      "0        5.0   1.0   4.0   1.0   4.0   1.0   5.0   3.0   4.0    5.0  \n",
      "1        1.0   2.0   4.0   2.0   3.0   1.0   4.0   2.0   5.0    3.0  \n",
      "2        5.0   1.0   2.0   1.0   4.0   2.0   5.0   3.0   4.0    4.0  \n",
      "3        4.0   2.0   5.0   2.0   3.0   1.0   4.0   4.0   3.0    3.0  \n",
      "4        5.0   1.0   5.0   1.0   5.0   1.0   5.0   3.0   5.0    5.0  \n",
      "...      ...   ...   ...   ...   ...   ...   ...   ...   ...    ...  \n",
      "415057   3.0   2.0   5.0   2.0   4.0   1.0   4.0   4.0   4.0    5.0  \n",
      "415058   2.0   1.0   5.0   1.0   4.0   1.0   5.0   2.0   5.0    4.0  \n",
      "415059   4.0   2.0   5.0   1.0   4.0   5.0   5.0   5.0   5.0    2.0  \n",
      "415060   5.0   1.0   5.0   1.0   5.0   1.0   4.0   5.0   5.0    5.0  \n",
      "415061   5.0   1.0   5.0   1.0   5.0   1.0   5.0   5.0   4.0    5.0  \n",
      "\n",
      "[415062 rows x 50 columns]\n",
      "0          0\n",
      "1          1\n",
      "2          1\n",
      "3         96\n",
      "4          1\n",
      "          ..\n",
      "415057     0\n",
      "415058     0\n",
      "415059     4\n",
      "415060     4\n",
      "415061    16\n",
      "Name: TYPE, Length: 415062, dtype: int64\n"
     ]
    }
   ],
   "source": [
    "X=data_big_cleaned.iloc[:,:50]\n",
    "print(X)\n",
    "Y=data_big_cleaned['TYPE']\n",
    "print(Y)"
   ]
  },
  {
   "cell_type": "markdown",
   "id": "2f7beccf",
   "metadata": {},
   "source": [
    "# Check if Y data is representative"
   ]
  },
  {
   "cell_type": "code",
   "execution_count": 4,
   "id": "9ded514f",
   "metadata": {},
   "outputs": [
    {
     "data": {
      "text/plain": [
       "0      143667\n",
       "1      105328\n",
       "3       30589\n",
       "4       22700\n",
       "25      14877\n",
       "7       14634\n",
       "27      14107\n",
       "14      13665\n",
       "23       9760\n",
       "31       7874\n",
       "20       7747\n",
       "5        6874\n",
       "96       6171\n",
       "179      6066\n",
       "11       5556\n",
       "16       5447\n",
       "Name: TYPE, dtype: int64"
      ]
     },
     "execution_count": 4,
     "metadata": {},
     "output_type": "execute_result"
    }
   ],
   "source": [
    "pd.Series(Y).value_counts()"
   ]
  },
  {
   "cell_type": "markdown",
   "id": "f6e3422b",
   "metadata": {},
   "source": [
    "# Split data to train and test"
   ]
  },
  {
   "cell_type": "code",
   "execution_count": 5,
   "id": "ac610082",
   "metadata": {},
   "outputs": [],
   "source": [
    "x_train, x_test, y_train, y_test = train_test_split(X, Y, test_size=0.2, random_state=42)"
   ]
  },
  {
   "cell_type": "markdown",
   "id": "157ea4e7",
   "metadata": {},
   "source": [
    "# Check if test data is representative"
   ]
  },
  {
   "cell_type": "code",
   "execution_count": 6,
   "id": "7724a6dc",
   "metadata": {},
   "outputs": [
    {
     "name": "stdout",
     "output_type": "stream",
     "text": [
      "0      114788\n",
      "1       84369\n",
      "3       24451\n",
      "4       18159\n",
      "25      11916\n",
      "7       11715\n",
      "27      11311\n",
      "14      10929\n",
      "23       7942\n",
      "31       6229\n",
      "20       6191\n",
      "5        5458\n",
      "96       4963\n",
      "179      4870\n",
      "11       4422\n",
      "16       4336\n",
      "Name: TYPE, dtype: int64\n"
     ]
    }
   ],
   "source": [
    "print(pd.Series(y_train).value_counts())"
   ]
  },
  {
   "cell_type": "markdown",
   "id": "3bb61c01",
   "metadata": {},
   "source": [
    "# Functions for mapping classes from SOM model to classes from Y data"
   ]
  },
  {
   "cell_type": "code",
   "execution_count": 57,
   "id": "bd78cdb0",
   "metadata": {},
   "outputs": [],
   "source": [
    "def find_class(predictions, i, mapping):\n",
    "    keys=pd.Series(y_test.tolist())[list(pd.Series(predictions).loc[lambda x : x == i].index)].value_counts().keys().to_list()\n",
    "    cnts=pd.Series(y_test.tolist())[list(pd.Series(predictions).loc[lambda x : x == i].index)].value_counts().to_list()\n",
    "    lbl = None\n",
    "    cnt = None\n",
    "    for key_id in range(len(keys)):\n",
    "        if keys[key_id] not in mapping.best_classes.values:\n",
    "            lbl = keys[key_id]\n",
    "            cnt = cnts[key_id]\n",
    "            mapping.at[mapping[mapping['som']==i].index[0], 'counts']=cnt\n",
    "            mapping.at[mapping[mapping['som']==i].index[0], 'best_classes']=lbl \n",
    "            break\n",
    "        elif cnts[key_id] > mapping[mapping['best_classes']==keys[key_id]].counts.values[0]:\n",
    "            lbl = keys[key_id]\n",
    "            cnt = cnts[key_id]\n",
    "            j=mapping[mapping['best_classes']==keys[key_id]].som.values[0]\n",
    "            index = mapping[mapping['best_classes']==keys[key_id]].index[0]\n",
    "            mapping.at[index, 'counts']=None\n",
    "            mapping.at[index, 'best_classes']=None\n",
    "            mapping.at[mapping[mapping['som']==i].index[0], 'counts']=cnt\n",
    "            mapping.at[mapping[mapping['som']==i].index[0], 'best_classes']=lbl \n",
    "            lbl2, cnt2 = find_class(predictions, j, mapping)\n",
    "            mapping.at[index, 'counts']=cnt2\n",
    "            mapping.at[index, 'best_classes']=lbl2\n",
    "            break\n",
    "        \n",
    "            \n",
    "    return lbl, cnt"
   ]
  },
  {
   "cell_type": "code",
   "execution_count": 58,
   "id": "ecfc1ec6",
   "metadata": {},
   "outputs": [],
   "source": [
    "def map_class(predictions):\n",
    "    d = {'best_classes': pd.Series(pd.Series(predictions).unique()), 'som': pd.Series(pd.Series(predictions).unique())}\n",
    "    classes_mapping = pd.DataFrame(data=d)\n",
    "    classes_mapping['best_classes']=None\n",
    "    classes_mapping['counts']=None\n",
    "#     i=0\n",
    "    for i in pd.Series(predictions).unique():\n",
    "        lbl, cnt = find_class(predictions, i, classes_mapping)\n",
    "#         i+=1\n",
    "\n",
    "    best_classes=pd.Series(y_test.unique())\n",
    "    null_classes=best_classes[~best_classes.isin(classes_mapping['best_classes'].values)].values\n",
    "\n",
    "    i=0\n",
    "    for index, row in classes_mapping[classes_mapping['best_classes'].isna()].iterrows():\n",
    "        classes_mapping.at[index, 'best_classes']=null_classes[i]\n",
    "        i+=1\n",
    "\n",
    "    return classes_mapping"
   ]
  },
  {
   "cell_type": "markdown",
   "id": "b4f1b4d0",
   "metadata": {},
   "source": [
    "# sklearn-som"
   ]
  },
  {
   "cell_type": "code",
   "execution_count": 59,
   "id": "d741924f",
   "metadata": {},
   "outputs": [],
   "source": [
    "from sklearn_som.som import SOM\n",
    "from sklearn.preprocessing import LabelEncoder\n",
    "from sklearn.model_selection import train_test_split\n",
    "from joblib import dump, load\n",
    "from sklearn.preprocessing import StandardScaler"
   ]
  },
  {
   "cell_type": "markdown",
   "id": "bcd98464",
   "metadata": {},
   "source": [
    "# Optimize hiperparameters"
   ]
  },
  {
   "cell_type": "code",
   "execution_count": 61,
   "id": "248abe28",
   "metadata": {},
   "outputs": [
    {
     "name": "stderr",
     "output_type": "stream",
     "text": [
      "[I 2023-08-25 09:51:51,291] A new study created in memory with name: no-name-60229b2d-7de8-4acb-9b55-94d6491d921e\n",
      "[I 2023-08-25 09:52:04,880] Trial 0 finished with value: 0.03772603695290561 and parameters: {'lr': 0.3488520557156076, 'sigma': 0.011256544558788804, 'max_iter': 3574, 'epochs': 56}. Best is trial 0 with value: 0.03772603695290561.\n",
      "[I 2023-08-25 09:52:20,908] Trial 1 finished with value: 0.03765648504067392 and parameters: {'lr': 0.0993148119483195, 'sigma': 0.03604529204778841, 'max_iter': 2398, 'epochs': 57}. Best is trial 0 with value: 0.03772603695290561.\n",
      "[I 2023-08-25 09:52:39,946] Trial 2 finished with value: 0.03743877496269648 and parameters: {'lr': 0.021788216053884014, 'sigma': 0.01655115978306184, 'max_iter': 3748, 'epochs': 90}. Best is trial 0 with value: 0.03772603695290561.\n",
      "[I 2023-08-25 09:52:59,663] Trial 3 finished with value: 0.037511695337205296 and parameters: {'lr': 0.010183487453386063, 'sigma': 0.18567880916039234, 'max_iter': 4211, 'epochs': 40}. Best is trial 0 with value: 0.03772603695290561.\n",
      "[I 2023-08-25 09:53:16,703] Trial 4 finished with value: 0.03772603695290561 and parameters: {'lr': 0.27765828373405743, 'sigma': 0.05284603550453566, 'max_iter': 4637, 'epochs': 51}. Best is trial 0 with value: 0.03772603695290561.\n",
      "[I 2023-08-25 09:53:32,392] Trial 5 finished with value: 0.03765235647776414 and parameters: {'lr': 0.1216434519885666, 'sigma': 0.02249947822462181, 'max_iter': 2815, 'epochs': 47}. Best is trial 0 with value: 0.03772603695290561.\n",
      "[I 2023-08-25 09:53:46,900] Trial 6 finished with value: 0.03765235647776414 and parameters: {'lr': 0.07650086554079967, 'sigma': 0.11887903956696148, 'max_iter': 3522, 'epochs': 32}. Best is trial 0 with value: 0.03772603695290561.\n",
      "[I 2023-08-25 09:54:01,582] Trial 7 finished with value: 0.03772603695290561 and parameters: {'lr': 0.19989151697755372, 'sigma': 0.30820974516764393, 'max_iter': 4183, 'epochs': 33}. Best is trial 0 with value: 0.03772603695290561.\n",
      "[I 2023-08-25 09:54:15,902] Trial 8 finished with value: 0.0377996274371554 and parameters: {'lr': 0.6565952878338237, 'sigma': 0.06177126586168229, 'max_iter': 2172, 'epochs': 19}. Best is trial 8 with value: 0.0377996274371554.\n",
      "[I 2023-08-25 09:54:30,459] Trial 9 finished with value: 0.11568441816857543 and parameters: {'lr': 0.016903191967597386, 'sigma': 1.1291304690347637, 'max_iter': 2087, 'epochs': 42}. Best is trial 9 with value: 0.11568441816857543.\n",
      "[I 2023-08-25 09:54:45,259] Trial 10 finished with value: 0.14422354525046013 and parameters: {'lr': 0.032985686833106376, 'sigma': 1.4550605442884297, 'max_iter': 2016, 'epochs': 11}. Best is trial 10 with value: 0.14422354525046013.\n",
      "[I 2023-08-25 09:54:59,989] Trial 11 finished with value: 0.14257306134144926 and parameters: {'lr': 0.031113289599456875, 'sigma': 1.6188509318980517, 'max_iter': 2038, 'epochs': 11}. Best is trial 10 with value: 0.14422354525046013.\n",
      "[I 2023-08-25 09:55:14,428] Trial 12 finished with value: 0.09996774640737463 and parameters: {'lr': 0.03964938485953849, 'sigma': 2.558515668174232, 'max_iter': 2018, 'epochs': 10}. Best is trial 10 with value: 0.14422354525046013.\n",
      "[I 2023-08-25 09:55:29,101] Trial 13 finished with value: 0.14638102611289688 and parameters: {'lr': 0.04425674502924131, 'sigma': 1.0789829754606184, 'max_iter': 2482, 'epochs': 10}. Best is trial 13 with value: 0.14638102611289688.\n",
      "[I 2023-08-25 09:55:43,620] Trial 14 finished with value: 0.1407939378321748 and parameters: {'lr': 0.0552825029182746, 'sigma': 0.7221702301623495, 'max_iter': 2602, 'epochs': 15}. Best is trial 13 with value: 0.14638102611289688.\n",
      "[I 2023-08-25 09:56:00,318] Trial 15 finished with value: 0.08624779992428366 and parameters: {'lr': 0.04570252883868497, 'sigma': 0.6007351879181237, 'max_iter': 2418, 'epochs': 20}. Best is trial 13 with value: 0.14638102611289688.\n",
      "[I 2023-08-25 09:56:17,675] Trial 16 finished with value: 0.08111853954809993 and parameters: {'lr': 0.02871788898184214, 'sigma': 2.9407058327059072, 'max_iter': 2916, 'epochs': 13}. Best is trial 13 with value: 0.14638102611289688.\n",
      "[I 2023-08-25 09:56:36,255] Trial 17 finished with value: 0.11861142540542896 and parameters: {'lr': 0.06515359945069048, 'sigma': 0.5217773537987699, 'max_iter': 2340, 'epochs': 10}. Best is trial 13 with value: 0.14638102611289688.\n",
      "[I 2023-08-25 09:56:51,720] Trial 18 finished with value: 0.1456184128593994 and parameters: {'lr': 0.01619154971401662, 'sigma': 1.2877230920125013, 'max_iter': 2657, 'epochs': 17}. Best is trial 13 with value: 0.14638102611289688.\n",
      "[I 2023-08-25 09:57:07,592] Trial 19 finished with value: 0.037511695337205296 and parameters: {'lr': 0.015362792412538245, 'sigma': 0.3231546875836779, 'max_iter': 3075, 'epochs': 21}. Best is trial 13 with value: 0.14638102611289688.\n",
      "[I 2023-08-25 09:57:22,068] Trial 20 finished with value: 0.10601007452140665 and parameters: {'lr': 0.011690024090164614, 'sigma': 0.9111745231022377, 'max_iter': 2628, 'epochs': 15}. Best is trial 13 with value: 0.14638102611289688.\n",
      "[I 2023-08-25 09:57:36,969] Trial 21 finished with value: 0.13338181623978296 and parameters: {'lr': 0.024034099916922697, 'sigma': 1.8157748607092328, 'max_iter': 2186, 'epochs': 12}. Best is trial 13 with value: 0.14638102611289688.\n",
      "[I 2023-08-25 09:57:51,384] Trial 22 finished with value: 0.14607190400355485 and parameters: {'lr': 0.040920605580538165, 'sigma': 1.1688186924619532, 'max_iter': 2600, 'epochs': 14}. Best is trial 13 with value: 0.14638102611289688.\n",
      "[I 2023-08-25 09:58:07,076] Trial 23 finished with value: 0.16737570613627362 and parameters: {'lr': 0.04908090165036225, 'sigma': 0.9456388136955197, 'max_iter': 2651, 'epochs': 15}. Best is trial 23 with value: 0.16737570613627362.\n",
      "[I 2023-08-25 09:58:22,627] Trial 24 finished with value: 0.15626308177783843 and parameters: {'lr': 0.046897848330993884, 'sigma': 0.755652573962508, 'max_iter': 3183, 'epochs': 25}. Best is trial 23 with value: 0.16737570613627362.\n",
      "[I 2023-08-25 09:58:37,485] Trial 25 finished with value: 0.15328442895489397 and parameters: {'lr': 0.06583563981278472, 'sigma': 0.7475326983583851, 'max_iter': 3016, 'epochs': 23}. Best is trial 23 with value: 0.16737570613627362.\n",
      "[I 2023-08-25 09:58:52,253] Trial 26 finished with value: 0.23605723250262467 and parameters: {'lr': 0.08069476044481637, 'sigma': 0.7056978686242438, 'max_iter': 3213, 'epochs': 24}. Best is trial 26 with value: 0.23605723250262467.\n",
      "[I 2023-08-25 09:59:07,413] Trial 27 finished with value: 0.10868461079076955 and parameters: {'lr': 0.10156385231610955, 'sigma': 0.42785479204059906, 'max_iter': 3217, 'epochs': 25}. Best is trial 26 with value: 0.23605723250262467.\n",
      "[I 2023-08-25 09:59:27,285] Trial 28 finished with value: 0.07731347774899729 and parameters: {'lr': 0.05474182432624588, 'sigma': 0.45366692468194825, 'max_iter': 3306, 'epochs': 26}. Best is trial 26 with value: 0.23605723250262467.\n",
      "[I 2023-08-25 09:59:42,595] Trial 29 finished with value: 0.1710562640742216 and parameters: {'lr': 0.14074420278171476, 'sigma': 0.7683515122754475, 'max_iter': 2840, 'epochs': 17}. Best is trial 26 with value: 0.23605723250262467.\n",
      "[I 2023-08-25 10:00:01,466] Trial 30 finished with value: 0.03765235647776414 and parameters: {'lr': 0.14961053044856273, 'sigma': 0.2887791978107692, 'max_iter': 2842, 'epochs': 17}. Best is trial 26 with value: 0.23605723250262467.\n",
      "[I 2023-08-25 10:00:21,625] Trial 31 finished with value: 0.14815077398585214 and parameters: {'lr': 0.08460640703045046, 'sigma': 0.6763634452442322, 'max_iter': 3244, 'epochs': 27}. Best is trial 26 with value: 0.23605723250262467.\n",
      "[I 2023-08-25 10:00:37,528] Trial 32 finished with value: 0.22427524550057543 and parameters: {'lr': 0.11625949529357472, 'sigma': 0.7867882437811534, 'max_iter': 2980, 'epochs': 22}. Best is trial 26 with value: 0.23605723250262467.\n",
      "[I 2023-08-25 10:00:52,448] Trial 33 finished with value: 0.12942896424425687 and parameters: {'lr': 0.13619410032398332, 'sigma': 1.8886448353896197, 'max_iter': 2950, 'epochs': 19}. Best is trial 26 with value: 0.23605723250262467.\n",
      "[I 2023-08-25 10:01:07,154] Trial 34 finished with value: 0.14547802685601266 and parameters: {'lr': 0.09501805398174017, 'sigma': 0.9260092892834183, 'max_iter': 2777, 'epochs': 17}. Best is trial 26 with value: 0.23605723250262467.\n"
     ]
    },
    {
     "name": "stderr",
     "output_type": "stream",
     "text": [
      "[I 2023-08-25 10:01:22,022] Trial 35 finished with value: 0.15254570941335424 and parameters: {'lr': 0.17697119034106493, 'sigma': 0.5015677738235635, 'max_iter': 3534, 'epochs': 21}. Best is trial 26 with value: 0.23605723250262467.\n",
      "[I 2023-08-25 10:01:37,898] Trial 36 finished with value: 0.12514418210649242 and parameters: {'lr': 0.12410739817131322, 'sigma': 2.1395145797312725, 'max_iter': 3068, 'epochs': 16}. Best is trial 26 with value: 0.23605723250262467.\n",
      "[I 2023-08-25 10:01:54,487] Trial 37 finished with value: 0.13676818713520167 and parameters: {'lr': 0.09753576137791092, 'sigma': 1.5060679673546942, 'max_iter': 2832, 'epochs': 13}. Best is trial 26 with value: 0.23605723250262467.\n",
      "[I 2023-08-25 10:02:10,437] Trial 38 finished with value: 0.03772603695290561 and parameters: {'lr': 0.26172974710913527, 'sigma': 0.23219990307392002, 'max_iter': 3374, 'epochs': 29}. Best is trial 26 with value: 0.23605723250262467.\n",
      "[I 2023-08-25 10:02:25,748] Trial 39 finished with value: 0.03765235647776414 and parameters: {'lr': 0.08072068245438777, 'sigma': 0.1487642413397042, 'max_iter': 3781, 'epochs': 34}. Best is trial 26 with value: 0.23605723250262467.\n",
      "[I 2023-08-25 10:02:41,105] Trial 40 finished with value: 0.07554505231220889 and parameters: {'lr': 0.1779941211914287, 'sigma': 0.4087037954034367, 'max_iter': 2752, 'epochs': 23}. Best is trial 26 with value: 0.23605723250262467.\n",
      "[I 2023-08-25 10:02:56,906] Trial 41 finished with value: 0.14839108015293956 and parameters: {'lr': 0.06884177437580345, 'sigma': 0.8667985194472873, 'max_iter': 3129, 'epochs': 23}. Best is trial 26 with value: 0.23605723250262467.\n",
      "[I 2023-08-25 10:03:12,311] Trial 42 finished with value: 0.14612144133499388 and parameters: {'lr': 0.11278144922918235, 'sigma': 0.691568800102854, 'max_iter': 2948, 'epochs': 18}. Best is trial 26 with value: 0.23605723250262467.\n",
      "[I 2023-08-25 10:03:28,049] Trial 43 finished with value: 0.14509529982297012 and parameters: {'lr': 0.08100957740286624, 'sigma': 1.0155866966609681, 'max_iter': 3138, 'epochs': 30}. Best is trial 26 with value: 0.23605723250262467.\n",
      "[I 2023-08-25 10:03:43,363] Trial 44 finished with value: 0.0923813581459428 and parameters: {'lr': 0.053727994184099584, 'sigma': 0.542876064644779, 'max_iter': 2988, 'epochs': 19}. Best is trial 26 with value: 0.23605723250262467.\n",
      "[I 2023-08-25 10:04:01,136] Trial 45 finished with value: 0.13614018056111699 and parameters: {'lr': 0.11228946724436419, 'sigma': 1.2785418155493145, 'max_iter': 3433, 'epochs': 36}. Best is trial 26 with value: 0.23605723250262467.\n",
      "[I 2023-08-25 10:04:19,689] Trial 46 finished with value: 0.1188254730306155 and parameters: {'lr': 0.14645118954466416, 'sigma': 0.8776626727913016, 'max_iter': 3234, 'epochs': 21}. Best is trial 26 with value: 0.23605723250262467.\n",
      "[I 2023-08-25 10:04:39,410] Trial 47 finished with value: 0.11595468929781168 and parameters: {'lr': 0.034297490267364714, 'sigma': 0.6098055183498048, 'max_iter': 3686, 'epochs': 28}. Best is trial 26 with value: 0.23605723250262467.\n",
      "[I 2023-08-25 10:04:57,124] Trial 48 finished with value: 0.13721288173639073 and parameters: {'lr': 0.2427963357173848, 'sigma': 1.452133680892851, 'max_iter': 2752, 'epochs': 25}. Best is trial 26 with value: 0.23605723250262467.\n",
      "[I 2023-08-25 10:05:12,420] Trial 49 finished with value: 0.12616705511037213 and parameters: {'lr': 0.3240485470692775, 'sigma': 2.178876362192563, 'max_iter': 2891, 'epochs': 30}. Best is trial 26 with value: 0.23605723250262467.\n",
      "[I 2023-08-25 10:05:27,949] Trial 50 finished with value: 0.03758676068007662 and parameters: {'lr': 0.047719917651321, 'sigma': 0.35238842166728185, 'max_iter': 3356, 'epochs': 15}. Best is trial 26 with value: 0.23605723250262467.\n",
      "[I 2023-08-25 10:05:43,178] Trial 51 finished with value: 0.15555796334472 and parameters: {'lr': 0.0662522651574858, 'sigma': 0.7125373791987586, 'max_iter': 3035, 'epochs': 25}. Best is trial 26 with value: 0.23605723250262467.\n",
      "[I 2023-08-25 10:05:57,958] Trial 52 finished with value: 0.15977601139370698 and parameters: {'lr': 0.07061193408985451, 'sigma': 0.7948912629043561, 'max_iter': 3062, 'epochs': 22}. Best is trial 26 with value: 0.23605723250262467.\n",
      "[I 2023-08-25 10:06:12,703] Trial 53 finished with value: 0.1442208361915222 and parameters: {'lr': 0.05892641183125969, 'sigma': 1.1753148307299912, 'max_iter': 3191, 'epochs': 20}. Best is trial 26 with value: 0.23605723250262467.\n",
      "[I 2023-08-25 10:06:27,023] Trial 54 finished with value: 0.0853487630896057 and parameters: {'lr': 0.07703841176318614, 'sigma': 0.5682459134917838, 'max_iter': 2873, 'epochs': 18}. Best is trial 26 with value: 0.23605723250262467.\n",
      "[I 2023-08-25 10:06:41,576] Trial 55 finished with value: 0.12125226024041097 and parameters: {'lr': 0.09117022429012694, 'sigma': 0.8309777834338169, 'max_iter': 3119, 'epochs': 22}. Best is trial 26 with value: 0.23605723250262467.\n",
      "[I 2023-08-25 10:06:56,861] Trial 56 finished with value: 0.14783646530441924 and parameters: {'lr': 0.048329179600609264, 'sigma': 1.0538549550836243, 'max_iter': 2993, 'epochs': 24}. Best is trial 26 with value: 0.23605723250262467.\n",
      "[I 2023-08-25 10:07:12,480] Trial 57 finished with value: 0.13424731135560833 and parameters: {'lr': 0.11106057474279908, 'sigma': 1.6110908445946377, 'max_iter': 2553, 'epochs': 27}. Best is trial 26 with value: 0.23605723250262467.\n",
      "[I 2023-08-25 10:07:26,898] Trial 58 finished with value: 0.037582671267787617 and parameters: {'lr': 0.040608019304699386, 'sigma': 0.38954001355854434, 'max_iter': 2771, 'epochs': 20}. Best is trial 26 with value: 0.23605723250262467.\n",
      "[I 2023-08-25 10:07:41,994] Trial 59 finished with value: 0.07873250161591994 and parameters: {'lr': 0.07147512135994567, 'sigma': 0.48551008525138545, 'max_iter': 2672, 'epochs': 22}. Best is trial 26 with value: 0.23605723250262467.\n",
      "[I 2023-08-25 10:07:58,454] Trial 60 finished with value: 0.10745791815195332 and parameters: {'lr': 0.035741608580328224, 'sigma': 0.626446380185852, 'max_iter': 2698, 'epochs': 16}. Best is trial 26 with value: 0.23605723250262467.\n",
      "[I 2023-08-25 10:08:14,141] Trial 61 finished with value: 0.15906185140152812 and parameters: {'lr': 0.06599469112666559, 'sigma': 0.7557337252387801, 'max_iter': 3055, 'epochs': 26}. Best is trial 26 with value: 0.23605723250262467.\n",
      "[I 2023-08-25 10:08:29,312] Trial 62 finished with value: 0.1498153488274422 and parameters: {'lr': 0.058931345825778754, 'sigma': 0.8230036574325272, 'max_iter': 2897, 'epochs': 32}. Best is trial 26 with value: 0.23605723250262467.\n",
      "[I 2023-08-25 10:08:44,433] Trial 63 finished with value: 0.14505337844646424 and parameters: {'lr': 0.07932530925244452, 'sigma': 1.102659736529438, 'max_iter': 3041, 'epochs': 26}. Best is trial 26 with value: 0.23605723250262467.\n",
      "[I 2023-08-25 10:08:59,233] Trial 64 finished with value: 0.14947815812393672 and parameters: {'lr': 0.05010215290668986, 'sigma': 0.7110649218220119, 'max_iter': 3155, 'epochs': 28}. Best is trial 26 with value: 0.23605723250262467.\n",
      "[I 2023-08-25 10:09:13,995] Trial 65 finished with value: 0.1446274754985169 and parameters: {'lr': 0.06382492116495066, 'sigma': 1.3819632224803726, 'max_iter': 3260, 'epochs': 24}. Best is trial 26 with value: 0.23605723250262467.\n",
      "[I 2023-08-25 10:09:31,542] Trial 66 finished with value: 0.14583493691736127 and parameters: {'lr': 0.043586616664323063, 'sigma': 1.019100764965427, 'max_iter': 2843, 'epochs': 19}. Best is trial 26 with value: 0.23605723250262467.\n",
      "[I 2023-08-25 10:09:46,159] Trial 67 finished with value: 0.12319318675210683 and parameters: {'lr': 0.08719387683974919, 'sigma': 0.5736234875200756, 'max_iter': 2990, 'epochs': 22}. Best is trial 26 with value: 0.23605723250262467.\n",
      "[I 2023-08-25 10:10:04,660] Trial 68 finished with value: 0.12112351132096073 and parameters: {'lr': 0.13146591777062877, 'sigma': 0.786133726442444, 'max_iter': 3446, 'epochs': 31}. Best is trial 26 with value: 0.23605723250262467.\n",
      "[I 2023-08-25 10:10:20,801] Trial 69 finished with value: 0.037868874942396075 and parameters: {'lr': 0.02750918613324881, 'sigma': 0.4202270417822757, 'max_iter': 3071, 'epochs': 26}. Best is trial 26 with value: 0.23605723250262467.\n",
      "[I 2023-08-25 10:10:35,870] Trial 70 finished with value: 0.15095544982598416 and parameters: {'lr': 0.10168821149898033, 'sigma': 1.2979050195095256, 'max_iter': 3289, 'epochs': 18}. Best is trial 26 with value: 0.23605723250262467.\n"
     ]
    },
    {
     "name": "stderr",
     "output_type": "stream",
     "text": [
      "[I 2023-08-25 10:10:50,838] Trial 71 finished with value: 0.14829940030504554 and parameters: {'lr': 0.06919875779255029, 'sigma': 0.7073757494108488, 'max_iter': 3051, 'epochs': 24}. Best is trial 26 with value: 0.23605723250262467.\n",
      "[I 2023-08-25 10:11:06,420] Trial 72 finished with value: 0.07363781876498565 and parameters: {'lr': 0.060978374172477014, 'sigma': 0.49943031765319523, 'max_iter': 2911, 'epochs': 28}. Best is trial 26 with value: 0.23605723250262467.\n",
      "[I 2023-08-25 10:11:21,325] Trial 73 finished with value: 0.11994170208848386 and parameters: {'lr': 0.05574900777416069, 'sigma': 0.6518631912700636, 'max_iter': 2815, 'epochs': 25}. Best is trial 26 with value: 0.23605723250262467.\n",
      "[I 2023-08-25 10:11:36,735] Trial 74 finished with value: 0.14535938734011425 and parameters: {'lr': 0.07204877013147376, 'sigma': 0.9178489043601014, 'max_iter': 3180, 'epochs': 21}. Best is trial 26 with value: 0.23605723250262467.\n",
      "[I 2023-08-25 10:11:52,454] Trial 75 finished with value: 0.11963758512373325 and parameters: {'lr': 0.03883325225719082, 'sigma': 0.7330651068890931, 'max_iter': 2935, 'epochs': 23}. Best is trial 26 with value: 0.23605723250262467.\n",
      "[I 2023-08-25 10:12:06,867] Trial 76 finished with value: 0.14489170104407778 and parameters: {'lr': 0.09551644922244105, 'sigma': 1.0039113529672605, 'max_iter': 3109, 'epochs': 20}. Best is trial 26 with value: 0.23605723250262467.\n",
      "[I 2023-08-25 10:12:22,645] Trial 77 finished with value: 0.04209954164903112 and parameters: {'lr': 0.05173642276897587, 'sigma': 0.4583917126425485, 'max_iter': 2737, 'epochs': 29}. Best is trial 26 with value: 0.23605723250262467.\n",
      "[I 2023-08-25 10:12:38,305] Trial 78 finished with value: 0.1548618083733126 and parameters: {'lr': 0.06601557545186477, 'sigma': 0.8104369701444704, 'max_iter': 2996, 'epochs': 26}. Best is trial 26 with value: 0.23605723250262467.\n",
      "[I 2023-08-25 10:12:53,168] Trial 79 finished with value: 0.1468769894974539 and parameters: {'lr': 0.04673048389675034, 'sigma': 1.1831910050193022, 'max_iter': 2565, 'epochs': 14}. Best is trial 26 with value: 0.23605723250262467.\n",
      "[I 2023-08-25 10:13:08,027] Trial 80 finished with value: 0.12573008375066985 and parameters: {'lr': 0.08410772271421624, 'sigma': 0.5715682010095905, 'max_iter': 3325, 'epochs': 36}. Best is trial 26 with value: 0.23605723250262467.\n",
      "[I 2023-08-25 10:13:22,657] Trial 81 finished with value: 0.16438954787975824 and parameters: {'lr': 0.06554621698595156, 'sigma': 0.8236579015571532, 'max_iter': 3019, 'epochs': 27}. Best is trial 26 with value: 0.23605723250262467.\n",
      "[I 2023-08-25 10:13:37,570] Trial 82 finished with value: 0.14106168819219228 and parameters: {'lr': 0.07546435240285065, 'sigma': 0.9420805452559308, 'max_iter': 3185, 'epochs': 24}. Best is trial 26 with value: 0.23605723250262467.\n",
      "[I 2023-08-25 10:13:53,016] Trial 83 finished with value: 0.1252981521820752 and parameters: {'lr': 0.061122970851652796, 'sigma': 0.6644715884482272, 'max_iter': 3050, 'epochs': 27}. Best is trial 26 with value: 0.23605723250262467.\n",
      "[I 2023-08-25 10:14:07,480] Trial 84 finished with value: 0.14144143758053895 and parameters: {'lr': 0.08865676541014611, 'sigma': 1.2441738365174464, 'max_iter': 2939, 'epochs': 22}. Best is trial 26 with value: 0.23605723250262467.\n",
      "[I 2023-08-25 10:14:22,292] Trial 85 finished with value: 0.14333418200892956 and parameters: {'lr': 0.11636284612707753, 'sigma': 0.7754097279072704, 'max_iter': 2818, 'epochs': 30}. Best is trial 26 with value: 0.23605723250262467.\n",
      "[I 2023-08-25 10:14:37,071] Trial 86 finished with value: 0.08732954152457997 and parameters: {'lr': 0.054614309672757926, 'sigma': 0.5497492220861631, 'max_iter': 3097, 'epochs': 33}. Best is trial 26 with value: 0.23605723250262467.\n",
      "[I 2023-08-25 10:14:52,576] Trial 87 finished with value: 0.13536668578572775 and parameters: {'lr': 0.10602308355285607, 'sigma': 1.557676667387583, 'max_iter': 3246, 'epochs': 25}. Best is trial 26 with value: 0.23605723250262467.\n",
      "[I 2023-08-25 10:15:07,800] Trial 88 finished with value: 0.14236412312679247 and parameters: {'lr': 0.0749357542003845, 'sigma': 0.9106354907177253, 'max_iter': 2877, 'epochs': 21}. Best is trial 26 with value: 0.23605723250262467.\n",
      "[I 2023-08-25 10:15:22,582] Trial 89 finished with value: 0.1282831322359625 and parameters: {'lr': 0.06525425643895677, 'sigma': 0.6286088349353701, 'max_iter': 2996, 'epochs': 23}. Best is trial 26 with value: 0.23605723250262467.\n",
      "[I 2023-08-25 10:15:37,412] Trial 90 finished with value: 0.14708026078228906 and parameters: {'lr': 0.12171506482901552, 'sigma': 1.0373282674878732, 'max_iter': 3208, 'epochs': 17}. Best is trial 26 with value: 0.23605723250262467.\n",
      "[I 2023-08-25 10:15:56,459] Trial 91 finished with value: 0.1377770089629404 and parameters: {'lr': 0.06670506790422889, 'sigma': 0.8624167701987789, 'max_iter': 2970, 'epochs': 27}. Best is trial 26 with value: 0.23605723250262467.\n",
      "[I 2023-08-25 10:16:15,837] Trial 92 finished with value: 0.1480862077446834 and parameters: {'lr': 0.04303465623899683, 'sigma': 0.7869964434521334, 'max_iter': 3008, 'epochs': 25}. Best is trial 26 with value: 0.23605723250262467.\n",
      "[I 2023-08-25 10:16:34,773] Trial 93 finished with value: 0.11584783260126881 and parameters: {'lr': 0.051973470211554955, 'sigma': 0.5135093346570975, 'max_iter': 3080, 'epochs': 26}. Best is trial 26 with value: 0.23605723250262467.\n",
      "[I 2023-08-25 10:16:51,252] Trial 94 finished with value: 0.1439258692788966 and parameters: {'lr': 0.09419051499363018, 'sigma': 1.1203424656221739, 'max_iter': 3164, 'epochs': 29}. Best is trial 26 with value: 0.23605723250262467.\n",
      "[I 2023-08-25 10:17:06,247] Trial 95 finished with value: 0.1550258939023133 and parameters: {'lr': 0.05876952421308004, 'sigma': 0.7476882846970481, 'max_iter': 2701, 'epochs': 31}. Best is trial 26 with value: 0.23605723250262467.\n",
      "[I 2023-08-25 10:17:20,953] Trial 96 finished with value: 0.10657508227031719 and parameters: {'lr': 0.05774503806914369, 'sigma': 0.66823782598457, 'max_iter': 2700, 'epochs': 34}. Best is trial 26 with value: 0.23605723250262467.\n",
      "[I 2023-08-25 10:17:35,555] Trial 97 finished with value: 0.03743877496269648 and parameters: {'lr': 0.04543198082673981, 'sigma': 0.37643915806623757, 'max_iter': 2634, 'epochs': 31}. Best is trial 26 with value: 0.23605723250262467.\n",
      "[I 2023-08-25 10:17:50,065] Trial 98 finished with value: 0.07548720313332688 and parameters: {'lr': 0.08164872513509379, 'sigma': 0.4663543693143954, 'max_iter': 2808, 'epochs': 20}. Best is trial 26 with value: 0.23605723250262467.\n",
      "[I 2023-08-25 10:18:04,918] Trial 99 finished with value: 0.0862927773630481 and parameters: {'lr': 0.04935850097904024, 'sigma': 0.5917495450937319, 'max_iter': 2875, 'epochs': 29}. Best is trial 26 with value: 0.23605723250262467.\n"
     ]
    }
   ],
   "source": [
    "import optuna\n",
    "from optuna.samplers import TPESampler\n",
    "\n",
    "def objective(trial):\n",
    "    # 2. Suggest values of the hyperparameters using a trial object.\n",
    "    param = {\n",
    "        'm': 4,\n",
    "        'n': 4,\n",
    "        'dim': 50,\n",
    "        'lr': trial.suggest_float('lr', 1e-2, 1, log=True),\n",
    "        'sigma': trial.suggest_float('sigma', 1e-2, 3, log=True),\n",
    "        'max_iter': trial.suggest_int('max_iter', 2000, 5000, log=True),\n",
    "        'random_state': 42, #trial.suggest_int('random_state', 1, 42, log=True),\n",
    "    }\n",
    "    \n",
    "    param2 = {\n",
    "        'epochs': trial.suggest_int('epochs', 10, 100, log=True),\n",
    "    }\n",
    "\n",
    "    som = SOM(**param)\n",
    "    som.fit(x_train.to_numpy(), **param2)\n",
    "    predictions = som.fit_predict(x_test.to_numpy())\n",
    "    predictions_fix = predictions.copy()\n",
    "    for i in pd.Series(predictions).unique():\n",
    "        key=pd.Series(y_test.tolist())[list(pd.Series(predictions).loc[lambda x : x == i].index)].value_counts().keys().to_list()[0]\n",
    "        predictions_fix[predictions==i]=key\n",
    "    score = f1_score(y_test, predictions_fix, average='macro')\n",
    "    return score\n",
    "\n",
    "# 3. Create a study object and optimize the objective function.\n",
    "sampler = TPESampler(seed=10)  # Make the sampler behave in a deterministic way.\n",
    "study = optuna.create_study(sampler=sampler, direction='maximize')\n",
    "study.optimize(objective, n_trials=100)"
   ]
  },
  {
   "cell_type": "markdown",
   "id": "d56d4cfc",
   "metadata": {},
   "source": [
    "# Train model"
   ]
  },
  {
   "cell_type": "code",
   "execution_count": 70,
   "id": "11bab879",
   "metadata": {},
   "outputs": [
    {
     "name": "stdout",
     "output_type": "stream",
     "text": [
      "CPU times: user 7.49 s, sys: 17 µs, total: 7.49 s\n",
      "Wall time: 8.11 s\n"
     ]
    }
   ],
   "source": [
    "# som = load('som_big.joblib')\n",
    "# {'lr': 0.20715800685544858, 'sigma': 0.48812890935056635, 'max_iter': 3510, 'random_state': 23}\n",
    "# {'lr': 0.4484606809403018, 'sigma': 0.7617226203270118, 'max_iter': 3781, 'random_state': 5}\n",
    "# {'lr': 1.5792491494219374, 'sigma': 0.6821505133687678, 'max_iter': 3575}\n",
    "# {'lr': 1.1441603825302205, 'sigma': 0.3672077435443995, 'max_iter': 2409}\n",
    "# {'lr': 0.4517516977630655, 'sigma': 0.6820945909305205, 'max_iter': 3153}\n",
    "# {'lr': 0.08069476044481637, 'sigma': 0.7056978686242438, 'max_iter': 3213, 'epochs': 24}\n",
    "som = SOM(m=4, n=4, dim=50, lr=0.08069476044481637, sigma=0.7056978686242438, max_iter=3213, random_state=42)\n",
    "%time som.fit(x_train.to_numpy(), epochs=24)\n",
    "predictions = som.fit_predict(x_test.to_numpy())\n",
    "# dump(som, 'som_big.joblib') "
   ]
  },
  {
   "cell_type": "code",
   "execution_count": 71,
   "id": "c05c292f",
   "metadata": {},
   "outputs": [
    {
     "data": {
      "text/plain": [
       "10    7028\n",
       "12    6551\n",
       "5     6431\n",
       "11    6001\n",
       "14    5889\n",
       "13    5750\n",
       "6     5713\n",
       "7     5671\n",
       "9     5570\n",
       "3     5534\n",
       "2     5096\n",
       "15    5092\n",
       "1     4614\n",
       "8     4561\n",
       "4     3413\n",
       "0       99\n",
       "dtype: int64"
      ]
     },
     "execution_count": 71,
     "metadata": {},
     "output_type": "execute_result"
    }
   ],
   "source": [
    "pd.Series(predictions).value_counts()"
   ]
  },
  {
   "cell_type": "markdown",
   "id": "b250cf4b",
   "metadata": {},
   "source": [
    "# Map classes from som to classes from Y data"
   ]
  },
  {
   "cell_type": "code",
   "execution_count": 72,
   "id": "201e2210",
   "metadata": {},
   "outputs": [],
   "source": [
    "classes_mapping=map_class(predictions)\n",
    "predictions_fix = predictions.copy()\n",
    "for index, row in classes_mapping.iterrows():\n",
    "    predictions_fix[predictions==classes_mapping.at[index, 'som']]=classes_mapping.at[index, 'best_classes']"
   ]
  },
  {
   "cell_type": "markdown",
   "id": "d5516a92",
   "metadata": {},
   "source": [
    "# Simple method"
   ]
  },
  {
   "cell_type": "code",
   "execution_count": 73,
   "id": "49bcef18",
   "metadata": {},
   "outputs": [],
   "source": [
    "# predictions_fix = predictions.copy()\n",
    "# for i in pd.Series(predictions).unique():\n",
    "#     key=pd.Series(y_test.tolist())[list(pd.Series(predictions).loc[lambda x : x == i].index)].value_counts().keys().to_list()[0]\n",
    "#     predictions_fix[predictions==i]=key"
   ]
  },
  {
   "cell_type": "markdown",
   "id": "34c8f825",
   "metadata": {},
   "source": [
    "# Gini"
   ]
  },
  {
   "cell_type": "code",
   "execution_count": 110,
   "id": "bffc21ed",
   "metadata": {},
   "outputs": [],
   "source": [
    "def gini_normalized(most_common, actual):\n",
    "    gini = lambda a, p: 2 * roc_auc_score(a, p) - 1\n",
    "    return gini(most_common, actual) / gini(most_common, most_common)"
   ]
  },
  {
   "cell_type": "code",
   "execution_count": 113,
   "id": "2a2cbfeb",
   "metadata": {},
   "outputs": [],
   "source": [
    "def gini(x):\n",
    "    total = 0\n",
    "    for i, xi in enumerate(x[:-1], 1):\n",
    "        total += np.sum(np.abs(xi - x[i:]))\n",
    "    return total / (len(x)**2 * np.mean(x))"
   ]
  },
  {
   "cell_type": "code",
   "execution_count": 115,
   "id": "3a0efea8",
   "metadata": {},
   "outputs": [
    {
     "name": "stdout",
     "output_type": "stream",
     "text": [
      "5\n",
      "1      5934\n",
      "27      224\n",
      "23       81\n",
      "0        64\n",
      "179      39\n",
      "14       28\n",
      "7        26\n",
      "5        12\n",
      "16       11\n",
      "25        8\n",
      "96        3\n",
      "20        1\n",
      "dtype: int64\n",
      "0.6880140017913592\n",
      "\n",
      "\n",
      "1\n",
      "1      2982\n",
      "20      695\n",
      "0       395\n",
      "27      266\n",
      "7       252\n",
      "96       19\n",
      "14        2\n",
      "23        2\n",
      "179       1\n",
      "dtype: int64\n",
      "0.6879779582205308\n",
      "\n",
      "\n",
      "6\n",
      "1      3808\n",
      "25      812\n",
      "27      379\n",
      "179     252\n",
      "5       189\n",
      "23      145\n",
      "16       44\n",
      "0        29\n",
      "14       19\n",
      "7        17\n",
      "4         9\n",
      "31        7\n",
      "3         3\n",
      "dtype: int64\n",
      "0.7756458167356579\n",
      "\n",
      "\n",
      "14\n",
      "0     3178\n",
      "4     1531\n",
      "11     572\n",
      "31     407\n",
      "3      135\n",
      "16      53\n",
      "27      11\n",
      "96       1\n",
      "7        1\n",
      "dtype: int64\n",
      "0.7452740166334069\n",
      "\n",
      "\n",
      "8\n",
      "0      3734\n",
      "7       390\n",
      "27      164\n",
      "16      125\n",
      "20       77\n",
      "1        56\n",
      "23        7\n",
      "31        2\n",
      "179       2\n",
      "96        2\n",
      "4         1\n",
      "3         1\n",
      "dtype: int64\n",
      "0.8859129279165756\n",
      "\n",
      "\n",
      "11\n",
      "3      3207\n",
      "0      1100\n",
      "4       860\n",
      "11      435\n",
      "96      192\n",
      "179      71\n",
      "31       44\n",
      "1        38\n",
      "23       21\n",
      "14       19\n",
      "16        8\n",
      "25        2\n",
      "5         2\n",
      "7         2\n",
      "dtype: int64\n",
      "0.7224615336477812\n",
      "\n",
      "\n",
      "12\n",
      "0      4631\n",
      "1      1166\n",
      "27      642\n",
      "31       34\n",
      "20       26\n",
      "4        21\n",
      "7        20\n",
      "179       6\n",
      "16        4\n",
      "96        1\n",
      "dtype: int64\n",
      "0.880415124384667\n",
      "\n",
      "\n",
      "10\n",
      "0      4841\n",
      "31      833\n",
      "27      524\n",
      "1       408\n",
      "4       220\n",
      "179      83\n",
      "7        40\n",
      "16       38\n",
      "20       16\n",
      "96       11\n",
      "11       10\n",
      "23        2\n",
      "3         2\n",
      "dtype: int64\n",
      "0.82968304432504\n",
      "\n",
      "\n",
      "2\n",
      "7      1636\n",
      "1       857\n",
      "16      691\n",
      "23      666\n",
      "0       603\n",
      "5       322\n",
      "3       136\n",
      "27       66\n",
      "20       43\n",
      "4        27\n",
      "179      24\n",
      "25       18\n",
      "14        6\n",
      "96        1\n",
      "dtype: int64\n",
      "0.5293549779695055\n",
      "\n",
      "\n",
      "9\n",
      "0      3590\n",
      "1       928\n",
      "96      526\n",
      "20      440\n",
      "3        40\n",
      "27       30\n",
      "23        6\n",
      "7         6\n",
      "179       3\n",
      "11        1\n",
      "dtype: int64\n",
      "0.869775527489424\n",
      "\n",
      "\n",
      "13\n",
      "0      5304\n",
      "31      196\n",
      "11       84\n",
      "27       52\n",
      "96       35\n",
      "1        29\n",
      "4        29\n",
      "3        13\n",
      "179       8\n",
      "dtype: int64\n",
      "0.9557657503087021\n",
      "\n",
      "\n",
      "15\n",
      "4      1680\n",
      "3      1311\n",
      "0       749\n",
      "179     418\n",
      "25      260\n",
      "1       235\n",
      "23      194\n",
      "16       75\n",
      "14       52\n",
      "5        50\n",
      "31       32\n",
      "11       31\n",
      "7         3\n",
      "96        2\n",
      "dtype: int64\n",
      "0.7895825030913718\n",
      "\n",
      "\n",
      "7\n",
      "25     1859\n",
      "1      1191\n",
      "5       730\n",
      "14      668\n",
      "3       327\n",
      "23      246\n",
      "179     243\n",
      "4       162\n",
      "31       90\n",
      "0        48\n",
      "16       37\n",
      "27       35\n",
      "7        29\n",
      "96        4\n",
      "11        1\n",
      "20        1\n",
      "dtype: int64\n",
      "0.5908637608917076\n",
      "\n",
      "\n",
      "4\n",
      "1      1822\n",
      "0       508\n",
      "7       479\n",
      "27      402\n",
      "20      150\n",
      "16       25\n",
      "23       14\n",
      "179       8\n",
      "96        4\n",
      "4         1\n",
      "dtype: int64\n",
      "0.7102888229214319\n",
      "\n",
      "\n",
      "3\n",
      "14     1942\n",
      "1      1502\n",
      "3       963\n",
      "23      434\n",
      "96      407\n",
      "5       111\n",
      "0        93\n",
      "179      38\n",
      "20       27\n",
      "7        15\n",
      "25        2\n",
      "dtype: int64\n",
      "0.6465288911210598\n",
      "\n",
      "\n",
      "0\n",
      "20    80\n",
      "0     12\n",
      "1      3\n",
      "7      3\n",
      "27     1\n",
      "dtype: int64\n",
      "0.17280007831188934\n",
      "\n",
      "\n"
     ]
    }
   ],
   "source": [
    "for i in pd.Series(predictions).unique():\n",
    "    print(i)\n",
    "    keys=pd.Series(y_test.tolist())[list(pd.Series(predictions).loc[lambda x : x == i].index)].value_counts().keys().to_list()\n",
    "    cnts=pd.Series(y_test.tolist())[list(pd.Series(predictions).loc[lambda x : x == i].index)].value_counts().to_list()\n",
    "    print(pd.Series(y_test.tolist())[list(pd.Series(predictions).loc[lambda x : x == i].index)].value_counts())\n",
    "    actual=np.array(pd.Series(y_test.tolist())[list(pd.Series(predictions).loc[lambda x : x == i].index)].to_list())\n",
    "#     most_common=list(keys[0]*np.ones(len(actual), dtype=np.int8))\n",
    "#     print(actual)\n",
    "#     print(most_common)\n",
    "    print(gini(actual))\n",
    "    print('\\n')"
   ]
  },
  {
   "cell_type": "markdown",
   "id": "b8bad8b6",
   "metadata": {},
   "source": [
    "# Check the resuts"
   ]
  },
  {
   "cell_type": "code",
   "execution_count": 74,
   "id": "d9434a51",
   "metadata": {
    "scrolled": true
   },
   "outputs": [
    {
     "name": "stdout",
     "output_type": "stream",
     "text": [
      "              precision    recall  f1-score   support\n",
      "\n",
      "           0       0.92      0.18      0.31     28879\n",
      "           1       0.92      0.28      0.43     20959\n",
      "           3       0.53      0.52      0.53      6138\n",
      "           4       0.33      0.37      0.35      4541\n",
      "           5       0.00      0.00      0.00      1416\n",
      "           7       0.32      0.56      0.41      2919\n",
      "          11       0.10      0.50      0.16      1134\n",
      "          14       0.35      0.71      0.47      2736\n",
      "          16       0.03      0.11      0.04      1111\n",
      "          20       0.15      0.45      0.23      1556\n",
      "          23       0.00      0.01      0.01      1818\n",
      "          25       0.33      0.63      0.43      2961\n",
      "          27       0.10      0.23      0.14      2796\n",
      "          31       0.12      0.51      0.19      1645\n",
      "          96       0.09      0.44      0.16      1208\n",
      "         179       0.04      0.21      0.07      1196\n",
      "\n",
      "    accuracy                           0.30     83013\n",
      "   macro avg       0.27      0.36      0.25     83013\n",
      "weighted avg       0.66      0.30      0.34     83013\n",
      "\n"
     ]
    }
   ],
   "source": [
    "print(classification_report(y_test,predictions_fix))"
   ]
  },
  {
   "cell_type": "code",
   "execution_count": 75,
   "id": "c488939a",
   "metadata": {},
   "outputs": [
    {
     "data": {
      "text/plain": [
       "0.33821084741124696"
      ]
     },
     "execution_count": 75,
     "metadata": {},
     "output_type": "execute_result"
    }
   ],
   "source": [
    "score = f1_score(y_test, predictions_fix, average='weighted')\n",
    "score"
   ]
  },
  {
   "cell_type": "code",
   "execution_count": 76,
   "id": "d63d4faf",
   "metadata": {},
   "outputs": [
    {
     "data": {
      "text/plain": [
       "0.30381988363268403"
      ]
     },
     "execution_count": 76,
     "metadata": {},
     "output_type": "execute_result"
    }
   ],
   "source": [
    "accuracy_score(y_test, predictions_fix)"
   ]
  },
  {
   "cell_type": "code",
   "execution_count": 77,
   "id": "c747e073",
   "metadata": {},
   "outputs": [
    {
     "data": {
      "text/plain": [
       "0.24503999567303641"
      ]
     },
     "execution_count": 77,
     "metadata": {},
     "output_type": "execute_result"
    }
   ],
   "source": [
    "f1_score(y_test, predictions_fix, average='macro')"
   ]
  },
  {
   "cell_type": "code",
   "execution_count": 93,
   "id": "97310b21",
   "metadata": {},
   "outputs": [
    {
     "data": {
      "image/png": "[encoded data removed]",
      "text/plain": [
       "<Figure size 1000x1000 with 2 Axes>"
      ]
     },
     "metadata": {},
     "output_type": "display_data"
    }
   ],
   "source": [
    "f, ax = plt.subplots(figsize=(10,10))\n",
    "cm = confusion_matrix(y_test, predictions_fix, labels=y_test.unique())\n",
    "disp = ConfusionMatrixDisplay.from_predictions(y_test, predictions_fix, display_labels=y_test.unique(), ax=ax)"
   ]
  },
  {
   "cell_type": "markdown",
   "id": "a9406568",
   "metadata": {},
   "source": [
    "# Somoclu"
   ]
  },
  {
   "cell_type": "code",
   "execution_count": 34,
   "id": "1cc498ce",
   "metadata": {},
   "outputs": [],
   "source": [
    "import somoclu\n",
    "from mpl_toolkits.mplot3d import Axes3D\n"
   ]
  },
  {
   "cell_type": "markdown",
   "id": "c49346eb",
   "metadata": {},
   "source": [
    "# Optimize hiperparameters"
   ]
  },
  {
   "cell_type": "code",
   "execution_count": 84,
   "id": "dbeb66cb",
   "metadata": {},
   "outputs": [
    {
     "name": "stderr",
     "output_type": "stream",
     "text": [
      "[I 2023-07-27 01:31:01,141] A new study created in memory with name: no-name-a6d22e35-06d5-4d7d-8ce6-4f1724770a43\n",
      "[I 2023-07-27 01:31:05,900] Trial 0 finished with value: 0.21006933994746213 and parameters: {'gridtype': 'rectangular', 'std_coeff': 0.01517310653130157, 'initialization': 'pca'}. Best is trial 0 with value: 0.21006933994746213.\n",
      "[I 2023-07-27 01:31:09,510] Trial 1 finished with value: 0.2506232198413363 and parameters: {'gridtype': 'rectangular', 'std_coeff': 0.2671509618739662, 'initialization': 'random'}. Best is trial 1 with value: 0.2506232198413363.\n",
      "[I 2023-07-27 01:31:13,565] Trial 2 finished with value: 0.25639560058928396 and parameters: {'gridtype': 'hexagonal', 'std_coeff': 0.310183498671109, 'initialization': 'pca'}. Best is trial 2 with value: 0.25639560058928396.\n",
      "[I 2023-07-27 01:31:17,337] Trial 3 finished with value: 0.17802527058642323 and parameters: {'gridtype': 'rectangular', 'std_coeff': 1.372401552964429, 'initialization': 'random'}. Best is trial 2 with value: 0.25639560058928396.\n",
      "[I 2023-07-27 01:31:22,373] Trial 4 finished with value: 0.19876200255021792 and parameters: {'gridtype': 'rectangular', 'std_coeff': 2.8048643338534904, 'initialization': None}. Best is trial 2 with value: 0.25639560058928396.\n",
      "[I 2023-07-27 01:31:27,896] Trial 5 finished with value: 0.18336631998433106 and parameters: {'gridtype': 'hexagonal', 'std_coeff': 0.011624474013883534, 'initialization': 'random'}. Best is trial 2 with value: 0.25639560058928396.\n",
      "[I 2023-07-27 01:31:36,197] Trial 6 finished with value: 0.23834063015030746 and parameters: {'gridtype': 'rectangular', 'std_coeff': 0.03695533998236495, 'initialization': 'pca'}. Best is trial 2 with value: 0.25639560058928396.\n",
      "[I 2023-07-27 01:31:41,488] Trial 7 finished with value: 0.19594592148959483 and parameters: {'gridtype': 'rectangular', 'std_coeff': 0.10751931640093453, 'initialization': None}. Best is trial 2 with value: 0.25639560058928396.\n",
      "[I 2023-07-27 01:31:47,350] Trial 8 finished with value: 0.25104590992279974 and parameters: {'gridtype': 'hexagonal', 'std_coeff': 0.25273511064205373, 'initialization': 'pca'}. Best is trial 2 with value: 0.25639560058928396.\n",
      "[I 2023-07-27 01:31:53,460] Trial 9 finished with value: 0.21545016330755867 and parameters: {'gridtype': 'hexagonal', 'std_coeff': 0.128845374311389, 'initialization': 'pca'}. Best is trial 2 with value: 0.25639560058928396.\n",
      "[I 2023-07-27 01:31:59,377] Trial 10 finished with value: 0.23151133132590068 and parameters: {'gridtype': 'hexagonal', 'std_coeff': 0.5754936305805813, 'initialization': 'pca'}. Best is trial 2 with value: 0.25639560058928396.\n",
      "[I 2023-07-27 01:32:05,177] Trial 11 finished with value: 0.25406713456641483 and parameters: {'gridtype': 'hexagonal', 'std_coeff': 0.42104547255417524, 'initialization': 'pca'}. Best is trial 2 with value: 0.25639560058928396.\n",
      "[I 2023-07-27 01:32:11,315] Trial 12 finished with value: 0.23077457082288663 and parameters: {'gridtype': 'hexagonal', 'std_coeff': 0.5803046423277565, 'initialization': 'pca'}. Best is trial 2 with value: 0.25639560058928396.\n",
      "[I 2023-07-27 01:32:17,579] Trial 13 finished with value: 0.24312505696134634 and parameters: {'gridtype': 'hexagonal', 'std_coeff': 0.4734729958486137, 'initialization': 'pca'}. Best is trial 2 with value: 0.25639560058928396.\n",
      "[I 2023-07-27 01:32:23,101] Trial 14 finished with value: 0.18139909278690391 and parameters: {'gridtype': 'hexagonal', 'std_coeff': 0.09028671355087682, 'initialization': None}. Best is trial 2 with value: 0.25639560058928396.\n",
      "[I 2023-07-27 01:32:29,069] Trial 15 finished with value: 0.20950745801272322 and parameters: {'gridtype': 'hexagonal', 'std_coeff': 0.8267490020625814, 'initialization': 'pca'}. Best is trial 2 with value: 0.25639560058928396.\n",
      "[I 2023-07-27 01:32:34,740] Trial 16 finished with value: 0.26314054211922644 and parameters: {'gridtype': 'hexagonal', 'std_coeff': 0.2395943166692868, 'initialization': 'pca'}. Best is trial 16 with value: 0.26314054211922644.\n",
      "[I 2023-07-27 01:32:41,318] Trial 17 finished with value: 0.23451087969261156 and parameters: {'gridtype': 'hexagonal', 'std_coeff': 0.1809658568949514, 'initialization': 'pca'}. Best is trial 16 with value: 0.26314054211922644.\n",
      "[I 2023-07-27 01:32:49,094] Trial 18 finished with value: 0.2570204222775041 and parameters: {'gridtype': 'hexagonal', 'std_coeff': 0.06844451529743782, 'initialization': 'random'}. Best is trial 16 with value: 0.26314054211922644.\n",
      "[I 2023-07-27 01:32:57,304] Trial 19 finished with value: 0.23763422822105093 and parameters: {'gridtype': 'hexagonal', 'std_coeff': 0.05995817578600909, 'initialization': 'random'}. Best is trial 16 with value: 0.26314054211922644.\n",
      "[I 2023-07-27 01:33:02,341] Trial 20 finished with value: 0.21518135807857214 and parameters: {'gridtype': 'hexagonal', 'std_coeff': 0.030638479159089786, 'initialization': 'random'}. Best is trial 16 with value: 0.26314054211922644.\n",
      "[I 2023-07-27 01:33:07,614] Trial 21 finished with value: 0.2636652729714922 and parameters: {'gridtype': 'hexagonal', 'std_coeff': 0.1860124279819752, 'initialization': 'random'}. Best is trial 21 with value: 0.2636652729714922.\n",
      "[I 2023-07-27 01:33:12,705] Trial 22 finished with value: 0.24044189317524203 and parameters: {'gridtype': 'hexagonal', 'std_coeff': 0.1662621720382259, 'initialization': 'random'}. Best is trial 21 with value: 0.2636652729714922.\n",
      "[I 2023-07-27 01:33:19,097] Trial 23 finished with value: 0.2412144066579346 and parameters: {'gridtype': 'hexagonal', 'std_coeff': 0.06968218666479524, 'initialization': 'random'}. Best is trial 21 with value: 0.2636652729714922.\n",
      "[I 2023-07-27 01:33:24,746] Trial 24 finished with value: 0.2878121799258846 and parameters: {'gridtype': 'hexagonal', 'std_coeff': 0.17366435985004622, 'initialization': 'random'}. Best is trial 24 with value: 0.2878121799258846.\n",
      "[I 2023-07-27 01:33:29,949] Trial 25 finished with value: 0.22978996703129242 and parameters: {'gridtype': 'hexagonal', 'std_coeff': 0.16196776892372214, 'initialization': 'random'}. Best is trial 24 with value: 0.2878121799258846.\n",
      "[I 2023-07-27 01:33:35,511] Trial 26 finished with value: 0.23211777098876096 and parameters: {'gridtype': 'hexagonal', 'std_coeff': 0.22730203227885656, 'initialization': 'random'}. Best is trial 24 with value: 0.2878121799258846.\n",
      "[I 2023-07-27 01:33:41,017] Trial 27 finished with value: 0.2134363184168404 and parameters: {'gridtype': 'hexagonal', 'std_coeff': 0.1321458854203797, 'initialization': None}. Best is trial 24 with value: 0.2878121799258846.\n",
      "[I 2023-07-27 01:33:47,159] Trial 28 finished with value: 0.2257881465879412 and parameters: {'gridtype': 'hexagonal', 'std_coeff': 0.35022836396727397, 'initialization': 'random'}. Best is trial 24 with value: 0.2878121799258846.\n",
      "[I 2023-07-27 01:33:52,099] Trial 29 finished with value: 0.24959894073877106 and parameters: {'gridtype': 'rectangular', 'std_coeff': 0.29838721040304794, 'initialization': 'random'}. Best is trial 24 with value: 0.2878121799258846.\n",
      "[I 2023-07-27 01:33:57,529] Trial 30 finished with value: 0.24776649816433466 and parameters: {'gridtype': 'hexagonal', 'std_coeff': 0.1986144159837904, 'initialization': None}. Best is trial 24 with value: 0.2878121799258846.\n",
      "[I 2023-07-27 01:34:02,335] Trial 31 finished with value: 0.20241550095991712 and parameters: {'gridtype': 'hexagonal', 'std_coeff': 0.09188817926271226, 'initialization': 'random'}. Best is trial 24 with value: 0.2878121799258846.\n",
      "[I 2023-07-27 01:34:10,487] Trial 32 finished with value: 0.22289269564764766 and parameters: {'gridtype': 'hexagonal', 'std_coeff': 0.0644722475464273, 'initialization': 'random'}. Best is trial 24 with value: 0.2878121799258846.\n",
      "[I 2023-07-27 01:34:16,143] Trial 33 finished with value: 0.2505704674196345 and parameters: {'gridtype': 'hexagonal', 'std_coeff': 0.23954572834990093, 'initialization': 'random'}. Best is trial 24 with value: 0.2878121799258846.\n",
      "[I 2023-07-27 01:34:21,128] Trial 34 finished with value: 0.24407551940610836 and parameters: {'gridtype': 'rectangular', 'std_coeff': 0.12964463182154917, 'initialization': 'random'}. Best is trial 24 with value: 0.2878121799258846.\n",
      "[I 2023-07-27 01:34:27,008] Trial 35 finished with value: 0.26180911877561586 and parameters: {'gridtype': 'hexagonal', 'std_coeff': 0.3071408548340489, 'initialization': 'random'}. Best is trial 24 with value: 0.2878121799258846.\n"
     ]
    },
    {
     "name": "stderr",
     "output_type": "stream",
     "text": [
      "[I 2023-07-27 01:34:33,215] Trial 36 finished with value: 0.2360868183555332 and parameters: {'gridtype': 'hexagonal', 'std_coeff': 0.3205660656231137, 'initialization': 'random'}. Best is trial 24 with value: 0.2878121799258846.\n",
      "[I 2023-07-27 01:34:38,924] Trial 37 finished with value: 0.2586471759612799 and parameters: {'gridtype': 'rectangular', 'std_coeff': 0.22315286851330554, 'initialization': 'random'}. Best is trial 24 with value: 0.2878121799258846.\n",
      "[I 2023-07-27 01:34:44,554] Trial 38 finished with value: 0.23682165130439736 and parameters: {'gridtype': 'hexagonal', 'std_coeff': 0.3855407201427996, 'initialization': 'random'}. Best is trial 24 with value: 0.2878121799258846.\n",
      "[I 2023-07-27 01:34:50,312] Trial 39 finished with value: 0.25115609698728514 and parameters: {'gridtype': 'rectangular', 'std_coeff': 0.2864057777232352, 'initialization': None}. Best is trial 24 with value: 0.2878121799258846.\n",
      "[I 2023-07-27 01:34:56,501] Trial 40 finished with value: 0.21365716947678592 and parameters: {'gridtype': 'hexagonal', 'std_coeff': 0.7905903164027013, 'initialization': 'pca'}. Best is trial 24 with value: 0.2878121799258846.\n",
      "[I 2023-07-27 01:35:02,065] Trial 41 finished with value: 0.2570388421749502 and parameters: {'gridtype': 'rectangular', 'std_coeff': 0.2087084528135778, 'initialization': 'random'}. Best is trial 24 with value: 0.2878121799258846.\n",
      "[I 2023-07-27 01:35:07,739] Trial 42 finished with value: 0.260864016381828 and parameters: {'gridtype': 'rectangular', 'std_coeff': 0.2701245229961255, 'initialization': 'random'}. Best is trial 24 with value: 0.2878121799258846.\n",
      "[I 2023-07-27 01:35:13,272] Trial 43 finished with value: 0.2551523184834613 and parameters: {'gridtype': 'rectangular', 'std_coeff': 0.15502358844689207, 'initialization': 'random'}. Best is trial 24 with value: 0.2878121799258846.\n",
      "[I 2023-07-27 01:35:18,394] Trial 44 finished with value: 0.22113672064405399 and parameters: {'gridtype': 'rectangular', 'std_coeff': 0.28705665994710233, 'initialization': 'random'}. Best is trial 24 with value: 0.2878121799258846.\n",
      "[I 2023-07-27 01:35:23,925] Trial 45 finished with value: 0.22800442306436378 and parameters: {'gridtype': 'rectangular', 'std_coeff': 0.4423651434110298, 'initialization': 'random'}. Best is trial 24 with value: 0.2878121799258846.\n",
      "[I 2023-07-27 01:35:29,435] Trial 46 finished with value: 0.24689429316702557 and parameters: {'gridtype': 'rectangular', 'std_coeff': 0.19076820963096214, 'initialization': 'pca'}. Best is trial 24 with value: 0.2878121799258846.\n",
      "[I 2023-07-27 01:35:34,538] Trial 47 finished with value: 0.2705101505908215 and parameters: {'gridtype': 'hexagonal', 'std_coeff': 0.2615996459418685, 'initialization': 'random'}. Best is trial 24 with value: 0.2878121799258846.\n",
      "[I 2023-07-27 01:35:40,624] Trial 48 finished with value: 0.2544695876048245 and parameters: {'gridtype': 'hexagonal', 'std_coeff': 0.37706113698639704, 'initialization': 'pca'}. Best is trial 24 with value: 0.2878121799258846.\n",
      "[I 2023-07-27 01:35:45,767] Trial 49 finished with value: 0.20780138663049838 and parameters: {'gridtype': 'hexagonal', 'std_coeff': 0.11729500514101629, 'initialization': None}. Best is trial 24 with value: 0.2878121799258846.\n",
      "[I 2023-07-27 01:35:51,497] Trial 50 finished with value: 0.23504012550546144 and parameters: {'gridtype': 'hexagonal', 'std_coeff': 0.5308572150190289, 'initialization': 'pca'}. Best is trial 24 with value: 0.2878121799258846.\n",
      "[I 2023-07-27 01:35:56,787] Trial 51 finished with value: 0.25751286431400927 and parameters: {'gridtype': 'hexagonal', 'std_coeff': 0.2666931596641806, 'initialization': 'random'}. Best is trial 24 with value: 0.2878121799258846.\n",
      "[I 2023-07-27 01:36:01,914] Trial 52 finished with value: 0.24702011133459603 and parameters: {'gridtype': 'hexagonal', 'std_coeff': 0.33880523223107456, 'initialization': 'random'}. Best is trial 24 with value: 0.2878121799258846.\n",
      "[I 2023-07-27 01:36:07,126] Trial 53 finished with value: 0.2683878139277245 and parameters: {'gridtype': 'hexagonal', 'std_coeff': 0.14875200843237088, 'initialization': 'random'}. Best is trial 24 with value: 0.2878121799258846.\n",
      "[I 2023-07-27 01:36:12,629] Trial 54 finished with value: 0.2713748932783161 and parameters: {'gridtype': 'hexagonal', 'std_coeff': 0.1652450207532662, 'initialization': 'random'}. Best is trial 24 with value: 0.2878121799258846.\n",
      "[I 2023-07-27 01:36:18,302] Trial 55 finished with value: 0.25403365859988025 and parameters: {'gridtype': 'hexagonal', 'std_coeff': 0.14861269508703898, 'initialization': 'random'}. Best is trial 24 with value: 0.2878121799258846.\n",
      "[I 2023-07-27 01:36:23,956] Trial 56 finished with value: 0.24667165371438493 and parameters: {'gridtype': 'hexagonal', 'std_coeff': 0.16866081921211357, 'initialization': 'random'}. Best is trial 24 with value: 0.2878121799258846.\n",
      "[I 2023-07-27 01:36:30,036] Trial 57 finished with value: 0.22496683012095092 and parameters: {'gridtype': 'hexagonal', 'std_coeff': 0.11168035102245956, 'initialization': 'pca'}. Best is trial 24 with value: 0.2878121799258846.\n",
      "[I 2023-07-27 01:36:35,657] Trial 58 finished with value: 0.22797598927284074 and parameters: {'gridtype': 'hexagonal', 'std_coeff': 0.0944077536866478, 'initialization': 'random'}. Best is trial 24 with value: 0.2878121799258846.\n",
      "[I 2023-07-27 01:36:41,177] Trial 59 finished with value: 0.2563927998818445 and parameters: {'gridtype': 'hexagonal', 'std_coeff': 0.19721452303367334, 'initialization': 'random'}. Best is trial 24 with value: 0.2878121799258846.\n",
      "[I 2023-07-27 01:36:47,328] Trial 60 finished with value: 0.2200308919418414 and parameters: {'gridtype': 'hexagonal', 'std_coeff': 0.136541257127327, 'initialization': 'pca'}. Best is trial 24 with value: 0.2878121799258846.\n",
      "[I 2023-07-27 01:36:52,885] Trial 61 finished with value: 0.2384616537239867 and parameters: {'gridtype': 'hexagonal', 'std_coeff': 0.16767406056176704, 'initialization': 'random'}. Best is trial 24 with value: 0.2878121799258846.\n",
      "[I 2023-07-27 01:36:58,395] Trial 62 finished with value: 0.2610221658400057 and parameters: {'gridtype': 'hexagonal', 'std_coeff': 0.24727795257340565, 'initialization': 'random'}. Best is trial 24 with value: 0.2878121799258846.\n",
      "[I 2023-07-27 01:37:03,592] Trial 63 finished with value: 0.26259265244759544 and parameters: {'gridtype': 'hexagonal', 'std_coeff': 0.21762390987659996, 'initialization': 'random'}. Best is trial 24 with value: 0.2878121799258846.\n",
      "[I 2023-07-27 01:37:08,742] Trial 64 finished with value: 0.2505508082020257 and parameters: {'gridtype': 'hexagonal', 'std_coeff': 0.22265419577859863, 'initialization': 'random'}. Best is trial 24 with value: 0.2878121799258846.\n",
      "[I 2023-07-27 01:37:14,066] Trial 65 finished with value: 0.2510256971554256 and parameters: {'gridtype': 'hexagonal', 'std_coeff': 0.18220006609385755, 'initialization': 'random'}. Best is trial 24 with value: 0.2878121799258846.\n",
      "[I 2023-07-27 01:37:19,448] Trial 66 finished with value: 0.2259655657514636 and parameters: {'gridtype': 'hexagonal', 'std_coeff': 0.142405913367458, 'initialization': None}. Best is trial 24 with value: 0.2878121799258846.\n",
      "[I 2023-07-27 01:37:24,392] Trial 67 finished with value: 0.21382009114723877 and parameters: {'gridtype': 'hexagonal', 'std_coeff': 0.10332069541970718, 'initialization': 'random'}. Best is trial 24 with value: 0.2878121799258846.\n",
      "[I 2023-07-27 01:37:29,689] Trial 68 finished with value: 0.2612938587899723 and parameters: {'gridtype': 'hexagonal', 'std_coeff': 0.12805750080425266, 'initialization': 'random'}. Best is trial 24 with value: 0.2878121799258846.\n",
      "[I 2023-07-27 01:37:37,163] Trial 69 finished with value: 0.23175060427968114 and parameters: {'gridtype': 'hexagonal', 'std_coeff': 0.0773168519295431, 'initialization': 'random'}. Best is trial 24 with value: 0.2878121799258846.\n",
      "[I 2023-07-27 01:37:44,294] Trial 70 finished with value: 0.26330933033263776 and parameters: {'gridtype': 'hexagonal', 'std_coeff': 0.23286672936680322, 'initialization': 'pca'}. Best is trial 24 with value: 0.2878121799258846.\n",
      "[I 2023-07-27 01:37:51,320] Trial 71 finished with value: 0.26776380322423776 and parameters: {'gridtype': 'hexagonal', 'std_coeff': 0.23860756395987812, 'initialization': 'pca'}. Best is trial 24 with value: 0.2878121799258846.\n"
     ]
    },
    {
     "name": "stderr",
     "output_type": "stream",
     "text": [
      "[I 2023-07-27 01:37:58,154] Trial 72 finished with value: 0.2146771856446098 and parameters: {'gridtype': 'hexagonal', 'std_coeff': 0.18579784770651536, 'initialization': 'pca'}. Best is trial 24 with value: 0.2878121799258846.\n",
      "[I 2023-07-27 01:38:05,394] Trial 73 finished with value: 0.2473390792079113 and parameters: {'gridtype': 'hexagonal', 'std_coeff': 0.25155640312987043, 'initialization': 'pca'}. Best is trial 24 with value: 0.2878121799258846.\n",
      "[I 2023-07-27 01:38:12,416] Trial 74 finished with value: 0.2602489358704115 and parameters: {'gridtype': 'hexagonal', 'std_coeff': 0.33253662723603583, 'initialization': 'pca'}. Best is trial 24 with value: 0.2878121799258846.\n",
      "[I 2023-07-27 01:38:18,174] Trial 75 finished with value: 0.24956570963484193 and parameters: {'gridtype': 'hexagonal', 'std_coeff': 0.24380904643136242, 'initialization': 'pca'}. Best is trial 24 with value: 0.2878121799258846.\n",
      "[I 2023-07-27 01:38:24,278] Trial 76 finished with value: 0.21368554371715198 and parameters: {'gridtype': 'hexagonal', 'std_coeff': 0.16417069298432763, 'initialization': 'pca'}. Best is trial 24 with value: 0.2878121799258846.\n",
      "[I 2023-07-27 01:38:30,274] Trial 77 finished with value: 0.2148201641608121 and parameters: {'gridtype': 'hexagonal', 'std_coeff': 0.14898125114632446, 'initialization': 'pca'}. Best is trial 24 with value: 0.2878121799258846.\n",
      "[I 2023-07-27 01:38:35,779] Trial 78 finished with value: 0.27570363393408476 and parameters: {'gridtype': 'hexagonal', 'std_coeff': 0.21283813190329243, 'initialization': 'pca'}. Best is trial 24 with value: 0.2878121799258846.\n",
      "[I 2023-07-27 01:38:41,510] Trial 79 finished with value: 0.2439225821428575 and parameters: {'gridtype': 'hexagonal', 'std_coeff': 0.20450426383084966, 'initialization': 'pca'}. Best is trial 24 with value: 0.2878121799258846.\n",
      "[I 2023-07-27 01:38:47,447] Trial 80 finished with value: 0.2538682190403686 and parameters: {'gridtype': 'hexagonal', 'std_coeff': 0.3050969594553432, 'initialization': 'pca'}. Best is trial 24 with value: 0.2878121799258846.\n",
      "[I 2023-07-27 01:38:53,538] Trial 81 finished with value: 0.2558681955145742 and parameters: {'gridtype': 'hexagonal', 'std_coeff': 0.3844970149554712, 'initialization': 'pca'}. Best is trial 24 with value: 0.2878121799258846.\n",
      "[I 2023-07-27 01:38:59,348] Trial 82 finished with value: 0.2160555881129805 and parameters: {'gridtype': 'hexagonal', 'std_coeff': 0.11714142363834053, 'initialization': 'pca'}. Best is trial 24 with value: 0.2878121799258846.\n",
      "[I 2023-07-27 01:39:05,248] Trial 83 finished with value: 0.25489492787831797 and parameters: {'gridtype': 'hexagonal', 'std_coeff': 0.264318080643732, 'initialization': 'pca'}. Best is trial 24 with value: 0.2878121799258846.\n",
      "[I 2023-07-27 01:39:11,022] Trial 84 finished with value: 0.26145387231613226 and parameters: {'gridtype': 'hexagonal', 'std_coeff': 0.21649292954990068, 'initialization': 'pca'}. Best is trial 24 with value: 0.2878121799258846.\n",
      "[I 2023-07-27 01:39:16,973] Trial 85 finished with value: 0.23800903734702455 and parameters: {'gridtype': 'hexagonal', 'std_coeff': 0.1827629444660716, 'initialization': 'pca'}. Best is trial 24 with value: 0.2878121799258846.\n",
      "[I 2023-07-27 01:39:22,465] Trial 86 finished with value: 0.22492509110957704 and parameters: {'gridtype': 'hexagonal', 'std_coeff': 0.4473822267478233, 'initialization': None}. Best is trial 24 with value: 0.2878121799258846.\n",
      "[I 2023-07-27 01:39:28,127] Trial 87 finished with value: 0.2107872449084382 and parameters: {'gridtype': 'hexagonal', 'std_coeff': 0.15435795849269435, 'initialization': 'pca'}. Best is trial 24 with value: 0.2878121799258846.\n",
      "[I 2023-07-27 01:39:33,722] Trial 88 finished with value: 0.27151528162485045 and parameters: {'gridtype': 'hexagonal', 'std_coeff': 0.29996149218939216, 'initialization': 'pca'}. Best is trial 24 with value: 0.2878121799258846.\n",
      "[I 2023-07-27 01:39:39,477] Trial 89 finished with value: 0.2686499790647114 and parameters: {'gridtype': 'hexagonal', 'std_coeff': 0.28979426080579607, 'initialization': 'pca'}. Best is trial 24 with value: 0.2878121799258846.\n",
      "[I 2023-07-27 01:39:44,648] Trial 90 finished with value: 0.2395889224938273 and parameters: {'gridtype': 'hexagonal', 'std_coeff': 0.34629353943372604, 'initialization': 'random'}. Best is trial 24 with value: 0.2878121799258846.\n",
      "[I 2023-07-27 01:39:50,320] Trial 91 finished with value: 0.2488054176535583 and parameters: {'gridtype': 'hexagonal', 'std_coeff': 0.27283194457863824, 'initialization': 'pca'}. Best is trial 24 with value: 0.2878121799258846.\n",
      "[I 2023-07-27 01:39:56,154] Trial 92 finished with value: 0.2685897600063487 and parameters: {'gridtype': 'hexagonal', 'std_coeff': 0.30420841434614554, 'initialization': 'pca'}. Best is trial 24 with value: 0.2878121799258846.\n",
      "[I 2023-07-27 01:40:02,052] Trial 93 finished with value: 0.25351235168638736 and parameters: {'gridtype': 'hexagonal', 'std_coeff': 0.3100800333932234, 'initialization': 'pca'}. Best is trial 24 with value: 0.2878121799258846.\n",
      "[I 2023-07-27 01:40:07,838] Trial 94 finished with value: 0.25325020626643036 and parameters: {'gridtype': 'hexagonal', 'std_coeff': 0.4119399417892608, 'initialization': 'pca'}. Best is trial 24 with value: 0.2878121799258846.\n",
      "[I 2023-07-27 01:40:13,885] Trial 95 finished with value: 0.2614532068749942 and parameters: {'gridtype': 'hexagonal', 'std_coeff': 0.199912474677357, 'initialization': 'pca'}. Best is trial 24 with value: 0.2878121799258846.\n",
      "[I 2023-07-27 01:40:19,266] Trial 96 finished with value: 0.21429332682844687 and parameters: {'gridtype': 'hexagonal', 'std_coeff': 0.28479835930972763, 'initialization': 'random'}. Best is trial 24 with value: 0.2878121799258846.\n",
      "[I 2023-07-27 01:40:25,341] Trial 97 finished with value: 0.2599793098268621 and parameters: {'gridtype': 'hexagonal', 'std_coeff': 0.34004617493467915, 'initialization': 'pca'}. Best is trial 24 with value: 0.2878121799258846.\n",
      "[I 2023-07-27 01:40:30,553] Trial 98 finished with value: 0.2725886742564959 and parameters: {'gridtype': 'hexagonal', 'std_coeff': 0.1301903729104671, 'initialization': 'random'}. Best is trial 24 with value: 0.2878121799258846.\n",
      "[I 2023-07-27 01:40:35,734] Trial 99 finished with value: 0.2469236452257586 and parameters: {'gridtype': 'hexagonal', 'std_coeff': 0.1258476117432254, 'initialization': None}. Best is trial 24 with value: 0.2878121799258846.\n"
     ]
    }
   ],
   "source": [
    "def objective2(trial):\n",
    "    # 2. Suggest values of the hyperparameters using a trial object.\n",
    "    param = {\n",
    "        'n_columns': 4,\n",
    "        'n_rows': 4,\n",
    "        'initialcodebook': None,\n",
    "        'kerneltype': 0, \n",
    "        'maptype': \"planar\",\n",
    "        'gridtype': trial.suggest_categorical(\"gridtype\", [\"rectangular\", \"hexagonal\"]), \n",
    "        'compactsupport': True, \n",
    "        'neighborhood': \"gaussian\",\n",
    "        'std_coeff': trial.suggest_float('std_coeff', 1e-2, 3, log=True),\n",
    "        'initialization': trial.suggest_categorical(\"initialization\", [\"random\", \"pca\", None]),  \n",
    "        'verbose': 0, # trial.suggest_categorical(\"verbose\", [0, 1, 2]),  \n",
    "    }\n",
    "    \n",
    "    param2 = {\n",
    "        'epochs': trial.suggest_int('epochs', 10, 100, log=True),\n",
    "        'radius0': trial.suggest_float('radius0', 0, 5000, log=True),\n",
    "        'radiusN': 1,\n",
    "        'radiuscooling': trial.suggest_categorical(\"radiuscooling\", [\"linear\", \"expotential\"]),\n",
    "        'scale0': trial.suggest_float('lr', 1e-2, 1, log=True),\n",
    "        'scaleN': trial.suggest_float('lr', 1e-3, 1e-1, log=True),,\n",
    "        'scalecooling': trial.suggest_categorical(\"scalecooling\", [\"linear\", \"expotential\"]),\n",
    "    }\n",
    "    \n",
    "    def get_labels(som2):\n",
    "        grid_labels = [tuple(grid_label) for grid_label in som2.bmus]\n",
    "        unique_labels = [\n",
    "            tuple(grid_label) for grid_label in np.unique(grid_labels, axis=0)\n",
    "        ]\n",
    "        # Generate mapping\n",
    "        labels_mapping = {\n",
    "            grid_label: cluster_label\n",
    "            for grid_label, cluster_label in zip(\n",
    "                unique_labels, range(len(unique_labels))\n",
    "            )\n",
    "        }\n",
    "        labels = np.array(\n",
    "            [labels_mapping[grid_label] for grid_label in grid_labels]\n",
    "        )\n",
    "        predictions2=pd.Series(labels)\n",
    "        return predictions2\n",
    "\n",
    "    som2 = somoclu.Somoclu(**param)\n",
    "    som2.train(np.float32(x_train.to_numpy()), **param2)\n",
    "    som2.train(np.float32(x_test.to_numpy()), **param2)\n",
    "    predictions2 = get_labels(som2)\n",
    "    classes_mapping2=map_class(predictions2)\n",
    "    predictions_fix2 = predictions2.copy()\n",
    "    for index, row in classes_mapping2.iterrows():\n",
    "        predictions_fix2[predictions2==classes_mapping2.at[index, 'som']]=classes_mapping2.at[index, 'best_classes']\n",
    "    score = f1_score(y_test, predictions_fix2, average='macro')\n",
    "    return score\n",
    "\n",
    "# 3. Create a study object and optimize the objective function.\n",
    "\n",
    "sampler2 = TPESampler(seed=10)  # Make the sampler behave in a deterministic way.\n",
    "study2 = optuna.create_study(sampler=sampler2, direction='maximize')\n",
    "study2.optimize(objective2, n_trials=100)"
   ]
  },
  {
   "cell_type": "markdown",
   "id": "5843d855",
   "metadata": {},
   "source": [
    "# Train model"
   ]
  },
  {
   "cell_type": "code",
   "execution_count": 35,
   "id": "a0eebd1a",
   "metadata": {},
   "outputs": [
    {
     "name": "stdout",
     "output_type": "stream",
     "text": [
      "CPU times: user 14.3 s, sys: 120 ms, total: 14.5 s\n",
      "Wall time: 2.42 s\n"
     ]
    }
   ],
   "source": [
    "# som2 = load('som2_big.joblib')\n",
    "# {'gridtype': 'rectangular', 'std_coeff': 0.012281063564056477, 'initialization': None, 'verbose': 2}\n",
    "# {'gridtype': 'rectangular', 'std_coeff': 0.3928668000921264, 'initialization': 'pca'}\n",
    "# {'gridtype': 'rectangular', 'std_coeff': 0.3241248621288222, 'initialization': 'pca'}\n",
    "# {'gridtype': 'hexagonal', 'std_coeff': 0.17366435985004622, 'initialization': 'random'}\n",
    "som2 = somoclu.Somoclu(4, 4, initialcodebook=None, kerneltype=0, maptype=\"planar\", gridtype='hexagonal', std_coeff=0.17366435985004622, initialization='random', verbose=0)\n",
    "%time som2.train(np.float32(x_train.to_numpy()), epochs=10)\n",
    "# dump(som, 'som2_big.joblib') "
   ]
  },
  {
   "cell_type": "markdown",
   "id": "a0679e1b",
   "metadata": {},
   "source": [
    "# Predict"
   ]
  },
  {
   "cell_type": "code",
   "execution_count": 36,
   "id": "60b8654e",
   "metadata": {},
   "outputs": [],
   "source": [
    "som2.train(np.float32(x_test.to_numpy()), epochs=10)"
   ]
  },
  {
   "cell_type": "markdown",
   "id": "292c3fac",
   "metadata": {},
   "source": [
    "# Get labels (from som-learn)"
   ]
  },
  {
   "cell_type": "code",
   "execution_count": 37,
   "id": "f4849764",
   "metadata": {},
   "outputs": [],
   "source": [
    "def get_labels(som2):\n",
    "    grid_labels = [tuple(grid_label) for grid_label in som2.bmus]\n",
    "    unique_labels = [\n",
    "        tuple(grid_label) for grid_label in np.unique(grid_labels, axis=0)\n",
    "    ]\n",
    "    # Generate mapping\n",
    "    labels_mapping = {\n",
    "        grid_label: cluster_label\n",
    "        for grid_label, cluster_label in zip(\n",
    "            unique_labels, range(len(unique_labels))\n",
    "        )\n",
    "    }\n",
    "    labels = np.array(\n",
    "        [labels_mapping[grid_label] for grid_label in grid_labels]\n",
    "    )\n",
    "    predictions2=pd.Series(labels)\n",
    "    return predictions2"
   ]
  },
  {
   "cell_type": "code",
   "execution_count": 38,
   "id": "6a937afc",
   "metadata": {},
   "outputs": [],
   "source": [
    "predictions2 = get_labels(som2)"
   ]
  },
  {
   "cell_type": "code",
   "execution_count": 39,
   "id": "b07dd938",
   "metadata": {},
   "outputs": [
    {
     "data": {
      "text/plain": [
       "4     6905\n",
       "7     6213\n",
       "14    6161\n",
       "11    5913\n",
       "9     5798\n",
       "13    5530\n",
       "8     5406\n",
       "15    5249\n",
       "1     5052\n",
       "10    4961\n",
       "6     4794\n",
       "5     4561\n",
       "0     4544\n",
       "2     4226\n",
       "3     4157\n",
       "12    3543\n",
       "dtype: int64"
      ]
     },
     "execution_count": 39,
     "metadata": {},
     "output_type": "execute_result"
    }
   ],
   "source": [
    "predictions2.value_counts()"
   ]
  },
  {
   "cell_type": "markdown",
   "id": "bec8b25a",
   "metadata": {},
   "source": [
    "# Map classes from som to classes from Y data"
   ]
  },
  {
   "cell_type": "code",
   "execution_count": 40,
   "id": "8b6efff6",
   "metadata": {},
   "outputs": [],
   "source": [
    "classes_mapping2=map_class(predictions2)\n",
    "predictions_fix2 = predictions2.copy()\n",
    "for index, row in classes_mapping2.iterrows():\n",
    "    predictions_fix2[predictions2==classes_mapping2.at[index, 'som']]=classes_mapping2.at[index, 'best_classes']"
   ]
  },
  {
   "cell_type": "markdown",
   "id": "22b72d62",
   "metadata": {},
   "source": [
    "# Simple method"
   ]
  },
  {
   "cell_type": "code",
   "execution_count": 41,
   "id": "699e8755",
   "metadata": {},
   "outputs": [],
   "source": [
    "# predictions_fix2 = predictions.copy()\n",
    "# for i in pd.Series(predictions2).unique():\n",
    "#     key=pd.Series(y_test.tolist())[list(pd.Series(predictions2).loc[lambda x : x == i].index)].value_counts().keys().to_list()[0]\n",
    "#     predictions_fix2[predictions2==i]=key"
   ]
  },
  {
   "cell_type": "markdown",
   "id": "68177811",
   "metadata": {},
   "source": [
    "# Check the results"
   ]
  },
  {
   "cell_type": "code",
   "execution_count": 42,
   "id": "6487012b",
   "metadata": {},
   "outputs": [
    {
     "name": "stdout",
     "output_type": "stream",
     "text": [
      "              precision    recall  f1-score   support\n",
      "\n",
      "           0       0.89      0.19      0.31     28879\n",
      "           1       0.94      0.28      0.43     20959\n",
      "           3       0.46      0.37      0.41      6138\n",
      "           4       0.52      0.52      0.52      4541\n",
      "           5       0.04      0.14      0.07      1416\n",
      "           7       0.42      0.59      0.49      2919\n",
      "          11       0.22      0.93      0.36      1134\n",
      "          14       0.13      0.28      0.18      2736\n",
      "          16       0.02      0.09      0.04      1111\n",
      "          20       0.22      0.50      0.31      1556\n",
      "          23       0.00      0.00      0.00      1818\n",
      "          25       0.35      0.64      0.45      2961\n",
      "          27       0.23      0.58      0.33      2796\n",
      "          31       0.15      0.46      0.23      1645\n",
      "          96       0.02      0.10      0.04      1208\n",
      "         179       0.00      0.01      0.00      1196\n",
      "\n",
      "    accuracy                           0.30     83013\n",
      "   macro avg       0.29      0.36      0.26     83013\n",
      "weighted avg       0.66      0.30      0.34     83013\n",
      "\n"
     ]
    }
   ],
   "source": [
    "print(classification_report(y_test,predictions_fix2))"
   ]
  },
  {
   "cell_type": "code",
   "execution_count": 43,
   "id": "7dd44c4d",
   "metadata": {},
   "outputs": [
    {
     "data": {
      "text/plain": [
       "0.34356101667368"
      ]
     },
     "execution_count": 43,
     "metadata": {},
     "output_type": "execute_result"
    }
   ],
   "source": [
    "score = f1_score(y_test, predictions_fix2, average='weighted')\n",
    "score"
   ]
  },
  {
   "cell_type": "code",
   "execution_count": 44,
   "id": "9fb58359",
   "metadata": {},
   "outputs": [
    {
     "data": {
      "text/plain": [
       "0.30125402045462757"
      ]
     },
     "execution_count": 44,
     "metadata": {},
     "output_type": "execute_result"
    }
   ],
   "source": [
    "accuracy_score(y_test, predictions_fix2)"
   ]
  },
  {
   "cell_type": "code",
   "execution_count": 45,
   "id": "298a9a71",
   "metadata": {},
   "outputs": [
    {
     "data": {
      "text/plain": [
       "0.259986603911481"
      ]
     },
     "execution_count": 45,
     "metadata": {},
     "output_type": "execute_result"
    }
   ],
   "source": [
    "f1_score(y_test, predictions_fix2, average='macro')"
   ]
  },
  {
   "cell_type": "markdown",
   "id": "6dec70bc",
   "metadata": {},
   "source": [
    "\n",
    "# Minisom"
   ]
  },
  {
   "cell_type": "code",
   "execution_count": 46,
   "id": "246754d5",
   "metadata": {},
   "outputs": [],
   "source": [
    "from minisom import MiniSom"
   ]
  },
  {
   "cell_type": "code",
   "execution_count": 52,
   "id": "65e90ca5",
   "metadata": {},
   "outputs": [
    {
     "data": {
      "text/plain": [
       "0        (2, 1)\n",
       "1        (1, 0)\n",
       "2        (0, 3)\n",
       "3        (1, 0)\n",
       "4        (1, 0)\n",
       "          ...  \n",
       "83008    (0, 0)\n",
       "83009    (1, 3)\n",
       "83010    (3, 1)\n",
       "83011    (3, 1)\n",
       "83012    (0, 3)\n",
       "Length: 83013, dtype: object"
      ]
     },
     "execution_count": 52,
     "metadata": {},
     "output_type": "execute_result"
    }
   ],
   "source": [
    "som3 = MiniSom(4, 4, 50, sigma=0.6, learning_rate=0.5)\n",
    "som3.train(x_train.to_numpy(), 10, use_epochs=True)\n",
    "predictions3 = [som3.winner(x) for x in x_test.to_numpy()]\n",
    "predictions3 = pd.Series(predictions3)\n",
    "predictions3"
   ]
  },
  {
   "cell_type": "code",
   "execution_count": 53,
   "id": "17b11fbc",
   "metadata": {},
   "outputs": [
    {
     "data": {
      "text/plain": [
       "(2, 1)    10387\n",
       "(3, 3)     7413\n",
       "(1, 0)     7206\n",
       "(3, 1)     7029\n",
       "(1, 3)     6911\n",
       "(0, 2)     6252\n",
       "(2, 0)     6185\n",
       "(3, 0)     5766\n",
       "(2, 3)     5743\n",
       "(0, 1)     4377\n",
       "(3, 2)     3792\n",
       "(1, 1)     3779\n",
       "(0, 3)     3136\n",
       "(0, 0)     2808\n",
       "(2, 2)     2155\n",
       "(1, 2)       74\n",
       "dtype: int64"
      ]
     },
     "execution_count": 53,
     "metadata": {},
     "output_type": "execute_result"
    }
   ],
   "source": [
    "predictions3.value_counts()"
   ]
  },
  {
   "cell_type": "code",
   "execution_count": 54,
   "id": "21331a39",
   "metadata": {},
   "outputs": [],
   "source": [
    "classes_mapping3=map_class(predictions3)\n",
    "predictions_fix3 = predictions3.copy()\n",
    "for index, row in classes_mapping3.iterrows():\n",
    "    predictions_fix3[predictions3==classes_mapping3.at[index, 'som']]=classes_mapping3.at[index, 'best_classes']"
   ]
  },
  {
   "cell_type": "code",
   "execution_count": 55,
   "id": "a83a0e0c",
   "metadata": {},
   "outputs": [
    {
     "data": {
      "text/plain": [
       "27     10387\n",
       "179     7413\n",
       "1       7206\n",
       "11      7029\n",
       "0       6911\n",
       "96      6252\n",
       "3       6185\n",
       "31      5766\n",
       "25      5743\n",
       "20      4377\n",
       "5       3792\n",
       "4       3779\n",
       "7       3136\n",
       "14      2808\n",
       "23      2155\n",
       "16        74\n",
       "dtype: int64"
      ]
     },
     "execution_count": 55,
     "metadata": {},
     "output_type": "execute_result"
    }
   ],
   "source": [
    "predictions_fix3.value_counts()"
   ]
  },
  {
   "cell_type": "code",
   "execution_count": 56,
   "id": "8487b1ca",
   "metadata": {},
   "outputs": [
    {
     "ename": "ValueError",
     "evalue": "Classification metrics can't handle a mix of multiclass and unknown targets",
     "output_type": "error",
     "traceback": [
      "\u001b[0;31m---------------------------------------------------------------------------\u001b[0m",
      "\u001b[0;31mValueError\u001b[0m                                Traceback (most recent call last)",
      "Cell \u001b[0;32mIn[56], line 1\u001b[0m\n\u001b[0;32m----> 1\u001b[0m \u001b[38;5;28mprint\u001b[39m(classification_report(y_test,predictions_fix3))\n",
      "File \u001b[0;32m~/anaconda3/envs/personality/lib/python3.11/site-packages/sklearn/metrics/_classification.py:2310\u001b[0m, in \u001b[0;36mclassification_report\u001b[0;34m(y_true, y_pred, labels, target_names, sample_weight, digits, output_dict, zero_division)\u001b[0m\n\u001b[1;32m   2195\u001b[0m \u001b[38;5;28;01mdef\u001b[39;00m \u001b[38;5;21mclassification_report\u001b[39m(\n\u001b[1;32m   2196\u001b[0m     y_true,\n\u001b[1;32m   2197\u001b[0m     y_pred,\n\u001b[0;32m   (...)\u001b[0m\n\u001b[1;32m   2204\u001b[0m     zero_division\u001b[38;5;241m=\u001b[39m\u001b[38;5;124m\"\u001b[39m\u001b[38;5;124mwarn\u001b[39m\u001b[38;5;124m\"\u001b[39m,\n\u001b[1;32m   2205\u001b[0m ):\n\u001b[1;32m   2206\u001b[0m \u001b[38;5;250m    \u001b[39m\u001b[38;5;124;03m\"\"\"Build a text report showing the main classification metrics.\u001b[39;00m\n\u001b[1;32m   2207\u001b[0m \n\u001b[1;32m   2208\u001b[0m \u001b[38;5;124;03m    Read more in the :ref:`User Guide <classification_report>`.\u001b[39;00m\n\u001b[0;32m   (...)\u001b[0m\n\u001b[1;32m   2307\u001b[0m \u001b[38;5;124;03m    <BLANKLINE>\u001b[39;00m\n\u001b[1;32m   2308\u001b[0m \u001b[38;5;124;03m    \"\"\"\u001b[39;00m\n\u001b[0;32m-> 2310\u001b[0m     y_type, y_true, y_pred \u001b[38;5;241m=\u001b[39m _check_targets(y_true, y_pred)\n\u001b[1;32m   2312\u001b[0m     \u001b[38;5;28;01mif\u001b[39;00m labels \u001b[38;5;129;01mis\u001b[39;00m \u001b[38;5;28;01mNone\u001b[39;00m:\n\u001b[1;32m   2313\u001b[0m         labels \u001b[38;5;241m=\u001b[39m unique_labels(y_true, y_pred)\n",
      "File \u001b[0;32m~/anaconda3/envs/personality/lib/python3.11/site-packages/sklearn/metrics/_classification.py:95\u001b[0m, in \u001b[0;36m_check_targets\u001b[0;34m(y_true, y_pred)\u001b[0m\n\u001b[1;32m     92\u001b[0m     y_type \u001b[38;5;241m=\u001b[39m {\u001b[38;5;124m\"\u001b[39m\u001b[38;5;124mmulticlass\u001b[39m\u001b[38;5;124m\"\u001b[39m}\n\u001b[1;32m     94\u001b[0m \u001b[38;5;28;01mif\u001b[39;00m \u001b[38;5;28mlen\u001b[39m(y_type) \u001b[38;5;241m>\u001b[39m \u001b[38;5;241m1\u001b[39m:\n\u001b[0;32m---> 95\u001b[0m     \u001b[38;5;28;01mraise\u001b[39;00m \u001b[38;5;167;01mValueError\u001b[39;00m(\n\u001b[1;32m     96\u001b[0m         \u001b[38;5;124m\"\u001b[39m\u001b[38;5;124mClassification metrics can\u001b[39m\u001b[38;5;124m'\u001b[39m\u001b[38;5;124mt handle a mix of \u001b[39m\u001b[38;5;132;01m{0}\u001b[39;00m\u001b[38;5;124m and \u001b[39m\u001b[38;5;132;01m{1}\u001b[39;00m\u001b[38;5;124m targets\u001b[39m\u001b[38;5;124m\"\u001b[39m\u001b[38;5;241m.\u001b[39mformat(\n\u001b[1;32m     97\u001b[0m             type_true, type_pred\n\u001b[1;32m     98\u001b[0m         )\n\u001b[1;32m     99\u001b[0m     )\n\u001b[1;32m    101\u001b[0m \u001b[38;5;66;03m# We can't have more than one value on y_type => The set is no more needed\u001b[39;00m\n\u001b[1;32m    102\u001b[0m y_type \u001b[38;5;241m=\u001b[39m y_type\u001b[38;5;241m.\u001b[39mpop()\n",
      "\u001b[0;31mValueError\u001b[0m: Classification metrics can't handle a mix of multiclass and unknown targets"
     ]
    }
   ],
   "source": [
    "print(classification_report(y_test,predictions_fix3))"
   ]
  },
  {
   "cell_type": "code",
   "execution_count": null,
   "id": "63d73bd9",
   "metadata": {},
   "outputs": [],
   "source": []
  }
 ],
 "metadata": {
  "kernelspec": {
   "display_name": "Python 3 (ipykernel)",
   "language": "python",
   "name": "python3"
  },
  "language_info": {
   "codemirror_mode": {
    "name": "ipython",
    "version": 3
   },
   "file_extension": ".py",
   "mimetype": "text/x-python",
   "name": "python",
   "nbconvert_exporter": "python",
   "pygments_lexer": "ipython3",
   "version": "3.11.3"
  }
 },
 "nbformat": 4,
 "nbformat_minor": 5
}
