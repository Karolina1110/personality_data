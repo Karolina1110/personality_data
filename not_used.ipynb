{
 "cells": [
  {
   "cell_type": "markdown",
   "id": "2a6f3b0b",
   "metadata": {},
   "source": [
    "# Class mapping"
   ]
  },
  {
   "cell_type": "code",
   "execution_count": null,
   "id": "ae86ddf5",
   "metadata": {},
   "outputs": [],
   "source": [
    "def find_class(predictions, i, mapping):\n",
    "    keys=pd.Series(predictions)[list(pd.Series(y_test.tolist()).loc[lambda x : x == i].index)].value_counts().keys().to_list()\n",
    "    cnts=pd.Series(predictions)[list(pd.Series(y_test.tolist()).loc[lambda x : x == i].index)].value_counts().to_list()\n",
    "    lbl = None\n",
    "    cnt = None\n",
    "    for key_id in range(len(keys)):\n",
    "        if keys[key_id] not in mapping.som.values:\n",
    "            lbl = keys[key_id]\n",
    "            cnt = cnts[key_id]\n",
    "            mapping.at[mapping[mapping['best_classes']==i].index[0], 'counts']=cnt\n",
    "            mapping.at[mapping[mapping['best_classes']==i].index[0], 'som']=lbl \n",
    "            break\n",
    "        elif cnts[key_id] > mapping[mapping['som']==keys[key_id]].counts.values[0]:\n",
    "            lbl = keys[key_id]\n",
    "            cnt = cnts[key_id]\n",
    "            j=mapping[mapping['som']==keys[key_id]].best_classes.values[0]\n",
    "            index = mapping[mapping['som']==keys[key_id]].index[0]\n",
    "            mapping.at[index, 'counts']=None\n",
    "            mapping.at[index, 'som']=None\n",
    "            mapping.at[mapping[mapping['best_classes']==i].index[0], 'counts']=cnt\n",
    "            mapping.at[mapping[mapping['best_classes']==i].index[0], 'som']=lbl \n",
    "            lbl2, cnt2 = find_class(predictions, j, mapping)\n",
    "            mapping.at[index, 'counts']=cnt2\n",
    "            mapping.at[index, 'som']=lbl2\n",
    "            break\n",
    "        \n",
    "            \n",
    "    return lbl, cnt"
   ]
  },
  {
   "cell_type": "code",
   "execution_count": null,
   "id": "a9fd6b5f",
   "metadata": {},
   "outputs": [],
   "source": [
    "d = {'best_classes': pd.Series(best_class), 'som': pd.Series(best_class)}\n",
    "classes_mapping = pd.DataFrame(data=d)\n",
    "classes_mapping['som']=None\n",
    "classes_mapping['counts']=None\n",
    "pred_classes=[]\n",
    "i=0\n",
    "for i in best_class:\n",
    "    print(i)\n",
    "    print(pd.Series(predictions)[list(pd.Series(y_test.tolist()).loc[lambda x : x == i].index)].value_counts())\n",
    "    \n",
    "    lbl, cnt = find_class(predictions, i, classes_mapping)\n",
    "    \n",
    "    print('\\n')\n",
    "    i+=1\n",
    "\n",
    "som_classes=pd.Series(pd.Series(predictions).unique())\n",
    "null_classes=som_classes[~som_classes.isin(classes_mapping['som'].values)].values\n",
    "\n",
    "i=0\n",
    "for index, row in classes_mapping[classes_mapping['som'].isna()].iterrows():\n",
    "    classes_mapping.at[index, 'som']=null_classes[i]\n",
    "    i+=1\n",
    "\n",
    "print(classes_mapping)"
   ]
  },
  {
   "cell_type": "code",
   "execution_count": null,
   "id": "6d4466c8",
   "metadata": {},
   "outputs": [],
   "source": [
    "predictions_fix = predictions.copy()\n",
    "for index, row in classes_mapping.iterrows():\n",
    "    predictions_fix[predictions==classes_mapping.at[index, 'som']]=classes_mapping.at[index, 'best_classes']"
   ]
  },
  {
   "cell_type": "markdown",
   "id": "d69913d1",
   "metadata": {},
   "source": [
    "# Alternative method"
   ]
  },
  {
   "cell_type": "code",
   "execution_count": null,
   "id": "a12cb0ee",
   "metadata": {},
   "outputs": [],
   "source": [
    "for i in best_class:\n",
    "    print(i)\n",
    "    print(pd.Series(predictions)[list(pd.Series(y_test.tolist()).loc[lambda x : x == i].index)].value_counts())"
   ]
  },
  {
   "cell_type": "code",
   "execution_count": null,
   "id": "e067b5cb",
   "metadata": {},
   "outputs": [],
   "source": [
    "predictions_fix = predictions.copy()\n",
    "for i in best_class:\n",
    "    key=pd.Series(predictions)[list(pd.Series(y_test.tolist()).loc[lambda x : x == i].index)].value_counts().keys().to_list()[0]\n",
    "    predictions_fix[predictions==key]=i"
   ]
  },
  {
   "cell_type": "markdown",
   "id": "bf560a3b",
   "metadata": {},
   "source": [
    "# B5 types"
   ]
  },
  {
   "cell_type": "code",
   "execution_count": null,
   "id": "a0bae7d8",
   "metadata": {},
   "outputs": [],
   "source": [
    "for i in pd.Series(predictions).unique():\n",
    "    print(i)\n",
    "    index=x_test.reset_index().loc[pd.Series(predictions_fix)[pd.Series(predictions)==i].index]['index'].values\n",
    "    print(data_big_cleaned.loc[index]['B5_TYPE'].value_counts())\n",
    "    print('\\n')"
   ]
  },
  {
   "cell_type": "code",
   "execution_count": null,
   "id": "6bf552f4",
   "metadata": {},
   "outputs": [],
   "source": [
    "for i in best_class:\n",
    "    print(i)\n",
    "    index=y_test[y_test==i].index\n",
    "    print(data_big_cleaned.loc[index]['B5_TYPE'].value_counts())\n",
    "    print('\\n')"
   ]
  }
 ],
 "metadata": {
  "kernelspec": {
   "display_name": "Python 3 (ipykernel)",
   "language": "python",
   "name": "python3"
  },
  "language_info": {
   "codemirror_mode": {
    "name": "ipython",
    "version": 3
   },
   "file_extension": ".py",
   "mimetype": "text/x-python",
   "name": "python",
   "nbconvert_exporter": "python",
   "pygments_lexer": "ipython3",
   "version": "3.11.3"
  }
 },
 "nbformat": 4,
 "nbformat_minor": 5
}
